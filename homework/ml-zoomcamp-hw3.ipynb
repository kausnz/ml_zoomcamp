{
 "cells": [
  {
   "cell_type": "code",
   "execution_count": 1,
   "id": "6ffaf480",
   "metadata": {
    "_cell_guid": "b1076dfc-b9ad-4769-8c92-a6c4dae69d19",
    "_uuid": "8f2839f25d086af736a60e9eeb907d3b93b6e0e5",
    "execution": {
     "iopub.execute_input": "2022-09-25T12:46:39.163279Z",
     "iopub.status.busy": "2022-09-25T12:46:39.162921Z",
     "iopub.status.idle": "2022-09-25T12:46:40.337672Z",
     "shell.execute_reply": "2022-09-25T12:46:40.336258Z"
    },
    "papermill": {
     "duration": 1.184808,
     "end_time": "2022-09-25T12:46:40.340177",
     "exception": false,
     "start_time": "2022-09-25T12:46:39.155369",
     "status": "completed"
    },
    "tags": []
   },
   "outputs": [],
   "source": [
    "import numpy as np # linear algebra\n",
    "import pandas as pd # data processing, CSV file I/O (e.g. pd.read_csv)\n",
    "\n",
    "from sklearn.model_selection import train_test_split\n",
    "from sklearn.metrics import mutual_info_score\n",
    "from sklearn.feature_extraction import DictVectorizer\n",
    "from sklearn.linear_model import LogisticRegression"
   ]
  },
  {
   "cell_type": "code",
   "execution_count": 2,
   "id": "73dfeb0c",
   "metadata": {
    "execution": {
     "iopub.execute_input": "2022-09-25T12:46:40.355188Z",
     "iopub.status.busy": "2022-09-25T12:46:40.354201Z",
     "iopub.status.idle": "2022-09-25T12:46:40.972441Z",
     "shell.execute_reply": "2022-09-25T12:46:40.971242Z"
    },
    "papermill": {
     "duration": 0.629648,
     "end_time": "2022-09-25T12:46:40.975790",
     "exception": false,
     "start_time": "2022-09-25T12:46:40.346142",
     "status": "completed"
    },
    "tags": []
   },
   "outputs": [
    {
     "name": "stdout",
     "output_type": "stream",
     "text": [
      "--2022-09-25 12:46:40--  https://raw.githubusercontent.com/alexeygrigorev/datasets/master/housing.csv\r\n",
      "Resolving raw.githubusercontent.com (raw.githubusercontent.com)... 185.199.110.133, 185.199.108.133, 185.199.111.133, ...\r\n",
      "Connecting to raw.githubusercontent.com (raw.githubusercontent.com)|185.199.110.133|:443... connected.\r\n",
      "HTTP request sent, awaiting response... 200 OK\r\n",
      "Length: 1423529 (1.4M) [text/plain]\r\n",
      "Saving to: ‘housing.csv’\r\n",
      "\r\n",
      "housing.csv         100%[===================>]   1.36M  --.-KB/s    in 0.07s   \r\n",
      "\r\n",
      "2022-09-25 12:46:40 (18.1 MB/s) - ‘housing.csv’ saved [1423529/1423529]\r\n",
      "\r\n"
     ]
    }
   ],
   "source": [
    "#os.remove('/kaggle/working/housing.csv.2')\n",
    "data='https://raw.githubusercontent.com/alexeygrigorev/datasets/master/housing.csv'\n",
    "!wget $data\n",
    "\n",
    "df_org = pd.read_csv('housing.csv')"
   ]
  },
  {
   "cell_type": "code",
   "execution_count": 3,
   "id": "e2f576f1",
   "metadata": {
    "execution": {
     "iopub.execute_input": "2022-09-25T12:46:40.990526Z",
     "iopub.status.busy": "2022-09-25T12:46:40.990134Z",
     "iopub.status.idle": "2022-09-25T12:46:41.001485Z",
     "shell.execute_reply": "2022-09-25T12:46:41.000376Z"
    },
    "papermill": {
     "duration": 0.022519,
     "end_time": "2022-09-25T12:46:41.004806",
     "exception": false,
     "start_time": "2022-09-25T12:46:40.982287",
     "status": "completed"
    },
    "tags": []
   },
   "outputs": [
    {
     "data": {
      "text/plain": [
       "['latitude',\n",
       " 'longitude',\n",
       " 'housing_median_age',\n",
       " 'total_rooms',\n",
       " 'total_bedrooms',\n",
       " 'population',\n",
       " 'households',\n",
       " 'median_income',\n",
       " 'median_house_value',\n",
       " 'ocean_proximity']"
      ]
     },
     "execution_count": 3,
     "metadata": {},
     "output_type": "execute_result"
    }
   ],
   "source": [
    "columns = ['latitude',\n",
    "'longitude',\n",
    "'housing_median_age',\n",
    "'total_rooms',\n",
    "'total_bedrooms',\n",
    "'population',\n",
    "'households',\n",
    "'median_income',\n",
    "'median_house_value',\n",
    "'ocean_proximity']\n",
    "columns"
   ]
  },
  {
   "cell_type": "code",
   "execution_count": 4,
   "id": "8a3aa7dd",
   "metadata": {
    "execution": {
     "iopub.execute_input": "2022-09-25T12:46:41.019262Z",
     "iopub.status.busy": "2022-09-25T12:46:41.018549Z",
     "iopub.status.idle": "2022-09-25T12:46:41.057446Z",
     "shell.execute_reply": "2022-09-25T12:46:41.056526Z"
    },
    "papermill": {
     "duration": 0.048689,
     "end_time": "2022-09-25T12:46:41.059922",
     "exception": false,
     "start_time": "2022-09-25T12:46:41.011233",
     "status": "completed"
    },
    "tags": []
   },
   "outputs": [
    {
     "data": {
      "text/html": [
       "<div>\n",
       "<style scoped>\n",
       "    .dataframe tbody tr th:only-of-type {\n",
       "        vertical-align: middle;\n",
       "    }\n",
       "\n",
       "    .dataframe tbody tr th {\n",
       "        vertical-align: top;\n",
       "    }\n",
       "\n",
       "    .dataframe thead th {\n",
       "        text-align: right;\n",
       "    }\n",
       "</style>\n",
       "<table border=\"1\" class=\"dataframe\">\n",
       "  <thead>\n",
       "    <tr style=\"text-align: right;\">\n",
       "      <th></th>\n",
       "      <th>0</th>\n",
       "      <th>1</th>\n",
       "      <th>2</th>\n",
       "      <th>3</th>\n",
       "      <th>4</th>\n",
       "    </tr>\n",
       "  </thead>\n",
       "  <tbody>\n",
       "    <tr>\n",
       "      <th>latitude</th>\n",
       "      <td>37.88</td>\n",
       "      <td>37.86</td>\n",
       "      <td>37.85</td>\n",
       "      <td>37.85</td>\n",
       "      <td>37.85</td>\n",
       "    </tr>\n",
       "    <tr>\n",
       "      <th>longitude</th>\n",
       "      <td>-122.23</td>\n",
       "      <td>-122.22</td>\n",
       "      <td>-122.24</td>\n",
       "      <td>-122.25</td>\n",
       "      <td>-122.25</td>\n",
       "    </tr>\n",
       "    <tr>\n",
       "      <th>housing_median_age</th>\n",
       "      <td>41.0</td>\n",
       "      <td>21.0</td>\n",
       "      <td>52.0</td>\n",
       "      <td>52.0</td>\n",
       "      <td>52.0</td>\n",
       "    </tr>\n",
       "    <tr>\n",
       "      <th>total_rooms</th>\n",
       "      <td>880.0</td>\n",
       "      <td>7099.0</td>\n",
       "      <td>1467.0</td>\n",
       "      <td>1274.0</td>\n",
       "      <td>1627.0</td>\n",
       "    </tr>\n",
       "    <tr>\n",
       "      <th>total_bedrooms</th>\n",
       "      <td>129.0</td>\n",
       "      <td>1106.0</td>\n",
       "      <td>190.0</td>\n",
       "      <td>235.0</td>\n",
       "      <td>280.0</td>\n",
       "    </tr>\n",
       "    <tr>\n",
       "      <th>population</th>\n",
       "      <td>322.0</td>\n",
       "      <td>2401.0</td>\n",
       "      <td>496.0</td>\n",
       "      <td>558.0</td>\n",
       "      <td>565.0</td>\n",
       "    </tr>\n",
       "    <tr>\n",
       "      <th>households</th>\n",
       "      <td>126.0</td>\n",
       "      <td>1138.0</td>\n",
       "      <td>177.0</td>\n",
       "      <td>219.0</td>\n",
       "      <td>259.0</td>\n",
       "    </tr>\n",
       "    <tr>\n",
       "      <th>median_income</th>\n",
       "      <td>8.3252</td>\n",
       "      <td>8.3014</td>\n",
       "      <td>7.2574</td>\n",
       "      <td>5.6431</td>\n",
       "      <td>3.8462</td>\n",
       "    </tr>\n",
       "    <tr>\n",
       "      <th>median_house_value</th>\n",
       "      <td>452600.0</td>\n",
       "      <td>358500.0</td>\n",
       "      <td>352100.0</td>\n",
       "      <td>341300.0</td>\n",
       "      <td>342200.0</td>\n",
       "    </tr>\n",
       "    <tr>\n",
       "      <th>ocean_proximity</th>\n",
       "      <td>NEAR BAY</td>\n",
       "      <td>NEAR BAY</td>\n",
       "      <td>NEAR BAY</td>\n",
       "      <td>NEAR BAY</td>\n",
       "      <td>NEAR BAY</td>\n",
       "    </tr>\n",
       "    <tr>\n",
       "      <th>rooms_per_household</th>\n",
       "      <td>6.984127</td>\n",
       "      <td>6.238137</td>\n",
       "      <td>8.288136</td>\n",
       "      <td>5.817352</td>\n",
       "      <td>6.281853</td>\n",
       "    </tr>\n",
       "    <tr>\n",
       "      <th>bedrooms_per_room</th>\n",
       "      <td>0.146591</td>\n",
       "      <td>0.155797</td>\n",
       "      <td>0.129516</td>\n",
       "      <td>0.184458</td>\n",
       "      <td>0.172096</td>\n",
       "    </tr>\n",
       "    <tr>\n",
       "      <th>population_per_household</th>\n",
       "      <td>2.555556</td>\n",
       "      <td>2.109842</td>\n",
       "      <td>2.80226</td>\n",
       "      <td>2.547945</td>\n",
       "      <td>2.181467</td>\n",
       "    </tr>\n",
       "  </tbody>\n",
       "</table>\n",
       "</div>"
      ],
      "text/plain": [
       "                                 0         1         2         3         4\n",
       "latitude                     37.88     37.86     37.85     37.85     37.85\n",
       "longitude                  -122.23   -122.22   -122.24   -122.25   -122.25\n",
       "housing_median_age            41.0      21.0      52.0      52.0      52.0\n",
       "total_rooms                  880.0    7099.0    1467.0    1274.0    1627.0\n",
       "total_bedrooms               129.0    1106.0     190.0     235.0     280.0\n",
       "population                   322.0    2401.0     496.0     558.0     565.0\n",
       "households                   126.0    1138.0     177.0     219.0     259.0\n",
       "median_income               8.3252    8.3014    7.2574    5.6431    3.8462\n",
       "median_house_value        452600.0  358500.0  352100.0  341300.0  342200.0\n",
       "ocean_proximity           NEAR BAY  NEAR BAY  NEAR BAY  NEAR BAY  NEAR BAY\n",
       "rooms_per_household       6.984127  6.238137  8.288136  5.817352  6.281853\n",
       "bedrooms_per_room         0.146591  0.155797  0.129516  0.184458  0.172096\n",
       "population_per_household  2.555556  2.109842   2.80226  2.547945  2.181467"
      ]
     },
     "execution_count": 4,
     "metadata": {},
     "output_type": "execute_result"
    }
   ],
   "source": [
    "df = df_org[columns].fillna(0)\n",
    "df['rooms_per_household'] = df.total_rooms / df.households\n",
    "df['bedrooms_per_room'] = df.total_bedrooms / df.total_rooms\n",
    "df['population_per_household'] = df.population / df.households\n",
    "\n",
    "df.head().T\n",
    "# df_org.head().T"
   ]
  },
  {
   "cell_type": "markdown",
   "id": "0b8b5329",
   "metadata": {
    "papermill": {
     "duration": 0.006123,
     "end_time": "2022-09-25T12:46:41.072549",
     "exception": false,
     "start_time": "2022-09-25T12:46:41.066426",
     "status": "completed"
    },
    "tags": []
   },
   "source": [
    "## Question 1\n",
    "What is the most frequent observation (mode) for the column ocean_proximity?"
   ]
  },
  {
   "cell_type": "code",
   "execution_count": 5,
   "id": "1a8c3b55",
   "metadata": {
    "execution": {
     "iopub.execute_input": "2022-09-25T12:46:41.086908Z",
     "iopub.status.busy": "2022-09-25T12:46:41.086404Z",
     "iopub.status.idle": "2022-09-25T12:46:41.098017Z",
     "shell.execute_reply": "2022-09-25T12:46:41.096241Z"
    },
    "papermill": {
     "duration": 0.021731,
     "end_time": "2022-09-25T12:46:41.100483",
     "exception": false,
     "start_time": "2022-09-25T12:46:41.078752",
     "status": "completed"
    },
    "tags": []
   },
   "outputs": [
    {
     "data": {
      "text/plain": [
       "0    <1H OCEAN\n",
       "dtype: object"
      ]
     },
     "execution_count": 5,
     "metadata": {},
     "output_type": "execute_result"
    }
   ],
   "source": [
    "df.ocean_proximity.mode()"
   ]
  },
  {
   "cell_type": "markdown",
   "id": "65c74cb1",
   "metadata": {
    "papermill": {
     "duration": 0.005943,
     "end_time": "2022-09-25T12:46:41.112805",
     "exception": false,
     "start_time": "2022-09-25T12:46:41.106862",
     "status": "completed"
    },
    "tags": []
   },
   "source": [
    "## Make median_house_value binary\n",
    "* We need to turn the median_house_value variable from numeric into binary.\n",
    "* Let's create a variable above_average which is 1 if the median_house_value is above its mean value and 0 otherwise."
   ]
  },
  {
   "cell_type": "code",
   "execution_count": 6,
   "id": "2cfb3503",
   "metadata": {
    "execution": {
     "iopub.execute_input": "2022-09-25T12:46:41.127272Z",
     "iopub.status.busy": "2022-09-25T12:46:41.126918Z",
     "iopub.status.idle": "2022-09-25T12:46:41.133288Z",
     "shell.execute_reply": "2022-09-25T12:46:41.132599Z"
    },
    "papermill": {
     "duration": 0.016034,
     "end_time": "2022-09-25T12:46:41.135122",
     "exception": false,
     "start_time": "2022-09-25T12:46:41.119088",
     "status": "completed"
    },
    "tags": []
   },
   "outputs": [],
   "source": [
    "# binarizing median_house_value under new name 'above_average'\n",
    "df['above_average'] = (df.median_house_value > df.median_house_value.mean()).astype(int)"
   ]
  },
  {
   "cell_type": "markdown",
   "id": "2e4bab5c",
   "metadata": {
    "papermill": {
     "duration": 0.005879,
     "end_time": "2022-09-25T12:46:41.147399",
     "exception": false,
     "start_time": "2022-09-25T12:46:41.141520",
     "status": "completed"
    },
    "tags": []
   },
   "source": [
    "## Split the data\n",
    "* Split your data in train/val/test sets, with 60%/20%/20% distribution.\n",
    "* Use Scikit-Learn for that (the train_test_split function) and set the seed to 42.\n",
    "* Make sure that the target value (median_house_value) is not in your dataframe."
   ]
  },
  {
   "cell_type": "code",
   "execution_count": 7,
   "id": "8f440000",
   "metadata": {
    "execution": {
     "iopub.execute_input": "2022-09-25T12:46:41.161697Z",
     "iopub.status.busy": "2022-09-25T12:46:41.161214Z",
     "iopub.status.idle": "2022-09-25T12:46:41.178823Z",
     "shell.execute_reply": "2022-09-25T12:46:41.177982Z"
    },
    "papermill": {
     "duration": 0.02773,
     "end_time": "2022-09-25T12:46:41.181063",
     "exception": false,
     "start_time": "2022-09-25T12:46:41.153333",
     "status": "completed"
    },
    "tags": []
   },
   "outputs": [
    {
     "name": "stdout",
     "output_type": "stream",
     "text": [
      "12384 4128 4128\n"
     ]
    }
   ],
   "source": [
    "# Splitting the data set\n",
    "\n",
    "df_full_train, df_test = train_test_split(df, test_size=0.2, random_state=42)\n",
    "df_train, df_val = train_test_split(df_full_train, test_size=0.25, random_state=42)\n",
    "\n",
    "print(len(df_train), len(df_val), len(df_test))\n",
    "\n",
    "df_train.reset_index()\n",
    "df_val.reset_index()\n",
    "df_test.reset_index()\n",
    "\n",
    "y_train = df_train.above_average.values\n",
    "y_val = df_val.above_average.values\n",
    "y_test = df_test.above_average.values\n",
    "\n",
    "for c in ['median_house_value']:\n",
    "    del df_train[c]\n",
    "    del df_val[c]\n",
    "    del df_test[c]"
   ]
  },
  {
   "cell_type": "markdown",
   "id": "0ec9acb4",
   "metadata": {
    "papermill": {
     "duration": 0.00612,
     "end_time": "2022-09-25T12:46:41.193997",
     "exception": false,
     "start_time": "2022-09-25T12:46:41.187877",
     "status": "completed"
    },
    "tags": []
   },
   "source": [
    "## Question 2\n",
    "* Create the correlation matrix for the numerical features of your **train** dataset. In a correlation matrix, you compute the correlation coefficient between every pair of features in the dataset.\n",
    "* What are the two features that have the biggest correlation in this dataset?"
   ]
  },
  {
   "cell_type": "code",
   "execution_count": 8,
   "id": "5f413527",
   "metadata": {
    "execution": {
     "iopub.execute_input": "2022-09-25T12:46:41.208449Z",
     "iopub.status.busy": "2022-09-25T12:46:41.208107Z",
     "iopub.status.idle": "2022-09-25T12:46:41.215976Z",
     "shell.execute_reply": "2022-09-25T12:46:41.214611Z"
    },
    "papermill": {
     "duration": 0.017376,
     "end_time": "2022-09-25T12:46:41.217925",
     "exception": false,
     "start_time": "2022-09-25T12:46:41.200549",
     "status": "completed"
    },
    "tags": []
   },
   "outputs": [
    {
     "data": {
      "text/plain": [
       "latitude                    float64\n",
       "longitude                   float64\n",
       "housing_median_age          float64\n",
       "total_rooms                 float64\n",
       "total_bedrooms              float64\n",
       "population                  float64\n",
       "households                  float64\n",
       "median_income               float64\n",
       "median_house_value          float64\n",
       "ocean_proximity              object\n",
       "rooms_per_household         float64\n",
       "bedrooms_per_room           float64\n",
       "population_per_household    float64\n",
       "above_average                 int64\n",
       "dtype: object"
      ]
     },
     "execution_count": 8,
     "metadata": {},
     "output_type": "execute_result"
    }
   ],
   "source": [
    "df.dtypes"
   ]
  },
  {
   "cell_type": "code",
   "execution_count": 9,
   "id": "ea83eb82",
   "metadata": {
    "execution": {
     "iopub.execute_input": "2022-09-25T12:46:41.232911Z",
     "iopub.status.busy": "2022-09-25T12:46:41.232411Z",
     "iopub.status.idle": "2022-09-25T12:46:41.239605Z",
     "shell.execute_reply": "2022-09-25T12:46:41.238778Z"
    },
    "papermill": {
     "duration": 0.016749,
     "end_time": "2022-09-25T12:46:41.241336",
     "exception": false,
     "start_time": "2022-09-25T12:46:41.224587",
     "status": "completed"
    },
    "tags": []
   },
   "outputs": [
    {
     "data": {
      "text/plain": [
       "['latitude',\n",
       " 'longitude',\n",
       " 'housing_median_age',\n",
       " 'total_rooms',\n",
       " 'total_bedrooms',\n",
       " 'population',\n",
       " 'households',\n",
       " 'median_income',\n",
       " 'rooms_per_household',\n",
       " 'bedrooms_per_room',\n",
       " 'population_per_household']"
      ]
     },
     "execution_count": 9,
     "metadata": {},
     "output_type": "execute_result"
    }
   ],
   "source": [
    "numerical = list((df.dtypes[df.dtypes != 'object'].index))\n",
    "\n",
    "# remove target variables\n",
    "numerical.remove('median_house_value') \n",
    "numerical.remove('above_average')\n",
    "\n",
    "numerical"
   ]
  },
  {
   "cell_type": "code",
   "execution_count": 10,
   "id": "cf3bbd12",
   "metadata": {
    "execution": {
     "iopub.execute_input": "2022-09-25T12:46:41.256631Z",
     "iopub.status.busy": "2022-09-25T12:46:41.256138Z",
     "iopub.status.idle": "2022-09-25T12:46:41.262917Z",
     "shell.execute_reply": "2022-09-25T12:46:41.262045Z"
    },
    "papermill": {
     "duration": 0.016734,
     "end_time": "2022-09-25T12:46:41.264654",
     "exception": false,
     "start_time": "2022-09-25T12:46:41.247920",
     "status": "completed"
    },
    "tags": []
   },
   "outputs": [
    {
     "data": {
      "text/plain": [
       "['ocean_proximity']"
      ]
     },
     "execution_count": 10,
     "metadata": {},
     "output_type": "execute_result"
    }
   ],
   "source": [
    "categorical = list((df.dtypes[df.dtypes == 'object'].index))\n",
    "categorical"
   ]
  },
  {
   "cell_type": "code",
   "execution_count": 11,
   "id": "6bf38cb6",
   "metadata": {
    "execution": {
     "iopub.execute_input": "2022-09-25T12:46:41.280078Z",
     "iopub.status.busy": "2022-09-25T12:46:41.279502Z",
     "iopub.status.idle": "2022-09-25T12:46:41.321068Z",
     "shell.execute_reply": "2022-09-25T12:46:41.320163Z"
    },
    "papermill": {
     "duration": 0.051817,
     "end_time": "2022-09-25T12:46:41.323242",
     "exception": false,
     "start_time": "2022-09-25T12:46:41.271425",
     "status": "completed"
    },
    "tags": []
   },
   "outputs": [
    {
     "data": {
      "text/plain": [
       "{'name': 'total_bedrooms___households', 'corr': 0.979399352769416}"
      ]
     },
     "execution_count": 11,
     "metadata": {},
     "output_type": "execute_result"
    }
   ],
   "source": [
    "corr_matrix = list()\n",
    "\n",
    "for c in numerical:\n",
    "    for o in numerical:\n",
    "        if c == o: continue\n",
    "        corr_matrix.append({'name' : '%s___%s' % (c, o),\n",
    "                      'corr' : df_train[c].corr(df_train[o])})\n",
    "\n",
    "sorted(corr_matrix, key = lambda d: d['corr'], reverse=True)[0]"
   ]
  },
  {
   "cell_type": "markdown",
   "id": "ecefd380",
   "metadata": {
    "papermill": {
     "duration": 0.006893,
     "end_time": "2022-09-25T12:46:41.337173",
     "exception": false,
     "start_time": "2022-09-25T12:46:41.330280",
     "status": "completed"
    },
    "tags": []
   },
   "source": [
    "## Question 3\n",
    "* Calculate the mutual information score with the (binarized) price for the categorical variable that we have. Use the training set only.\n",
    "* What is the value of mutual information?\n",
    "* Round it to 2 decimal digits using round(score, 2)"
   ]
  },
  {
   "cell_type": "code",
   "execution_count": 12,
   "id": "d0fd66ca",
   "metadata": {
    "execution": {
     "iopub.execute_input": "2022-09-25T12:46:41.352879Z",
     "iopub.status.busy": "2022-09-25T12:46:41.352512Z",
     "iopub.status.idle": "2022-09-25T12:46:41.379128Z",
     "shell.execute_reply": "2022-09-25T12:46:41.377906Z"
    },
    "papermill": {
     "duration": 0.037228,
     "end_time": "2022-09-25T12:46:41.381510",
     "exception": false,
     "start_time": "2022-09-25T12:46:41.344282",
     "status": "completed"
    },
    "tags": []
   },
   "outputs": [
    {
     "data": {
      "text/plain": [
       "0.1"
      ]
     },
     "execution_count": 12,
     "metadata": {},
     "output_type": "execute_result"
    }
   ],
   "source": [
    "mutual_info_score(df_train.above_average, df_train.ocean_proximity).round(2)"
   ]
  },
  {
   "cell_type": "markdown",
   "id": "2bd206d7",
   "metadata": {
    "papermill": {
     "duration": 0.006983,
     "end_time": "2022-09-25T12:46:41.395513",
     "exception": false,
     "start_time": "2022-09-25T12:46:41.388530",
     "status": "completed"
    },
    "tags": []
   },
   "source": [
    "## Question 4\n",
    "* Now let's train a logistic regression\n",
    "* Remember that we have one categorical variable `ocean_proximity` in the data. Include it using one-hot encoding.\n",
    "* Fit the model on the training dataset.\n",
    "  * To make sure the results are reproducible across different versions of Scikit-Learn, fit the model with these parameters:\n",
    "  * `model = LogisticRegression(solver=\"liblinear\", C=1.0, max_iter=1000, random_state=42)`\n",
    "* Calculate the accuracy on the validation dataset and round it to 2 decimal digits."
   ]
  },
  {
   "cell_type": "code",
   "execution_count": 13,
   "id": "1a14be39",
   "metadata": {
    "execution": {
     "iopub.execute_input": "2022-09-25T12:46:41.410688Z",
     "iopub.status.busy": "2022-09-25T12:46:41.410341Z",
     "iopub.status.idle": "2022-09-25T12:46:41.681963Z",
     "shell.execute_reply": "2022-09-25T12:46:41.680630Z"
    },
    "papermill": {
     "duration": 0.282308,
     "end_time": "2022-09-25T12:46:41.684713",
     "exception": false,
     "start_time": "2022-09-25T12:46:41.402405",
     "status": "completed"
    },
    "tags": []
   },
   "outputs": [],
   "source": [
    "dicts_train = df_train[categorical + numerical].to_dict(orient='records')\n",
    "\n",
    "dv = DictVectorizer(sparse=False)\n",
    "X_train = dv.fit_transform(dicts_train)"
   ]
  },
  {
   "cell_type": "code",
   "execution_count": 14,
   "id": "e38b47f0",
   "metadata": {
    "execution": {
     "iopub.execute_input": "2022-09-25T12:46:41.701081Z",
     "iopub.status.busy": "2022-09-25T12:46:41.700707Z",
     "iopub.status.idle": "2022-09-25T12:46:42.356438Z",
     "shell.execute_reply": "2022-09-25T12:46:42.355290Z"
    },
    "papermill": {
     "duration": 0.666582,
     "end_time": "2022-09-25T12:46:42.358624",
     "exception": false,
     "start_time": "2022-09-25T12:46:41.692042",
     "status": "completed"
    },
    "tags": []
   },
   "outputs": [
    {
     "data": {
      "text/plain": [
       "(-0.083829188440655,\n",
       " [0.18093530759982326,\n",
       "  0.003954758787947762,\n",
       "  0.03573955469112594,\n",
       "  0.11598325702417112,\n",
       "  0.08716280496403875,\n",
       "  1.2120866441523424,\n",
       "  0.473101980247531,\n",
       "  -1.7147713304052514,\n",
       "  0.01882696615444871,\n",
       "  0.29153725950298887,\n",
       "  0.8474759360596523,\n",
       "  -0.0016371871780485171,\n",
       "  0.010323040002691304,\n",
       "  -0.014052207665170789,\n",
       "  0.0018753074674865912,\n",
       "  -0.00014597082449926822])"
      ]
     },
     "execution_count": 14,
     "metadata": {},
     "output_type": "execute_result"
    }
   ],
   "source": [
    "model = LogisticRegression(solver=\"liblinear\", C=1.0, max_iter=1000, random_state=42)\n",
    "\n",
    "model.fit(X_train, y_train) #<-- training the model\n",
    "\n",
    "w = list(model.coef_[0])\n",
    "w0 = model.intercept_[0]\n",
    "(w0, w)"
   ]
  },
  {
   "cell_type": "code",
   "execution_count": 15,
   "id": "fbcd722c",
   "metadata": {
    "execution": {
     "iopub.execute_input": "2022-09-25T12:46:42.373700Z",
     "iopub.status.busy": "2022-09-25T12:46:42.373385Z",
     "iopub.status.idle": "2022-09-25T12:46:42.468104Z",
     "shell.execute_reply": "2022-09-25T12:46:42.467396Z"
    },
    "papermill": {
     "duration": 0.104761,
     "end_time": "2022-09-25T12:46:42.470063",
     "exception": false,
     "start_time": "2022-09-25T12:46:42.365302",
     "status": "completed"
    },
    "tags": []
   },
   "outputs": [
    {
     "data": {
      "text/plain": [
       "0.84"
      ]
     },
     "execution_count": 15,
     "metadata": {},
     "output_type": "execute_result"
    }
   ],
   "source": [
    "# Calculate the predictions for the validation data set using the model trained with training data\n",
    "\n",
    "dicts_val = df_val[categorical + numerical].to_dict(orient='records')\n",
    "X_val = dv.transform(dicts_val)\n",
    "val_pred = model.predict_proba(X_val)[:,1] >= 0.5\n",
    "\n",
    "# Calculate relative frequency\n",
    "val_pred_accuracy = (val_pred == y_val).mean()\n",
    "val_pred_accuracy.round(2)"
   ]
  },
  {
   "cell_type": "markdown",
   "id": "3e06c9c2",
   "metadata": {
    "papermill": {
     "duration": 0.009044,
     "end_time": "2022-09-25T12:46:42.488814",
     "exception": false,
     "start_time": "2022-09-25T12:46:42.479770",
     "status": "completed"
    },
    "tags": []
   },
   "source": [
    "## Question 5\n",
    "\n",
    "* Let's find the least useful feature using the *feature elimination* technique.\n",
    "* Train a model with all these features (using the same parameters as in Q4).\n",
    "* Now exclude each feature from this set and train a model without it. Record the accuracy for each model.\n",
    "* For each feature, calculate the difference between the original accuracy and the accuracy without the feature.\n",
    "* Which of following feature has the smallest difference?\n",
    "  * `total_rooms`\n",
    "  * `total_bedrooms`\n",
    "  * `population`\n",
    "  * `households`\n",
    "**note**: the difference doesn't have to be positive"
   ]
  },
  {
   "cell_type": "code",
   "execution_count": 16,
   "id": "d93ab0df",
   "metadata": {
    "execution": {
     "iopub.execute_input": "2022-09-25T12:46:42.509835Z",
     "iopub.status.busy": "2022-09-25T12:46:42.508683Z",
     "iopub.status.idle": "2022-09-25T12:46:51.345626Z",
     "shell.execute_reply": "2022-09-25T12:46:51.344780Z"
    },
    "papermill": {
     "duration": 8.849584,
     "end_time": "2022-09-25T12:46:51.347811",
     "exception": false,
     "start_time": "2022-09-25T12:46:42.498227",
     "status": "completed"
    },
    "tags": []
   },
   "outputs": [
    {
     "data": {
      "text/plain": [
       "[{'col': 'total_bedrooms', 'accuracy': 0.0004844961240310086},\n",
       " {'col': 'population_per_household', 'accuracy': 0.0004844961240310086},\n",
       " {'col': 'total_rooms', 'accuracy': 0.0007267441860464574},\n",
       " {'col': 'rooms_per_household', 'accuracy': 0.0007267441860465684},\n",
       " {'col': 'bedrooms_per_room', 'accuracy': 0.0014534883720930258},\n",
       " {'col': 'latitude', 'accuracy': 0.002422480620155043},\n",
       " {'col': 'households', 'accuracy': 0.0031492248062016115},\n",
       " {'col': 'housing_median_age', 'accuracy': 0.004844961240310086},\n",
       " {'col': 'longitude', 'accuracy': 0.005087209302325646},\n",
       " {'col': 'population', 'accuracy': 0.009932170542635732},\n",
       " {'col': 'ocean_proximity', 'accuracy': 0.016715116279069853},\n",
       " {'col': 'median_income', 'accuracy': 0.04990310077519389}]"
      ]
     },
     "execution_count": 16,
     "metadata": {},
     "output_type": "execute_result"
    }
   ],
   "source": [
    "columns = categorical + numerical\n",
    "tlist = list()\n",
    "\n",
    "for c in columns:\n",
    "    tolumns = columns.copy()\n",
    "    tolumns.remove(c)\n",
    "    \n",
    "    # hot-one encoding train data\n",
    "    dicts_train_small = df_train[tolumns].to_dict(orient='records')\n",
    "    dv = DictVectorizer(sparse=False)\n",
    "    X_train_small = dv.fit_transform(dicts_train_small)\n",
    "    \n",
    "    # traning the model with train data\n",
    "    model = LogisticRegression(solver=\"liblinear\", C=1.0, max_iter=1000, random_state=42)\n",
    "    model.fit(X_train_small, y_train) # training the model with the subset of features\n",
    "    \n",
    "    # hot-one encoding validation data\n",
    "    dicts_val_small = df_val[tolumns].to_dict(orient='records')\n",
    "    X_val_small = dv.transform(dicts_val_small)\n",
    "    \n",
    "    # calculate prediction using the trained model\n",
    "    val_small_pred = model.predict_proba(X_val_small)[:,1] >= 0.5\n",
    "    val_small_pred\n",
    "    \n",
    "    # Calculate relative frequency\n",
    "    val_small_pred_accuracy = (val_small_pred == y_val).mean()\n",
    "    \n",
    "    # find diff with original accuracy from full validation dataset\n",
    "    diff = val_small_pred_accuracy - val_pred_accuracy\n",
    "    tlist.append({'col' : c,  'accuracy' : abs(diff)}) # abs to remove sign\n",
    "\n",
    "sorted(tlist, key = lambda d: d['accuracy'])"
   ]
  },
  {
   "cell_type": "markdown",
   "id": "e17f43b2",
   "metadata": {
    "papermill": {
     "duration": 0.008923,
     "end_time": "2022-09-25T12:46:51.366318",
     "exception": false,
     "start_time": "2022-09-25T12:46:51.357395",
     "status": "completed"
    },
    "tags": []
   },
   "source": [
    "## Question 6\n",
    "\n",
    "* For this question, we'll see how to use a linear regression model from Scikit-Learn\n",
    "* We'll need to use the original column `'median_house_value'`. Apply the logarithmic transformation to this column.\n",
    "* Fit the Ridge regression model (`model = Ridge(alpha=a, solver=\"sag\", random_state=42)`) on the training data.\n",
    "* This model has a parameter `alpha`. Let's try the following values: `[0, 0.01, 0.1, 1, 10]`\n",
    "* Which of these alphas leads to the best RMSE on the validation set? Round your RMSE scores to 3 decimal digits.\n",
    "\n",
    "If there are multiple options, select the smallest `alpha`."
   ]
  },
  {
   "cell_type": "code",
   "execution_count": 17,
   "id": "7e50c221",
   "metadata": {
    "execution": {
     "iopub.execute_input": "2022-09-25T12:46:51.387380Z",
     "iopub.status.busy": "2022-09-25T12:46:51.387029Z",
     "iopub.status.idle": "2022-09-25T12:46:51.407436Z",
     "shell.execute_reply": "2022-09-25T12:46:51.406570Z"
    },
    "papermill": {
     "duration": 0.034006,
     "end_time": "2022-09-25T12:46:51.409501",
     "exception": false,
     "start_time": "2022-09-25T12:46:51.375495",
     "status": "completed"
    },
    "tags": []
   },
   "outputs": [
    {
     "name": "stdout",
     "output_type": "stream",
     "text": [
      "12384 4128 4128\n"
     ]
    }
   ],
   "source": [
    "# Splitting the data set\n",
    "\n",
    "df_full_train, df_test = train_test_split(df, test_size=0.2, random_state=42)\n",
    "df_train, df_val = train_test_split(df_full_train, test_size=0.25, random_state=42)\n",
    "\n",
    "print(len(df_train), len(df_val), len(df_test))\n",
    "\n",
    "df_train.reset_index()\n",
    "df_val.reset_index()\n",
    "df_test.reset_index()\n",
    "\n",
    "y_train = np.log1p(df_train.median_house_value.values)\n",
    "y_val = np.log1p(df_val.median_house_value.values)\n",
    "y_test = np.log1p(df_test.median_house_value.values)\n",
    "\n",
    "for c in ['median_house_value']:\n",
    "    del df_train[c]\n",
    "    del df_val[c]\n",
    "    del df_test[c]"
   ]
  },
  {
   "cell_type": "code",
   "execution_count": 18,
   "id": "40895d6b",
   "metadata": {
    "execution": {
     "iopub.execute_input": "2022-09-25T12:46:51.431608Z",
     "iopub.status.busy": "2022-09-25T12:46:51.431269Z",
     "iopub.status.idle": "2022-09-25T12:46:51.436183Z",
     "shell.execute_reply": "2022-09-25T12:46:51.435273Z"
    },
    "papermill": {
     "duration": 0.017835,
     "end_time": "2022-09-25T12:46:51.438066",
     "exception": false,
     "start_time": "2022-09-25T12:46:51.420231",
     "status": "completed"
    },
    "tags": []
   },
   "outputs": [],
   "source": [
    "def get_rmse(y_pred, y):\n",
    "    se = np.square( y_pred - y)\n",
    "    mse = se.mean()\n",
    "    return np.sqrt(mse)"
   ]
  },
  {
   "cell_type": "code",
   "execution_count": 19,
   "id": "5baa6721",
   "metadata": {
    "execution": {
     "iopub.execute_input": "2022-09-25T12:46:51.459280Z",
     "iopub.status.busy": "2022-09-25T12:46:51.458957Z",
     "iopub.status.idle": "2022-09-25T12:47:08.429524Z",
     "shell.execute_reply": "2022-09-25T12:47:08.428743Z"
    },
    "papermill": {
     "duration": 16.983698,
     "end_time": "2022-09-25T12:47:08.431644",
     "exception": false,
     "start_time": "2022-09-25T12:46:51.447946",
     "status": "completed"
    },
    "tags": []
   },
   "outputs": [
    {
     "data": {
      "text/plain": [
       "[{'alpha': 0, 'rmse': 0.524},\n",
       " {'alpha': 0.01, 'rmse': 0.524},\n",
       " {'alpha': 0.1, 'rmse': 0.524},\n",
       " {'alpha': 1, 'rmse': 0.524},\n",
       " {'alpha': 10, 'rmse': 0.524}]"
      ]
     },
     "execution_count": 19,
     "metadata": {},
     "output_type": "execute_result"
    }
   ],
   "source": [
    "from sklearn.linear_model import Ridge\n",
    "\n",
    "dicts_train = df_train[categorical + numerical].to_dict(orient='records')\n",
    "tlist =list()\n",
    "\n",
    "dv = DictVectorizer(sparse=False)\n",
    "X_train = dv.fit_transform(dicts_train)\n",
    "\n",
    "for a in [0, 0.01, 0.1, 1, 10]:\n",
    "    model = Ridge(alpha=a, solver=\"sag\", random_state=42)\n",
    "    # model = LogisticRegression(solver=\"liblinear\", C=1.0, max_iter=1000, random_state=42)\n",
    "    model.fit(X_train, y_train) #<-- training the model\n",
    "    \n",
    "    dicts_val = df_val[categorical + numerical].to_dict(orient='records')\n",
    "    X_val = dv.transform(dicts_val)\n",
    "    y_pred = model.predict(X_val)\n",
    "    rmse = get_rmse(y_pred, y_val)\n",
    "    tlist.append({'alpha' : a,  'rmse' : round(rmse, 3)}) #rmse rounded to 3 decimal places\n",
    "    \n",
    "sorted(tlist, key = lambda d: d['rmse'])\n"
   ]
  }
 ],
 "metadata": {
  "kernelspec": {
   "display_name": "Python 3",
   "language": "python",
   "name": "python3"
  },
  "language_info": {
   "codemirror_mode": {
    "name": "ipython",
    "version": 3
   },
   "file_extension": ".py",
   "mimetype": "text/x-python",
   "name": "python",
   "nbconvert_exporter": "python",
   "pygments_lexer": "ipython3",
   "version": "3.7.12"
  },
  "papermill": {
   "default_parameters": {},
   "duration": 38.048049,
   "end_time": "2022-09-25T12:47:09.265197",
   "environment_variables": {},
   "exception": null,
   "input_path": "__notebook__.ipynb",
   "output_path": "__notebook__.ipynb",
   "parameters": {},
   "start_time": "2022-09-25T12:46:31.217148",
   "version": "2.3.4"
  }
 },
 "nbformat": 4,
 "nbformat_minor": 5
}
