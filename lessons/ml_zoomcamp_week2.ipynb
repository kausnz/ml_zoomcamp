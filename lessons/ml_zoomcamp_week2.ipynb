{
  "cells": [
    {
      "cell_type": "markdown",
      "metadata": {
        "colab_type": "text",
        "id": "view-in-github"
      },
      "source": [
        "<a href=\"https://colab.research.google.com/github/kausnz/ml_zoomcamp_homework/blob/main/lessons/ml_zoomcamp_week2.ipynb\" target=\"_parent\"><img src=\"https://colab.research.google.com/assets/colab-badge.svg\" alt=\"Open In Colab\"/></a>"
      ]
    },
    {
      "cell_type": "code",
      "execution_count": 31,
      "id": "nzcKoivIvz7B",
      "metadata": {
        "colab": {
          "base_uri": "https://localhost:8080/",
          "height": 34
        },
        "id": "nzcKoivIvz7B",
        "outputId": "20cb8505-92c1-42fd-865a-8fc98d0ef8fa"
      },
      "outputs": [
        {
          "data": {
            "application/javascript": "IPython.notebook.set_autosave_interval(1000)"
          },
          "metadata": {},
          "output_type": "display_data"
        },
        {
          "name": "stdout",
          "output_type": "stream",
          "text": [
            "Autosaving every 1 seconds\n"
          ]
        }
      ],
      "source": [
        "%autosave 1"
      ]
    },
    {
      "cell_type": "code",
      "execution_count": 32,
      "id": "f64866c7",
      "metadata": {
        "_cell_guid": "b1076dfc-b9ad-4769-8c92-a6c4dae69d19",
        "_uuid": "8f2839f25d086af736a60e9eeb907d3b93b6e0e5",
        "colab": {
          "base_uri": "https://localhost:8080/"
        },
        "execution": {
          "iopub.execute_input": "2022-09-17T20:42:58.331888Z",
          "iopub.status.busy": "2022-09-17T20:42:58.331291Z",
          "iopub.status.idle": "2022-09-17T20:43:00.234637Z",
          "shell.execute_reply": "2022-09-17T20:43:00.232939Z"
        },
        "id": "f64866c7",
        "outputId": "7f0d07df-6bfa-4533-9fd4-9d25745dba1a",
        "papermill": {
          "duration": 1.919053,
          "end_time": "2022-09-17T20:43:00.237864",
          "exception": false,
          "start_time": "2022-09-17T20:42:58.318811",
          "status": "completed"
        },
        "tags": []
      },
      "outputs": [
        {
          "name": "stdout",
          "output_type": "stream",
          "text": [
            "--2022-09-30 19:05:29--  https://raw.githubusercontent.com/alexeygrigorev/mlbookcamp-code/master/chapter-02-car-price/data.csv\n",
            "Resolving raw.githubusercontent.com (raw.githubusercontent.com)... 185.199.108.133, 185.199.109.133, 185.199.110.133, ...\n",
            "Connecting to raw.githubusercontent.com (raw.githubusercontent.com)|185.199.108.133|:443... connected.\n",
            "HTTP request sent, awaiting response... 200 OK\n",
            "Length: 1475504 (1.4M) [text/plain]\n",
            "Saving to: ‘data.csv.1’\n",
            "\n",
            "data.csv.1          100%[===================>]   1.41M  --.-KB/s    in 0.04s   \n",
            "\n",
            "2022-09-30 19:05:29 (39.9 MB/s) - ‘data.csv.1’ saved [1475504/1475504]\n",
            "\n"
          ]
        }
      ],
      "source": [
        "import numpy as np # linear algebra\n",
        "import pandas as pd # data processing, CSV file I/O (e.g. pd.read_csv)\n",
        "import os\n",
        "\n",
        "data='https://raw.githubusercontent.com/alexeygrigorev/mlbookcamp-code/master/chapter-02-car-price/data.csv'\n",
        "!wget $data"
      ]
    },
    {
      "cell_type": "code",
      "execution_count": 33,
      "id": "1973c7ad",
      "metadata": {
        "colab": {
          "base_uri": "https://localhost:8080/",
          "height": 288
        },
        "execution": {
          "iopub.execute_input": "2022-09-17T20:43:00.259678Z",
          "iopub.status.busy": "2022-09-17T20:43:00.259232Z",
          "iopub.status.idle": "2022-09-17T20:43:00.430145Z",
          "shell.execute_reply": "2022-09-17T20:43:00.429051Z"
        },
        "id": "1973c7ad",
        "outputId": "89e94f41-5ff6-4be1-821e-3e7907fd30e3",
        "papermill": {
          "duration": 0.184664,
          "end_time": "2022-09-17T20:43:00.432412",
          "exception": false,
          "start_time": "2022-09-17T20:43:00.247748",
          "status": "completed"
        },
        "tags": []
      },
      "outputs": [
        {
          "data": {
            "text/html": [
              "\n",
              "  <div id=\"df-179e8e8c-e8b1-404f-98f1-f569336d2ca1\">\n",
              "    <div class=\"colab-df-container\">\n",
              "      <div>\n",
              "<style scoped>\n",
              "    .dataframe tbody tr th:only-of-type {\n",
              "        vertical-align: middle;\n",
              "    }\n",
              "\n",
              "    .dataframe tbody tr th {\n",
              "        vertical-align: top;\n",
              "    }\n",
              "\n",
              "    .dataframe thead th {\n",
              "        text-align: right;\n",
              "    }\n",
              "</style>\n",
              "<table border=\"1\" class=\"dataframe\">\n",
              "  <thead>\n",
              "    <tr style=\"text-align: right;\">\n",
              "      <th></th>\n",
              "      <th>make</th>\n",
              "      <th>model</th>\n",
              "      <th>year</th>\n",
              "      <th>engine_fuel_type</th>\n",
              "      <th>engine_hp</th>\n",
              "      <th>engine_cylinders</th>\n",
              "      <th>transmission_type</th>\n",
              "      <th>driven_wheels</th>\n",
              "      <th>number_of_doors</th>\n",
              "      <th>market_category</th>\n",
              "      <th>vehicle_size</th>\n",
              "      <th>vehicle_style</th>\n",
              "      <th>highway_mpg</th>\n",
              "      <th>city_mpg</th>\n",
              "      <th>popularity</th>\n",
              "      <th>msrp</th>\n",
              "    </tr>\n",
              "  </thead>\n",
              "  <tbody>\n",
              "    <tr>\n",
              "      <th>0</th>\n",
              "      <td>bmw</td>\n",
              "      <td>1_series_m</td>\n",
              "      <td>2011</td>\n",
              "      <td>premium_unleaded_(required)</td>\n",
              "      <td>335.0</td>\n",
              "      <td>6.0</td>\n",
              "      <td>manual</td>\n",
              "      <td>rear_wheel_drive</td>\n",
              "      <td>2.0</td>\n",
              "      <td>factory_tuner,luxury,high-performance</td>\n",
              "      <td>compact</td>\n",
              "      <td>coupe</td>\n",
              "      <td>26</td>\n",
              "      <td>19</td>\n",
              "      <td>3916</td>\n",
              "      <td>46135</td>\n",
              "    </tr>\n",
              "    <tr>\n",
              "      <th>1</th>\n",
              "      <td>bmw</td>\n",
              "      <td>1_series</td>\n",
              "      <td>2011</td>\n",
              "      <td>premium_unleaded_(required)</td>\n",
              "      <td>300.0</td>\n",
              "      <td>6.0</td>\n",
              "      <td>manual</td>\n",
              "      <td>rear_wheel_drive</td>\n",
              "      <td>2.0</td>\n",
              "      <td>luxury,performance</td>\n",
              "      <td>compact</td>\n",
              "      <td>convertible</td>\n",
              "      <td>28</td>\n",
              "      <td>19</td>\n",
              "      <td>3916</td>\n",
              "      <td>40650</td>\n",
              "    </tr>\n",
              "    <tr>\n",
              "      <th>2</th>\n",
              "      <td>bmw</td>\n",
              "      <td>1_series</td>\n",
              "      <td>2011</td>\n",
              "      <td>premium_unleaded_(required)</td>\n",
              "      <td>300.0</td>\n",
              "      <td>6.0</td>\n",
              "      <td>manual</td>\n",
              "      <td>rear_wheel_drive</td>\n",
              "      <td>2.0</td>\n",
              "      <td>luxury,high-performance</td>\n",
              "      <td>compact</td>\n",
              "      <td>coupe</td>\n",
              "      <td>28</td>\n",
              "      <td>20</td>\n",
              "      <td>3916</td>\n",
              "      <td>36350</td>\n",
              "    </tr>\n",
              "    <tr>\n",
              "      <th>3</th>\n",
              "      <td>bmw</td>\n",
              "      <td>1_series</td>\n",
              "      <td>2011</td>\n",
              "      <td>premium_unleaded_(required)</td>\n",
              "      <td>230.0</td>\n",
              "      <td>6.0</td>\n",
              "      <td>manual</td>\n",
              "      <td>rear_wheel_drive</td>\n",
              "      <td>2.0</td>\n",
              "      <td>luxury,performance</td>\n",
              "      <td>compact</td>\n",
              "      <td>coupe</td>\n",
              "      <td>28</td>\n",
              "      <td>18</td>\n",
              "      <td>3916</td>\n",
              "      <td>29450</td>\n",
              "    </tr>\n",
              "    <tr>\n",
              "      <th>4</th>\n",
              "      <td>bmw</td>\n",
              "      <td>1_series</td>\n",
              "      <td>2011</td>\n",
              "      <td>premium_unleaded_(required)</td>\n",
              "      <td>230.0</td>\n",
              "      <td>6.0</td>\n",
              "      <td>manual</td>\n",
              "      <td>rear_wheel_drive</td>\n",
              "      <td>2.0</td>\n",
              "      <td>luxury</td>\n",
              "      <td>compact</td>\n",
              "      <td>convertible</td>\n",
              "      <td>28</td>\n",
              "      <td>18</td>\n",
              "      <td>3916</td>\n",
              "      <td>34500</td>\n",
              "    </tr>\n",
              "  </tbody>\n",
              "</table>\n",
              "</div>\n",
              "      <button class=\"colab-df-convert\" onclick=\"convertToInteractive('df-179e8e8c-e8b1-404f-98f1-f569336d2ca1')\"\n",
              "              title=\"Convert this dataframe to an interactive table.\"\n",
              "              style=\"display:none;\">\n",
              "        \n",
              "  <svg xmlns=\"http://www.w3.org/2000/svg\" height=\"24px\"viewBox=\"0 0 24 24\"\n",
              "       width=\"24px\">\n",
              "    <path d=\"M0 0h24v24H0V0z\" fill=\"none\"/>\n",
              "    <path d=\"M18.56 5.44l.94 2.06.94-2.06 2.06-.94-2.06-.94-.94-2.06-.94 2.06-2.06.94zm-11 1L8.5 8.5l.94-2.06 2.06-.94-2.06-.94L8.5 2.5l-.94 2.06-2.06.94zm10 10l.94 2.06.94-2.06 2.06-.94-2.06-.94-.94-2.06-.94 2.06-2.06.94z\"/><path d=\"M17.41 7.96l-1.37-1.37c-.4-.4-.92-.59-1.43-.59-.52 0-1.04.2-1.43.59L10.3 9.45l-7.72 7.72c-.78.78-.78 2.05 0 2.83L4 21.41c.39.39.9.59 1.41.59.51 0 1.02-.2 1.41-.59l7.78-7.78 2.81-2.81c.8-.78.8-2.07 0-2.86zM5.41 20L4 18.59l7.72-7.72 1.47 1.35L5.41 20z\"/>\n",
              "  </svg>\n",
              "      </button>\n",
              "      \n",
              "  <style>\n",
              "    .colab-df-container {\n",
              "      display:flex;\n",
              "      flex-wrap:wrap;\n",
              "      gap: 12px;\n",
              "    }\n",
              "\n",
              "    .colab-df-convert {\n",
              "      background-color: #E8F0FE;\n",
              "      border: none;\n",
              "      border-radius: 50%;\n",
              "      cursor: pointer;\n",
              "      display: none;\n",
              "      fill: #1967D2;\n",
              "      height: 32px;\n",
              "      padding: 0 0 0 0;\n",
              "      width: 32px;\n",
              "    }\n",
              "\n",
              "    .colab-df-convert:hover {\n",
              "      background-color: #E2EBFA;\n",
              "      box-shadow: 0px 1px 2px rgba(60, 64, 67, 0.3), 0px 1px 3px 1px rgba(60, 64, 67, 0.15);\n",
              "      fill: #174EA6;\n",
              "    }\n",
              "\n",
              "    [theme=dark] .colab-df-convert {\n",
              "      background-color: #3B4455;\n",
              "      fill: #D2E3FC;\n",
              "    }\n",
              "\n",
              "    [theme=dark] .colab-df-convert:hover {\n",
              "      background-color: #434B5C;\n",
              "      box-shadow: 0px 1px 3px 1px rgba(0, 0, 0, 0.15);\n",
              "      filter: drop-shadow(0px 1px 2px rgba(0, 0, 0, 0.3));\n",
              "      fill: #FFFFFF;\n",
              "    }\n",
              "  </style>\n",
              "\n",
              "      <script>\n",
              "        const buttonEl =\n",
              "          document.querySelector('#df-179e8e8c-e8b1-404f-98f1-f569336d2ca1 button.colab-df-convert');\n",
              "        buttonEl.style.display =\n",
              "          google.colab.kernel.accessAllowed ? 'block' : 'none';\n",
              "\n",
              "        async function convertToInteractive(key) {\n",
              "          const element = document.querySelector('#df-179e8e8c-e8b1-404f-98f1-f569336d2ca1');\n",
              "          const dataTable =\n",
              "            await google.colab.kernel.invokeFunction('convertToInteractive',\n",
              "                                                     [key], {});\n",
              "          if (!dataTable) return;\n",
              "\n",
              "          const docLinkHtml = 'Like what you see? Visit the ' +\n",
              "            '<a target=\"_blank\" href=https://colab.research.google.com/notebooks/data_table.ipynb>data table notebook</a>'\n",
              "            + ' to learn more about interactive tables.';\n",
              "          element.innerHTML = '';\n",
              "          dataTable['output_type'] = 'display_data';\n",
              "          await google.colab.output.renderOutput(dataTable, element);\n",
              "          const docLink = document.createElement('div');\n",
              "          docLink.innerHTML = docLinkHtml;\n",
              "          element.appendChild(docLink);\n",
              "        }\n",
              "      </script>\n",
              "    </div>\n",
              "  </div>\n",
              "  "
            ],
            "text/plain": [
              "  make       model  year             engine_fuel_type  engine_hp  \\\n",
              "0  bmw  1_series_m  2011  premium_unleaded_(required)      335.0   \n",
              "1  bmw    1_series  2011  premium_unleaded_(required)      300.0   \n",
              "2  bmw    1_series  2011  premium_unleaded_(required)      300.0   \n",
              "3  bmw    1_series  2011  premium_unleaded_(required)      230.0   \n",
              "4  bmw    1_series  2011  premium_unleaded_(required)      230.0   \n",
              "\n",
              "   engine_cylinders transmission_type     driven_wheels  number_of_doors  \\\n",
              "0               6.0            manual  rear_wheel_drive              2.0   \n",
              "1               6.0            manual  rear_wheel_drive              2.0   \n",
              "2               6.0            manual  rear_wheel_drive              2.0   \n",
              "3               6.0            manual  rear_wheel_drive              2.0   \n",
              "4               6.0            manual  rear_wheel_drive              2.0   \n",
              "\n",
              "                         market_category vehicle_size vehicle_style  \\\n",
              "0  factory_tuner,luxury,high-performance      compact         coupe   \n",
              "1                     luxury,performance      compact   convertible   \n",
              "2                luxury,high-performance      compact         coupe   \n",
              "3                     luxury,performance      compact         coupe   \n",
              "4                                 luxury      compact   convertible   \n",
              "\n",
              "   highway_mpg  city_mpg  popularity   msrp  \n",
              "0           26        19        3916  46135  \n",
              "1           28        19        3916  40650  \n",
              "2           28        20        3916  36350  \n",
              "3           28        18        3916  29450  \n",
              "4           28        18        3916  34500  "
            ]
          },
          "execution_count": 33,
          "metadata": {},
          "output_type": "execute_result"
        }
      ],
      "source": [
        "# clean up column names and string values in the dataframe\n",
        "\n",
        "df = pd.read_csv('data.csv')\n",
        "df.columns = df.columns.str.lower().str.replace(' ', '_')\n",
        "string_cols = df.dtypes[df.dtypes == 'object'].index\n",
        "for c in string_cols:\n",
        "    df[c] = df[c].str.lower().str.replace(' ', '_')\n",
        "df.head()"
      ]
    },
    {
      "cell_type": "code",
      "execution_count": 34,
      "id": "806fbcec",
      "metadata": {
        "colab": {
          "base_uri": "https://localhost:8080/"
        },
        "execution": {
          "iopub.execute_input": "2022-09-17T20:43:00.454719Z",
          "iopub.status.busy": "2022-09-17T20:43:00.453678Z",
          "iopub.status.idle": "2022-09-17T20:43:00.490622Z",
          "shell.execute_reply": "2022-09-17T20:43:00.488672Z"
        },
        "id": "806fbcec",
        "outputId": "f1466066-5b25-40b1-b200-12ff0607e362",
        "papermill": {
          "duration": 0.051956,
          "end_time": "2022-09-17T20:43:00.494220",
          "exception": false,
          "start_time": "2022-09-17T20:43:00.442264",
          "status": "completed"
        },
        "tags": []
      },
      "outputs": [
        {
          "name": "stdout",
          "output_type": "stream",
          "text": [
            "make : object\n",
            "['bmw' 'audi' 'fiat' 'mercedes-benz' 'chrysler']\n",
            "48\n",
            "\n",
            "model : object\n",
            "['1_series_m' '1_series' '100' '124_spider' '190-class']\n",
            "914\n",
            "\n",
            "year : int64\n",
            "[2011 2012 2013 1992 1993]\n",
            "28\n",
            "\n",
            "engine_fuel_type : object\n",
            "['premium_unleaded_(required)' 'regular_unleaded'\n",
            " 'premium_unleaded_(recommended)' 'flex-fuel_(unleaded/e85)' 'diesel']\n",
            "10\n",
            "\n",
            "engine_hp : float64\n",
            "[335. 300. 230. 320. 172.]\n",
            "356\n",
            "\n",
            "engine_cylinders : float64\n",
            "[ 6.  4.  5.  8. 12.]\n",
            "9\n",
            "\n",
            "transmission_type : object\n",
            "['manual' 'automatic' 'automated_manual' 'direct_drive' 'unknown']\n",
            "5\n",
            "\n",
            "driven_wheels : object\n",
            "['rear_wheel_drive' 'front_wheel_drive' 'all_wheel_drive'\n",
            " 'four_wheel_drive']\n",
            "4\n",
            "\n",
            "number_of_doors : float64\n",
            "[ 2.  4.  3. nan]\n",
            "3\n",
            "\n",
            "market_category : object\n",
            "['factory_tuner,luxury,high-performance' 'luxury,performance'\n",
            " 'luxury,high-performance' 'luxury' 'performance']\n",
            "71\n",
            "\n",
            "vehicle_size : object\n",
            "['compact' 'midsize' 'large']\n",
            "3\n",
            "\n",
            "vehicle_style : object\n",
            "['coupe' 'convertible' 'sedan' 'wagon' '4dr_hatchback']\n",
            "16\n",
            "\n",
            "highway_mpg : int64\n",
            "[26 28 27 25 24]\n",
            "59\n",
            "\n",
            "city_mpg : int64\n",
            "[19 20 18 17 16]\n",
            "69\n",
            "\n",
            "popularity : int64\n",
            "[3916 3105  819  617 1013]\n",
            "48\n",
            "\n",
            "msrp : int64\n",
            "[46135 40650 36350 29450 34500]\n",
            "6049\n",
            "\n"
          ]
        }
      ],
      "source": [
        "for c in df.columns:\n",
        "    print(\"{} : {}\".format(c, df[c].dtype))\n",
        "    print(df[c].unique()[:5])\n",
        "    print(df[c].nunique())\n",
        "    print('')\n"
      ]
    },
    {
      "cell_type": "code",
      "execution_count": 35,
      "id": "db5dcf9f",
      "metadata": {
        "colab": {
          "base_uri": "https://localhost:8080/",
          "height": 52
        },
        "execution": {
          "iopub.execute_input": "2022-09-17T20:43:00.515892Z",
          "iopub.status.busy": "2022-09-17T20:43:00.515492Z",
          "iopub.status.idle": "2022-09-17T20:43:01.673353Z",
          "shell.execute_reply": "2022-09-17T20:43:01.672067Z"
        },
        "id": "db5dcf9f",
        "outputId": "d1635b10-06ac-453b-b1d0-a6d5f5869668",
        "papermill": {
          "duration": 1.171784,
          "end_time": "2022-09-17T20:43:01.676250",
          "exception": false,
          "start_time": "2022-09-17T20:43:00.504466",
          "status": "completed"
        },
        "tags": []
      },
      "outputs": [
        {
          "data": {
            "text/plain": [
              "<Figure size 720x720 with 0 Axes>"
            ]
          },
          "execution_count": 35,
          "metadata": {},
          "output_type": "execute_result"
        },
        {
          "data": {
            "text/plain": [
              "<Figure size 720x720 with 0 Axes>"
            ]
          },
          "metadata": {},
          "output_type": "display_data"
        }
      ],
      "source": [
        "import matplotlib.pyplot as plt\n",
        "import seaborn as sns\n",
        "\n",
        "%matplotlib inline\n",
        "plt.figure(figsize=(10,10))"
      ]
    },
    {
      "cell_type": "code",
      "execution_count": 36,
      "id": "fd95e8ed",
      "metadata": {
        "colab": {
          "base_uri": "https://localhost:8080/",
          "height": 623
        },
        "execution": {
          "iopub.execute_input": "2022-09-17T20:43:01.702287Z",
          "iopub.status.busy": "2022-09-17T20:43:01.700905Z",
          "iopub.status.idle": "2022-09-17T20:43:02.103690Z",
          "shell.execute_reply": "2022-09-17T20:43:02.102555Z"
        },
        "id": "fd95e8ed",
        "outputId": "35715832-5159-49c8-a27d-a4e9409c3881",
        "papermill": {
          "duration": 0.419514,
          "end_time": "2022-09-17T20:43:02.106213",
          "exception": false,
          "start_time": "2022-09-17T20:43:01.686699",
          "status": "completed"
        },
        "tags": []
      },
      "outputs": [
        {
          "data": {
            "text/plain": [
              "<matplotlib.axes._subplots.AxesSubplot at 0x7f335d1bf150>"
            ]
          },
          "execution_count": 36,
          "metadata": {},
          "output_type": "execute_result"
        },
        {
          "data": {
            "image/png": "[encoded data removed]",
            "text/plain": [
              "<Figure size 720x720 with 1 Axes>"
            ]
          },
          "metadata": {
            "needs_background": "light"
          },
          "output_type": "display_data"
        }
      ],
      "source": [
        "plt.figure(figsize=(10,10))\n",
        "sns.histplot(df.msrp[df.msrp < 100000], bins=50)"
      ]
    },
    {
      "cell_type": "code",
      "execution_count": 37,
      "id": "b099134d",
      "metadata": {
        "colab": {
          "base_uri": "https://localhost:8080/",
          "height": 623
        },
        "execution": {
          "iopub.execute_input": "2022-09-17T20:43:02.129522Z",
          "iopub.status.busy": "2022-09-17T20:43:02.129030Z",
          "iopub.status.idle": "2022-09-17T20:43:02.483077Z",
          "shell.execute_reply": "2022-09-17T20:43:02.482181Z"
        },
        "id": "b099134d",
        "outputId": "5ba7997e-8a66-4aaa-9918-79a60c1d26fd",
        "papermill": {
          "duration": 0.368764,
          "end_time": "2022-09-17T20:43:02.485889",
          "exception": false,
          "start_time": "2022-09-17T20:43:02.117125",
          "status": "completed"
        },
        "tags": []
      },
      "outputs": [
        {
          "data": {
            "text/plain": [
              "<matplotlib.axes._subplots.AxesSubplot at 0x7f335d1f0710>"
            ]
          },
          "execution_count": 37,
          "metadata": {},
          "output_type": "execute_result"
        },
        {
          "data": {
            "image/png": "[encoded data removed]",
            "text/plain": [
              "<Figure size 720x720 with 1 Axes>"
            ]
          },
          "metadata": {
            "needs_background": "light"
          },
          "output_type": "display_data"
        }
      ],
      "source": [
        "# to get rid of the long tail of the distribution\n",
        "msrp_logs = np.log1p(df.msrp)\n",
        "plt.figure(figsize=(10,10))\n",
        "sns.histplot(msrp_logs, bins=50)"
      ]
    },
    {
      "cell_type": "code",
      "execution_count": 38,
      "id": "43c2b12d",
      "metadata": {
        "colab": {
          "base_uri": "https://localhost:8080/"
        },
        "execution": {
          "iopub.execute_input": "2022-09-17T20:43:02.510986Z",
          "iopub.status.busy": "2022-09-17T20:43:02.509988Z",
          "iopub.status.idle": "2022-09-17T20:43:02.523793Z",
          "shell.execute_reply": "2022-09-17T20:43:02.522581Z"
        },
        "id": "43c2b12d",
        "outputId": "7cb3f3d7-970f-4de9-ea27-6031d8d77f90",
        "papermill": {
          "duration": 0.029356,
          "end_time": "2022-09-17T20:43:02.526810",
          "exception": false,
          "start_time": "2022-09-17T20:43:02.497454",
          "status": "completed"
        },
        "tags": []
      },
      "outputs": [
        {
          "data": {
            "text/plain": [
              "make                    0\n",
              "model                   0\n",
              "year                    0\n",
              "engine_fuel_type        3\n",
              "engine_hp              69\n",
              "engine_cylinders       30\n",
              "transmission_type       0\n",
              "driven_wheels           0\n",
              "number_of_doors         6\n",
              "market_category      3742\n",
              "vehicle_size            0\n",
              "vehicle_style           0\n",
              "highway_mpg             0\n",
              "city_mpg                0\n",
              "popularity              0\n",
              "msrp                    0\n",
              "dtype: int64"
            ]
          },
          "execution_count": 38,
          "metadata": {},
          "output_type": "execute_result"
        }
      ],
      "source": [
        "# to have an idea about which columns contain missing values and how many\n",
        "df.isnull().sum()"
      ]
    },
    {
      "cell_type": "code",
      "execution_count": 39,
      "id": "db6850cc",
      "metadata": {
        "colab": {
          "base_uri": "https://localhost:8080/"
        },
        "execution": {
          "iopub.execute_input": "2022-09-17T20:43:02.551397Z",
          "iopub.status.busy": "2022-09-17T20:43:02.550542Z",
          "iopub.status.idle": "2022-09-17T20:43:02.558244Z",
          "shell.execute_reply": "2022-09-17T20:43:02.557322Z"
        },
        "id": "db6850cc",
        "outputId": "8bce4d48-4f48-4f26-c6a5-00b2b20951d1",
        "papermill": {
          "duration": 0.022263,
          "end_time": "2022-09-17T20:43:02.560233",
          "exception": false,
          "start_time": "2022-09-17T20:43:02.537970",
          "status": "completed"
        },
        "tags": []
      },
      "outputs": [
        {
          "data": {
            "text/plain": [
              "(11914, 7150, 2382, 2382, 11914)"
            ]
          },
          "execution_count": 39,
          "metadata": {},
          "output_type": "execute_result"
        }
      ],
      "source": [
        "# Splitting the dataset to train, validation and test\n",
        "n  = len(df) \n",
        "n_test = int(n * 0.2)\n",
        "n_validation = int(n * 0.2)\n",
        "n_train = n - n_test - n_validation\n",
        "n, n_train, n_validation, n_test, n_train + n_validation + n_test\n",
        "\n"
      ]
    },
    {
      "cell_type": "code",
      "execution_count": 40,
      "id": "c8e9ef7c",
      "metadata": {
        "colab": {
          "base_uri": "https://localhost:8080/"
        },
        "execution": {
          "iopub.execute_input": "2022-09-17T20:43:02.584683Z",
          "iopub.status.busy": "2022-09-17T20:43:02.583800Z",
          "iopub.status.idle": "2022-09-17T20:43:02.614091Z",
          "shell.execute_reply": "2022-09-17T20:43:02.612791Z"
        },
        "id": "c8e9ef7c",
        "outputId": "13eabfd3-7e21-42b7-cb14-011ef0004f5e",
        "papermill": {
          "duration": 0.045467,
          "end_time": "2022-09-17T20:43:02.616498",
          "exception": false,
          "start_time": "2022-09-17T20:43:02.571031",
          "status": "completed"
        },
        "tags": []
      },
      "outputs": [
        {
          "data": {
            "text/plain": [
              "array([ 9.57574708,  9.887663  ,  9.89323518, ..., 10.45380308,\n",
              "       12.62248099, 10.54061978])"
            ]
          },
          "execution_count": 40,
          "metadata": {},
          "output_type": "execute_result"
        }
      ],
      "source": [
        "# Shuffle the dataset\n",
        "idx = np.arange(n)\n",
        "np.random.seed(2)\n",
        "np.random.shuffle(idx)\n",
        "\n",
        "master_df = df.copy()\n",
        "df_train = df.iloc[idx[:n_train]]\n",
        "df_validation = df.iloc[idx[n_train : n_train + n_validation]]\n",
        "df_test = df.iloc[idx[n_train + n_validation : ]]\n",
        "\n",
        "len(df_train), len(df_validation), len(df_test)\n",
        "\n",
        "df_train = df_train.reset_index(drop=True)\n",
        "df_validation = df_validation.reset_index(drop=True)\n",
        "df_test = df_test.reset_index(drop=True)\n",
        "\n",
        "y_train = np.log1p(df_train.msrp.values)\n",
        "y_validation = np.log1p(df_validation.msrp.values)\n",
        "y_test = np.log1p(df_test.msrp.values)\n",
        "\n",
        "del df_train['msrp']\n",
        "del df_validation['msrp']\n",
        "del df_test['msrp']\n",
        "\n",
        "y_train\n"
      ]
    },
    {
      "cell_type": "markdown",
      "id": "a8406706",
      "metadata": {
        "id": "a8406706",
        "papermill": {
          "duration": 0.010675,
          "end_time": "2022-09-17T20:43:02.638595",
          "exception": false,
          "start_time": "2022-09-17T20:43:02.627920",
          "status": "completed"
        },
        "tags": []
      },
      "source": [
        "# Linear Regression"
      ]
    },
    {
      "cell_type": "markdown",
      "id": "90401bfe",
      "metadata": {
        "id": "90401bfe",
        "papermill": {
          "duration": 0.010561,
          "end_time": "2022-09-17T20:43:02.660168",
          "exception": false,
          "start_time": "2022-09-17T20:43:02.649607",
          "status": "completed"
        },
        "tags": []
      },
      "source": [
        "$\\large g(X) \\approx y \\\\\\\\$\n",
        "$\\large g(x_i) \\approx y_i \\\\\\\\$ \n",
        "$\\large x_i = (x_{i1}, x_{i2},  \\cdots, x_{in}) $  This is the feature matrix. Each x is a feature of the given car i. $\\\\$\n",
        "$\\large g(x_{i1}, x_{i2},  \\cdots, x_{in}) \\approx y_i $"
      ]
    },
    {
      "cell_type": "markdown",
      "id": "967c5224",
      "metadata": {
        "id": "967c5224",
        "papermill": {
          "duration": 0.010564,
          "end_time": "2022-09-17T20:43:02.681679",
          "exception": false,
          "start_time": "2022-09-17T20:43:02.671115",
          "status": "completed"
        },
        "tags": []
      },
      "source": [
        "$\\large g(x_i) = w_0 + w_1x_{i1} + w_2x_{i2} + w_3x_{i3} \\\\$\n",
        "$w_0$ is known as the bias term\n",
        "$\\\\\\\\ \\large g(x_i) = w_0 + \\sum\\limits_{j=1}^{n} {w_jx_{ij}} \\\\ $\n",
        "Even further simplified by bringing w0 in to the summation. For this we make sure xi vector has 1 as its first element, and wi vector has w0 as its first.\n",
        "$\\\\\\\\ \\large g(x_i) = \\sum\\limits_{j=1}^{n} {w_jx_{ij}} \\\\ $"
      ]
    },
    {
      "cell_type": "code",
      "execution_count": 41,
      "id": "c7a0fa93",
      "metadata": {
        "colab": {
          "base_uri": "https://localhost:8080/"
        },
        "execution": {
          "iopub.execute_input": "2022-09-17T20:43:02.705747Z",
          "iopub.status.busy": "2022-09-17T20:43:02.705257Z",
          "iopub.status.idle": "2022-09-17T20:43:02.713990Z",
          "shell.execute_reply": "2022-09-17T20:43:02.713176Z"
        },
        "id": "c7a0fa93",
        "outputId": "a672ea6f-161e-4c11-ffe2-66661ec2086d",
        "papermill": {
          "duration": 0.023325,
          "end_time": "2022-09-17T20:43:02.716023",
          "exception": false,
          "start_time": "2022-09-17T20:43:02.692698",
          "status": "completed"
        },
        "tags": []
      },
      "outputs": [
        {
          "data": {
            "text/plain": [
              "12.312"
            ]
          },
          "execution_count": 41,
          "metadata": {},
          "output_type": "execute_result"
        }
      ],
      "source": [
        "w = np.array([0.01, 0.04, 0.002])\n",
        "w0 = [7.17]\n",
        "w = np.concatenate([w0, w])\n",
        "w\n",
        "\n",
        "xi = np.array([453, 11, 86])\n",
        "x0 = [1]\n",
        "xi = np.concatenate([x0, xi])\n",
        "\n",
        "xi.dot(w)"
      ]
    },
    {
      "cell_type": "code",
      "execution_count": 42,
      "id": "838ef187",
      "metadata": {
        "colab": {
          "base_uri": "https://localhost:8080/"
        },
        "execution": {
          "iopub.execute_input": "2022-09-17T20:43:02.741123Z",
          "iopub.status.busy": "2022-09-17T20:43:02.740206Z",
          "iopub.status.idle": "2022-09-17T20:43:02.751934Z",
          "shell.execute_reply": "2022-09-17T20:43:02.750595Z"
        },
        "id": "838ef187",
        "outputId": "bdc928df-6a45-4d5e-b126-4be414e41b26",
        "papermill": {
          "duration": 0.027032,
          "end_time": "2022-09-17T20:43:02.754227",
          "exception": false,
          "start_time": "2022-09-17T20:43:02.727195",
          "status": "completed"
        },
        "tags": []
      },
      "outputs": [
        {
          "data": {
            "text/plain": [
              "array([12.38 , 13.552, 12.312])"
            ]
          },
          "execution_count": 42,
          "metadata": {},
          "output_type": "execute_result"
        }
      ],
      "source": [
        "# Turning what was done above for a single observation (vector) into to a matrix.\n",
        "\n",
        "wi = np.array([7.17, 0.01, 0.04, 0.002])\n",
        "x1 =  [1, 148, 24, 1385]\n",
        "x2 =  [1, 132, 25, 2031]\n",
        "x10 = [1, 453, 11, 86]\n",
        "xi = np.array([x1, x2, x10])\n",
        "\n",
        "xi.shape\n",
        "wi.shape\n",
        "y = np.matmul(xi,wi)\n",
        "y"
      ]
    },
    {
      "cell_type": "markdown",
      "id": "f7c07bbd",
      "metadata": {
        "id": "f7c07bbd",
        "papermill": {
          "duration": 0.011174,
          "end_time": "2022-09-17T20:43:02.776673",
          "exception": false,
          "start_time": "2022-09-17T20:43:02.765499",
          "status": "completed"
        },
        "tags": []
      },
      "source": [
        "$$ g(X) = X \\cdot w \\approx y $$\n",
        "$$ X \\cdot w = y $$\n",
        "$$X^T \\cdot X \\cdot w = X^T \\cdot y $$\n",
        "$$(X^T \\cdot X)^{-1} \\cdot X^T \\cdot X \\cdot w = (X^T \\cdot X)^{-1} \\cdot X^T \\cdot y $$\n",
        "$$ w = (X^T \\cdot X)^{-1} \\cdot X^T \\cdot y $$"
      ]
    },
    {
      "cell_type": "code",
      "execution_count": 43,
      "id": "2a2b910b",
      "metadata": {
        "execution": {
          "iopub.execute_input": "2022-09-17T20:43:02.801977Z",
          "iopub.status.busy": "2022-09-17T20:43:02.800438Z",
          "iopub.status.idle": "2022-09-17T20:43:02.808285Z",
          "shell.execute_reply": "2022-09-17T20:43:02.806960Z"
        },
        "id": "2a2b910b",
        "papermill": {
          "duration": 0.022873,
          "end_time": "2022-09-17T20:43:02.810719",
          "exception": false,
          "start_time": "2022-09-17T20:43:02.787846",
          "status": "completed"
        },
        "tags": []
      },
      "outputs": [],
      "source": [
        "X = np.array([\n",
        "    [148, 24, 1385],\n",
        "    [132, 25, 2031],\n",
        "    [453, 11, 86],\n",
        "    [158, 24, 185],\n",
        "    [172, 25, 201],\n",
        "    [413, 11, 86],\n",
        "    [38, 54, 185],\n",
        "    [142, 25, 431],\n",
        "    [453, 31, 86]\n",
        "])"
      ]
    },
    {
      "cell_type": "code",
      "execution_count": 44,
      "id": "a7220dea",
      "metadata": {
        "colab": {
          "base_uri": "https://localhost:8080/"
        },
        "execution": {
          "iopub.execute_input": "2022-09-17T20:43:02.836217Z",
          "iopub.status.busy": "2022-09-17T20:43:02.834960Z",
          "iopub.status.idle": "2022-09-17T20:43:02.844763Z",
          "shell.execute_reply": "2022-09-17T20:43:02.843557Z"
        },
        "id": "a7220dea",
        "outputId": "ee24b9d5-bc3c-489b-e19c-f7745204ac1a",
        "papermill": {
          "duration": 0.025763,
          "end_time": "2022-09-17T20:43:02.848032",
          "exception": false,
          "start_time": "2022-09-17T20:43:02.822269",
          "status": "completed"
        },
        "tags": []
      },
      "outputs": [
        {
          "data": {
            "text/plain": [
              "[array([1.000e+00, 1.480e+02, 2.400e+01, 1.385e+03]),\n",
              " array([1.000e+00, 1.320e+02, 2.500e+01, 2.031e+03]),\n",
              " array([  1., 453.,  11.,  86.]),\n",
              " array([  1., 158.,  24., 185.]),\n",
              " array([  1., 172.,  25., 201.]),\n",
              " array([  1., 413.,  11.,  86.]),\n",
              " array([  1.,  38.,  54., 185.]),\n",
              " array([  1., 142.,  25., 431.]),\n",
              " array([  1., 453.,  31.,  86.])]"
            ]
          },
          "execution_count": 44,
          "metadata": {},
          "output_type": "execute_result"
        }
      ],
      "source": [
        "ones = np.ones(X.shape[0])\n",
        "X = np.column_stack([ones, X])\n",
        "list(X)"
      ]
    },
    {
      "cell_type": "code",
      "execution_count": 45,
      "id": "541cbb5f",
      "metadata": {
        "colab": {
          "base_uri": "https://localhost:8080/"
        },
        "execution": {
          "iopub.execute_input": "2022-09-17T20:43:02.874825Z",
          "iopub.status.busy": "2022-09-17T20:43:02.874378Z",
          "iopub.status.idle": "2022-09-17T20:43:02.889431Z",
          "shell.execute_reply": "2022-09-17T20:43:02.887601Z"
        },
        "id": "541cbb5f",
        "outputId": "a9aad0d4-6d6b-4513-b592-94712cce640c",
        "papermill": {
          "duration": 0.033914,
          "end_time": "2022-09-17T20:43:02.894359",
          "exception": false,
          "start_time": "2022-09-17T20:43:02.860445",
          "status": "completed"
        },
        "tags": []
      },
      "outputs": [
        {
          "data": {
            "text/plain": [
              "(25844.754055766753, array([ -16.08906468, -199.47254894,   -1.22802883]))"
            ]
          },
          "execution_count": 45,
          "metadata": {},
          "output_type": "execute_result"
        }
      ],
      "source": [
        "# Calculate the Gram matrix\n",
        "XTX = X.T.dot(X)\n",
        "X.shape\n",
        "XTX.shape\n",
        "# Inverse the Gram matrix\n",
        "XTX_inv = np.linalg.inv(XTX)\n",
        "y = np.array([10000, 20000, 15000, 20050, 10000, 20000, 15000, 25000, 12000])\n",
        "w_full = XTX_inv.dot(X.T).dot(y)\n",
        "w0 = w_full[0]\n",
        "w = w_full[1:]\n",
        "w0, w\n"
      ]
    },
    {
      "cell_type": "code",
      "execution_count": 46,
      "id": "f3a2c752",
      "metadata": {
        "execution": {
          "iopub.execute_input": "2022-09-17T20:43:02.957920Z",
          "iopub.status.busy": "2022-09-17T20:43:02.957224Z",
          "iopub.status.idle": "2022-09-17T20:43:02.968957Z",
          "shell.execute_reply": "2022-09-17T20:43:02.967458Z"
        },
        "id": "f3a2c752",
        "papermill": {
          "duration": 0.047525,
          "end_time": "2022-09-17T20:43:02.972887",
          "exception": false,
          "start_time": "2022-09-17T20:43:02.925362",
          "status": "completed"
        },
        "tags": []
      },
      "outputs": [],
      "source": [
        "# Putting what we have built in a function\n",
        "\n",
        "def train_linear_regression(X, y):\n",
        "    ones = np.ones(X.shape[0])\n",
        "    X = np.column_stack([ones, X])\n",
        "    \n",
        "    # Create Gram matrix\n",
        "    XTX = X.T.dot(X)\n",
        "    \n",
        "    # Inverse the Gram matrix\n",
        "    XTX_inv = np.linalg.inv(XTX)\n",
        "    \n",
        "    w_full = XTX_inv.dot(X.T).dot(y)\n",
        "    return w_full[0], w_full[1:]"
      ]
    },
    {
      "cell_type": "code",
      "execution_count": 47,
      "id": "1d98a35c",
      "metadata": {
        "colab": {
          "base_uri": "https://localhost:8080/"
        },
        "execution": {
          "iopub.execute_input": "2022-09-17T20:43:03.015564Z",
          "iopub.status.busy": "2022-09-17T20:43:03.015162Z",
          "iopub.status.idle": "2022-09-17T20:43:03.032044Z",
          "shell.execute_reply": "2022-09-17T20:43:03.030518Z"
        },
        "id": "1d98a35c",
        "outputId": "313fc0b6-0825-4881-a440-14390829ba71",
        "papermill": {
          "duration": 0.033878,
          "end_time": "2022-09-17T20:43:03.036030",
          "exception": false,
          "start_time": "2022-09-17T20:43:03.002152",
          "status": "completed"
        },
        "tags": []
      },
      "outputs": [
        {
          "data": {
            "text/plain": [
              "(25844.754055766753, array([ -16.08906468, -199.47254894,   -1.22802883]))"
            ]
          },
          "execution_count": 47,
          "metadata": {},
          "output_type": "execute_result"
        }
      ],
      "source": [
        "# Test the function\n",
        "\n",
        "# features\n",
        "X = np.array([\n",
        "    [148, 24, 1385],\n",
        "    [132, 25, 2031],\n",
        "    [453, 11, 86],\n",
        "    [158, 24, 185],\n",
        "    [172, 25, 201],\n",
        "    [413, 11, 86],\n",
        "    [38, 54, 185],\n",
        "    [142, 25, 431],\n",
        "    [453, 31, 86]\n",
        "])\n",
        "# target\n",
        "y = np.array([10000, 20000, 15000, 20050, 10000, 20000, 15000, 25000, 12000])\n",
        "\n",
        "# drum roll...\n",
        "train_linear_regression(X, y)"
      ]
    },
    {
      "cell_type": "markdown",
      "id": "9d16dc8c",
      "metadata": {
        "id": "9d16dc8c",
        "papermill": {
          "duration": 0.028336,
          "end_time": "2022-09-17T20:43:03.094131",
          "exception": false,
          "start_time": "2022-09-17T20:43:03.065795",
          "status": "completed"
        },
        "tags": []
      },
      "source": [
        "# Appying the regression function we developed on the real training dataset"
      ]
    },
    {
      "cell_type": "code",
      "execution_count": 48,
      "id": "81bf1f7e",
      "metadata": {
        "execution": {
          "iopub.execute_input": "2022-09-17T20:43:03.149196Z",
          "iopub.status.busy": "2022-09-17T20:43:03.148687Z",
          "iopub.status.idle": "2022-09-17T20:43:03.170722Z",
          "shell.execute_reply": "2022-09-17T20:43:03.169323Z"
        },
        "id": "81bf1f7e",
        "papermill": {
          "duration": 0.051015,
          "end_time": "2022-09-17T20:43:03.175364",
          "exception": false,
          "start_time": "2022-09-17T20:43:03.124349",
          "status": "completed"
        },
        "tags": []
      },
      "outputs": [],
      "source": [
        "df_train.dtypes[df_train.dtypes != 'object']\n",
        "\n",
        "base = ['engine_hp', 'engine_cylinders', 'highway_mpg', 'city_mpg', 'popularity']\n",
        "\n",
        "X_train = df_train[base].values\n",
        "\n",
        "df_train[base].isnull().sum()\n",
        "X_train = df_train[base].fillna(0)\n",
        "\n",
        "y_train\n",
        "w0, w = train_linear_regression(X_train, y_train)\n",
        "\n",
        "# Now we go the weights to make the predictions. So let's apply these w values to g(X) and get the y values for the training dataset\n",
        "# g(X) = w0 + X (dot) w\n",
        "y_pred = w0 + X_train.dot(w)"
      ]
    },
    {
      "cell_type": "code",
      "execution_count": 49,
      "id": "416ac5cb",
      "metadata": {
        "colab": {
          "base_uri": "https://localhost:8080/",
          "height": 609
        },
        "execution": {
          "iopub.execute_input": "2022-09-17T20:43:03.236576Z",
          "iopub.status.busy": "2022-09-17T20:43:03.235861Z",
          "iopub.status.idle": "2022-09-17T20:43:03.737207Z",
          "shell.execute_reply": "2022-09-17T20:43:03.735508Z"
        },
        "id": "416ac5cb",
        "outputId": "17d9f478-ce09-4384-f43a-eb344a7e0bfe",
        "papermill": {
          "duration": 0.534836,
          "end_time": "2022-09-17T20:43:03.739860",
          "exception": false,
          "start_time": "2022-09-17T20:43:03.205024",
          "status": "completed"
        },
        "tags": []
      },
      "outputs": [
        {
          "data": {
            "text/plain": [
              "<matplotlib.axes._subplots.AxesSubplot at 0x7f33606cd2d0>"
            ]
          },
          "execution_count": 49,
          "metadata": {},
          "output_type": "execute_result"
        },
        {
          "data": {
            "image/png": "[encoded data removed]",
            "text/plain": [
              "<Figure size 720x720 with 1 Axes>"
            ]
          },
          "metadata": {
            "needs_background": "light"
          },
          "output_type": "display_data"
        }
      ],
      "source": [
        "# plot histogram for the predictions\n",
        "plt.figure(figsize=(10,10))\n",
        "sns.histplot(y_pred, color='red', bins=50, alpha=0.5)\n",
        "sns.histplot(y_train, color='blue', bins=50, alpha=0.5)\n"
      ]
    },
    {
      "cell_type": "markdown",
      "id": "67a389e9",
      "metadata": {
        "id": "67a389e9",
        "papermill": {
          "duration": 0.011961,
          "end_time": "2022-09-17T20:43:03.763952",
          "exception": false,
          "start_time": "2022-09-17T20:43:03.751991",
          "status": "completed"
        },
        "tags": []
      },
      "source": [
        "### Root Mean Squared Error (RMSE)\n",
        "\n",
        "$RMSE = \\sqrt{ \\frac{1}{m} \\sum {(g(x_i) - y_i)^2}}\\\\$\n",
        "$g(x_i)$ is the prediction, $y_i$ is the actual, $m$ is the number of observations in the dataset (i.e. cars)\n",
        "\n",
        "* In the previous lesson we found out our predictions were a bit off from the actual target values in the training dataset. We need a way to quantify how good or bad the model is. This is where RMSE can be of help.\n",
        "* Root Mean Squared Error (RMSE) is a way to evaluate regression models. It measures the error associated with the model being evaluated. This numerical figure then can be used to compare the models, enabling us to choose the one that gives the best predictions."
      ]
    },
    {
      "cell_type": "code",
      "execution_count": 50,
      "id": "1dbe3416",
      "metadata": {
        "colab": {
          "base_uri": "https://localhost:8080/"
        },
        "execution": {
          "iopub.execute_input": "2022-09-17T20:43:03.789851Z",
          "iopub.status.busy": "2022-09-17T20:43:03.789475Z",
          "iopub.status.idle": "2022-09-17T20:43:03.799284Z",
          "shell.execute_reply": "2022-09-17T20:43:03.798082Z"
        },
        "id": "1dbe3416",
        "outputId": "69052605-cd19-484f-9e12-f1109d1e5397",
        "papermill": {
          "duration": 0.025496,
          "end_time": "2022-09-17T20:43:03.801696",
          "exception": false,
          "start_time": "2022-09-17T20:43:03.776200",
          "status": "completed"
        },
        "tags": []
      },
      "outputs": [
        {
          "data": {
            "text/plain": [
              "0.7554192603920132"
            ]
          },
          "execution_count": 50,
          "metadata": {},
          "output_type": "execute_result"
        }
      ],
      "source": [
        "# Function to calculate RMSE\n",
        "\n",
        "def get_rmse(y_pred, y):\n",
        "    se = np.square( y_pred - y)\n",
        "    mse = se.mean()\n",
        "    return np.sqrt(mse)\n",
        "\n",
        "rmse = get_rmse(y_pred, y_train)\n",
        "rmse"
      ]
    },
    {
      "cell_type": "markdown",
      "id": "7f31a0a8",
      "metadata": {
        "id": "7f31a0a8",
        "papermill": {
          "duration": 0.012456,
          "end_time": "2022-09-17T20:43:03.826134",
          "exception": false,
          "start_time": "2022-09-17T20:43:03.813678",
          "status": "completed"
        },
        "tags": []
      },
      "source": [
        "### Feature Engineering"
      ]
    },
    {
      "cell_type": "code",
      "execution_count": 51,
      "id": "dc7b7f07",
      "metadata": {
        "colab": {
          "base_uri": "https://localhost:8080/"
        },
        "execution": {
          "iopub.execute_input": "2022-09-17T20:43:03.852683Z",
          "iopub.status.busy": "2022-09-17T20:43:03.852303Z",
          "iopub.status.idle": "2022-09-17T20:43:03.873236Z",
          "shell.execute_reply": "2022-09-17T20:43:03.871628Z"
        },
        "id": "dc7b7f07",
        "outputId": "69db5940-3f2e-49bf-db3c-13abb4edc8a3",
        "papermill": {
          "duration": 0.038668,
          "end_time": "2022-09-17T20:43:03.877260",
          "exception": false,
          "start_time": "2022-09-17T20:43:03.838592",
          "status": "completed"
        },
        "tags": []
      },
      "outputs": [
        {
          "data": {
            "text/plain": [
              "0.761653099130156"
            ]
          },
          "execution_count": 51,
          "metadata": {},
          "output_type": "execute_result"
        }
      ],
      "source": [
        "# Steps:\n",
        "# 1. train the model using train data. Find w0 bias and w vector\n",
        "# 2. Run this model with validation data to find the y_pred\n",
        "# 3. Calculate RMSE for y_actual and y_pred.\n",
        "\n",
        "base = ['engine_hp', 'engine_cylinders', 'highway_mpg', 'city_mpg', 'popularity']\n",
        "\n",
        "X_train = df_train[base].fillna(0)\n",
        "w0, w = train_linear_regression(X_train, y_train)\n",
        "\n",
        "X_validation = df_validation[base].fillna(0)\n",
        "\n",
        "y_pred = w0 + X_validation.dot(w)\n",
        "get_rmse(y_pred, y_validation)"
      ]
    },
    {
      "cell_type": "code",
      "execution_count": 52,
      "id": "37d870a3",
      "metadata": {
        "colab": {
          "base_uri": "https://localhost:8080/"
        },
        "execution": {
          "iopub.execute_input": "2022-09-17T20:43:03.943231Z",
          "iopub.status.busy": "2022-09-17T20:43:03.942464Z",
          "iopub.status.idle": "2022-09-17T20:43:03.974810Z",
          "shell.execute_reply": "2022-09-17T20:43:03.973588Z"
        },
        "id": "37d870a3",
        "outputId": "c226a33c-76f2-4ddb-9635-3b68caaf8321",
        "papermill": {
          "duration": 0.069312,
          "end_time": "2022-09-17T20:43:03.978063",
          "exception": false,
          "start_time": "2022-09-17T20:43:03.908751",
          "status": "completed"
        },
        "tags": []
      },
      "outputs": [
        {
          "data": {
            "text/plain": [
              "0.5172055461058299"
            ]
          },
          "execution_count": 52,
          "metadata": {},
          "output_type": "execute_result"
        }
      ],
      "source": [
        "# Adding Age to the feature matrix. This imporves out model. See the RMSE and plots below.\n",
        "\n",
        "def prepare_X(df):\n",
        "    df = df.copy()\n",
        "    df['age'] = 2017 - df.year\n",
        "    base = ['engine_hp', 'engine_cylinders', 'highway_mpg', 'city_mpg', 'popularity'] + ['age']\n",
        "    return df[base].fillna(0)\n",
        "\n",
        "X_train = prepare_X(df_train)\n",
        "X_train\n",
        "w0, w = train_linear_regression(X_train, y_train) # <---- this is training\n",
        "\n",
        "X_validation = prepare_X(df_validation)\n",
        "\n",
        "y_pred = w0 + X_validation.dot(w)\n",
        "get_rmse(y_pred, y_validation)"
      ]
    },
    {
      "cell_type": "code",
      "execution_count": 53,
      "id": "f1f93bdb",
      "metadata": {
        "colab": {
          "base_uri": "https://localhost:8080/",
          "height": 0
        },
        "execution": {
          "iopub.execute_input": "2022-09-17T20:43:04.043132Z",
          "iopub.status.busy": "2022-09-17T20:43:04.042447Z",
          "iopub.status.idle": "2022-09-17T20:43:04.453685Z",
          "shell.execute_reply": "2022-09-17T20:43:04.452250Z"
        },
        "id": "f1f93bdb",
        "outputId": "6bb1df6d-35f2-40c6-cc43-7dea0a87a593",
        "papermill": {
          "duration": 0.446846,
          "end_time": "2022-09-17T20:43:04.456262",
          "exception": false,
          "start_time": "2022-09-17T20:43:04.009416",
          "status": "completed"
        },
        "tags": []
      },
      "outputs": [
        {
          "data": {
            "text/plain": [
              "<matplotlib.axes._subplots.AxesSubplot at 0x7f335d381390>"
            ]
          },
          "execution_count": 53,
          "metadata": {},
          "output_type": "execute_result"
        },
        {
          "data": {
            "image/png": "[encoded data removed]",
            "text/plain": [
              "<Figure size 720x720 with 1 Axes>"
            ]
          },
          "metadata": {
            "needs_background": "light"
          },
          "output_type": "display_data"
        }
      ],
      "source": [
        "# plot histogram for the predictions\n",
        "plt.figure(figsize=(10,10))\n",
        "sns.histplot(y_pred, color='red', bins=50, alpha=0.5)\n",
        "sns.histplot(y_validation, color='blue', bins=50, alpha=0.5)"
      ]
    },
    {
      "cell_type": "markdown",
      "id": "5d0e8f71",
      "metadata": {
        "id": "5d0e8f71",
        "papermill": {
          "duration": 0.012595,
          "end_time": "2022-09-17T20:43:04.481438",
          "exception": false,
          "start_time": "2022-09-17T20:43:04.468843",
          "status": "completed"
        },
        "tags": []
      },
      "source": [
        "### Categorical Variables"
      ]
    },
    {
      "cell_type": "code",
      "execution_count": 54,
      "id": "5b36770c",
      "metadata": {
        "colab": {
          "base_uri": "https://localhost:8080/"
        },
        "execution": {
          "iopub.execute_input": "2022-09-17T20:43:04.512510Z",
          "iopub.status.busy": "2022-09-17T20:43:04.511947Z",
          "iopub.status.idle": "2022-09-17T20:43:04.521336Z",
          "shell.execute_reply": "2022-09-17T20:43:04.520152Z"
        },
        "id": "5b36770c",
        "outputId": "32796e27-6dab-45f5-e735-32bbae4ad48d",
        "papermill": {
          "duration": 0.027431,
          "end_time": "2022-09-17T20:43:04.524513",
          "exception": false,
          "start_time": "2022-09-17T20:43:04.497082",
          "status": "completed"
        },
        "tags": []
      },
      "outputs": [
        {
          "data": {
            "text/plain": [
              "make                  object\n",
              "model                 object\n",
              "year                   int64\n",
              "engine_fuel_type      object\n",
              "engine_hp            float64\n",
              "engine_cylinders     float64\n",
              "transmission_type     object\n",
              "driven_wheels         object\n",
              "number_of_doors      float64\n",
              "market_category       object\n",
              "vehicle_size          object\n",
              "vehicle_style         object\n",
              "highway_mpg            int64\n",
              "city_mpg               int64\n",
              "popularity             int64\n",
              "dtype: object"
            ]
          },
          "execution_count": 54,
          "metadata": {},
          "output_type": "execute_result"
        }
      ],
      "source": [
        "df_train.dtypes"
      ]
    },
    {
      "cell_type": "code",
      "execution_count": 55,
      "id": "d9d0b4d5",
      "metadata": {
        "colab": {
          "base_uri": "https://localhost:8080/"
        },
        "execution": {
          "iopub.execute_input": "2022-09-17T20:43:04.557252Z",
          "iopub.status.busy": "2022-09-17T20:43:04.556630Z",
          "iopub.status.idle": "2022-09-17T20:43:04.584931Z",
          "shell.execute_reply": "2022-09-17T20:43:04.583801Z"
        },
        "id": "d9d0b4d5",
        "outputId": "008fbe40-8b96-4330-e97b-d2ba822d6192",
        "papermill": {
          "duration": 0.046052,
          "end_time": "2022-09-17T20:43:04.587866",
          "exception": false,
          "start_time": "2022-09-17T20:43:04.541814",
          "status": "completed"
        },
        "tags": []
      },
      "outputs": [
        {
          "data": {
            "text/plain": [
              "make                  object\n",
              "model                 object\n",
              "year                   int64\n",
              "engine_fuel_type      object\n",
              "engine_hp            float64\n",
              "engine_cylinders     float64\n",
              "transmission_type     object\n",
              "driven_wheels         object\n",
              "number_of_doors      float64\n",
              "market_category       object\n",
              "vehicle_size          object\n",
              "vehicle_style         object\n",
              "highway_mpg            int64\n",
              "city_mpg               int64\n",
              "popularity             int64\n",
              "number_of_doors_2      int64\n",
              "number_of_doors_3      int64\n",
              "number_of_doors_4      int64\n",
              "dtype: object"
            ]
          },
          "execution_count": 55,
          "metadata": {},
          "output_type": "execute_result"
        }
      ],
      "source": [
        "df = df_train.copy()\n",
        "for i in (2, 3, 4):\n",
        "    df['number_of_doors_%s' % i] = (df.number_of_doors == i).astype('int')\n",
        "\n",
        "df.dtypes"
      ]
    },
    {
      "cell_type": "code",
      "execution_count": 56,
      "id": "cfeea993",
      "metadata": {
        "colab": {
          "base_uri": "https://localhost:8080/"
        },
        "execution": {
          "iopub.execute_input": "2022-09-17T20:43:04.624632Z",
          "iopub.status.busy": "2022-09-17T20:43:04.623161Z",
          "iopub.status.idle": "2022-09-17T20:43:04.898200Z",
          "shell.execute_reply": "2022-09-17T20:43:04.896576Z"
        },
        "id": "cfeea993",
        "outputId": "e22924f9-ec9d-472b-9e93-67d7c477939d",
        "papermill": {
          "duration": 0.294937,
          "end_time": "2022-09-17T20:43:04.901954",
          "exception": false,
          "start_time": "2022-09-17T20:43:04.607017",
          "status": "completed"
        },
        "tags": []
      },
      "outputs": [
        {
          "data": {
            "text/plain": [
              "85.39382195965916"
            ]
          },
          "execution_count": 56,
          "metadata": {},
          "output_type": "execute_result"
        }
      ],
      "source": [
        "# Adding all the rest of the categorical features.\n",
        "\n",
        "base = ['engine_hp', 'engine_cylinders', 'highway_mpg', 'city_mpg', 'popularity']\n",
        "cat_columns = ['make', 'engine_fuel_type', 'transmission_type', 'driven_wheels', 'market_category', 'vehicle_size', 'vehicle_style']\n",
        "\n",
        "def prepare_X(df):\n",
        "    df = df.copy()\n",
        "    features = base.copy()\n",
        "    long_categories = {}\n",
        "    \n",
        "    df['age'] = 2017 - df.year\n",
        "    features.append('age')\n",
        "    \n",
        "    for i in (2, 3, 4):\n",
        "        df['number_of_doors_%s' % i] = (df.number_of_doors == i).astype('int')\n",
        "        features.append('number_of_doors_%s' % i)\n",
        "    \n",
        "    # create a dict of rest of the categorigal vars and their top 5 values\n",
        "    for c in cat_columns:\n",
        "        long_categories[c] = list(master_df[c].value_counts().head().index)\n",
        "\n",
        "    # traverse the dict to dynamically create the columns and populate their values\n",
        "    for c, vals in long_categories.items():\n",
        "        for v in vals:\n",
        "            df['%s_%s' % (c,v)] = (df[c] == v).astype('int')\n",
        "            features.append('%s_%s' % (c,v))\n",
        "#     print((len(features),features))\n",
        "    return df[features].fillna(0).values\n",
        "\n",
        "X_train = prepare_X(df_train)\n",
        "w0, w = train_linear_regression(X_train, y_train) # <---- this is training\n",
        "\n",
        "X_validation = prepare_X(df_validation)\n",
        "y_pred = w0 + X_validation.dot(w)\n",
        "get_rmse(y_pred, y_validation)\n",
        "# w0, w"
      ]
    },
    {
      "cell_type": "code",
      "execution_count": 57,
      "id": "1a27c8c7",
      "metadata": {
        "colab": {
          "base_uri": "https://localhost:8080/"
        },
        "execution": {
          "iopub.execute_input": "2022-09-17T20:43:04.973744Z",
          "iopub.status.busy": "2022-09-17T20:43:04.972766Z",
          "iopub.status.idle": "2022-09-17T20:43:05.234199Z",
          "shell.execute_reply": "2022-09-17T20:43:05.231736Z"
        },
        "id": "1a27c8c7",
        "outputId": "497a4f2b-b9c9-4cb1-c1a7-42643876775a",
        "papermill": {
          "duration": 0.304986,
          "end_time": "2022-09-17T20:43:05.239961",
          "exception": false,
          "start_time": "2022-09-17T20:43:04.934975",
          "status": "completed"
        },
        "tags": []
      },
      "outputs": [
        {
          "data": {
            "text/plain": [
              "0.456517508494148"
            ]
          },
          "execution_count": 57,
          "metadata": {},
          "output_type": "execute_result"
        }
      ],
      "source": [
        "# Regularised regression function\n",
        "\n",
        "def train_linear_regression_reg(X, y, r=0.001):\n",
        "    ones = np.ones(X.shape[0])\n",
        "    X = np.column_stack([ones, X])\n",
        "    \n",
        "    # Create Gram matrix\n",
        "    XTX = X.T.dot(X)\n",
        "    XTX = XTX + r * np.eye(XTX.shape[0])\n",
        "    \n",
        "    # Inverse the Gram matrix\n",
        "    XTX_inv = np.linalg.inv(XTX)\n",
        "    \n",
        "    w_full = XTX_inv.dot(X.T).dot(y)\n",
        "    return w_full[0], w_full[1:]\n",
        "\n",
        "X_train = prepare_X(df_train)\n",
        "w0, w = train_linear_regression_reg(X_train, y_train, r=0.001) #<---- this is training\n",
        "\n",
        "X_validation = prepare_X(df_validation)\n",
        "y_pred = w0 + X_validation.dot(w)\n",
        "get_rmse(y_pred, y_validation)"
      ]
    },
    {
      "cell_type": "code",
      "execution_count": 58,
      "id": "30211159",
      "metadata": {
        "colab": {
          "base_uri": "https://localhost:8080/"
        },
        "execution": {
          "iopub.execute_input": "2022-09-17T20:43:05.332152Z",
          "iopub.status.busy": "2022-09-17T20:43:05.331725Z",
          "iopub.status.idle": "2022-09-17T20:43:06.927701Z",
          "shell.execute_reply": "2022-09-17T20:43:06.926462Z"
        },
        "id": "30211159",
        "outputId": "d1cba5a3-5531-4311-afd3-104cc857639f",
        "papermill": {
          "duration": 1.660636,
          "end_time": "2022-09-17T20:43:06.934259",
          "exception": false,
          "start_time": "2022-09-17T20:43:05.273623",
          "status": "completed"
        },
        "tags": []
      },
      "outputs": [
        {
          "name": "stdout",
          "output_type": "stream",
          "text": [
            "(0.0, 85.39382195965916)\n",
            "(1e-05, 0.45651699218840697)\n",
            "(0.0001, 0.4565170637682569)\n",
            "(0.001, 0.456517508494148)\n",
            "(0.1, 0.45656927630296296)\n",
            "(10, 0.4701456932099694)\n"
          ]
        }
      ],
      "source": [
        "# Finding the best regularisation parameter\n",
        "\n",
        "r_candidates = [0.0, 0.00001, 0.0001, 0.001, 0.1, 10]\n",
        "\n",
        "for r in r_candidates:\n",
        "    X_train = prepare_X(df_train)\n",
        "    w0, w = train_linear_regression_reg(X_train, y_train, r) #<---- this is training\n",
        "\n",
        "    X_validation = prepare_X(df_validation)\n",
        "    y_pred = w0 + X_validation.dot(w)\n",
        "    print((r, get_rmse(y_pred, y_validation)))\n"
      ]
    },
    {
      "cell_type": "markdown",
      "id": "46d9d8dc",
      "metadata": {
        "id": "46d9d8dc",
        "papermill": {
          "duration": 0.03471,
          "end_time": "2022-09-17T20:43:07.005056",
          "exception": false,
          "start_time": "2022-09-17T20:43:06.970346",
          "status": "completed"
        },
        "tags": []
      },
      "source": [
        "### Use the model\n",
        "Now we know 0.001 is a good number for `r`. Let's apply the model on train + validation datasets, considering them as the full_train dataset to tain the model."
      ]
    },
    {
      "cell_type": "code",
      "execution_count": 59,
      "id": "55fd16b5",
      "metadata": {
        "colab": {
          "base_uri": "https://localhost:8080/"
        },
        "execution": {
          "iopub.execute_input": "2022-09-17T20:43:07.058839Z",
          "iopub.status.busy": "2022-09-17T20:43:07.058385Z",
          "iopub.status.idle": "2022-09-17T20:43:07.305357Z",
          "shell.execute_reply": "2022-09-17T20:43:07.303826Z"
        },
        "id": "55fd16b5",
        "outputId": "e62ea6af-c38f-4cc8-faeb-96853140a8ed",
        "papermill": {
          "duration": 0.269272,
          "end_time": "2022-09-17T20:43:07.309552",
          "exception": false,
          "start_time": "2022-09-17T20:43:07.040280",
          "status": "completed"
        },
        "tags": []
      },
      "outputs": [
        {
          "data": {
            "text/plain": [
              "0.4517749308921107"
            ]
          },
          "execution_count": 59,
          "metadata": {},
          "output_type": "execute_result"
        }
      ],
      "source": [
        "df_train_full = pd.concat([df_train, df_validation])\n",
        "df_train_full = df_train_full.reset_index(drop=True)\n",
        "\n",
        "y_train_full = np.concatenate([y_train, y_validation])\n",
        "\n",
        "X_train_full = prepare_X(df_train_full)\n",
        "w0, w = train_linear_regression_reg(X_train_full, y_train_full, r=0.001) #<---- this is training\n",
        "\n",
        "X_test = prepare_X(df_test)\n",
        "y_pred = w0 + X_test.dot(w)\n",
        "get_rmse(y_pred, y_test)"
      ]
    },
    {
      "cell_type": "code",
      "execution_count": 60,
      "id": "b5408b4c",
      "metadata": {
        "colab": {
          "base_uri": "https://localhost:8080/"
        },
        "execution": {
          "iopub.execute_input": "2022-09-17T20:43:07.383587Z",
          "iopub.status.busy": "2022-09-17T20:43:07.382725Z",
          "iopub.status.idle": "2022-09-17T20:43:07.448611Z",
          "shell.execute_reply": "2022-09-17T20:43:07.447041Z"
        },
        "id": "b5408b4c",
        "outputId": "c69c7984-f29d-43f1-dc95-278b991b6fc8",
        "papermill": {
          "duration": 0.106263,
          "end_time": "2022-09-17T20:43:07.451051",
          "exception": false,
          "start_time": "2022-09-17T20:43:07.344788",
          "status": "completed"
        },
        "tags": []
      },
      "outputs": [
        {
          "name": "stdout",
          "output_type": "stream",
          "text": [
            "actual=35000.00000000001, prediction=34983.196074942105\n"
          ]
        }
      ],
      "source": [
        "# Now we have out Final Model ready (with w0 and w derived from training the model). Let's apply it to some cars individually from the dataset and see what the model predicts.\n",
        "\n",
        "car = df_test.iloc[20].to_dict()\n",
        "df_small = pd.DataFrame([car])\n",
        "df_small\n",
        "X_small = prepare_X(df_small)\n",
        "X_small\n",
        "w.shape\n",
        "y_pred = w0 + X_small.dot(w)\n",
        "pred = np.expm1(y_pred[0]) # prediction in monetary value\n",
        "\n",
        "actual = np.expm1(y_test[20]) # actual price\n",
        "\n",
        "print(\"actual={}, prediction={}\".format(actual, pred))"
      ]
    },
    {
      "cell_type": "code",
      "execution_count": 60,
      "id": "f7b1cfb8",
      "metadata": {
        "id": "f7b1cfb8",
        "papermill": {
          "duration": 0.01364,
          "end_time": "2022-09-17T20:43:07.478771",
          "exception": false,
          "start_time": "2022-09-17T20:43:07.465131",
          "status": "completed"
        },
        "tags": []
      },
      "outputs": [],
      "source": []
    }
  ],
  "metadata": {
    "colab": {
      "include_colab_link": true,
      "provenance": []
    },
    "kernelspec": {
      "display_name": "Python 3.10.6 64-bit",
      "language": "python",
      "name": "python3"
    },
    "language_info": {
      "codemirror_mode": {
        "name": "ipython",
        "version": 3
      },
      "file_extension": ".py",
      "mimetype": "text/x-python",
      "name": "python",
      "nbconvert_exporter": "python",
      "pygments_lexer": "ipython3",
      "version": "3.10.6"
    },
    "papermill": {
      "default_parameters": {},
      "duration": 19.365288,
      "end_time": "2022-09-17T20:43:08.316494",
      "environment_variables": {},
      "exception": null,
      "input_path": "__notebook__.ipynb",
      "output_path": "__notebook__.ipynb",
      "parameters": {},
      "start_time": "2022-09-17T20:42:48.951206",
      "version": "2.3.4"
    },
    "vscode": {
      "interpreter": {
        "hash": "aee8b7b246df8f9039afb4144a1f6fd8d2ca17a180786b69acc140d282b71a49"
      }
    }
  },
  "nbformat": 4,
  "nbformat_minor": 5
}
