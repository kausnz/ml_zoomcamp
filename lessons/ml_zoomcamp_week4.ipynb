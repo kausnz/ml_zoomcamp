{
 "cells": [
  {
   "cell_type": "markdown",
   "metadata": {
    "id": "1emMdqANbmgy"
   },
   "source": [
    "# Week 4 - Evaluating Binary Classification Models "
   ]
  },
  {
   "cell_type": "code",
   "execution_count": null,
   "metadata": {
    "colab": {
     "base_uri": "https://localhost:8080/",
     "height": 34
    },
    "id": "VCMCgXIJcfDi",
    "outputId": "6ef8ab17-5041-41ab-b659-a0adbf125091"
   },
   "outputs": [
    {
     "data": {
      "application/javascript": [
       "IPython.notebook.set_autosave_interval(1000)"
      ]
     },
     "metadata": {},
     "output_type": "display_data"
    },
    {
     "name": "stdout",
     "output_type": "stream",
     "text": [
      "Autosaving every 1 seconds\n"
     ]
    }
   ],
   "source": [
    "%autosave 1"
   ]
  },
  {
   "cell_type": "code",
   "execution_count": null,
   "metadata": {
    "id": "xixiPKWFbmdV"
   },
   "outputs": [],
   "source": [
    "import pandas as pd\n",
    "import numpy as np\n",
    "import matplotlib.pyplot as plt\n",
    "\n",
    "from sklearn.model_selection import train_test_split\n",
    "from sklearn.feature_extraction import DictVectorizer\n",
    "from sklearn.linear_model import LogisticRegression"
   ]
  },
  {
   "cell_type": "markdown",
   "metadata": {
    "id": "WQOTeDl4xi-0"
   },
   "source": [
    "## Prep"
   ]
  },
  {
   "cell_type": "markdown",
   "metadata": {
    "id": "5CKVA6KXc-44"
   },
   "source": [
    "We are basing Week4 on what we did during Week 3."
   ]
  },
  {
   "cell_type": "code",
   "execution_count": null,
   "metadata": {
    "id": "bVWKkHbZeoGM"
   },
   "outputs": [],
   "source": [
    "## Prep"
   ]
  },
  {
   "cell_type": "code",
   "execution_count": null,
   "metadata": {
    "colab": {
     "base_uri": "https://localhost:8080/",
     "height": 919
    },
    "id": "hDahIIr6eGq0",
    "outputId": "d649c59a-2590-40fc-f90b-f72f533c51cd"
   },
   "outputs": [
    {
     "name": "stdout",
     "output_type": "stream",
     "text": [
      "--2022-10-04 07:11:08--  https://raw.githubusercontent.com/alexeygrigorev/mlbookcamp-code/master/chapter-03-churn-prediction/WA_Fn-UseC_-Telco-Customer-Churn.csv\n",
      "Resolving raw.githubusercontent.com (raw.githubusercontent.com)... 185.199.108.133, 185.199.109.133, 185.199.110.133, ...\n",
      "Connecting to raw.githubusercontent.com (raw.githubusercontent.com)|185.199.108.133|:443... connected.\n",
      "HTTP request sent, awaiting response... 200 OK\n",
      "Length: 977501 (955K) [text/plain]\n",
      "Saving to: ‘WA_Fn-UseC_-Telco-Customer-Churn.csv’\n",
      "\n",
      "WA_Fn-UseC_-Telco-C 100%[===================>] 954.59K  --.-KB/s    in 0.02s   \n",
      "\n",
      "2022-10-04 07:11:09 (58.8 MB/s) - ‘WA_Fn-UseC_-Telco-Customer-Churn.csv’ saved [977501/977501]\n",
      "\n"
     ]
    },
    {
     "data": {
      "text/html": [
       "\n",
       "  <div id=\"df-ce83b4eb-37d7-4b4c-91cd-a3e0b2876724\">\n",
       "    <div class=\"colab-df-container\">\n",
       "      <div>\n",
       "<style scoped>\n",
       "    .dataframe tbody tr th:only-of-type {\n",
       "        vertical-align: middle;\n",
       "    }\n",
       "\n",
       "    .dataframe tbody tr th {\n",
       "        vertical-align: top;\n",
       "    }\n",
       "\n",
       "    .dataframe thead th {\n",
       "        text-align: right;\n",
       "    }\n",
       "</style>\n",
       "<table border=\"1\" class=\"dataframe\">\n",
       "  <thead>\n",
       "    <tr style=\"text-align: right;\">\n",
       "      <th></th>\n",
       "      <th>0</th>\n",
       "      <th>1</th>\n",
       "      <th>2</th>\n",
       "      <th>3</th>\n",
       "      <th>4</th>\n",
       "    </tr>\n",
       "  </thead>\n",
       "  <tbody>\n",
       "    <tr>\n",
       "      <th>customerID</th>\n",
       "      <td>7590-VHVEG</td>\n",
       "      <td>5575-GNVDE</td>\n",
       "      <td>3668-QPYBK</td>\n",
       "      <td>7795-CFOCW</td>\n",
       "      <td>9237-HQITU</td>\n",
       "    </tr>\n",
       "    <tr>\n",
       "      <th>gender</th>\n",
       "      <td>Female</td>\n",
       "      <td>Male</td>\n",
       "      <td>Male</td>\n",
       "      <td>Male</td>\n",
       "      <td>Female</td>\n",
       "    </tr>\n",
       "    <tr>\n",
       "      <th>SeniorCitizen</th>\n",
       "      <td>0</td>\n",
       "      <td>0</td>\n",
       "      <td>0</td>\n",
       "      <td>0</td>\n",
       "      <td>0</td>\n",
       "    </tr>\n",
       "    <tr>\n",
       "      <th>Partner</th>\n",
       "      <td>Yes</td>\n",
       "      <td>No</td>\n",
       "      <td>No</td>\n",
       "      <td>No</td>\n",
       "      <td>No</td>\n",
       "    </tr>\n",
       "    <tr>\n",
       "      <th>Dependents</th>\n",
       "      <td>No</td>\n",
       "      <td>No</td>\n",
       "      <td>No</td>\n",
       "      <td>No</td>\n",
       "      <td>No</td>\n",
       "    </tr>\n",
       "    <tr>\n",
       "      <th>tenure</th>\n",
       "      <td>1</td>\n",
       "      <td>34</td>\n",
       "      <td>2</td>\n",
       "      <td>45</td>\n",
       "      <td>2</td>\n",
       "    </tr>\n",
       "    <tr>\n",
       "      <th>PhoneService</th>\n",
       "      <td>No</td>\n",
       "      <td>Yes</td>\n",
       "      <td>Yes</td>\n",
       "      <td>No</td>\n",
       "      <td>Yes</td>\n",
       "    </tr>\n",
       "    <tr>\n",
       "      <th>MultipleLines</th>\n",
       "      <td>No phone service</td>\n",
       "      <td>No</td>\n",
       "      <td>No</td>\n",
       "      <td>No phone service</td>\n",
       "      <td>No</td>\n",
       "    </tr>\n",
       "    <tr>\n",
       "      <th>InternetService</th>\n",
       "      <td>DSL</td>\n",
       "      <td>DSL</td>\n",
       "      <td>DSL</td>\n",
       "      <td>DSL</td>\n",
       "      <td>Fiber optic</td>\n",
       "    </tr>\n",
       "    <tr>\n",
       "      <th>OnlineSecurity</th>\n",
       "      <td>No</td>\n",
       "      <td>Yes</td>\n",
       "      <td>Yes</td>\n",
       "      <td>Yes</td>\n",
       "      <td>No</td>\n",
       "    </tr>\n",
       "    <tr>\n",
       "      <th>OnlineBackup</th>\n",
       "      <td>Yes</td>\n",
       "      <td>No</td>\n",
       "      <td>Yes</td>\n",
       "      <td>No</td>\n",
       "      <td>No</td>\n",
       "    </tr>\n",
       "    <tr>\n",
       "      <th>DeviceProtection</th>\n",
       "      <td>No</td>\n",
       "      <td>Yes</td>\n",
       "      <td>No</td>\n",
       "      <td>Yes</td>\n",
       "      <td>No</td>\n",
       "    </tr>\n",
       "    <tr>\n",
       "      <th>TechSupport</th>\n",
       "      <td>No</td>\n",
       "      <td>No</td>\n",
       "      <td>No</td>\n",
       "      <td>Yes</td>\n",
       "      <td>No</td>\n",
       "    </tr>\n",
       "    <tr>\n",
       "      <th>StreamingTV</th>\n",
       "      <td>No</td>\n",
       "      <td>No</td>\n",
       "      <td>No</td>\n",
       "      <td>No</td>\n",
       "      <td>No</td>\n",
       "    </tr>\n",
       "    <tr>\n",
       "      <th>StreamingMovies</th>\n",
       "      <td>No</td>\n",
       "      <td>No</td>\n",
       "      <td>No</td>\n",
       "      <td>No</td>\n",
       "      <td>No</td>\n",
       "    </tr>\n",
       "    <tr>\n",
       "      <th>Contract</th>\n",
       "      <td>Month-to-month</td>\n",
       "      <td>One year</td>\n",
       "      <td>Month-to-month</td>\n",
       "      <td>One year</td>\n",
       "      <td>Month-to-month</td>\n",
       "    </tr>\n",
       "    <tr>\n",
       "      <th>PaperlessBilling</th>\n",
       "      <td>Yes</td>\n",
       "      <td>No</td>\n",
       "      <td>Yes</td>\n",
       "      <td>No</td>\n",
       "      <td>Yes</td>\n",
       "    </tr>\n",
       "    <tr>\n",
       "      <th>PaymentMethod</th>\n",
       "      <td>Electronic check</td>\n",
       "      <td>Mailed check</td>\n",
       "      <td>Mailed check</td>\n",
       "      <td>Bank transfer (automatic)</td>\n",
       "      <td>Electronic check</td>\n",
       "    </tr>\n",
       "    <tr>\n",
       "      <th>MonthlyCharges</th>\n",
       "      <td>29.85</td>\n",
       "      <td>56.95</td>\n",
       "      <td>53.85</td>\n",
       "      <td>42.3</td>\n",
       "      <td>70.7</td>\n",
       "    </tr>\n",
       "    <tr>\n",
       "      <th>TotalCharges</th>\n",
       "      <td>29.85</td>\n",
       "      <td>1889.5</td>\n",
       "      <td>108.15</td>\n",
       "      <td>1840.75</td>\n",
       "      <td>151.65</td>\n",
       "    </tr>\n",
       "    <tr>\n",
       "      <th>Churn</th>\n",
       "      <td>No</td>\n",
       "      <td>No</td>\n",
       "      <td>Yes</td>\n",
       "      <td>No</td>\n",
       "      <td>Yes</td>\n",
       "    </tr>\n",
       "  </tbody>\n",
       "</table>\n",
       "</div>\n",
       "      <button class=\"colab-df-convert\" onclick=\"convertToInteractive('df-ce83b4eb-37d7-4b4c-91cd-a3e0b2876724')\"\n",
       "              title=\"Convert this dataframe to an interactive table.\"\n",
       "              style=\"display:none;\">\n",
       "        \n",
       "  <svg xmlns=\"http://www.w3.org/2000/svg\" height=\"24px\"viewBox=\"0 0 24 24\"\n",
       "       width=\"24px\">\n",
       "    <path d=\"M0 0h24v24H0V0z\" fill=\"none\"/>\n",
       "    <path d=\"M18.56 5.44l.94 2.06.94-2.06 2.06-.94-2.06-.94-.94-2.06-.94 2.06-2.06.94zm-11 1L8.5 8.5l.94-2.06 2.06-.94-2.06-.94L8.5 2.5l-.94 2.06-2.06.94zm10 10l.94 2.06.94-2.06 2.06-.94-2.06-.94-.94-2.06-.94 2.06-2.06.94z\"/><path d=\"M17.41 7.96l-1.37-1.37c-.4-.4-.92-.59-1.43-.59-.52 0-1.04.2-1.43.59L10.3 9.45l-7.72 7.72c-.78.78-.78 2.05 0 2.83L4 21.41c.39.39.9.59 1.41.59.51 0 1.02-.2 1.41-.59l7.78-7.78 2.81-2.81c.8-.78.8-2.07 0-2.86zM5.41 20L4 18.59l7.72-7.72 1.47 1.35L5.41 20z\"/>\n",
       "  </svg>\n",
       "      </button>\n",
       "      \n",
       "  <style>\n",
       "    .colab-df-container {\n",
       "      display:flex;\n",
       "      flex-wrap:wrap;\n",
       "      gap: 12px;\n",
       "    }\n",
       "\n",
       "    .colab-df-convert {\n",
       "      background-color: #E8F0FE;\n",
       "      border: none;\n",
       "      border-radius: 50%;\n",
       "      cursor: pointer;\n",
       "      display: none;\n",
       "      fill: #1967D2;\n",
       "      height: 32px;\n",
       "      padding: 0 0 0 0;\n",
       "      width: 32px;\n",
       "    }\n",
       "\n",
       "    .colab-df-convert:hover {\n",
       "      background-color: #E2EBFA;\n",
       "      box-shadow: 0px 1px 2px rgba(60, 64, 67, 0.3), 0px 1px 3px 1px rgba(60, 64, 67, 0.15);\n",
       "      fill: #174EA6;\n",
       "    }\n",
       "\n",
       "    [theme=dark] .colab-df-convert {\n",
       "      background-color: #3B4455;\n",
       "      fill: #D2E3FC;\n",
       "    }\n",
       "\n",
       "    [theme=dark] .colab-df-convert:hover {\n",
       "      background-color: #434B5C;\n",
       "      box-shadow: 0px 1px 3px 1px rgba(0, 0, 0, 0.15);\n",
       "      filter: drop-shadow(0px 1px 2px rgba(0, 0, 0, 0.3));\n",
       "      fill: #FFFFFF;\n",
       "    }\n",
       "  </style>\n",
       "\n",
       "      <script>\n",
       "        const buttonEl =\n",
       "          document.querySelector('#df-ce83b4eb-37d7-4b4c-91cd-a3e0b2876724 button.colab-df-convert');\n",
       "        buttonEl.style.display =\n",
       "          google.colab.kernel.accessAllowed ? 'block' : 'none';\n",
       "\n",
       "        async function convertToInteractive(key) {\n",
       "          const element = document.querySelector('#df-ce83b4eb-37d7-4b4c-91cd-a3e0b2876724');\n",
       "          const dataTable =\n",
       "            await google.colab.kernel.invokeFunction('convertToInteractive',\n",
       "                                                     [key], {});\n",
       "          if (!dataTable) return;\n",
       "\n",
       "          const docLinkHtml = 'Like what you see? Visit the ' +\n",
       "            '<a target=\"_blank\" href=https://colab.research.google.com/notebooks/data_table.ipynb>data table notebook</a>'\n",
       "            + ' to learn more about interactive tables.';\n",
       "          element.innerHTML = '';\n",
       "          dataTable['output_type'] = 'display_data';\n",
       "          await google.colab.output.renderOutput(dataTable, element);\n",
       "          const docLink = document.createElement('div');\n",
       "          docLink.innerHTML = docLinkHtml;\n",
       "          element.appendChild(docLink);\n",
       "        }\n",
       "      </script>\n",
       "    </div>\n",
       "  </div>\n",
       "  "
      ],
      "text/plain": [
       "                                 0             1               2  \\\n",
       "customerID              7590-VHVEG    5575-GNVDE      3668-QPYBK   \n",
       "gender                      Female          Male            Male   \n",
       "SeniorCitizen                    0             0               0   \n",
       "Partner                        Yes            No              No   \n",
       "Dependents                      No            No              No   \n",
       "tenure                           1            34               2   \n",
       "PhoneService                    No           Yes             Yes   \n",
       "MultipleLines     No phone service            No              No   \n",
       "InternetService                DSL           DSL             DSL   \n",
       "OnlineSecurity                  No           Yes             Yes   \n",
       "OnlineBackup                   Yes            No             Yes   \n",
       "DeviceProtection                No           Yes              No   \n",
       "TechSupport                     No            No              No   \n",
       "StreamingTV                     No            No              No   \n",
       "StreamingMovies                 No            No              No   \n",
       "Contract            Month-to-month      One year  Month-to-month   \n",
       "PaperlessBilling               Yes            No             Yes   \n",
       "PaymentMethod     Electronic check  Mailed check    Mailed check   \n",
       "MonthlyCharges               29.85         56.95           53.85   \n",
       "TotalCharges                 29.85        1889.5          108.15   \n",
       "Churn                           No            No             Yes   \n",
       "\n",
       "                                          3                 4  \n",
       "customerID                       7795-CFOCW        9237-HQITU  \n",
       "gender                                 Male            Female  \n",
       "SeniorCitizen                             0                 0  \n",
       "Partner                                  No                No  \n",
       "Dependents                               No                No  \n",
       "tenure                                   45                 2  \n",
       "PhoneService                             No               Yes  \n",
       "MultipleLines              No phone service                No  \n",
       "InternetService                         DSL       Fiber optic  \n",
       "OnlineSecurity                          Yes                No  \n",
       "OnlineBackup                             No                No  \n",
       "DeviceProtection                        Yes                No  \n",
       "TechSupport                             Yes                No  \n",
       "StreamingTV                              No                No  \n",
       "StreamingMovies                          No                No  \n",
       "Contract                           One year    Month-to-month  \n",
       "PaperlessBilling                         No               Yes  \n",
       "PaymentMethod     Bank transfer (automatic)  Electronic check  \n",
       "MonthlyCharges                         42.3              70.7  \n",
       "TotalCharges                        1840.75            151.65  \n",
       "Churn                                    No               Yes  "
      ]
     },
     "execution_count": 4,
     "metadata": {},
     "output_type": "execute_result"
    }
   ],
   "source": [
    "!wget https://raw.githubusercontent.com/alexeygrigorev/mlbookcamp-code/master/chapter-03-churn-prediction/WA_Fn-UseC_-Telco-Customer-Churn.csv\n",
    "    \n",
    "df = pd.read_csv('WA_Fn-UseC_-Telco-Customer-Churn.csv')\n",
    "df.head().T"
   ]
  },
  {
   "cell_type": "code",
   "execution_count": null,
   "metadata": {
    "id": "0Ckh5KI3cMCc"
   },
   "outputs": [],
   "source": [
    "df.columns = df.columns.str.lower().str.replace(' ', '_')\n",
    "\n",
    "categorical_columns = list(df.dtypes[df.dtypes == 'object'].index)\n",
    "\n",
    "for c in categorical_columns:\n",
    "    df[c] = df[c].str.lower().str.replace(' ', '_')\n",
    "\n",
    "df.totalcharges = pd.to_numeric(df.totalcharges, errors='coerce')\n",
    "df.totalcharges = df.totalcharges.fillna(0)\n",
    "\n",
    "df.churn = (df.churn == 'yes').astype(int)\n",
    "\n",
    "df_full_train, df_test = train_test_split(df, test_size=0.2, random_state=1)\n",
    "df_train, df_val = train_test_split(df_full_train, test_size=0.25, random_state=1)\n",
    "\n",
    "df_train = df_train.reset_index(drop=True)\n",
    "df_val = df_val.reset_index(drop=True)\n",
    "df_test = df_test.reset_index(drop=True)\n",
    "\n",
    "y_train = df_train.churn.values\n",
    "y_val = df_val.churn.values\n",
    "y_test = df_test.churn.values\n",
    "\n",
    "del df_train['churn']\n",
    "del df_val['churn']\n",
    "del df_test['churn']\n",
    "\n",
    "numerical = ['tenure', 'monthlycharges', 'totalcharges']\n",
    "\n",
    "categorical = [\n",
    "    'gender',\n",
    "    'seniorcitizen',\n",
    "    'partner',\n",
    "    'dependents',\n",
    "    'phoneservice',\n",
    "    'multiplelines',\n",
    "    'internetservice',\n",
    "    'onlinesecurity',\n",
    "    'onlinebackup',\n",
    "    'deviceprotection',\n",
    "    'techsupport',\n",
    "    'streamingtv',\n",
    "    'streamingmovies',\n",
    "    'contract',\n",
    "    'paperlessbilling',\n",
    "    'paymentmethod',\n",
    "]\n",
    "\n",
    "dv = DictVectorizer(sparse=False)\n",
    "\n",
    "train_dict = df_train[categorical + numerical].to_dict(orient='records')\n",
    "X_train = dv.fit_transform(train_dict)\n",
    "\n",
    "model = LogisticRegression()\n",
    "model.fit(X_train, y_train)\n",
    "\n",
    "val_dict = df_val[categorical + numerical].to_dict(orient='records')\n",
    "X_val = dv.transform(val_dict)\n",
    "\n"
   ]
  },
  {
   "cell_type": "markdown",
   "metadata": {
    "id": "1JBxYNySbmgy"
   },
   "source": [
    "## 4.2 Accuracy and Dummy Model\n",
    "\n",
    "* Evaluate the model on different thresholds\n",
    "* Check the accurancy of dummy baselines"
   ]
  },
  {
   "cell_type": "code",
   "execution_count": null,
   "metadata": {
    "colab": {
     "base_uri": "https://localhost:8080/"
    },
    "id": "npozmlAKbmgz",
    "outputId": "bc95cdef-2c89-44bb-c96b-077d362ffce7"
   },
   "outputs": [
    {
     "data": {
      "text/plain": [
       "0.8034066713981547"
      ]
     },
     "execution_count": 6,
     "metadata": {},
     "output_type": "execute_result"
    }
   ],
   "source": [
    "# As we covered in previous week's notebook, the 'accuracy' of out model when the threshold is 0.5 can be calculated as below. \n",
    "y_val_pred = model.predict_proba(X_val)[:, 1]\n",
    "churn_decision_val = (y_val_pred >= 0.5)\n",
    "(y_val == churn_decision_val).mean()"
   ]
  },
  {
   "cell_type": "code",
   "execution_count": null,
   "metadata": {
    "colab": {
     "base_uri": "https://localhost:8080/"
    },
    "id": "z8ThC3b7bmgz",
    "outputId": "72781157-e3d0-42fe-d6ba-03a99f341e31"
   },
   "outputs": [
    {
     "name": "stdout",
     "output_type": "stream",
     "text": [
      "0.00  0.274\n",
      "0.05  0.509\n",
      "0.10  0.591\n",
      "0.15  0.666\n",
      "0.20  0.710\n",
      "0.25  0.739\n",
      "0.30  0.760\n",
      "0.35  0.772\n",
      "0.40  0.785\n",
      "0.45  0.793\n",
      "0.50  0.803\n",
      "0.55  0.801\n",
      "0.60  0.795\n",
      "0.65  0.786\n",
      "0.70  0.766\n",
      "0.75  0.744\n",
      "0.80  0.735\n",
      "0.85  0.726\n",
      "0.90  0.726\n",
      "0.95  0.726\n",
      "1.00  0.726\n"
     ]
    }
   ],
   "source": [
    "# Now let's calculate the precision for a series of thresholds to see if there are other thresholds that will give us a higher precision value.\n",
    "threasholds = np.linspace(0, 1, 21)\n",
    "scores = []\n",
    "\n",
    "for t in threasholds:\n",
    "    churn_decision_val = (y_val_pred >= t)\n",
    "    mean = (churn_decision_val == y_val).mean()\n",
    "    scores.append(mean)\n",
    "    print(\"%.2f  %.3f\" % (t, mean))\n",
    "    \n",
    "# Looks like 0.5 is the threshold that gives the highest precision for this particular model."
   ]
  },
  {
   "cell_type": "code",
   "execution_count": null,
   "metadata": {
    "colab": {
     "base_uri": "https://localhost:8080/"
    },
    "id": "9PMMzQmEbmg0",
    "outputId": "44243a75-c274-4b19-b582-21b982acf4a1"
   },
   "outputs": [
    {
     "data": {
      "text/plain": [
       "[<matplotlib.lines.Line2D at 0x7f5c077ead50>]"
      ]
     },
     "execution_count": 8,
     "metadata": {},
     "output_type": "execute_result"
    },
    {
     "data": {
      "image/png": "[encoded data removed]",
      "text/plain": [
       "<Figure size 432x288 with 1 Axes>"
      ]
     },
     "metadata": {},
     "output_type": "display_data"
    }
   ],
   "source": [
    "plt.plot(threasholds, scores)"
   ]
  },
  {
   "cell_type": "code",
   "execution_count": null,
   "metadata": {
    "colab": {
     "base_uri": "https://localhost:8080/"
    },
    "id": "8iGepeDAbmg0",
    "outputId": "d4898e25-3360-4f72-8021-59996ad00288"
   },
   "outputs": [
    {
     "name": "stdout",
     "output_type": "stream",
     "text": [
      "0.00  0.274\n",
      "0.05  0.509\n",
      "0.10  0.591\n",
      "0.15  0.666\n",
      "0.20  0.710\n",
      "0.25  0.739\n",
      "0.30  0.760\n",
      "0.35  0.772\n",
      "0.40  0.785\n",
      "0.45  0.793\n",
      "0.50  0.803\n",
      "0.55  0.801\n",
      "0.60  0.795\n",
      "0.65  0.786\n",
      "0.70  0.766\n",
      "0.75  0.744\n",
      "0.80  0.735\n",
      "0.85  0.726\n",
      "0.90  0.726\n",
      "0.95  0.726\n",
      "1.00  0.726\n"
     ]
    }
   ],
   "source": [
    "# There's actually a function in sklearn called accuracy_score that we can use instead of calculating it using mean()\n",
    "# Let's repeat what we did above using sklearn's function.\n",
    "\n",
    "from sklearn.metrics import accuracy_score\n",
    "\n",
    "threasholds = np.linspace(0, 1, 21)\n",
    "scores = []\n",
    "\n",
    "for t in threasholds:\n",
    "    churn_decision_val = (y_val_pred >= t)\n",
    "    s = accuracy_score(y_val, churn_decision_val)\n",
    "    scores.append(s)\n",
    "    print(\"%.2f  %.3f\" % (t, s))"
   ]
  },
  {
   "cell_type": "markdown",
   "metadata": {
    "id": "zhaK5C80bmg1"
   },
   "source": [
    "What's interesting above is the accuracy for threshold 1.0 is 72.6%, compared to the real target values of the validation dataset. That means even if we consider the model prediction has to be 100% (P(X)= 1.0) for a customer to churn, the model accuracy is 72.6%. This is just 9% difference from the best accuracy we got (81.5 - 72,6)."
   ]
  },
  {
   "cell_type": "code",
   "execution_count": null,
   "metadata": {
    "colab": {
     "base_uri": "https://localhost:8080/"
    },
    "id": "mj-uS278bmg1",
    "outputId": "21c10aef-5e28-4260-9cbb-ca4c315953a1"
   },
   "outputs": [
    {
     "data": {
      "text/plain": [
       "1409"
      ]
     },
     "execution_count": 10,
     "metadata": {},
     "output_type": "execute_result"
    }
   ],
   "source": [
    "# Quick query to remind us how many customers we have in int he val dataset\n",
    "len(y_val)"
   ]
  },
  {
   "cell_type": "code",
   "execution_count": null,
   "metadata": {
    "colab": {
     "base_uri": "https://localhost:8080/"
    },
    "id": "gc52YRr8bmg2",
    "outputId": "bd0bd715-c460-4a7a-b43d-76ac07fad8fb"
   },
   "outputs": [
    {
     "data": {
      "text/plain": [
       "Counter({False: 1409})"
      ]
     },
     "execution_count": 11,
     "metadata": {},
     "output_type": "execute_result"
    }
   ],
   "source": [
    "# then see how many did the model predicted as 1.0.\n",
    "from collections import Counter\n",
    "Counter(y_val_pred >= 1.0)"
   ]
  },
  {
   "cell_type": "markdown",
   "metadata": {
    "id": "fL7fdVZ8bmg2"
   },
   "source": [
    "Looks like none of the probability values were 1.0. So with 100% of the prediction probabilities says there are no customers churn, still the model gives a 72.6% accuracy. Hmmm!\n",
    "\n",
    "Btw, the **Dummy Model** is the scenario the calculation is done based on threashold = 1.0."
   ]
  },
  {
   "cell_type": "code",
   "execution_count": null,
   "metadata": {
    "colab": {
     "base_uri": "https://localhost:8080/"
    },
    "id": "cItl0dWNbmg3",
    "outputId": "64a30009-bb5e-4b7c-c224-7002d609f3d5"
   },
   "outputs": [
    {
     "data": {
      "text/plain": [
       "Counter({0: 1023, 1: 386})"
      ]
     },
     "execution_count": 12,
     "metadata": {},
     "output_type": "execute_result"
    }
   ],
   "source": [
    "# Check how many customers churned vs. didn't churn in the validation dataset.\n",
    "\n",
    "Counter(y_val )\n"
   ]
  },
  {
   "cell_type": "code",
   "execution_count": null,
   "metadata": {
    "colab": {
     "base_uri": "https://localhost:8080/"
    },
    "id": "-v6cVqbtbmg3",
    "outputId": "fa9d816e-b4ef-494f-f5df-95d3aafcaca0"
   },
   "outputs": [
    {
     "data": {
      "text/plain": [
       "0.7260468417317246"
      ]
     },
     "execution_count": 13,
     "metadata": {},
     "output_type": "execute_result"
    }
   ],
   "source": [
    "1 - y_val.mean()  #gives 0.7260468417317246\n",
    "\n",
    "# This is exactly what we get as the accurancy when threshold is 1.0."
   ]
  },
  {
   "cell_type": "markdown",
   "metadata": {
    "id": "S7ZPQnRebmg4"
   },
   "source": [
    "This means we have \"class imbalance\" in the dataset. This means there are more non-churn customers in the dataset than churned customers. In the validation dataset, the non-churn: churn ratio is 3:1\n",
    "When there is a class imbalance, model 'accurancy' can be misleading. There are other better ways to evaluate models when the dataset has class imbalance."
   ]
  },
  {
   "cell_type": "markdown",
   "metadata": {
    "id": "ShSPV1bdbmg4"
   },
   "source": [
    "## 4.3 Confusion Table\n",
    "* Is a way of looking at different types correct and incorrect decisions our binary classification model makes\n",
    "* Is a summarisation in tabular form"
   ]
  },
  {
   "cell_type": "code",
   "execution_count": null,
   "metadata": {
    "colab": {
     "base_uri": "https://localhost:8080/"
    },
    "id": "hJOiAsC1bmg5",
    "outputId": "de2c3b1a-ebae-4f35-deef-edff1e8bd8ae"
   },
   "outputs": [
    {
     "name": "stdout",
     "output_type": "stream",
     "text": [
      "210 922 101 176\n"
     ]
    }
   ],
   "source": [
    "actual_positive = (y_val == 1)\n",
    "actual_negative = (y_val == 0)\n",
    "t=0.5\n",
    "predict_positive = (y_val_pred >= t)\n",
    "predict_negative = (y_val_pred < t)\n",
    "\n",
    "tp = (predict_positive & actual_positive).sum()\n",
    "tn = (predict_negative & actual_negative).sum()\n",
    "\n",
    "fp = (predict_positive & actual_negative).sum()\n",
    "fn = (predict_negative & actual_positive).sum()\n",
    "\n",
    "print(tp, tn, fp, fn)"
   ]
  },
  {
   "cell_type": "code",
   "execution_count": null,
   "metadata": {
    "colab": {
     "base_uri": "https://localhost:8080/"
    },
    "id": "7Kvz0tiTbmg5",
    "outputId": "259ba36c-02e7-4a75-bc2b-41d8e66540ba"
   },
   "outputs": [
    {
     "data": {
      "text/plain": [
       "array([[922, 101],\n",
       "       [176, 210]])"
      ]
     },
     "execution_count": 15,
     "metadata": {},
     "output_type": "execute_result"
    }
   ],
   "source": [
    "# We can put this in a confusion matrix using numpy, as below.\n",
    "\n",
    "confusion_matrix = np.array([\n",
    "    [tn, fp],\n",
    "    [fn, tp]\n",
    "])\n",
    "confusion_matrix"
   ]
  },
  {
   "cell_type": "code",
   "execution_count": null,
   "metadata": {
    "colab": {
     "base_uri": "https://localhost:8080/"
    },
    "id": "xipsa_DPbmg7",
    "outputId": "9fbc8b46-fa15-4cb1-881b-fbfc4d2fd6b6"
   },
   "outputs": [
    {
     "data": {
      "text/plain": [
       "array([[0.65, 0.07],\n",
       "       [0.12, 0.15]])"
      ]
     },
     "execution_count": 16,
     "metadata": {},
     "output_type": "execute_result"
    }
   ],
   "source": [
    "(confusion_matrix/confusion_matrix.sum()).round(2)"
   ]
  },
  {
   "cell_type": "markdown",
   "metadata": {
    "id": "W2zfpEKWgKrO"
   },
   "source": [
    "Based on the values in the confusion matrix we can then derive a few more metrics such as Precision and Recall, and ROC Curve."
   ]
  },
  {
   "cell_type": "markdown",
   "metadata": {
    "id": "gNOp4agMgsfW"
   },
   "source": [
    "## 4.4 Precision and Recall"
   ]
  },
  {
   "cell_type": "code",
   "execution_count": null,
   "metadata": {
    "colab": {
     "base_uri": "https://localhost:8080/"
    },
    "id": "ZsI_TvdMi58C",
    "outputId": "2deb932d-6632-4232-d9e2-b3f13700bdde"
   },
   "outputs": [
    {
     "data": {
      "text/plain": [
       "0.8034066713981547"
      ]
     },
     "execution_count": 17,
     "metadata": {},
     "output_type": "execute_result"
    }
   ],
   "source": [
    "(tp + tn) / (tp + tn + fp + fn)"
   ]
  },
  {
   "cell_type": "markdown",
   "metadata": {
    "id": "0r5A0iDthAEI"
   },
   "source": [
    "### Precision\n",
    "Precision is the fraction of correct positive predictions, out of all the positive predictions (*Note! not the actual positive observations*).\n",
    "$\\dfrac{TruePositives}{AllPositivePredictions}$"
   ]
  },
  {
   "cell_type": "code",
   "execution_count": null,
   "metadata": {
    "colab": {
     "base_uri": "https://localhost:8080/"
    },
    "id": "-N13iJiAbmg8",
    "outputId": "6268f600-93bc-4585-aa47-f33fe46f8d8d"
   },
   "outputs": [
    {
     "data": {
      "text/plain": [
       "0.68"
      ]
     },
     "execution_count": 18,
     "metadata": {},
     "output_type": "execute_result"
    }
   ],
   "source": [
    "(tp / (tp + fp)).round(2)"
   ]
  },
  {
   "cell_type": "markdown",
   "metadata": {
    "id": "pqjF4UjIm0lT"
   },
   "source": [
    "Out of all the positive predictions, we only got 68% ✅ of them correct. There are 32% ❌ incorrect predictions. 😞"
   ]
  },
  {
   "cell_type": "markdown",
   "metadata": {
    "id": "7rUxK0b0kVx2"
   },
   "source": [
    "### Recall \n",
    "Recall is the fraction of correctly predicted positives, out of the total of positive predictions.\n",
    "\n",
    "$\\dfrac{TruePositives}{TotalActualPositivePredictions}$"
   ]
  },
  {
   "cell_type": "code",
   "execution_count": null,
   "metadata": {
    "colab": {
     "base_uri": "https://localhost:8080/"
    },
    "id": "53H9uZpvhrZq",
    "outputId": "e8bcb555-7248-43aa-8224-4a693f323366"
   },
   "outputs": [
    {
     "data": {
      "text/plain": [
       "0.5440414507772021"
      ]
     },
     "execution_count": 19,
     "metadata": {},
     "output_type": "execute_result"
    }
   ],
   "source": [
    "r = (tp/ (tp + fn))\n",
    "r"
   ]
  },
  {
   "cell_type": "markdown",
   "metadata": {
    "id": "pWUWNzL9n8Da"
   },
   "source": [
    "Out of all the total actual positive observations, the model only predicted 54% ✅ of them as *correct*. That also means it got 46% ❌ of the predictions *incorrect*.\n",
    "\n",
    "Remember, the accuracy of our model came out as 80% 🤡.\n",
    "\n",
    "This shows us 'accuracy' is not a good metric at all when there's class imbalance in the data set. Precision and Recall are better metrcs to use in such situations as they can give us a better view of how good/bad the model is."
   ]
  },
  {
   "cell_type": "markdown",
   "metadata": {
    "id": "bAisCpCM4euP"
   },
   "source": [
    "### F1 Score\n",
    "\n",
    "Precision and recall are conflicting - when one grows, the other goes down. Therefore we often combine them into the F1 score - a metric that takes into account both.\n",
    "\n",
    "This is the formula for computing $F_1$:\n",
    "\n",
    "$$F_1 = 2 \\cdot \\cfrac{P \\cdot R}{P + R}$$\n",
    "\n",
    "Where $P$ is precision and $R$ is recall."
   ]
  },
  {
   "cell_type": "markdown",
   "metadata": {
    "id": "TG67S0a-0n4p"
   },
   "source": [
    "## 4.5 Receiver Operating Characteristics (ROC) Curve\n",
    "* Used during WWII for evaluating the strength of radar detectors. It shows how the model behavioves with different thresholds. \n",
    "\n",
    "There are two rates:\n",
    "  * FPR - False Positive Rate, out of the total of actual negatives (that's tn + fp). We want to minimize this rate!\n",
    "  * TPR - True Positive Rate, out of the total of actual positives (that's tp + fn) . We want to maximize this rate!"
   ]
  },
  {
   "cell_type": "code",
   "execution_count": null,
   "metadata": {
    "colab": {
     "base_uri": "https://localhost:8080/"
    },
    "id": "aGacQfsc20Pm",
    "outputId": "2d71edc6-45a1-4a3b-9b2a-adc90aaa7ddc"
   },
   "outputs": [
    {
     "data": {
      "text/plain": [
       "0.09872922776148582"
      ]
     },
     "execution_count": 20,
     "metadata": {},
     "output_type": "execute_result"
    }
   ],
   "source": [
    "fpr = fp / (tn + fp)\n",
    "fpr"
   ]
  },
  {
   "cell_type": "code",
   "execution_count": null,
   "metadata": {
    "colab": {
     "base_uri": "https://localhost:8080/"
    },
    "id": "wboveWSU3Htw",
    "outputId": "d47d68e2-55f5-48f0-c97f-f37a4f0b47b9"
   },
   "outputs": [
    {
     "data": {
      "text/plain": [
       "0.5440414507772021"
      ]
     },
     "execution_count": 21,
     "metadata": {},
     "output_type": "execute_result"
    }
   ],
   "source": [
    "tpr = tp / (tp + fn)\n",
    "tpr"
   ]
  },
  {
   "cell_type": "markdown",
   "metadata": {
    "id": "aCL9Zg4L34hm"
   },
   "source": [
    "Note: **tpr** is _same as_ the **recall**."
   ]
  },
  {
   "cell_type": "code",
   "execution_count": null,
   "metadata": {
    "colab": {
     "base_uri": "https://localhost:8080/"
    },
    "id": "OYuupTAr3ffn",
    "outputId": "403795b8-3fec-4763-d4ed-5779a1b28611"
   },
   "outputs": [
    {
     "data": {
      "application/vnd.google.colaboratory.intrinsic+json": {
       "type": "string"
      },
      "text/plain": [
       "'tpr=0.5440414507772021,  recall=0.5440414507772021'"
      ]
     },
     "execution_count": 22,
     "metadata": {},
     "output_type": "execute_result"
    }
   ],
   "source": [
    "f'tpr={tpr},  recall={r}'"
   ]
  },
  {
   "cell_type": "markdown",
   "metadata": {
    "id": "L0RI5wB84_SS"
   },
   "source": [
    "We got the above ROC values for threshold 0.5.\n",
    "\n",
    "Now let's calculate the ROC values for a series of thresholds, between 0.0 and 1.0.\n"
   ]
  },
  {
   "cell_type": "code",
   "execution_count": null,
   "metadata": {
    "colab": {
     "base_uri": "https://localhost:8080/"
    },
    "id": "TbMJNQRf3sCF",
    "outputId": "795db299-c1f1-4f35-9a24-10d5fa3d6c42"
   },
   "outputs": [
    {
     "data": {
      "text/plain": [
       "[(0.0, 386, 1023, 0, 0),\n",
       " (0.01, 385, 913, 1, 110),\n",
       " (0.02, 384, 830, 2, 193),\n",
       " (0.03, 383, 766, 3, 257),\n",
       " (0.04, 381, 715, 5, 308),\n",
       " (0.05, 379, 685, 7, 338),\n",
       " (0.06, 377, 661, 9, 362),\n",
       " (0.07, 372, 641, 14, 382),\n",
       " (0.08, 371, 613, 15, 410),\n",
       " (0.09, 369, 580, 17, 443),\n",
       " (0.1, 366, 556, 20, 467),\n",
       " (0.11, 365, 528, 21, 495),\n",
       " (0.12, 365, 509, 21, 514),\n",
       " (0.13, 360, 477, 26, 546),\n",
       " (0.14, 355, 453, 31, 570),\n",
       " (0.15, 351, 435, 35, 588),\n",
       " (0.16, 347, 419, 39, 604),\n",
       " (0.17, 346, 401, 40, 622),\n",
       " (0.18, 344, 384, 42, 639),\n",
       " (0.19, 338, 369, 48, 654),\n",
       " (0.2, 333, 356, 53, 667),\n",
       " (0.21, 330, 341, 56, 682),\n",
       " (0.22, 323, 322, 63, 701),\n",
       " (0.23, 320, 313, 66, 710),\n",
       " (0.24, 316, 304, 70, 719),\n",
       " (0.25, 309, 291, 77, 732),\n",
       " (0.26, 304, 281, 82, 742),\n",
       " (0.27, 303, 270, 83, 753),\n",
       " (0.28, 295, 256, 91, 767),\n",
       " (0.29, 291, 244, 95, 779),\n",
       " (0.3, 284, 236, 102, 787),\n",
       " (0.31, 280, 230, 106, 793),\n",
       " (0.32, 278, 226, 108, 797),\n",
       " (0.33, 276, 221, 110, 802),\n",
       " (0.34, 274, 212, 112, 811),\n",
       " (0.35000000000000003, 272, 207, 114, 816),\n",
       " (0.36, 267, 201, 119, 822),\n",
       " (0.37, 265, 197, 121, 826),\n",
       " (0.38, 260, 185, 126, 838),\n",
       " (0.39, 252, 178, 134, 845),\n",
       " (0.4, 249, 166, 137, 857),\n",
       " (0.41000000000000003, 246, 159, 140, 864),\n",
       " (0.42, 243, 158, 143, 865),\n",
       " (0.43, 241, 150, 145, 873),\n",
       " (0.44, 234, 147, 152, 876),\n",
       " (0.45, 229, 134, 157, 889),\n",
       " (0.46, 224, 125, 162, 898),\n",
       " (0.47000000000000003, 218, 120, 168, 903),\n",
       " (0.48, 217, 114, 169, 909),\n",
       " (0.49, 213, 110, 173, 913),\n",
       " (0.5, 210, 101, 176, 922),\n",
       " (0.51, 207, 99, 179, 924),\n",
       " (0.52, 204, 93, 182, 930),\n",
       " (0.53, 196, 91, 190, 932),\n",
       " (0.54, 194, 86, 192, 937),\n",
       " (0.55, 185, 79, 201, 944),\n",
       " (0.56, 182, 76, 204, 947),\n",
       " (0.5700000000000001, 176, 67, 210, 956),\n",
       " (0.58, 171, 61, 215, 962),\n",
       " (0.59, 163, 59, 223, 964),\n",
       " (0.6, 150, 53, 236, 970),\n",
       " (0.61, 145, 49, 241, 974),\n",
       " (0.62, 141, 46, 245, 977),\n",
       " (0.63, 133, 40, 253, 983),\n",
       " (0.64, 125, 37, 261, 986),\n",
       " (0.65, 119, 34, 267, 989),\n",
       " (0.66, 114, 31, 272, 992),\n",
       " (0.67, 105, 29, 281, 994),\n",
       " (0.68, 94, 26, 292, 997),\n",
       " (0.6900000000000001, 88, 25, 298, 998),\n",
       " (0.7000000000000001, 76, 20, 310, 1003),\n",
       " (0.71, 63, 14, 323, 1009),\n",
       " (0.72, 57, 11, 329, 1012),\n",
       " (0.73, 47, 9, 339, 1014),\n",
       " (0.74, 41, 8, 345, 1015),\n",
       " (0.75, 33, 7, 353, 1016),\n",
       " (0.76, 30, 6, 356, 1017),\n",
       " (0.77, 25, 5, 361, 1018),\n",
       " (0.78, 19, 3, 367, 1020),\n",
       " (0.79, 15, 2, 371, 1021),\n",
       " (0.8, 13, 1, 373, 1022),\n",
       " (0.81, 6, 0, 380, 1023),\n",
       " (0.8200000000000001, 5, 0, 381, 1023),\n",
       " (0.8300000000000001, 3, 0, 383, 1023),\n",
       " (0.84, 0, 0, 386, 1023),\n",
       " (0.85, 0, 0, 386, 1023),\n",
       " (0.86, 0, 0, 386, 1023),\n",
       " (0.87, 0, 0, 386, 1023),\n",
       " (0.88, 0, 0, 386, 1023),\n",
       " (0.89, 0, 0, 386, 1023),\n",
       " (0.9, 0, 0, 386, 1023),\n",
       " (0.91, 0, 0, 386, 1023),\n",
       " (0.92, 0, 0, 386, 1023),\n",
       " (0.93, 0, 0, 386, 1023),\n",
       " (0.9400000000000001, 0, 0, 386, 1023),\n",
       " (0.9500000000000001, 0, 0, 386, 1023),\n",
       " (0.96, 0, 0, 386, 1023),\n",
       " (0.97, 0, 0, 386, 1023),\n",
       " (0.98, 0, 0, 386, 1023),\n",
       " (0.99, 0, 0, 386, 1023),\n",
       " (1.0, 0, 0, 386, 1023)]"
      ]
     },
     "execution_count": 23,
     "metadata": {},
     "output_type": "execute_result"
    }
   ],
   "source": [
    "thresholds = np.linspace(0, 1, 101)\n",
    "scores = []\n",
    "\n",
    "for t in thresholds:\n",
    "  actual_positive = (y_val == 1)\n",
    "  actual_negative = (y_val == 0)\n",
    "\n",
    "  predict_positive = (y_val_pred >= t)\n",
    "  predict_negative = (y_val_pred < t)\n",
    "\n",
    "  tp = (predict_positive & actual_positive).sum()\n",
    "  tn = (predict_negative & actual_negative).sum()\n",
    "\n",
    "  fp = (predict_positive & actual_negative).sum()\n",
    "  fn = (predict_negative & actual_positive).sum()\n",
    "\n",
    "  scores.append((t, tp, fp, fn, tn))\n",
    "\n",
    "scores"
   ]
  },
  {
   "cell_type": "code",
   "execution_count": null,
   "metadata": {
    "id": "SdmpOt5E6yaC"
   },
   "outputs": [],
   "source": [
    "columns = ['threshold', 'tp', 'fp', 'fn', 'tn']\n",
    "df_scores = pd.DataFrame(scores, columns=columns)"
   ]
  },
  {
   "cell_type": "code",
   "execution_count": null,
   "metadata": {
    "colab": {
     "base_uri": "https://localhost:8080/"
    },
    "id": "ladZx5s566MJ",
    "outputId": "269add86-095e-41dc-d5d9-0dac07fb0d05"
   },
   "outputs": [
    {
     "data": {
      "text/html": [
       "\n",
       "  <div id=\"df-21b9d3a1-45d5-4449-b567-f781faa53191\">\n",
       "    <div class=\"colab-df-container\">\n",
       "      <div>\n",
       "<style scoped>\n",
       "    .dataframe tbody tr th:only-of-type {\n",
       "        vertical-align: middle;\n",
       "    }\n",
       "\n",
       "    .dataframe tbody tr th {\n",
       "        vertical-align: top;\n",
       "    }\n",
       "\n",
       "    .dataframe thead th {\n",
       "        text-align: right;\n",
       "    }\n",
       "</style>\n",
       "<table border=\"1\" class=\"dataframe\">\n",
       "  <thead>\n",
       "    <tr style=\"text-align: right;\">\n",
       "      <th></th>\n",
       "      <th>threshold</th>\n",
       "      <th>tp</th>\n",
       "      <th>fp</th>\n",
       "      <th>fn</th>\n",
       "      <th>tn</th>\n",
       "    </tr>\n",
       "  </thead>\n",
       "  <tbody>\n",
       "    <tr>\n",
       "      <th>0</th>\n",
       "      <td>0.0</td>\n",
       "      <td>386</td>\n",
       "      <td>1023</td>\n",
       "      <td>0</td>\n",
       "      <td>0</td>\n",
       "    </tr>\n",
       "    <tr>\n",
       "      <th>10</th>\n",
       "      <td>0.1</td>\n",
       "      <td>366</td>\n",
       "      <td>556</td>\n",
       "      <td>20</td>\n",
       "      <td>467</td>\n",
       "    </tr>\n",
       "    <tr>\n",
       "      <th>20</th>\n",
       "      <td>0.2</td>\n",
       "      <td>333</td>\n",
       "      <td>356</td>\n",
       "      <td>53</td>\n",
       "      <td>667</td>\n",
       "    </tr>\n",
       "    <tr>\n",
       "      <th>30</th>\n",
       "      <td>0.3</td>\n",
       "      <td>284</td>\n",
       "      <td>236</td>\n",
       "      <td>102</td>\n",
       "      <td>787</td>\n",
       "    </tr>\n",
       "    <tr>\n",
       "      <th>40</th>\n",
       "      <td>0.4</td>\n",
       "      <td>249</td>\n",
       "      <td>166</td>\n",
       "      <td>137</td>\n",
       "      <td>857</td>\n",
       "    </tr>\n",
       "    <tr>\n",
       "      <th>50</th>\n",
       "      <td>0.5</td>\n",
       "      <td>210</td>\n",
       "      <td>101</td>\n",
       "      <td>176</td>\n",
       "      <td>922</td>\n",
       "    </tr>\n",
       "    <tr>\n",
       "      <th>60</th>\n",
       "      <td>0.6</td>\n",
       "      <td>150</td>\n",
       "      <td>53</td>\n",
       "      <td>236</td>\n",
       "      <td>970</td>\n",
       "    </tr>\n",
       "    <tr>\n",
       "      <th>70</th>\n",
       "      <td>0.7</td>\n",
       "      <td>76</td>\n",
       "      <td>20</td>\n",
       "      <td>310</td>\n",
       "      <td>1003</td>\n",
       "    </tr>\n",
       "    <tr>\n",
       "      <th>80</th>\n",
       "      <td>0.8</td>\n",
       "      <td>13</td>\n",
       "      <td>1</td>\n",
       "      <td>373</td>\n",
       "      <td>1022</td>\n",
       "    </tr>\n",
       "    <tr>\n",
       "      <th>90</th>\n",
       "      <td>0.9</td>\n",
       "      <td>0</td>\n",
       "      <td>0</td>\n",
       "      <td>386</td>\n",
       "      <td>1023</td>\n",
       "    </tr>\n",
       "    <tr>\n",
       "      <th>100</th>\n",
       "      <td>1.0</td>\n",
       "      <td>0</td>\n",
       "      <td>0</td>\n",
       "      <td>386</td>\n",
       "      <td>1023</td>\n",
       "    </tr>\n",
       "  </tbody>\n",
       "</table>\n",
       "</div>\n",
       "      <button class=\"colab-df-convert\" onclick=\"convertToInteractive('df-21b9d3a1-45d5-4449-b567-f781faa53191')\"\n",
       "              title=\"Convert this dataframe to an interactive table.\"\n",
       "              style=\"display:none;\">\n",
       "        \n",
       "  <svg xmlns=\"http://www.w3.org/2000/svg\" height=\"24px\"viewBox=\"0 0 24 24\"\n",
       "       width=\"24px\">\n",
       "    <path d=\"M0 0h24v24H0V0z\" fill=\"none\"/>\n",
       "    <path d=\"M18.56 5.44l.94 2.06.94-2.06 2.06-.94-2.06-.94-.94-2.06-.94 2.06-2.06.94zm-11 1L8.5 8.5l.94-2.06 2.06-.94-2.06-.94L8.5 2.5l-.94 2.06-2.06.94zm10 10l.94 2.06.94-2.06 2.06-.94-2.06-.94-.94-2.06-.94 2.06-2.06.94z\"/><path d=\"M17.41 7.96l-1.37-1.37c-.4-.4-.92-.59-1.43-.59-.52 0-1.04.2-1.43.59L10.3 9.45l-7.72 7.72c-.78.78-.78 2.05 0 2.83L4 21.41c.39.39.9.59 1.41.59.51 0 1.02-.2 1.41-.59l7.78-7.78 2.81-2.81c.8-.78.8-2.07 0-2.86zM5.41 20L4 18.59l7.72-7.72 1.47 1.35L5.41 20z\"/>\n",
       "  </svg>\n",
       "      </button>\n",
       "      \n",
       "  <style>\n",
       "    .colab-df-container {\n",
       "      display:flex;\n",
       "      flex-wrap:wrap;\n",
       "      gap: 12px;\n",
       "    }\n",
       "\n",
       "    .colab-df-convert {\n",
       "      background-color: #E8F0FE;\n",
       "      border: none;\n",
       "      border-radius: 50%;\n",
       "      cursor: pointer;\n",
       "      display: none;\n",
       "      fill: #1967D2;\n",
       "      height: 32px;\n",
       "      padding: 0 0 0 0;\n",
       "      width: 32px;\n",
       "    }\n",
       "\n",
       "    .colab-df-convert:hover {\n",
       "      background-color: #E2EBFA;\n",
       "      box-shadow: 0px 1px 2px rgba(60, 64, 67, 0.3), 0px 1px 3px 1px rgba(60, 64, 67, 0.15);\n",
       "      fill: #174EA6;\n",
       "    }\n",
       "\n",
       "    [theme=dark] .colab-df-convert {\n",
       "      background-color: #3B4455;\n",
       "      fill: #D2E3FC;\n",
       "    }\n",
       "\n",
       "    [theme=dark] .colab-df-convert:hover {\n",
       "      background-color: #434B5C;\n",
       "      box-shadow: 0px 1px 3px 1px rgba(0, 0, 0, 0.15);\n",
       "      filter: drop-shadow(0px 1px 2px rgba(0, 0, 0, 0.3));\n",
       "      fill: #FFFFFF;\n",
       "    }\n",
       "  </style>\n",
       "\n",
       "      <script>\n",
       "        const buttonEl =\n",
       "          document.querySelector('#df-21b9d3a1-45d5-4449-b567-f781faa53191 button.colab-df-convert');\n",
       "        buttonEl.style.display =\n",
       "          google.colab.kernel.accessAllowed ? 'block' : 'none';\n",
       "\n",
       "        async function convertToInteractive(key) {\n",
       "          const element = document.querySelector('#df-21b9d3a1-45d5-4449-b567-f781faa53191');\n",
       "          const dataTable =\n",
       "            await google.colab.kernel.invokeFunction('convertToInteractive',\n",
       "                                                     [key], {});\n",
       "          if (!dataTable) return;\n",
       "\n",
       "          const docLinkHtml = 'Like what you see? Visit the ' +\n",
       "            '<a target=\"_blank\" href=https://colab.research.google.com/notebooks/data_table.ipynb>data table notebook</a>'\n",
       "            + ' to learn more about interactive tables.';\n",
       "          element.innerHTML = '';\n",
       "          dataTable['output_type'] = 'display_data';\n",
       "          await google.colab.output.renderOutput(dataTable, element);\n",
       "          const docLink = document.createElement('div');\n",
       "          docLink.innerHTML = docLinkHtml;\n",
       "          element.appendChild(docLink);\n",
       "        }\n",
       "      </script>\n",
       "    </div>\n",
       "  </div>\n",
       "  "
      ],
      "text/plain": [
       "     threshold   tp    fp   fn    tn\n",
       "0          0.0  386  1023    0     0\n",
       "10         0.1  366   556   20   467\n",
       "20         0.2  333   356   53   667\n",
       "30         0.3  284   236  102   787\n",
       "40         0.4  249   166  137   857\n",
       "50         0.5  210   101  176   922\n",
       "60         0.6  150    53  236   970\n",
       "70         0.7   76    20  310  1003\n",
       "80         0.8   13     1  373  1022\n",
       "90         0.9    0     0  386  1023\n",
       "100        1.0    0     0  386  1023"
      ]
     },
     "execution_count": 25,
     "metadata": {},
     "output_type": "execute_result"
    }
   ],
   "source": [
    "# Having a look at each 10th record, just to verify if data is populated correctly\n",
    "df_scores[::10]"
   ]
  },
  {
   "cell_type": "code",
   "execution_count": null,
   "metadata": {
    "id": "FBfpME6W7h0b"
   },
   "outputs": [],
   "source": [
    "# Now calculate tpr and fpr, and add them under new columns\n",
    "\n",
    "df_scores['tpr'] = df_scores.tp / (df_scores.tp + df_scores.fn)\n",
    "df_scores['fpr'] = df_scores.fp / (df_scores.tn + df_scores.fp)\n"
   ]
  },
  {
   "cell_type": "code",
   "execution_count": null,
   "metadata": {
    "colab": {
     "base_uri": "https://localhost:8080/"
    },
    "id": "aQpoxL_Q8YDZ",
    "outputId": "c5227959-eeb4-4fae-b2ad-e7b9d8c9fcab"
   },
   "outputs": [
    {
     "data": {
      "text/html": [
       "\n",
       "  <div id=\"df-9b090d4d-fd79-4c7f-8ee7-1c2de4e6c9e4\">\n",
       "    <div class=\"colab-df-container\">\n",
       "      <div>\n",
       "<style scoped>\n",
       "    .dataframe tbody tr th:only-of-type {\n",
       "        vertical-align: middle;\n",
       "    }\n",
       "\n",
       "    .dataframe tbody tr th {\n",
       "        vertical-align: top;\n",
       "    }\n",
       "\n",
       "    .dataframe thead th {\n",
       "        text-align: right;\n",
       "    }\n",
       "</style>\n",
       "<table border=\"1\" class=\"dataframe\">\n",
       "  <thead>\n",
       "    <tr style=\"text-align: right;\">\n",
       "      <th></th>\n",
       "      <th>threshold</th>\n",
       "      <th>tp</th>\n",
       "      <th>fp</th>\n",
       "      <th>fn</th>\n",
       "      <th>tn</th>\n",
       "      <th>tpr</th>\n",
       "      <th>fpr</th>\n",
       "    </tr>\n",
       "  </thead>\n",
       "  <tbody>\n",
       "    <tr>\n",
       "      <th>0</th>\n",
       "      <td>0.0</td>\n",
       "      <td>386</td>\n",
       "      <td>1023</td>\n",
       "      <td>0</td>\n",
       "      <td>0</td>\n",
       "      <td>1.000000</td>\n",
       "      <td>1.000000</td>\n",
       "    </tr>\n",
       "    <tr>\n",
       "      <th>10</th>\n",
       "      <td>0.1</td>\n",
       "      <td>366</td>\n",
       "      <td>556</td>\n",
       "      <td>20</td>\n",
       "      <td>467</td>\n",
       "      <td>0.948187</td>\n",
       "      <td>0.543500</td>\n",
       "    </tr>\n",
       "    <tr>\n",
       "      <th>20</th>\n",
       "      <td>0.2</td>\n",
       "      <td>333</td>\n",
       "      <td>356</td>\n",
       "      <td>53</td>\n",
       "      <td>667</td>\n",
       "      <td>0.862694</td>\n",
       "      <td>0.347996</td>\n",
       "    </tr>\n",
       "    <tr>\n",
       "      <th>30</th>\n",
       "      <td>0.3</td>\n",
       "      <td>284</td>\n",
       "      <td>236</td>\n",
       "      <td>102</td>\n",
       "      <td>787</td>\n",
       "      <td>0.735751</td>\n",
       "      <td>0.230694</td>\n",
       "    </tr>\n",
       "    <tr>\n",
       "      <th>40</th>\n",
       "      <td>0.4</td>\n",
       "      <td>249</td>\n",
       "      <td>166</td>\n",
       "      <td>137</td>\n",
       "      <td>857</td>\n",
       "      <td>0.645078</td>\n",
       "      <td>0.162268</td>\n",
       "    </tr>\n",
       "    <tr>\n",
       "      <th>50</th>\n",
       "      <td>0.5</td>\n",
       "      <td>210</td>\n",
       "      <td>101</td>\n",
       "      <td>176</td>\n",
       "      <td>922</td>\n",
       "      <td>0.544041</td>\n",
       "      <td>0.098729</td>\n",
       "    </tr>\n",
       "    <tr>\n",
       "      <th>60</th>\n",
       "      <td>0.6</td>\n",
       "      <td>150</td>\n",
       "      <td>53</td>\n",
       "      <td>236</td>\n",
       "      <td>970</td>\n",
       "      <td>0.388601</td>\n",
       "      <td>0.051808</td>\n",
       "    </tr>\n",
       "    <tr>\n",
       "      <th>70</th>\n",
       "      <td>0.7</td>\n",
       "      <td>76</td>\n",
       "      <td>20</td>\n",
       "      <td>310</td>\n",
       "      <td>1003</td>\n",
       "      <td>0.196891</td>\n",
       "      <td>0.019550</td>\n",
       "    </tr>\n",
       "    <tr>\n",
       "      <th>80</th>\n",
       "      <td>0.8</td>\n",
       "      <td>13</td>\n",
       "      <td>1</td>\n",
       "      <td>373</td>\n",
       "      <td>1022</td>\n",
       "      <td>0.033679</td>\n",
       "      <td>0.000978</td>\n",
       "    </tr>\n",
       "    <tr>\n",
       "      <th>90</th>\n",
       "      <td>0.9</td>\n",
       "      <td>0</td>\n",
       "      <td>0</td>\n",
       "      <td>386</td>\n",
       "      <td>1023</td>\n",
       "      <td>0.000000</td>\n",
       "      <td>0.000000</td>\n",
       "    </tr>\n",
       "    <tr>\n",
       "      <th>100</th>\n",
       "      <td>1.0</td>\n",
       "      <td>0</td>\n",
       "      <td>0</td>\n",
       "      <td>386</td>\n",
       "      <td>1023</td>\n",
       "      <td>0.000000</td>\n",
       "      <td>0.000000</td>\n",
       "    </tr>\n",
       "  </tbody>\n",
       "</table>\n",
       "</div>\n",
       "      <button class=\"colab-df-convert\" onclick=\"convertToInteractive('df-9b090d4d-fd79-4c7f-8ee7-1c2de4e6c9e4')\"\n",
       "              title=\"Convert this dataframe to an interactive table.\"\n",
       "              style=\"display:none;\">\n",
       "        \n",
       "  <svg xmlns=\"http://www.w3.org/2000/svg\" height=\"24px\"viewBox=\"0 0 24 24\"\n",
       "       width=\"24px\">\n",
       "    <path d=\"M0 0h24v24H0V0z\" fill=\"none\"/>\n",
       "    <path d=\"M18.56 5.44l.94 2.06.94-2.06 2.06-.94-2.06-.94-.94-2.06-.94 2.06-2.06.94zm-11 1L8.5 8.5l.94-2.06 2.06-.94-2.06-.94L8.5 2.5l-.94 2.06-2.06.94zm10 10l.94 2.06.94-2.06 2.06-.94-2.06-.94-.94-2.06-.94 2.06-2.06.94z\"/><path d=\"M17.41 7.96l-1.37-1.37c-.4-.4-.92-.59-1.43-.59-.52 0-1.04.2-1.43.59L10.3 9.45l-7.72 7.72c-.78.78-.78 2.05 0 2.83L4 21.41c.39.39.9.59 1.41.59.51 0 1.02-.2 1.41-.59l7.78-7.78 2.81-2.81c.8-.78.8-2.07 0-2.86zM5.41 20L4 18.59l7.72-7.72 1.47 1.35L5.41 20z\"/>\n",
       "  </svg>\n",
       "      </button>\n",
       "      \n",
       "  <style>\n",
       "    .colab-df-container {\n",
       "      display:flex;\n",
       "      flex-wrap:wrap;\n",
       "      gap: 12px;\n",
       "    }\n",
       "\n",
       "    .colab-df-convert {\n",
       "      background-color: #E8F0FE;\n",
       "      border: none;\n",
       "      border-radius: 50%;\n",
       "      cursor: pointer;\n",
       "      display: none;\n",
       "      fill: #1967D2;\n",
       "      height: 32px;\n",
       "      padding: 0 0 0 0;\n",
       "      width: 32px;\n",
       "    }\n",
       "\n",
       "    .colab-df-convert:hover {\n",
       "      background-color: #E2EBFA;\n",
       "      box-shadow: 0px 1px 2px rgba(60, 64, 67, 0.3), 0px 1px 3px 1px rgba(60, 64, 67, 0.15);\n",
       "      fill: #174EA6;\n",
       "    }\n",
       "\n",
       "    [theme=dark] .colab-df-convert {\n",
       "      background-color: #3B4455;\n",
       "      fill: #D2E3FC;\n",
       "    }\n",
       "\n",
       "    [theme=dark] .colab-df-convert:hover {\n",
       "      background-color: #434B5C;\n",
       "      box-shadow: 0px 1px 3px 1px rgba(0, 0, 0, 0.15);\n",
       "      filter: drop-shadow(0px 1px 2px rgba(0, 0, 0, 0.3));\n",
       "      fill: #FFFFFF;\n",
       "    }\n",
       "  </style>\n",
       "\n",
       "      <script>\n",
       "        const buttonEl =\n",
       "          document.querySelector('#df-9b090d4d-fd79-4c7f-8ee7-1c2de4e6c9e4 button.colab-df-convert');\n",
       "        buttonEl.style.display =\n",
       "          google.colab.kernel.accessAllowed ? 'block' : 'none';\n",
       "\n",
       "        async function convertToInteractive(key) {\n",
       "          const element = document.querySelector('#df-9b090d4d-fd79-4c7f-8ee7-1c2de4e6c9e4');\n",
       "          const dataTable =\n",
       "            await google.colab.kernel.invokeFunction('convertToInteractive',\n",
       "                                                     [key], {});\n",
       "          if (!dataTable) return;\n",
       "\n",
       "          const docLinkHtml = 'Like what you see? Visit the ' +\n",
       "            '<a target=\"_blank\" href=https://colab.research.google.com/notebooks/data_table.ipynb>data table notebook</a>'\n",
       "            + ' to learn more about interactive tables.';\n",
       "          element.innerHTML = '';\n",
       "          dataTable['output_type'] = 'display_data';\n",
       "          await google.colab.output.renderOutput(dataTable, element);\n",
       "          const docLink = document.createElement('div');\n",
       "          docLink.innerHTML = docLinkHtml;\n",
       "          element.appendChild(docLink);\n",
       "        }\n",
       "      </script>\n",
       "    </div>\n",
       "  </div>\n",
       "  "
      ],
      "text/plain": [
       "     threshold   tp    fp   fn    tn       tpr       fpr\n",
       "0          0.0  386  1023    0     0  1.000000  1.000000\n",
       "10         0.1  366   556   20   467  0.948187  0.543500\n",
       "20         0.2  333   356   53   667  0.862694  0.347996\n",
       "30         0.3  284   236  102   787  0.735751  0.230694\n",
       "40         0.4  249   166  137   857  0.645078  0.162268\n",
       "50         0.5  210   101  176   922  0.544041  0.098729\n",
       "60         0.6  150    53  236   970  0.388601  0.051808\n",
       "70         0.7   76    20  310  1003  0.196891  0.019550\n",
       "80         0.8   13     1  373  1022  0.033679  0.000978\n",
       "90         0.9    0     0  386  1023  0.000000  0.000000\n",
       "100        1.0    0     0  386  1023  0.000000  0.000000"
      ]
     },
     "execution_count": 27,
     "metadata": {},
     "output_type": "execute_result"
    }
   ],
   "source": [
    "# Having a look at each 10th record, just to verify if data is populated correctly\n",
    "df_scores[::10]"
   ]
  },
  {
   "cell_type": "code",
   "execution_count": null,
   "metadata": {
    "colab": {
     "base_uri": "https://localhost:8080/"
    },
    "id": "9dH4hAsHAaEG",
    "outputId": "b3547e5c-806d-4677-be74-5b12b3a5b497"
   },
   "outputs": [
    {
     "data": {
      "text/plain": [
       "<matplotlib.legend.Legend at 0x7f5c07983c90>"
      ]
     },
     "execution_count": 28,
     "metadata": {},
     "output_type": "execute_result"
    },
    {
     "data": {
      "image/png": "[encoded data removed]",
      "text/plain": [
       "<Figure size 720x720 with 1 Axes>"
      ]
     },
     "metadata": {},
     "output_type": "display_data"
    }
   ],
   "source": [
    "# Now let's plot the above tpr and fpr values\n",
    "plt.figure(figsize=(10,10))\n",
    "plt.plot(df_scores.threshold, df_scores.tpr, label='TPR')\n",
    "plt.plot(df_scores.threshold, df_scores.fpr, label='FPR')\n",
    "plt.xlabel(\"Threshold\")\n",
    "plt.ylabel(\"Rate\")\n",
    "plt.legend()\n"
   ]
  },
  {
   "cell_type": "markdown",
   "metadata": {
    "id": "fijcFH0dnF9u"
   },
   "source": [
    "We can interpret the above plot as below:\n",
    "* When threashold (t) is 0.0 (means all customers are predicted as chruning), both rates are at their highest point.\n",
    "* As t increases (means some customers are predicted as not-churning), then the tpr starts to decline gradually. fpr is also declining, at a faster rate that tpr.\n",
    "* Both rates reach 0.0 at threashold ~0.83.\n",
    "* After ~0.83, both rates remain at 0.0.\n",
    "\n",
    "We cannot come to a conclusion if our model is good or bad by just looking at the above plot. We need a baseline. A Random Model will give us that. "
   ]
  },
  {
   "cell_type": "markdown",
   "metadata": {
    "id": "sx34Li8Dmsz-"
   },
   "source": [
    "### Random Model\n",
    "Here we use a completely random set of prediction values (hence we call this a Random Model) so we can use a plot based on its ROC values as a baseline to better understand the actual performance of our model."
   ]
  },
  {
   "cell_type": "code",
   "execution_count": null,
   "metadata": {
    "colab": {
     "base_uri": "https://localhost:8080/"
    },
    "id": "u2Z0FSwDAoCp",
    "outputId": "28e9383b-e58a-47a1-8e88-983dc72cfa50"
   },
   "outputs": [
    {
     "data": {
      "text/plain": [
       "array([0.417, 0.72 , 0.   , ..., 0.774, 0.334, 0.089])"
      ]
     },
     "execution_count": 29,
     "metadata": {},
     "output_type": "execute_result"
    }
   ],
   "source": [
    "# Here we use randomly generated values as predictions, pretending as if we got them from our model.\n",
    "np.random.seed(1)\n",
    "y_rand_pred = np.random.uniform(0, 1, size=len(y_val))\n",
    "y_rand_pred.round(3)"
   ]
  },
  {
   "cell_type": "code",
   "execution_count": null,
   "metadata": {
    "colab": {
     "base_uri": "https://localhost:8080/"
    },
    "id": "l6LgVLxo0nA3",
    "outputId": "9c10b292-d081-4b6a-fb20-5e25b58b2ab4"
   },
   "outputs": [
    {
     "data": {
      "text/plain": [
       "0.5017743080198722"
      ]
     },
     "execution_count": 30,
     "metadata": {},
     "output_type": "execute_result"
    }
   ],
   "source": [
    "# Since y_rand_pred contains all randomly generated values, the accuracy of it will be ~50% (same a rolling a die).\n",
    "# You might wonder how we can get a ~50% accuracy because how 0's and 1's in y_val has a big influence. \n",
    "# Yes, but remember y_val is also from a shuffled dataset so its values are also expected to be in an evenly ditributed manner.\n",
    "((y_rand_pred >= 0.5) == y_val).mean()"
   ]
  },
  {
   "cell_type": "code",
   "execution_count": null,
   "metadata": {
    "id": "RZ1MV3go1mSo"
   },
   "outputs": [],
   "source": [
    "# Let's create a function wrapping the fpr, tpr calculation and get it to return a dataframe.\n",
    "\n",
    "def tpr_fpr_dataframe(y_val, y_pred, thresholds = np.linspace(0, 1, 101)):\n",
    "  scores = []\n",
    "\n",
    "  for t in thresholds:\n",
    "    actual_positive = (y_val == 1)\n",
    "    actual_negative = (y_val == 0)\n",
    "\n",
    "    predict_positive = (y_pred >= t)\n",
    "    predict_negative = (y_pred < t)\n",
    "\n",
    "    tp = (predict_positive & actual_positive).sum()\n",
    "    tn = (predict_negative & actual_negative).sum()\n",
    "\n",
    "    fp = (predict_positive & actual_negative).sum()\n",
    "    fn = (predict_negative & actual_positive).sum()\n",
    "\n",
    "    scores.append((t, tp, fp, fn, tn))\n",
    "\n",
    "\n",
    "  headers = ['threshold', 'tp', 'fp', 'fn', 'tn']\n",
    "  df_scores = pd.DataFrame(scores, columns = headers)\n",
    "\n",
    "  df_scores['tpr'] = df_scores.tp / (df_scores.tp + df_scores.fn)\n",
    "  df_scores['fpr'] = df_scores.fp / (df_scores.tn + df_scores.fp)\n",
    "\n",
    "  return df_scores"
   ]
  },
  {
   "cell_type": "code",
   "execution_count": null,
   "metadata": {
    "colab": {
     "base_uri": "https://localhost:8080/"
    },
    "id": "hhv-PeGQ5Bek",
    "outputId": "c4ea1bc9-ff6f-44e1-e50e-1becc71db40a"
   },
   "outputs": [
    {
     "data": {
      "text/html": [
       "\n",
       "  <div id=\"df-d8308ef5-237d-4ea5-b2b1-3b7e2b529ba5\">\n",
       "    <div class=\"colab-df-container\">\n",
       "      <div>\n",
       "<style scoped>\n",
       "    .dataframe tbody tr th:only-of-type {\n",
       "        vertical-align: middle;\n",
       "    }\n",
       "\n",
       "    .dataframe tbody tr th {\n",
       "        vertical-align: top;\n",
       "    }\n",
       "\n",
       "    .dataframe thead th {\n",
       "        text-align: right;\n",
       "    }\n",
       "</style>\n",
       "<table border=\"1\" class=\"dataframe\">\n",
       "  <thead>\n",
       "    <tr style=\"text-align: right;\">\n",
       "      <th></th>\n",
       "      <th>threshold</th>\n",
       "      <th>tp</th>\n",
       "      <th>fp</th>\n",
       "      <th>fn</th>\n",
       "      <th>tn</th>\n",
       "      <th>tpr</th>\n",
       "      <th>fpr</th>\n",
       "    </tr>\n",
       "  </thead>\n",
       "  <tbody>\n",
       "    <tr>\n",
       "      <th>0</th>\n",
       "      <td>0.0</td>\n",
       "      <td>386</td>\n",
       "      <td>1023</td>\n",
       "      <td>0</td>\n",
       "      <td>0</td>\n",
       "      <td>1.000000</td>\n",
       "      <td>1.000000</td>\n",
       "    </tr>\n",
       "    <tr>\n",
       "      <th>10</th>\n",
       "      <td>0.1</td>\n",
       "      <td>347</td>\n",
       "      <td>923</td>\n",
       "      <td>39</td>\n",
       "      <td>100</td>\n",
       "      <td>0.898964</td>\n",
       "      <td>0.902248</td>\n",
       "    </tr>\n",
       "    <tr>\n",
       "      <th>20</th>\n",
       "      <td>0.2</td>\n",
       "      <td>307</td>\n",
       "      <td>822</td>\n",
       "      <td>79</td>\n",
       "      <td>201</td>\n",
       "      <td>0.795337</td>\n",
       "      <td>0.803519</td>\n",
       "    </tr>\n",
       "    <tr>\n",
       "      <th>30</th>\n",
       "      <td>0.3</td>\n",
       "      <td>276</td>\n",
       "      <td>724</td>\n",
       "      <td>110</td>\n",
       "      <td>299</td>\n",
       "      <td>0.715026</td>\n",
       "      <td>0.707722</td>\n",
       "    </tr>\n",
       "    <tr>\n",
       "      <th>40</th>\n",
       "      <td>0.4</td>\n",
       "      <td>237</td>\n",
       "      <td>624</td>\n",
       "      <td>149</td>\n",
       "      <td>399</td>\n",
       "      <td>0.613990</td>\n",
       "      <td>0.609971</td>\n",
       "    </tr>\n",
       "    <tr>\n",
       "      <th>50</th>\n",
       "      <td>0.5</td>\n",
       "      <td>202</td>\n",
       "      <td>518</td>\n",
       "      <td>184</td>\n",
       "      <td>505</td>\n",
       "      <td>0.523316</td>\n",
       "      <td>0.506354</td>\n",
       "    </tr>\n",
       "    <tr>\n",
       "      <th>60</th>\n",
       "      <td>0.6</td>\n",
       "      <td>161</td>\n",
       "      <td>409</td>\n",
       "      <td>225</td>\n",
       "      <td>614</td>\n",
       "      <td>0.417098</td>\n",
       "      <td>0.399804</td>\n",
       "    </tr>\n",
       "    <tr>\n",
       "      <th>70</th>\n",
       "      <td>0.7</td>\n",
       "      <td>121</td>\n",
       "      <td>302</td>\n",
       "      <td>265</td>\n",
       "      <td>721</td>\n",
       "      <td>0.313472</td>\n",
       "      <td>0.295210</td>\n",
       "    </tr>\n",
       "    <tr>\n",
       "      <th>80</th>\n",
       "      <td>0.8</td>\n",
       "      <td>78</td>\n",
       "      <td>206</td>\n",
       "      <td>308</td>\n",
       "      <td>817</td>\n",
       "      <td>0.202073</td>\n",
       "      <td>0.201369</td>\n",
       "    </tr>\n",
       "    <tr>\n",
       "      <th>90</th>\n",
       "      <td>0.9</td>\n",
       "      <td>40</td>\n",
       "      <td>101</td>\n",
       "      <td>346</td>\n",
       "      <td>922</td>\n",
       "      <td>0.103627</td>\n",
       "      <td>0.098729</td>\n",
       "    </tr>\n",
       "    <tr>\n",
       "      <th>100</th>\n",
       "      <td>1.0</td>\n",
       "      <td>0</td>\n",
       "      <td>0</td>\n",
       "      <td>386</td>\n",
       "      <td>1023</td>\n",
       "      <td>0.000000</td>\n",
       "      <td>0.000000</td>\n",
       "    </tr>\n",
       "  </tbody>\n",
       "</table>\n",
       "</div>\n",
       "      <button class=\"colab-df-convert\" onclick=\"convertToInteractive('df-d8308ef5-237d-4ea5-b2b1-3b7e2b529ba5')\"\n",
       "              title=\"Convert this dataframe to an interactive table.\"\n",
       "              style=\"display:none;\">\n",
       "        \n",
       "  <svg xmlns=\"http://www.w3.org/2000/svg\" height=\"24px\"viewBox=\"0 0 24 24\"\n",
       "       width=\"24px\">\n",
       "    <path d=\"M0 0h24v24H0V0z\" fill=\"none\"/>\n",
       "    <path d=\"M18.56 5.44l.94 2.06.94-2.06 2.06-.94-2.06-.94-.94-2.06-.94 2.06-2.06.94zm-11 1L8.5 8.5l.94-2.06 2.06-.94-2.06-.94L8.5 2.5l-.94 2.06-2.06.94zm10 10l.94 2.06.94-2.06 2.06-.94-2.06-.94-.94-2.06-.94 2.06-2.06.94z\"/><path d=\"M17.41 7.96l-1.37-1.37c-.4-.4-.92-.59-1.43-.59-.52 0-1.04.2-1.43.59L10.3 9.45l-7.72 7.72c-.78.78-.78 2.05 0 2.83L4 21.41c.39.39.9.59 1.41.59.51 0 1.02-.2 1.41-.59l7.78-7.78 2.81-2.81c.8-.78.8-2.07 0-2.86zM5.41 20L4 18.59l7.72-7.72 1.47 1.35L5.41 20z\"/>\n",
       "  </svg>\n",
       "      </button>\n",
       "      \n",
       "  <style>\n",
       "    .colab-df-container {\n",
       "      display:flex;\n",
       "      flex-wrap:wrap;\n",
       "      gap: 12px;\n",
       "    }\n",
       "\n",
       "    .colab-df-convert {\n",
       "      background-color: #E8F0FE;\n",
       "      border: none;\n",
       "      border-radius: 50%;\n",
       "      cursor: pointer;\n",
       "      display: none;\n",
       "      fill: #1967D2;\n",
       "      height: 32px;\n",
       "      padding: 0 0 0 0;\n",
       "      width: 32px;\n",
       "    }\n",
       "\n",
       "    .colab-df-convert:hover {\n",
       "      background-color: #E2EBFA;\n",
       "      box-shadow: 0px 1px 2px rgba(60, 64, 67, 0.3), 0px 1px 3px 1px rgba(60, 64, 67, 0.15);\n",
       "      fill: #174EA6;\n",
       "    }\n",
       "\n",
       "    [theme=dark] .colab-df-convert {\n",
       "      background-color: #3B4455;\n",
       "      fill: #D2E3FC;\n",
       "    }\n",
       "\n",
       "    [theme=dark] .colab-df-convert:hover {\n",
       "      background-color: #434B5C;\n",
       "      box-shadow: 0px 1px 3px 1px rgba(0, 0, 0, 0.15);\n",
       "      filter: drop-shadow(0px 1px 2px rgba(0, 0, 0, 0.3));\n",
       "      fill: #FFFFFF;\n",
       "    }\n",
       "  </style>\n",
       "\n",
       "      <script>\n",
       "        const buttonEl =\n",
       "          document.querySelector('#df-d8308ef5-237d-4ea5-b2b1-3b7e2b529ba5 button.colab-df-convert');\n",
       "        buttonEl.style.display =\n",
       "          google.colab.kernel.accessAllowed ? 'block' : 'none';\n",
       "\n",
       "        async function convertToInteractive(key) {\n",
       "          const element = document.querySelector('#df-d8308ef5-237d-4ea5-b2b1-3b7e2b529ba5');\n",
       "          const dataTable =\n",
       "            await google.colab.kernel.invokeFunction('convertToInteractive',\n",
       "                                                     [key], {});\n",
       "          if (!dataTable) return;\n",
       "\n",
       "          const docLinkHtml = 'Like what you see? Visit the ' +\n",
       "            '<a target=\"_blank\" href=https://colab.research.google.com/notebooks/data_table.ipynb>data table notebook</a>'\n",
       "            + ' to learn more about interactive tables.';\n",
       "          element.innerHTML = '';\n",
       "          dataTable['output_type'] = 'display_data';\n",
       "          await google.colab.output.renderOutput(dataTable, element);\n",
       "          const docLink = document.createElement('div');\n",
       "          docLink.innerHTML = docLinkHtml;\n",
       "          element.appendChild(docLink);\n",
       "        }\n",
       "      </script>\n",
       "    </div>\n",
       "  </div>\n",
       "  "
      ],
      "text/plain": [
       "     threshold   tp    fp   fn    tn       tpr       fpr\n",
       "0          0.0  386  1023    0     0  1.000000  1.000000\n",
       "10         0.1  347   923   39   100  0.898964  0.902248\n",
       "20         0.2  307   822   79   201  0.795337  0.803519\n",
       "30         0.3  276   724  110   299  0.715026  0.707722\n",
       "40         0.4  237   624  149   399  0.613990  0.609971\n",
       "50         0.5  202   518  184   505  0.523316  0.506354\n",
       "60         0.6  161   409  225   614  0.417098  0.399804\n",
       "70         0.7  121   302  265   721  0.313472  0.295210\n",
       "80         0.8   78   206  308   817  0.202073  0.201369\n",
       "90         0.9   40   101  346   922  0.103627  0.098729\n",
       "100        1.0    0     0  386  1023  0.000000  0.000000"
      ]
     },
     "execution_count": 32,
     "metadata": {},
     "output_type": "execute_result"
    }
   ],
   "source": [
    "df_random = tpr_fpr_dataframe(y_val, y_rand_pred)\n",
    "df_random[::10]"
   ]
  },
  {
   "cell_type": "code",
   "execution_count": null,
   "metadata": {
    "colab": {
     "base_uri": "https://localhost:8080/"
    },
    "id": "QxhMPmbM5ObT",
    "outputId": "3dd557fa-fd11-4e6f-d4b1-4fda3f732616"
   },
   "outputs": [
    {
     "data": {
      "text/plain": [
       "<matplotlib.legend.Legend at 0x7f5c079f0190>"
      ]
     },
     "execution_count": 33,
     "metadata": {},
     "output_type": "execute_result"
    },
    {
     "data": {
      "image/png": "[encoded data removed]",
      "text/plain": [
       "<Figure size 720x720 with 1 Axes>"
      ]
     },
     "metadata": {},
     "output_type": "display_data"
    }
   ],
   "source": [
    "# Plotting the roc rates from the random model\n",
    "plt.figure(figsize=(10, 10))\n",
    "plt.plot(df_random.threshold, df_random.tpr, label='TPR')\n",
    "plt.plot(df_random.threshold, df_random.fpr, label='FPR')\n",
    "plt.xlabel(\"Threshold\")\n",
    "plt.ylabel(\"Rate\")\n",
    "plt.legend()"
   ]
  },
  {
   "cell_type": "markdown",
   "metadata": {
    "id": "7vEe8gaZH6Ra"
   },
   "source": [
    "### Preamble for the Ideal Model section\n",
    "\n",
    "This is to help understand what we are trying to achieve with the ideal model.\n",
    "\n",
    "What qualifies an ideal scenario?\n",
    "* actual targtes (e.g. y_val) should be sorted in ascending order (i.e. 0's followed by 1's)\n",
    "* predictions from the model (i.e. y_pred) should be in ascending order."
   ]
  },
  {
   "cell_type": "code",
   "execution_count": null,
   "metadata": {
    "colab": {
     "base_uri": "https://localhost:8080/"
    },
    "id": "OtHgxx6eH9GL",
    "outputId": "47e02429-4202-4d2e-db7f-d7b8ae214bd7"
   },
   "outputs": [
    {
     "data": {
      "text/plain": [
       "array([0, 0, 0, 0, 0, 0, 0, 1, 1, 1])"
      ]
     },
     "execution_count": 34,
     "metadata": {},
     "output_type": "execute_result"
    }
   ],
   "source": [
    "# say we have 3 churned customers and they appear together at the end of the scale\n",
    "sn_y_val = np.repeat([0,1], [7,3])\n",
    "sn_y_val"
   ]
  },
  {
   "cell_type": "code",
   "execution_count": null,
   "metadata": {
    "colab": {
     "base_uri": "https://localhost:8080/"
    },
    "id": "zb8vRMCZIAa1",
    "outputId": "dab347cb-c78c-4d12-b189-6320c8a59f7e"
   },
   "outputs": [
    {
     "data": {
      "text/plain": [
       "array([0.        , 0.11111111, 0.22222222, 0.33333333, 0.44444444,\n",
       "       0.55555556, 0.66666667, 0.77777778, 0.88888889, 1.        ])"
      ]
     },
     "execution_count": 35,
     "metadata": {},
     "output_type": "execute_result"
    }
   ],
   "source": [
    "# we fabricate some predictions in ascending order\n",
    "sn_y_pred = np.linspace(0, 1, len(sn_y_val))\n",
    "sn_y_pred"
   ]
  },
  {
   "cell_type": "code",
   "execution_count": null,
   "metadata": {
    "colab": {
     "base_uri": "https://localhost:8080/"
    },
    "id": "qmt9vAEtIJPU",
    "outputId": "0ace6b8f-6af9-4304-a501-c63fc219fd7c"
   },
   "outputs": [
    {
     "data": {
      "text/plain": [
       "0.8"
      ]
     },
     "execution_count": 36,
     "metadata": {},
     "output_type": "execute_result"
    }
   ],
   "source": [
    "# what is the accuracy with t=0.5\n",
    "sn_t=0.5\n",
    "sn_churn_decision  = sn_y_pred >= sn_t\n",
    "(sn_churn_decision == sn_y_val).mean()\n",
    "\n",
    "# it's 80%. In an ideal scenario we should be able to achieve 100% accuracy. "
   ]
  },
  {
   "cell_type": "code",
   "execution_count": null,
   "metadata": {
    "colab": {
     "base_uri": "https://localhost:8080/"
    },
    "id": "E2CUC9WnIZa7",
    "outputId": "71c4b29e-c80a-41d2-987a-501df6ee7399"
   },
   "outputs": [
    {
     "data": {
      "text/plain": [
       "0.7"
      ]
     },
     "execution_count": 37,
     "metadata": {},
     "output_type": "execute_result"
    }
   ],
   "source": [
    "# So what should be the threshold to get 100% correct predictions?\n",
    "sn_t = 1 - (sn_y_val == 1).mean()\n",
    "sn_t"
   ]
  },
  {
   "cell_type": "code",
   "execution_count": null,
   "metadata": {
    "colab": {
     "base_uri": "https://localhost:8080/"
    },
    "id": "7CRjVdVZIbgd",
    "outputId": "ada2555d-a2da-4c62-f963-6083c0faf7c4"
   },
   "outputs": [
    {
     "data": {
      "text/plain": [
       "1.0"
      ]
     },
     "execution_count": 38,
     "metadata": {},
     "output_type": "execute_result"
    }
   ],
   "source": [
    "# Let's try it and see if we get 100% accurancy.\n",
    "sn_churn_decision = sn_y_pred >= sn_t\n",
    "(sn_churn_decision == sn_y_val).mean()\n",
    "\n",
    "# yes!!"
   ]
  },
  {
   "cell_type": "markdown",
   "metadata": {
    "id": "tqXZzu3b-ygZ"
   },
   "source": [
    "### Ideal Model\n",
    "* Ideal model helps us to plot a curve for the perfect scenario\n",
    "* This is another type of baseline.\n",
    "* The prediction values from the model is sorted in ascending order.\n"
   ]
  },
  {
   "cell_type": "code",
   "execution_count": null,
   "metadata": {
    "colab": {
     "base_uri": "https://localhost:8080/"
    },
    "id": "mqSJonfg9BWz",
    "outputId": "6c129a8b-fa83-436e-ff4d-85a1bb0033c6"
   },
   "outputs": [
    {
     "name": "stdout",
     "output_type": "stream",
     "text": [
      "1023 386\n"
     ]
    },
    {
     "data": {
      "text/plain": [
       "array([0, 0, 0, ..., 1, 1, 1])"
      ]
     },
     "execution_count": 39,
     "metadata": {},
     "output_type": "execute_result"
    }
   ],
   "source": [
    "# Here are are going to sort the values y_val with 0's followed by 1's. What we \n",
    "# are trying to do here is to remove the shuffuling of the actual target values, \n",
    "# so all the 'churned' customers apper together at the end of the scale. We call\n",
    "# the new object y_ideal. Remember, these are ideal 'actuals', not predictions\n",
    "# from the model.\n",
    "num_neg = (y_val == 0).sum()\n",
    "num_pos = (y_val == 1).sum()\n",
    "print (num_neg, num_pos)\n",
    "y_ideal = np.repeat([0, 1], [num_neg, num_pos])\n",
    "y_ideal"
   ]
  },
  {
   "cell_type": "code",
   "execution_count": null,
   "metadata": {
    "colab": {
     "base_uri": "https://localhost:8080/"
    },
    "id": "w2Tb2UrPBPL8",
    "outputId": "a5ecb0f5-8e59-4540-b74a-7f92ad525e1d"
   },
   "outputs": [
    {
     "data": {
      "text/plain": [
       "array([0.00000000e+00, 7.10227273e-04, 1.42045455e-03, ...,\n",
       "       9.98579545e-01, 9.99289773e-01, 1.00000000e+00])"
      ]
     },
     "execution_count": 40,
     "metadata": {},
     "output_type": "execute_result"
    }
   ],
   "source": [
    "# Then we fabricate predictions. These are in accending order with 0.5 as the median.\n",
    "y_ideal_pred = np.linspace(0, 1, len(y_val))\n",
    "y_ideal_pred"
   ]
  },
  {
   "cell_type": "code",
   "execution_count": null,
   "metadata": {
    "colab": {
     "base_uri": "https://localhost:8080/"
    },
    "id": "qqDRzInrBqOG",
    "outputId": "8e07a5ea-fa39-48fd-b553-5f98cdd3765d"
   },
   "outputs": [
    {
     "data": {
      "text/plain": [
       "1.0"
      ]
     },
     "execution_count": 41,
     "metadata": {},
     "output_type": "execute_result"
    }
   ],
   "source": [
    "((y_ideal_pred >= 0.726 ) == y_ideal).mean()"
   ]
  },
  {
   "cell_type": "code",
   "execution_count": null,
   "metadata": {
    "id": "1FsI-XFkB3FG"
   },
   "outputs": [],
   "source": [
    "df_ideal = tpr_fpr_dataframe(y_ideal, y_ideal_pred)"
   ]
  },
  {
   "cell_type": "code",
   "execution_count": null,
   "metadata": {
    "colab": {
     "base_uri": "https://localhost:8080/"
    },
    "id": "77ugxxvDDcvI",
    "outputId": "be982e51-7829-4143-c968-66ac39edb0d3"
   },
   "outputs": [
    {
     "data": {
      "text/plain": [
       "<matplotlib.legend.Legend at 0x7f5c07a41cd0>"
      ]
     },
     "execution_count": 43,
     "metadata": {},
     "output_type": "execute_result"
    },
    {
     "data": {
      "image/png": "[encoded data removed]",
      "text/plain": [
       "<Figure size 720x720 with 1 Axes>"
      ]
     },
     "metadata": {},
     "output_type": "display_data"
    }
   ],
   "source": [
    "# Plotting the roc rates from the random model\n",
    "plt.figure(figsize=(10, 10))\n",
    "plt.plot(df_ideal.threshold, df_ideal.tpr, label='TPR')\n",
    "plt.plot(df_ideal.threshold, df_ideal.fpr, label='FPR')\n",
    "plt.xlabel(\"Threshold\")\n",
    "plt.ylabel(\"Rate\")\n",
    "plt.legend()"
   ]
  },
  {
   "cell_type": "markdown",
   "metadata": {
    "id": "DZnLeiknHByx"
   },
   "source": [
    "### Putting everything together\n",
    "\n"
   ]
  },
  {
   "cell_type": "code",
   "execution_count": null,
   "metadata": {
    "colab": {
     "base_uri": "https://localhost:8080/"
    },
    "id": "nZmiIq4cEB6B",
    "outputId": "cd5df381-dce4-4be8-f900-3c8f97a2d2a8"
   },
   "outputs": [
    {
     "data": {
      "text/plain": [
       "<matplotlib.legend.Legend at 0x7f5c079d6f50>"
      ]
     },
     "execution_count": 44,
     "metadata": {},
     "output_type": "execute_result"
    },
    {
     "data": {
      "image/png": "[encoded data removed]",
      "text/plain": [
       "<Figure size 720x720 with 1 Axes>"
      ]
     },
     "metadata": {},
     "output_type": "display_data"
    }
   ],
   "source": [
    "\n",
    "plt.figure(figsize=(10,10))\n",
    "plt.plot(df_scores.threshold, df_scores.tpr, label='TPR')\n",
    "plt.plot(df_scores.threshold, df_scores.fpr, label='FPR')\n",
    "\n",
    "# plt.plot(df_random.threshold, df_random.tpr, label='rnd.TPR')\n",
    "# plt.plot(df_random.threshold, df_random.fpr, label='rnd.FPR')\n",
    "\n",
    "plt.plot(df_ideal.threshold, df_ideal.tpr, label='idl.TPR')\n",
    "plt.plot(df_ideal.threshold, df_ideal.fpr, label='idl.FPR')\n",
    "\n",
    "plt.xlabel(\"Threshold\")\n",
    "plt.ylabel(\"Rate\")\n",
    "plt.legend()"
   ]
  },
  {
   "cell_type": "code",
   "execution_count": null,
   "metadata": {
    "colab": {
     "base_uri": "https://localhost:8080/"
    },
    "id": "_WBoRp2hHiMI",
    "outputId": "366d189f-4110-4ac5-e021-ed4c8d2df812"
   },
   "outputs": [
    {
     "data": {
      "text/plain": [
       "<matplotlib.legend.Legend at 0x7f5c07df1e90>"
      ]
     },
     "execution_count": 45,
     "metadata": {},
     "output_type": "execute_result"
    },
    {
     "data": {
      "image/png": "[encoded data removed]",
      "text/plain": [
       "<Figure size 720x720 with 1 Axes>"
      ]
     },
     "metadata": {},
     "output_type": "display_data"
    }
   ],
   "source": [
    "plt.figure(figsize=(10,10))\n",
    "plt.plot(df_scores.fpr, df_scores.tpr, label='model')\n",
    "plt.plot(df_random.fpr, df_random.tpr, label='random')\n",
    "plt.plot(df_ideal.fpr, df_ideal.tpr, label='ideal')\n",
    "plt.xlabel(\"FPR\")\n",
    "plt.ylabel(\"TPR\")\n",
    "plt.legend()"
   ]
  },
  {
   "cell_type": "markdown",
   "metadata": {
    "id": "wDbWk-rLI6Kt"
   },
   "source": [
    "So our aim should be:\n",
    "* to get the model curl as close as possible to the green line. "
   ]
  },
  {
   "cell_type": "code",
   "execution_count": null,
   "metadata": {
    "colab": {
     "base_uri": "https://localhost:8080/"
    },
    "id": "klNOeMJgIttC",
    "outputId": "2aec36f9-bc38-425a-c9da-8b761de838e6"
   },
   "outputs": [
    {
     "data": {
      "text/plain": [
       "<matplotlib.legend.Legend at 0x7f5c048b8b10>"
      ]
     },
     "execution_count": 46,
     "metadata": {},
     "output_type": "execute_result"
    },
    {
     "data": {
      "image/png": "[encoded data removed]",
      "text/plain": [
       "<Figure size 720x720 with 1 Axes>"
      ]
     },
     "metadata": {},
     "output_type": "display_data"
    }
   ],
   "source": [
    "# Optional: We can further simplify the plot by removing the ideal line as we know it should look like, and makesing the random line a straight line.\n",
    "plt.figure(figsize=(10,10))\n",
    "plt.plot(df_scores.fpr, df_scores.tpr, label='model')\n",
    "plt.plot([0, 1], [0, 1], label='random')\n",
    "# plt.plot(df_ideal.fpr, df_ideal.tpr, label='ideal')\n",
    "plt.xlabel(\"FPR\")\n",
    "plt.ylabel(\"TPR\")\n",
    "plt.legend()"
   ]
  },
  {
   "cell_type": "markdown",
   "metadata": {
    "id": "FHP8ajjNMcFa"
   },
   "source": [
    "Btw, sklearn has a convenience function to calculate the fpr, tpr and threshold. So no need to do it yourself."
   ]
  },
  {
   "cell_type": "code",
   "execution_count": null,
   "metadata": {
    "id": "aKEiycnpINtI"
   },
   "outputs": [],
   "source": [
    "from sklearn.metrics import roc_curve\n",
    "fprs, tprs, thresholds = roc_curve(y_val, y_val_pred)"
   ]
  },
  {
   "cell_type": "code",
   "execution_count": null,
   "metadata": {
    "colab": {
     "base_uri": "https://localhost:8080/"
    },
    "id": "uZoNzBhnMwAd",
    "outputId": "1c98d59f-ab44-44f3-cf01-d024564b9fdf"
   },
   "outputs": [
    {
     "data": {
      "text/plain": [
       "<matplotlib.legend.Legend at 0x7f5c048af590>"
      ]
     },
     "execution_count": 48,
     "metadata": {},
     "output_type": "execute_result"
    },
    {
     "data": {
      "image/png": "[encoded data removed]",
      "text/plain": [
       "<Figure size 720x720 with 1 Axes>"
      ]
     },
     "metadata": {},
     "output_type": "display_data"
    }
   ],
   "source": [
    "plt.figure(figsize=(10,10))\n",
    "plt.plot(fprs, tprs, label='model')\n",
    "plt.plot([0, 1], [0, 1], label='random', linestyle='--')\n",
    "# plt.plot(fprs, tprs, label='ideal')\n",
    "plt.xlabel('FPR')\n",
    "plt.ylabel('TPR')\n",
    "plt.legend()"
   ]
  },
  {
   "cell_type": "markdown",
   "metadata": {
    "id": "3EjWvZjKLle9"
   },
   "source": [
    "What's most interesting is a metric based on the ROC curve called the 'Area Under the Curv (AUC)'. A good metric for evaluative binary classification models."
   ]
  },
  {
   "cell_type": "markdown",
   "metadata": {
    "id": "rnsKKZXIxwvk"
   },
   "source": [
    "## 4.6 ROC Area Under the Curve (AUC)\n",
    "\n"
   ]
  },
  {
   "cell_type": "code",
   "execution_count": null,
   "metadata": {
    "id": "q-iwRZTezQpU"
   },
   "outputs": [],
   "source": [
    "from sklearn.metrics import auc"
   ]
  },
  {
   "cell_type": "code",
   "execution_count": null,
   "metadata": {
    "colab": {
     "base_uri": "https://localhost:8080/"
    },
    "id": "GpwBobVwzWKR",
    "outputId": "d0daac92-c05c-4d39-8a4c-34b6025b77ab"
   },
   "outputs": [
    {
     "data": {
      "text/plain": [
       "0.8438530381535563"
      ]
     },
     "execution_count": 50,
     "metadata": {},
     "output_type": "execute_result"
    }
   ],
   "source": [
    "auc(fprs, tprs) # with the fpr and tpr calculated using sklearn's roc_curve()"
   ]
  },
  {
   "cell_type": "code",
   "execution_count": null,
   "metadata": {
    "colab": {
     "base_uri": "https://localhost:8080/"
    },
    "id": "C4H6AP-N3CJI",
    "outputId": "edb4c88b-4a5e-4ffe-ac42-24d5e053e0ab"
   },
   "outputs": [
    {
     "data": {
      "text/plain": [
       "0.1561469618464437"
      ]
     },
     "execution_count": 51,
     "metadata": {},
     "output_type": "execute_result"
    }
   ],
   "source": [
    "auc(tprs, fprs)"
   ]
  },
  {
   "cell_type": "code",
   "execution_count": null,
   "metadata": {
    "colab": {
     "base_uri": "https://localhost:8080/"
    },
    "id": "xcV8NCJIzew-",
    "outputId": "7e6921bf-034c-4030-a327-efc5f4c4dce9"
   },
   "outputs": [
    {
     "data": {
      "text/plain": [
       "0.8438732975754537"
      ]
     },
     "execution_count": 52,
     "metadata": {},
     "output_type": "execute_result"
    }
   ],
   "source": [
    "auc(df_scores.fpr, df_scores.tpr) # with the fpr and tpr we canculated manually"
   ]
  },
  {
   "cell_type": "code",
   "execution_count": null,
   "metadata": {
    "colab": {
     "base_uri": "https://localhost:8080/"
    },
    "id": "LI6LzIi_0DK4",
    "outputId": "29e498fa-aec4-467f-9d9c-6944319f808e"
   },
   "outputs": [
    {
     "data": {
      "text/plain": [
       "0.9999430203759136"
      ]
     },
     "execution_count": 53,
     "metadata": {},
     "output_type": "execute_result"
    }
   ],
   "source": [
    "auc(df_ideal.fpr, df_ideal.tpr) # with the fpr and tpr from the ideal model"
   ]
  },
  {
   "cell_type": "code",
   "execution_count": null,
   "metadata": {
    "colab": {
     "base_uri": "https://localhost:8080/"
    },
    "id": "MLaCFf4S0YPX",
    "outputId": "f340d2a7-5dea-41af-cc2d-d0cdf23172a4"
   },
   "outputs": [
    {
     "data": {
      "text/plain": [
       "0.5060233793728696"
      ]
     },
     "execution_count": 54,
     "metadata": {},
     "output_type": "execute_result"
    }
   ],
   "source": [
    "auc(df_random.fpr, df_random.tpr) # with the fpr and tpr from the random model"
   ]
  },
  {
   "cell_type": "code",
   "execution_count": null,
   "metadata": {
    "id": "S8tM-YX50d2k"
   },
   "outputs": [],
   "source": [
    "# Here's a shortcut function from sklearn to calculate the roc and then auc in one go.\n",
    "from sklearn.metrics import roc_auc_score"
   ]
  },
  {
   "cell_type": "code",
   "execution_count": null,
   "metadata": {
    "colab": {
     "base_uri": "https://localhost:8080/"
    },
    "id": "kRY85Vef1KJV",
    "outputId": "2ec8f866-4aa6-42f4-fb84-35a1202044d5"
   },
   "outputs": [
    {
     "data": {
      "text/plain": [
       "0.8438530381535563"
      ]
     },
     "execution_count": 56,
     "metadata": {},
     "output_type": "execute_result"
    }
   ],
   "source": [
    "roc_auc_score(y_val, y_val_pred)\n",
    "# the result is identical to what was calculated above at the begining of this section"
   ]
  },
  {
   "cell_type": "markdown",
   "metadata": {
    "id": "cmoXKirF4kle"
   },
   "source": [
    "Lexy says \"AUC is telling is tha P(selecting a positive example) is greater than P(selecting a negative example)\"  🥴 What the hell does that mean?\n"
   ]
  },
  {
   "cell_type": "code",
   "execution_count": null,
   "metadata": {
    "id": "Wf-UqvzO4_g9"
   },
   "outputs": [],
   "source": [
    "neg = y_val_pred[y_val == 0]\n",
    "pos = y_val_pred[y_val == 1]\n",
    "# len(neg), len(pos)"
   ]
  },
  {
   "cell_type": "code",
   "execution_count": null,
   "metadata": {
    "colab": {
     "base_uri": "https://localhost:8080/"
    },
    "id": "g9ptiWz35N0Q",
    "outputId": "8cf04afa-28f8-40fb-db57-0fc674cc3373"
   },
   "outputs": [
    {
     "data": {
      "text/plain": [
       "0.8446"
      ]
     },
     "execution_count": 58,
     "metadata": {},
     "output_type": "execute_result"
    }
   ],
   "source": [
    "import random\n",
    "\n",
    "n=10000\n",
    "success = 0\n",
    "\n",
    "for i in range(n):\n",
    "  pos_idx = random.randint(0, len(pos) - 1)\n",
    "  neg_idx = random.randint(0, len(neg) - 1)\n",
    "  if(pos[pos_idx] > neg[neg_idx]):\n",
    "    success += 1\n",
    "\n",
    "success/ n"
   ]
  },
  {
   "cell_type": "code",
   "execution_count": null,
   "metadata": {
    "colab": {
     "base_uri": "https://localhost:8080/"
    },
    "id": "EQxnBRtE6Dgd",
    "outputId": "d5f396c0-dd61-4d0f-ae0e-9eb4fe04ebc1"
   },
   "outputs": [
    {
     "data": {
      "text/plain": [
       "0.8352"
      ]
     },
     "execution_count": 59,
     "metadata": {},
     "output_type": "execute_result"
    }
   ],
   "source": [
    "# Same with numpy, in a more elegant manner\n",
    "n = 10000\n",
    "pos_idx = np.random.randint(0, len(pos), size=n)\n",
    "neg_idx = np.random.randint(0, len(neg), size=n)\n",
    "(pos[pos_idx] > neg[neg_idx]).mean()"
   ]
  },
  {
   "cell_type": "markdown",
   "metadata": {
    "id": "OUF63LEa-y_s"
   },
   "source": [
    "## 4.7 Cross Validation\n",
    "* Evaluating the same model on different subsets of data using K-fold\n",
    "* Getting the average prediction and the spread within predictions\n",
    "* We use this for parameter tuning\n",
    "\n",
    "K is the number of splits.\n",
    "If K=3,   split 1 and 2 is for training.. and split 3 for validation. Do the same with the rest of the combinations.\n",
    "\n",
    "For each we calculate AUC and then we get their mean and sd.\n",
    "sd will show how stable the model is.\n"
   ]
  },
  {
   "cell_type": "code",
   "execution_count": null,
   "metadata": {
    "id": "ammGGh1h-2e4"
   },
   "outputs": [],
   "source": [
    "def train(df, y_true):\n",
    "  dicts = df[categorical + numerical].to_dict(orient='records')\n",
    "\n",
    "  dv = DictVectorizer(sparse=False)\n",
    "  X_train = dv.fit_transform(dicts)\n",
    "\n",
    "  model = LogisticRegression(solver='liblinear', max_iter=1000)\n",
    "  model.fit(X_train, y_true)\n",
    "\n",
    "  return dv, model"
   ]
  },
  {
   "cell_type": "code",
   "execution_count": null,
   "metadata": {
    "id": "gtvMNi_TAQ81"
   },
   "outputs": [],
   "source": [
    "dv, model = train(df_train, y_train)"
   ]
  },
  {
   "cell_type": "code",
   "execution_count": null,
   "metadata": {
    "id": "Y0uN2PYUAWbL"
   },
   "outputs": [],
   "source": [
    "def predict(df, dv, model):\n",
    "  dicts = df[categorical + numerical].to_dict(orient='records')\n",
    "\n",
    "  X = dv.transform(dicts)\n",
    "  y_pred = model.predict_proba(X)[:, 1]\n",
    "\n",
    "  return y_pred"
   ]
  },
  {
   "cell_type": "code",
   "execution_count": null,
   "metadata": {
    "id": "eixCvltRA1NC"
   },
   "outputs": [],
   "source": [
    "y_pred = predict(df_val, dv, model)"
   ]
  },
  {
   "cell_type": "code",
   "execution_count": null,
   "metadata": {
    "colab": {
     "base_uri": "https://localhost:8080/"
    },
    "id": "0NgtjOeGHVc5",
    "outputId": "e7e3ab3a-493d-4c52-ab85-b12f306f39b4"
   },
   "outputs": [
    {
     "name": "stdout",
     "output_type": "stream",
     "text": [
      "Looking in indexes: https://pypi.org/simple, https://us-python.pkg.dev/colab-wheels/public/simple/\n",
      "Requirement already satisfied: tqdm in /usr/local/lib/python3.7/dist-packages (4.64.1)\n"
     ]
    }
   ],
   "source": [
    "!pip install tqdm"
   ]
  },
  {
   "cell_type": "code",
   "execution_count": null,
   "metadata": {
    "id": "LgfEXy_jHc2-"
   },
   "outputs": [],
   "source": [
    "from tqdm.auto import tqdm"
   ]
  },
  {
   "cell_type": "code",
   "execution_count": null,
   "metadata": {
    "colab": {
     "background_save": true,
     "base_uri": "https://localhost:8080/",
     "height": 223,
     "referenced_widgets": [
      "e08c106556464159902624b5ad3fd08b"
     ]
    },
    "id": "M4ya9mUFBMQu",
    "outputId": "063e6e2d-bf7b-435f-96d9-c0c383292dec"
   },
   "outputs": [
    {
     "data": {
      "application/vnd.jupyter.widget-view+json": {
       "model_id": "e08c106556464159902624b5ad3fd08b",
       "version_major": 2,
       "version_minor": 0
      },
      "text/plain": [
       "0it [00:00, ?it/s]"
      ]
     },
     "metadata": {},
     "output_type": "display_data"
    },
    {
     "data": {
      "text/plain": [
       "[0.8493392490816277,\n",
       " 0.8413366336633662,\n",
       " 0.8590269587894291,\n",
       " 0.8330260883877869,\n",
       " 0.8242555831265509,\n",
       " 0.8416250416250417,\n",
       " 0.8437154021491371,\n",
       " 0.8223355471220746,\n",
       " 0.8450570623981029,\n",
       " 0.8611811367685119]"
      ]
     },
     "execution_count": 66,
     "metadata": {},
     "output_type": "execute_result"
    }
   ],
   "source": [
    "from sklearn.model_selection import KFold\n",
    "kfold = KFold(n_splits=10, shuffle=True, random_state=1)\n",
    "\n",
    "# train_idx, val_idx = next(kfold.split(df_full_train))\n",
    "# len(train_idx), len(val_idx)\n",
    "\n",
    "scores = []\n",
    "\n",
    "for train_idx, val_idx in tqdm(kfold.split(df_full_train)):\n",
    "  df_train = df_full_train.iloc[train_idx]\n",
    "  df_val = df_full_train.iloc[val_idx]\n",
    "\n",
    "  y_train = df_train.churn.values\n",
    "  y_val = df_val.churn.values\n",
    "\n",
    "  # del df_train['churn']\n",
    "  # del df_val['churn']\n",
    "\n",
    "  dv, model = train(df_train, y_train)\n",
    "  y_pred = predict(df_val, dv, model)\n",
    "\n",
    "  auc = roc_auc_score(y_val, y_pred)\n",
    "  scores.append(auc)\n",
    "scores"
   ]
  },
  {
   "cell_type": "code",
   "execution_count": null,
   "metadata": {
    "colab": {
     "background_save": true,
     "base_uri": "https://localhost:8080/"
    },
    "id": "_dBDOu-fCVjT",
    "outputId": "a5ea458a-aba3-496e-ec36-3d1c71de0ead"
   },
   "outputs": [
    {
     "name": "stdout",
     "output_type": "stream",
     "text": [
      "0.842 +- 0.012\n"
     ]
    }
   ],
   "source": [
    "print('%.3f +- %.3f' % (np.mean(scores), np.std(scores)))"
   ]
  },
  {
   "cell_type": "markdown",
   "metadata": {
    "id": "dhOjMT5qJMpI"
   },
   "source": [
    "LogisticRegression() has a parameter called `C` which is used to control the regularisation. Here, lower the C value, stronger the regularisation! Default is 1.0.\n",
    "\n",
    "Let's rewrite our train() function with C as a parameter."
   ]
  },
  {
   "cell_type": "code",
   "execution_count": null,
   "metadata": {
    "colab": {
     "background_save": true
    },
    "id": "IIj9PafwIv7V"
   },
   "outputs": [],
   "source": [
    "def train(df, y_true, C=1.0):\n",
    "  \"\"\" Improved train function with C regularizer \"\"\"\n",
    "\n",
    "  dicts = df[categorical + numerical].to_dict(orient='records')\n",
    "\n",
    "  dv = DictVectorizer(sparse=False)\n",
    "  X_train = dv.fit_transform(dicts)\n",
    "\n",
    "  model = LogisticRegression(C=C, solver='liblinear', max_iter=1000)\n",
    "  model.fit(X_train, y_true)\n",
    "\n",
    "  return dv, model"
   ]
  },
  {
   "cell_type": "code",
   "execution_count": null,
   "metadata": {
    "colab": {
     "background_save": true,
     "base_uri": "https://localhost:8080/",
     "height": 171,
     "referenced_widgets": [
      "b6eba07343fd4e9eb77d804af2866c61"
     ]
    },
    "id": "ahttrs9HKPND",
    "outputId": "938699c6-6aa9-4c86-e613-5804c68c692f"
   },
   "outputs": [
    {
     "data": {
      "application/vnd.jupyter.widget-view+json": {
       "model_id": "b6eba07343fd4e9eb77d804af2866c61",
       "version_major": 2,
       "version_minor": 0
      },
      "text/plain": [
       "  0%|          | 0/7 [00:00<?, ?it/s]"
      ]
     },
     "metadata": {},
     "output_type": "display_data"
    },
    {
     "name": "stdout",
     "output_type": "stream",
     "text": [
      "C=0.001\tmean=0.825\tsd = +- 0.013\n",
      "C=0.01\tmean=0.839\tsd = +- 0.009\n",
      "C=0.1\tmean=0.841\tsd = +- 0.008\n",
      "C=0.5\tmean=0.841\tsd = +- 0.007\n",
      "C=1\tmean=0.841\tsd = +- 0.007\n",
      "C=5\tmean=0.841\tsd = +- 0.007\n",
      "C=10\tmean=0.841\tsd = +- 0.007\n"
     ]
    }
   ],
   "source": [
    "n_splits = 5\n",
    "\n",
    "for C in tqdm([0.001, 0.01, 0.1, 0.5, 1, 5, 10]):\n",
    "  scores = []\n",
    "\n",
    "  kfold = KFold(n_splits=n_splits, shuffle=True, random_state=1)\n",
    "\n",
    "  for train_idx, val_idx in kfold.split(df_full_train):\n",
    "    df_train = df_full_train.iloc[train_idx]\n",
    "    df_val = df_full_train.iloc[val_idx]\n",
    "\n",
    "    y_train = df_train.churn.values\n",
    "    y_val = df_val.churn.values\n",
    "\n",
    "    dv, model = train(df_train, y_train, C=C)\n",
    "    y_pred = predict(df_val, dv, model)\n",
    "\n",
    "    auc = roc_auc_score(y_val, y_pred)\n",
    "    scores.append(auc)\n",
    "  print('C=%s\\tmean=%.3f\\tsd = +- %.3f' % (C, np.mean(scores), np.std(scores)))"
   ]
  },
  {
   "cell_type": "code",
   "execution_count": null,
   "metadata": {
    "colab": {
     "background_save": true,
     "base_uri": "https://localhost:8080/"
    },
    "id": "b-mHUsvATlo3",
    "outputId": "a81c052d-ee8f-4175-ee31-be8597063b11"
   },
   "outputs": [
    {
     "data": {
      "text/plain": [
       "0.8579400803839363"
      ]
     },
     "execution_count": 70,
     "metadata": {},
     "output_type": "execute_result"
    }
   ],
   "source": [
    "# Select the best C from the above and use it to train the model with df_full_train \n",
    "# and validate with the df_test.\n",
    "\n",
    "C=1.0\n",
    "dv, model = train(df_full_train, df_full_train.churn.values, C=C)\n",
    "y_pred = predict(df_test, dv, model)\n",
    "\n",
    "auc = roc_auc_score(y_test, y_pred)\n",
    "auc\n"
   ]
  },
  {
   "cell_type": "markdown",
   "metadata": {
    "id": "XyCPR2DzV95B"
   },
   "source": [
    "❗ When should I use cross validation (K-fold) vs. usual validation (train/val)?\n",
    "\n",
    "When the dataset you are working with is small, then use cross validation with say 10 k-fold splits. This allows us to train and validate the model with different data combinations and then pick the best using the mean and sdev.\n",
    "\n",
    "When the dataset is large, then we can either stick to the usual train/val split or use a lower k-fold, say 3 n_splits.\n"
   ]
  }
 ],
 "metadata": {
  "colab": {
   "collapsed_sections": [
    "1JBxYNySbmgy",
    "ShSPV1bdbmg4",
    "gNOp4agMgsfW",
    "0r5A0iDthAEI",
    "7rUxK0b0kVx2",
    "TG67S0a-0n4p",
    "sx34Li8Dmsz-",
    "7vEe8gaZH6Ra",
    "tqXZzu3b-ygZ",
    "DZnLeiknHByx",
    "rnsKKZXIxwvk"
   ],
   "provenance": []
  },
  "kernelspec": {
   "display_name": "Python 3",
   "language": "python",
   "name": "python3"
  },
  "language_info": {
   "codemirror_mode": {
    "name": "ipython",
    "version": 3
   },
   "file_extension": ".py",
   "mimetype": "text/x-python",
   "name": "python",
   "nbconvert_exporter": "python",
   "pygments_lexer": "ipython3",
   "version": "3.7.12"
  },
  "widgets": {
   "application/vnd.jupyter.widget-state+json": {}
  }
 },
 "nbformat": 4,
 "nbformat_minor": 0
}
