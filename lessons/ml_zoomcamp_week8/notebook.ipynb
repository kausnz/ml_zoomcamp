{
 "cells": [
  {
   "cell_type": "code",
   "execution_count": 1,
   "id": "4753be61-bc5e-43f0-838d-69bbca6edea9",
   "metadata": {
    "execution": {
     "iopub.execute_input": "2022-11-10T17:46:07.546803Z",
     "iopub.status.busy": "2022-11-10T17:46:07.545946Z",
     "iopub.status.idle": "2022-11-10T17:46:13.793203Z",
     "shell.execute_reply": "2022-11-10T17:46:13.792506Z",
     "shell.execute_reply.started": "2022-11-10T17:46:07.546704Z"
    }
   },
   "outputs": [
    {
     "name": "stderr",
     "output_type": "stream",
     "text": [
      "2022-11-10 17:46:07.681479: I tensorflow/core/util/util.cc:169] oneDNN custom operations are on. You may see slightly different numerical results due to floating-point round-off errors from different computation orders. To turn them off, set the environment variable `TF_ENABLE_ONEDNN_OPTS=0`.\n"
     ]
    }
   ],
   "source": [
    "import tensorflow as tf"
   ]
  },
  {
   "cell_type": "code",
   "execution_count": 2,
   "id": "f1c2316e-c906-4dc4-9f36-43077294488b",
   "metadata": {
    "execution": {
     "iopub.execute_input": "2022-11-10T17:46:19.374129Z",
     "iopub.status.busy": "2022-11-10T17:46:19.373754Z",
     "iopub.status.idle": "2022-11-10T17:46:19.383892Z",
     "shell.execute_reply": "2022-11-10T17:46:19.383271Z",
     "shell.execute_reply.started": "2022-11-10T17:46:19.374105Z"
    }
   },
   "outputs": [
    {
     "data": {
      "text/plain": [
       "'2.9.1'"
      ]
     },
     "execution_count": 2,
     "metadata": {},
     "output_type": "execute_result"
    }
   ],
   "source": [
    "tf.__version__"
   ]
  },
  {
   "cell_type": "code",
   "execution_count": null,
   "id": "b60a2838-40c7-4e00-ac01-d13d6daa7833",
   "metadata": {},
   "outputs": [],
   "source": []
  }
 ],
 "metadata": {
  "kernelspec": {
   "display_name": "saturn (Python 3)",
   "language": "python",
   "name": "python3"
  },
  "language_info": {
   "codemirror_mode": {
    "name": "ipython",
    "version": 3
   },
   "file_extension": ".py",
   "mimetype": "text/x-python",
   "name": "python",
   "nbconvert_exporter": "python",
   "pygments_lexer": "ipython3",
   "version": "3.9.13"
  }
 },
 "nbformat": 4,
 "nbformat_minor": 5
}
