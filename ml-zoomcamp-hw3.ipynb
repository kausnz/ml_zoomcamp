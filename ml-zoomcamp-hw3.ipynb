{
 "cells": [
  {
   "cell_type": "code",
   "execution_count": 1,
   "id": "b103d951",
   "metadata": {
    "_cell_guid": "b1076dfc-b9ad-4769-8c92-a6c4dae69d19",
    "_uuid": "8f2839f25d086af736a60e9eeb907d3b93b6e0e5",
    "execution": {
     "iopub.execute_input": "2022-09-25T10:40:05.605241Z",
     "iopub.status.busy": "2022-09-25T10:40:05.604284Z",
     "iopub.status.idle": "2022-09-25T10:40:06.612962Z",
     "shell.execute_reply": "2022-09-25T10:40:06.611751Z"
    },
    "papermill": {
     "duration": 1.019297,
     "end_time": "2022-09-25T10:40:06.615914",
     "exception": false,
     "start_time": "2022-09-25T10:40:05.596617",
     "status": "completed"
    },
    "tags": []
   },
   "outputs": [],
   "source": [
    "import numpy as np # linear algebra\n",
    "import pandas as pd # data processing, CSV file I/O (e.g. pd.read_csv)\n",
    "from sklearn.model_selection import train_test_split"
   ]
  },
  {
   "cell_type": "code",
   "execution_count": 2,
   "id": "f8b054cd",
   "metadata": {
    "collapsed": true,
    "execution": {
     "iopub.execute_input": "2022-09-25T10:40:06.626388Z",
     "iopub.status.busy": "2022-09-25T10:40:06.625999Z",
     "iopub.status.idle": "2022-09-25T10:40:08.955916Z",
     "shell.execute_reply": "2022-09-25T10:40:08.954589Z"
    },
    "jupyter": {
     "outputs_hidden": true
    },
    "papermill": {
     "duration": 2.338175,
     "end_time": "2022-09-25T10:40:08.958750",
     "exception": false,
     "start_time": "2022-09-25T10:40:06.620575",
     "status": "completed"
    },
    "tags": []
   },
   "outputs": [
    {
     "name": "stdout",
     "output_type": "stream",
     "text": [
      "--2022-09-25 10:40:07--  https://raw.githubusercontent.com/alexeygrigorev/datasets/master/housing.csv\r\n",
      "Resolving raw.githubusercontent.com (raw.githubusercontent.com)... 185.199.111.133, 185.199.110.133, 185.199.109.133, ...\r\n",
      "Connecting to raw.githubusercontent.com (raw.githubusercontent.com)|185.199.111.133|:443... connected.\r\n",
      "HTTP request sent, awaiting response... 200 OK\r\n",
      "Length: 1423529 (1.4M) [text/plain]\r\n",
      "Saving to: ‘housing.csv’\r\n",
      "\r\n",
      "housing.csv         100%[===================>]   1.36M  --.-KB/s    in 0.1s    \r\n",
      "\r\n",
      "2022-09-25 10:40:08 (10.4 MB/s) - ‘housing.csv’ saved [1423529/1423529]\r\n",
      "\r\n"
     ]
    }
   ],
   "source": [
    "#os.remove('/kaggle/working/housing.csv.2')\n",
    "data='https://raw.githubusercontent.com/alexeygrigorev/datasets/master/housing.csv'\n",
    "!wget $data\n",
    "\n",
    "df_org = pd.read_csv('housing.csv')"
   ]
  },
  {
   "cell_type": "code",
   "execution_count": 3,
   "id": "17621a8c",
   "metadata": {
    "execution": {
     "iopub.execute_input": "2022-09-25T10:40:08.970763Z",
     "iopub.status.busy": "2022-09-25T10:40:08.970345Z",
     "iopub.status.idle": "2022-09-25T10:40:08.980739Z",
     "shell.execute_reply": "2022-09-25T10:40:08.979735Z"
    },
    "papermill": {
     "duration": 0.01899,
     "end_time": "2022-09-25T10:40:08.982982",
     "exception": false,
     "start_time": "2022-09-25T10:40:08.963992",
     "status": "completed"
    },
    "tags": []
   },
   "outputs": [
    {
     "data": {
      "text/plain": [
       "['latitude',\n",
       " 'longitude',\n",
       " 'housing_median_age',\n",
       " 'total_rooms',\n",
       " 'total_bedrooms',\n",
       " 'population',\n",
       " 'households',\n",
       " 'median_income',\n",
       " 'median_house_value',\n",
       " 'ocean_proximity']"
      ]
     },
     "execution_count": 3,
     "metadata": {},
     "output_type": "execute_result"
    }
   ],
   "source": [
    "columns = ['latitude',\n",
    "'longitude',\n",
    "'housing_median_age',\n",
    "'total_rooms',\n",
    "'total_bedrooms',\n",
    "'population',\n",
    "'households',\n",
    "'median_income',\n",
    "'median_house_value',\n",
    "'ocean_proximity']\n",
    "columns"
   ]
  },
  {
   "cell_type": "code",
   "execution_count": 4,
   "id": "f7a09fef",
   "metadata": {
    "execution": {
     "iopub.execute_input": "2022-09-25T10:40:08.994718Z",
     "iopub.status.busy": "2022-09-25T10:40:08.994311Z",
     "iopub.status.idle": "2022-09-25T10:40:09.039654Z",
     "shell.execute_reply": "2022-09-25T10:40:09.038039Z"
    },
    "papermill": {
     "duration": 0.054279,
     "end_time": "2022-09-25T10:40:09.042478",
     "exception": false,
     "start_time": "2022-09-25T10:40:08.988199",
     "status": "completed"
    },
    "tags": []
   },
   "outputs": [
    {
     "data": {
      "text/html": [
       "<div>\n",
       "<style scoped>\n",
       "    .dataframe tbody tr th:only-of-type {\n",
       "        vertical-align: middle;\n",
       "    }\n",
       "\n",
       "    .dataframe tbody tr th {\n",
       "        vertical-align: top;\n",
       "    }\n",
       "\n",
       "    .dataframe thead th {\n",
       "        text-align: right;\n",
       "    }\n",
       "</style>\n",
       "<table border=\"1\" class=\"dataframe\">\n",
       "  <thead>\n",
       "    <tr style=\"text-align: right;\">\n",
       "      <th></th>\n",
       "      <th>0</th>\n",
       "      <th>1</th>\n",
       "      <th>2</th>\n",
       "      <th>3</th>\n",
       "      <th>4</th>\n",
       "    </tr>\n",
       "  </thead>\n",
       "  <tbody>\n",
       "    <tr>\n",
       "      <th>latitude</th>\n",
       "      <td>37.88</td>\n",
       "      <td>37.86</td>\n",
       "      <td>37.85</td>\n",
       "      <td>37.85</td>\n",
       "      <td>37.85</td>\n",
       "    </tr>\n",
       "    <tr>\n",
       "      <th>longitude</th>\n",
       "      <td>-122.23</td>\n",
       "      <td>-122.22</td>\n",
       "      <td>-122.24</td>\n",
       "      <td>-122.25</td>\n",
       "      <td>-122.25</td>\n",
       "    </tr>\n",
       "    <tr>\n",
       "      <th>housing_median_age</th>\n",
       "      <td>41.0</td>\n",
       "      <td>21.0</td>\n",
       "      <td>52.0</td>\n",
       "      <td>52.0</td>\n",
       "      <td>52.0</td>\n",
       "    </tr>\n",
       "    <tr>\n",
       "      <th>total_rooms</th>\n",
       "      <td>880.0</td>\n",
       "      <td>7099.0</td>\n",
       "      <td>1467.0</td>\n",
       "      <td>1274.0</td>\n",
       "      <td>1627.0</td>\n",
       "    </tr>\n",
       "    <tr>\n",
       "      <th>total_bedrooms</th>\n",
       "      <td>129.0</td>\n",
       "      <td>1106.0</td>\n",
       "      <td>190.0</td>\n",
       "      <td>235.0</td>\n",
       "      <td>280.0</td>\n",
       "    </tr>\n",
       "    <tr>\n",
       "      <th>population</th>\n",
       "      <td>322.0</td>\n",
       "      <td>2401.0</td>\n",
       "      <td>496.0</td>\n",
       "      <td>558.0</td>\n",
       "      <td>565.0</td>\n",
       "    </tr>\n",
       "    <tr>\n",
       "      <th>households</th>\n",
       "      <td>126.0</td>\n",
       "      <td>1138.0</td>\n",
       "      <td>177.0</td>\n",
       "      <td>219.0</td>\n",
       "      <td>259.0</td>\n",
       "    </tr>\n",
       "    <tr>\n",
       "      <th>median_income</th>\n",
       "      <td>8.3252</td>\n",
       "      <td>8.3014</td>\n",
       "      <td>7.2574</td>\n",
       "      <td>5.6431</td>\n",
       "      <td>3.8462</td>\n",
       "    </tr>\n",
       "    <tr>\n",
       "      <th>median_house_value</th>\n",
       "      <td>452600.0</td>\n",
       "      <td>358500.0</td>\n",
       "      <td>352100.0</td>\n",
       "      <td>341300.0</td>\n",
       "      <td>342200.0</td>\n",
       "    </tr>\n",
       "    <tr>\n",
       "      <th>ocean_proximity</th>\n",
       "      <td>NEAR BAY</td>\n",
       "      <td>NEAR BAY</td>\n",
       "      <td>NEAR BAY</td>\n",
       "      <td>NEAR BAY</td>\n",
       "      <td>NEAR BAY</td>\n",
       "    </tr>\n",
       "    <tr>\n",
       "      <th>rooms_per_household</th>\n",
       "      <td>6.984127</td>\n",
       "      <td>6.238137</td>\n",
       "      <td>8.288136</td>\n",
       "      <td>5.817352</td>\n",
       "      <td>6.281853</td>\n",
       "    </tr>\n",
       "    <tr>\n",
       "      <th>bedrooms_per_room</th>\n",
       "      <td>0.146591</td>\n",
       "      <td>0.155797</td>\n",
       "      <td>0.129516</td>\n",
       "      <td>0.184458</td>\n",
       "      <td>0.172096</td>\n",
       "    </tr>\n",
       "    <tr>\n",
       "      <th>population_per_household</th>\n",
       "      <td>2.555556</td>\n",
       "      <td>2.109842</td>\n",
       "      <td>2.80226</td>\n",
       "      <td>2.547945</td>\n",
       "      <td>2.181467</td>\n",
       "    </tr>\n",
       "  </tbody>\n",
       "</table>\n",
       "</div>"
      ],
      "text/plain": [
       "                                 0         1         2         3         4\n",
       "latitude                     37.88     37.86     37.85     37.85     37.85\n",
       "longitude                  -122.23   -122.22   -122.24   -122.25   -122.25\n",
       "housing_median_age            41.0      21.0      52.0      52.0      52.0\n",
       "total_rooms                  880.0    7099.0    1467.0    1274.0    1627.0\n",
       "total_bedrooms               129.0    1106.0     190.0     235.0     280.0\n",
       "population                   322.0    2401.0     496.0     558.0     565.0\n",
       "households                   126.0    1138.0     177.0     219.0     259.0\n",
       "median_income               8.3252    8.3014    7.2574    5.6431    3.8462\n",
       "median_house_value        452600.0  358500.0  352100.0  341300.0  342200.0\n",
       "ocean_proximity           NEAR BAY  NEAR BAY  NEAR BAY  NEAR BAY  NEAR BAY\n",
       "rooms_per_household       6.984127  6.238137  8.288136  5.817352  6.281853\n",
       "bedrooms_per_room         0.146591  0.155797  0.129516  0.184458  0.172096\n",
       "population_per_household  2.555556  2.109842   2.80226  2.547945  2.181467"
      ]
     },
     "execution_count": 4,
     "metadata": {},
     "output_type": "execute_result"
    }
   ],
   "source": [
    "df = df_org[columns].fillna(0)\n",
    "df['rooms_per_household'] = df.total_rooms / df.households\n",
    "df['bedrooms_per_room'] = df.total_bedrooms / df.total_rooms\n",
    "df['population_per_household'] = df.population / df.households\n",
    "\n",
    "df.head().T\n",
    "# df_org.head().T"
   ]
  },
  {
   "cell_type": "markdown",
   "id": "0cdfccc5",
   "metadata": {
    "papermill": {
     "duration": 0.005447,
     "end_time": "2022-09-25T10:40:09.053509",
     "exception": false,
     "start_time": "2022-09-25T10:40:09.048062",
     "status": "completed"
    },
    "tags": []
   },
   "source": [
    "## Question 1\n",
    "What is the most frequent observation (mode) for the column ocean_proximity?"
   ]
  },
  {
   "cell_type": "code",
   "execution_count": 5,
   "id": "f4bce6d5",
   "metadata": {
    "execution": {
     "iopub.execute_input": "2022-09-25T10:40:09.066764Z",
     "iopub.status.busy": "2022-09-25T10:40:09.066328Z",
     "iopub.status.idle": "2022-09-25T10:40:09.077917Z",
     "shell.execute_reply": "2022-09-25T10:40:09.076631Z"
    },
    "papermill": {
     "duration": 0.021276,
     "end_time": "2022-09-25T10:40:09.080846",
     "exception": false,
     "start_time": "2022-09-25T10:40:09.059570",
     "status": "completed"
    },
    "tags": []
   },
   "outputs": [
    {
     "data": {
      "text/plain": [
       "0    <1H OCEAN\n",
       "dtype: object"
      ]
     },
     "execution_count": 5,
     "metadata": {},
     "output_type": "execute_result"
    }
   ],
   "source": [
    "df.ocean_proximity.mode()"
   ]
  },
  {
   "cell_type": "markdown",
   "id": "f41aab8b",
   "metadata": {
    "papermill": {
     "duration": 0.005767,
     "end_time": "2022-09-25T10:40:09.094375",
     "exception": false,
     "start_time": "2022-09-25T10:40:09.088608",
     "status": "completed"
    },
    "tags": []
   },
   "source": [
    "## Make median_house_value binary\n",
    "* We need to turn the median_house_value variable from numeric into binary.\n",
    "* Let's create a variable above_average which is 1 if the median_house_value is above its mean value and 0 otherwise."
   ]
  },
  {
   "cell_type": "code",
   "execution_count": 6,
   "id": "fd39113f",
   "metadata": {
    "execution": {
     "iopub.execute_input": "2022-09-25T10:40:09.109793Z",
     "iopub.status.busy": "2022-09-25T10:40:09.109292Z",
     "iopub.status.idle": "2022-09-25T10:40:09.117008Z",
     "shell.execute_reply": "2022-09-25T10:40:09.116146Z"
    },
    "papermill": {
     "duration": 0.017811,
     "end_time": "2022-09-25T10:40:09.119249",
     "exception": false,
     "start_time": "2022-09-25T10:40:09.101438",
     "status": "completed"
    },
    "tags": []
   },
   "outputs": [],
   "source": [
    "# binarizing median_house_value under new name 'above_average'\n",
    "df['above_average'] = (df.median_house_value > df.median_house_value.mean()).astype(int)"
   ]
  },
  {
   "cell_type": "markdown",
   "id": "e4b8936d",
   "metadata": {
    "papermill": {
     "duration": 0.005592,
     "end_time": "2022-09-25T10:40:09.131779",
     "exception": false,
     "start_time": "2022-09-25T10:40:09.126187",
     "status": "completed"
    },
    "tags": []
   },
   "source": [
    "## Split the data\n",
    "* Split your data in train/val/test sets, with 60%/20%/20% distribution.\n",
    "* Use Scikit-Learn for that (the train_test_split function) and set the seed to 42.\n",
    "* Make sure that the target value (median_house_value) is not in your dataframe."
   ]
  },
  {
   "cell_type": "code",
   "execution_count": 7,
   "id": "d4fbc117",
   "metadata": {
    "execution": {
     "iopub.execute_input": "2022-09-25T10:40:09.144585Z",
     "iopub.status.busy": "2022-09-25T10:40:09.143811Z",
     "iopub.status.idle": "2022-09-25T10:40:09.168664Z",
     "shell.execute_reply": "2022-09-25T10:40:09.167173Z"
    },
    "papermill": {
     "duration": 0.034064,
     "end_time": "2022-09-25T10:40:09.171117",
     "exception": false,
     "start_time": "2022-09-25T10:40:09.137053",
     "status": "completed"
    },
    "tags": []
   },
   "outputs": [
    {
     "name": "stdout",
     "output_type": "stream",
     "text": [
      "12384 4128 4128\n"
     ]
    }
   ],
   "source": [
    "# Splitting the data set\n",
    "\n",
    "df_full_train, df_test = train_test_split(df, test_size=0.2, random_state=42)\n",
    "df_train, df_val = train_test_split(df_full_train, test_size=0.25, random_state=42)\n",
    "\n",
    "print(len(df_train), len(df_val), len(df_test))\n",
    "\n",
    "df_train.reset_index()\n",
    "df_val.reset_index()\n",
    "df_test.reset_index()\n",
    "\n",
    "y_train = df_train.above_average.values\n",
    "y_val = df_val.above_average.values\n",
    "y_test = df_test.above_average.values\n",
    "\n",
    "for c in ['median_house_value', 'above_average']:\n",
    "    del df_train[c]\n",
    "    del df_val[c]\n",
    "    del df_test[c]"
   ]
  },
  {
   "cell_type": "markdown",
   "id": "93e58b1b",
   "metadata": {
    "papermill": {
     "duration": 0.005074,
     "end_time": "2022-09-25T10:40:09.181836",
     "exception": false,
     "start_time": "2022-09-25T10:40:09.176762",
     "status": "completed"
    },
    "tags": []
   },
   "source": [
    "## Question 2\n",
    "* Create the correlation matrix for the numerical features of your **train** dataset. In a correlation matrix, you compute the correlation coefficient between every pair of features in the dataset.\n",
    "* What are the two features that have the biggest correlation in this dataset?"
   ]
  },
  {
   "cell_type": "code",
   "execution_count": 8,
   "id": "33a41632",
   "metadata": {
    "execution": {
     "iopub.execute_input": "2022-09-25T10:40:09.194672Z",
     "iopub.status.busy": "2022-09-25T10:40:09.193994Z",
     "iopub.status.idle": "2022-09-25T10:40:09.201198Z",
     "shell.execute_reply": "2022-09-25T10:40:09.200371Z"
    },
    "papermill": {
     "duration": 0.015994,
     "end_time": "2022-09-25T10:40:09.203171",
     "exception": false,
     "start_time": "2022-09-25T10:40:09.187177",
     "status": "completed"
    },
    "tags": []
   },
   "outputs": [
    {
     "data": {
      "text/plain": [
       "['latitude',\n",
       " 'longitude',\n",
       " 'housing_median_age',\n",
       " 'total_rooms',\n",
       " 'total_bedrooms',\n",
       " 'population',\n",
       " 'households',\n",
       " 'median_income',\n",
       " 'median_house_value',\n",
       " 'rooms_per_household',\n",
       " 'bedrooms_per_room',\n",
       " 'population_per_household',\n",
       " 'above_average']"
      ]
     },
     "execution_count": 8,
     "metadata": {},
     "output_type": "execute_result"
    }
   ],
   "source": [
    "list((df.dtypes[df.dtypes != 'object'].index))"
   ]
  },
  {
   "cell_type": "code",
   "execution_count": 9,
   "id": "d7ceb5b4",
   "metadata": {
    "execution": {
     "iopub.execute_input": "2022-09-25T10:40:09.216946Z",
     "iopub.status.busy": "2022-09-25T10:40:09.216298Z",
     "iopub.status.idle": "2022-09-25T10:40:09.221238Z",
     "shell.execute_reply": "2022-09-25T10:40:09.220235Z"
    },
    "papermill": {
     "duration": 0.014032,
     "end_time": "2022-09-25T10:40:09.223556",
     "exception": false,
     "start_time": "2022-09-25T10:40:09.209524",
     "status": "completed"
    },
    "tags": []
   },
   "outputs": [],
   "source": [
    "numerical = ['latitude',\n",
    " 'longitude',\n",
    " 'housing_median_age',\n",
    " 'total_rooms',\n",
    " 'total_bedrooms',\n",
    " 'population',\n",
    " 'households',\n",
    " 'median_income',\n",
    "#  'median_house_value', <-- removed after binarizing\n",
    " 'rooms_per_household',\n",
    " 'bedrooms_per_room',\n",
    " 'population_per_household']"
   ]
  },
  {
   "cell_type": "code",
   "execution_count": 10,
   "id": "75900833",
   "metadata": {
    "execution": {
     "iopub.execute_input": "2022-09-25T10:40:09.236035Z",
     "iopub.status.busy": "2022-09-25T10:40:09.235634Z",
     "iopub.status.idle": "2022-09-25T10:40:09.242998Z",
     "shell.execute_reply": "2022-09-25T10:40:09.241906Z"
    },
    "papermill": {
     "duration": 0.016184,
     "end_time": "2022-09-25T10:40:09.245201",
     "exception": false,
     "start_time": "2022-09-25T10:40:09.229017",
     "status": "completed"
    },
    "tags": []
   },
   "outputs": [
    {
     "data": {
      "text/plain": [
       "['ocean_proximity']"
      ]
     },
     "execution_count": 10,
     "metadata": {},
     "output_type": "execute_result"
    }
   ],
   "source": [
    "list((df.dtypes[df.dtypes == 'object'].index))"
   ]
  },
  {
   "cell_type": "code",
   "execution_count": 11,
   "id": "0de99d02",
   "metadata": {
    "execution": {
     "iopub.execute_input": "2022-09-25T10:40:09.258064Z",
     "iopub.status.busy": "2022-09-25T10:40:09.257641Z",
     "iopub.status.idle": "2022-09-25T10:40:09.261878Z",
     "shell.execute_reply": "2022-09-25T10:40:09.261024Z"
    },
    "papermill": {
     "duration": 0.012989,
     "end_time": "2022-09-25T10:40:09.263811",
     "exception": false,
     "start_time": "2022-09-25T10:40:09.250822",
     "status": "completed"
    },
    "tags": []
   },
   "outputs": [],
   "source": [
    "categorical = ['ocean_proximity']"
   ]
  },
  {
   "cell_type": "code",
   "execution_count": 12,
   "id": "d6f7de79",
   "metadata": {
    "execution": {
     "iopub.execute_input": "2022-09-25T10:40:09.278054Z",
     "iopub.status.busy": "2022-09-25T10:40:09.277315Z",
     "iopub.status.idle": "2022-09-25T10:40:09.329106Z",
     "shell.execute_reply": "2022-09-25T10:40:09.328074Z"
    },
    "papermill": {
     "duration": 0.061108,
     "end_time": "2022-09-25T10:40:09.331603",
     "exception": false,
     "start_time": "2022-09-25T10:40:09.270495",
     "status": "completed"
    },
    "tags": []
   },
   "outputs": [
    {
     "data": {
      "text/plain": [
       "{'name': 'total_bedrooms___households', 'corr': 0.979399352769416}"
      ]
     },
     "execution_count": 12,
     "metadata": {},
     "output_type": "execute_result"
    }
   ],
   "source": [
    "corr_matrix = list()\n",
    "\n",
    "for c in numerical:\n",
    "    for o in numerical:\n",
    "        if c == o: continue\n",
    "        corr_matrix.append({'name' : '%s___%s' % (c, o),\n",
    "                      'corr' : df_train[c].corr(df_train[o])})\n",
    "\n",
    "sorted(corr_matrix, key = lambda d: d['corr'], reverse=True)[0]"
   ]
  },
  {
   "cell_type": "code",
   "execution_count": null,
   "id": "67542bb7",
   "metadata": {
    "papermill": {
     "duration": 0.005403,
     "end_time": "2022-09-25T10:40:09.342828",
     "exception": false,
     "start_time": "2022-09-25T10:40:09.337425",
     "status": "completed"
    },
    "tags": []
   },
   "outputs": [],
   "source": []
  }
 ],
 "metadata": {
  "kernelspec": {
   "display_name": "Python 3",
   "language": "python",
   "name": "python3"
  },
  "language_info": {
   "codemirror_mode": {
    "name": "ipython",
    "version": 3
   },
   "file_extension": ".py",
   "mimetype": "text/x-python",
   "name": "python",
   "nbconvert_exporter": "python",
   "pygments_lexer": "ipython3",
   "version": "3.7.12"
  },
  "papermill": {
   "default_parameters": {},
   "duration": 13.284298,
   "end_time": "2022-09-25T10:40:10.069553",
   "environment_variables": {},
   "exception": null,
   "input_path": "__notebook__.ipynb",
   "output_path": "__notebook__.ipynb",
   "parameters": {},
   "start_time": "2022-09-25T10:39:56.785255",
   "version": "2.3.4"
  }
 },
 "nbformat": 4,
 "nbformat_minor": 5
}
