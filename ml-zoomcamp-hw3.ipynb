{
 "cells": [
  {
   "cell_type": "code",
   "execution_count": 1,
   "id": "b6fe7353",
   "metadata": {
    "_cell_guid": "b1076dfc-b9ad-4769-8c92-a6c4dae69d19",
    "_uuid": "8f2839f25d086af736a60e9eeb907d3b93b6e0e5",
    "execution": {
     "iopub.execute_input": "2022-09-25T05:32:49.454944Z",
     "iopub.status.busy": "2022-09-25T05:32:49.454327Z",
     "iopub.status.idle": "2022-09-25T05:32:49.467223Z",
     "shell.execute_reply": "2022-09-25T05:32:49.466165Z"
    },
    "papermill": {
     "duration": 0.022435,
     "end_time": "2022-09-25T05:32:49.469972",
     "exception": false,
     "start_time": "2022-09-25T05:32:49.447537",
     "status": "completed"
    },
    "tags": []
   },
   "outputs": [],
   "source": [
    "import numpy as np # linear algebra\n",
    "import pandas as pd # data processing, CSV file I/O (e.g. pd.read_csv)"
   ]
  },
  {
   "cell_type": "code",
   "execution_count": 2,
   "id": "d91eb3c2",
   "metadata": {
    "execution": {
     "iopub.execute_input": "2022-09-25T05:32:49.479367Z",
     "iopub.status.busy": "2022-09-25T05:32:49.478326Z",
     "iopub.status.idle": "2022-09-25T05:32:51.079492Z",
     "shell.execute_reply": "2022-09-25T05:32:51.078147Z"
    },
    "papermill": {
     "duration": 1.608839,
     "end_time": "2022-09-25T05:32:51.082557",
     "exception": false,
     "start_time": "2022-09-25T05:32:49.473718",
     "status": "completed"
    },
    "tags": []
   },
   "outputs": [
    {
     "name": "stdout",
     "output_type": "stream",
     "text": [
      "--2022-09-25 05:32:50--  https://raw.githubusercontent.com/alexeygrigorev/datasets/master/housing.csv\r\n",
      "Resolving raw.githubusercontent.com (raw.githubusercontent.com)... 185.199.111.133, 185.199.108.133, 185.199.109.133, ...\r\n",
      "Connecting to raw.githubusercontent.com (raw.githubusercontent.com)|185.199.111.133|:443... connected.\r\n",
      "HTTP request sent, awaiting response... 200 OK\r\n",
      "Length: 1423529 (1.4M) [text/plain]\r\n",
      "Saving to: ‘housing.csv’\r\n",
      "\r\n",
      "housing.csv         100%[===================>]   1.36M  --.-KB/s    in 0.04s   \r\n",
      "\r\n",
      "2022-09-25 05:32:50 (36.2 MB/s) - ‘housing.csv’ saved [1423529/1423529]\r\n",
      "\r\n"
     ]
    }
   ],
   "source": [
    "#os.remove('/kaggle/working/housing.csv.2')\n",
    "data='https://raw.githubusercontent.com/alexeygrigorev/datasets/master/housing.csv'\n",
    "!wget $data\n",
    "\n",
    "df_org = pd.read_csv('housing.csv')"
   ]
  },
  {
   "cell_type": "code",
   "execution_count": 3,
   "id": "8bbf0908",
   "metadata": {
    "execution": {
     "iopub.execute_input": "2022-09-25T05:32:51.092092Z",
     "iopub.status.busy": "2022-09-25T05:32:51.091656Z",
     "iopub.status.idle": "2022-09-25T05:32:51.103157Z",
     "shell.execute_reply": "2022-09-25T05:32:51.101986Z"
    },
    "papermill": {
     "duration": 0.01901,
     "end_time": "2022-09-25T05:32:51.105514",
     "exception": false,
     "start_time": "2022-09-25T05:32:51.086504",
     "status": "completed"
    },
    "tags": []
   },
   "outputs": [
    {
     "data": {
      "text/plain": [
       "['latitude',\n",
       " 'longitude',\n",
       " 'housing_median_age',\n",
       " 'total_rooms',\n",
       " 'total_bedrooms',\n",
       " 'population',\n",
       " 'households',\n",
       " 'median_income',\n",
       " 'median_house_value',\n",
       " 'ocean_proximity']"
      ]
     },
     "execution_count": 3,
     "metadata": {},
     "output_type": "execute_result"
    }
   ],
   "source": [
    "columns = ['latitude',\n",
    "'longitude',\n",
    "'housing_median_age',\n",
    "'total_rooms',\n",
    "'total_bedrooms',\n",
    "'population',\n",
    "'households',\n",
    "'median_income',\n",
    "'median_house_value',\n",
    "'ocean_proximity']\n",
    "columns"
   ]
  },
  {
   "cell_type": "code",
   "execution_count": 4,
   "id": "36afd2d3",
   "metadata": {
    "execution": {
     "iopub.execute_input": "2022-09-25T05:32:51.115011Z",
     "iopub.status.busy": "2022-09-25T05:32:51.114634Z",
     "iopub.status.idle": "2022-09-25T05:32:51.163424Z",
     "shell.execute_reply": "2022-09-25T05:32:51.162478Z"
    },
    "papermill": {
     "duration": 0.055907,
     "end_time": "2022-09-25T05:32:51.165535",
     "exception": false,
     "start_time": "2022-09-25T05:32:51.109628",
     "status": "completed"
    },
    "tags": []
   },
   "outputs": [
    {
     "data": {
      "text/html": [
       "<div>\n",
       "<style scoped>\n",
       "    .dataframe tbody tr th:only-of-type {\n",
       "        vertical-align: middle;\n",
       "    }\n",
       "\n",
       "    .dataframe tbody tr th {\n",
       "        vertical-align: top;\n",
       "    }\n",
       "\n",
       "    .dataframe thead th {\n",
       "        text-align: right;\n",
       "    }\n",
       "</style>\n",
       "<table border=\"1\" class=\"dataframe\">\n",
       "  <thead>\n",
       "    <tr style=\"text-align: right;\">\n",
       "      <th></th>\n",
       "      <th>0</th>\n",
       "      <th>1</th>\n",
       "      <th>2</th>\n",
       "      <th>3</th>\n",
       "      <th>4</th>\n",
       "    </tr>\n",
       "  </thead>\n",
       "  <tbody>\n",
       "    <tr>\n",
       "      <th>latitude</th>\n",
       "      <td>37.88</td>\n",
       "      <td>37.86</td>\n",
       "      <td>37.85</td>\n",
       "      <td>37.85</td>\n",
       "      <td>37.85</td>\n",
       "    </tr>\n",
       "    <tr>\n",
       "      <th>longitude</th>\n",
       "      <td>-122.23</td>\n",
       "      <td>-122.22</td>\n",
       "      <td>-122.24</td>\n",
       "      <td>-122.25</td>\n",
       "      <td>-122.25</td>\n",
       "    </tr>\n",
       "    <tr>\n",
       "      <th>housing_median_age</th>\n",
       "      <td>41.0</td>\n",
       "      <td>21.0</td>\n",
       "      <td>52.0</td>\n",
       "      <td>52.0</td>\n",
       "      <td>52.0</td>\n",
       "    </tr>\n",
       "    <tr>\n",
       "      <th>total_rooms</th>\n",
       "      <td>880.0</td>\n",
       "      <td>7099.0</td>\n",
       "      <td>1467.0</td>\n",
       "      <td>1274.0</td>\n",
       "      <td>1627.0</td>\n",
       "    </tr>\n",
       "    <tr>\n",
       "      <th>total_bedrooms</th>\n",
       "      <td>129.0</td>\n",
       "      <td>1106.0</td>\n",
       "      <td>190.0</td>\n",
       "      <td>235.0</td>\n",
       "      <td>280.0</td>\n",
       "    </tr>\n",
       "    <tr>\n",
       "      <th>population</th>\n",
       "      <td>322.0</td>\n",
       "      <td>2401.0</td>\n",
       "      <td>496.0</td>\n",
       "      <td>558.0</td>\n",
       "      <td>565.0</td>\n",
       "    </tr>\n",
       "    <tr>\n",
       "      <th>households</th>\n",
       "      <td>126.0</td>\n",
       "      <td>1138.0</td>\n",
       "      <td>177.0</td>\n",
       "      <td>219.0</td>\n",
       "      <td>259.0</td>\n",
       "    </tr>\n",
       "    <tr>\n",
       "      <th>median_income</th>\n",
       "      <td>8.3252</td>\n",
       "      <td>8.3014</td>\n",
       "      <td>7.2574</td>\n",
       "      <td>5.6431</td>\n",
       "      <td>3.8462</td>\n",
       "    </tr>\n",
       "    <tr>\n",
       "      <th>median_house_value</th>\n",
       "      <td>452600.0</td>\n",
       "      <td>358500.0</td>\n",
       "      <td>352100.0</td>\n",
       "      <td>341300.0</td>\n",
       "      <td>342200.0</td>\n",
       "    </tr>\n",
       "    <tr>\n",
       "      <th>ocean_proximity</th>\n",
       "      <td>NEAR BAY</td>\n",
       "      <td>NEAR BAY</td>\n",
       "      <td>NEAR BAY</td>\n",
       "      <td>NEAR BAY</td>\n",
       "      <td>NEAR BAY</td>\n",
       "    </tr>\n",
       "    <tr>\n",
       "      <th>rooms_per_household</th>\n",
       "      <td>6.984127</td>\n",
       "      <td>6.238137</td>\n",
       "      <td>8.288136</td>\n",
       "      <td>5.817352</td>\n",
       "      <td>6.281853</td>\n",
       "    </tr>\n",
       "    <tr>\n",
       "      <th>bedrooms_per_room</th>\n",
       "      <td>0.146591</td>\n",
       "      <td>0.155797</td>\n",
       "      <td>0.129516</td>\n",
       "      <td>0.184458</td>\n",
       "      <td>0.172096</td>\n",
       "    </tr>\n",
       "    <tr>\n",
       "      <th>population_per_household</th>\n",
       "      <td>2.555556</td>\n",
       "      <td>2.109842</td>\n",
       "      <td>2.80226</td>\n",
       "      <td>2.547945</td>\n",
       "      <td>2.181467</td>\n",
       "    </tr>\n",
       "  </tbody>\n",
       "</table>\n",
       "</div>"
      ],
      "text/plain": [
       "                                 0         1         2         3         4\n",
       "latitude                     37.88     37.86     37.85     37.85     37.85\n",
       "longitude                  -122.23   -122.22   -122.24   -122.25   -122.25\n",
       "housing_median_age            41.0      21.0      52.0      52.0      52.0\n",
       "total_rooms                  880.0    7099.0    1467.0    1274.0    1627.0\n",
       "total_bedrooms               129.0    1106.0     190.0     235.0     280.0\n",
       "population                   322.0    2401.0     496.0     558.0     565.0\n",
       "households                   126.0    1138.0     177.0     219.0     259.0\n",
       "median_income               8.3252    8.3014    7.2574    5.6431    3.8462\n",
       "median_house_value        452600.0  358500.0  352100.0  341300.0  342200.0\n",
       "ocean_proximity           NEAR BAY  NEAR BAY  NEAR BAY  NEAR BAY  NEAR BAY\n",
       "rooms_per_household       6.984127  6.238137  8.288136  5.817352  6.281853\n",
       "bedrooms_per_room         0.146591  0.155797  0.129516  0.184458  0.172096\n",
       "population_per_household  2.555556  2.109842   2.80226  2.547945  2.181467"
      ]
     },
     "execution_count": 4,
     "metadata": {},
     "output_type": "execute_result"
    }
   ],
   "source": [
    "df = df_org[columns].fillna(0)\n",
    "df['rooms_per_household'] = df.total_rooms / df.households\n",
    "df['bedrooms_per_room'] = df.total_bedrooms / df.total_rooms\n",
    "df['population_per_household'] = df.population / df.households\n",
    "\n",
    "df.head().T\n",
    "# df_org.head().T"
   ]
  },
  {
   "cell_type": "markdown",
   "id": "691dfd48",
   "metadata": {
    "papermill": {
     "duration": 0.003922,
     "end_time": "2022-09-25T05:32:51.173672",
     "exception": false,
     "start_time": "2022-09-25T05:32:51.169750",
     "status": "completed"
    },
    "tags": []
   },
   "source": [
    "## Question 1\n",
    "What is the most frequent observation (mode) for the column ocean_proximity?"
   ]
  },
  {
   "cell_type": "code",
   "execution_count": 5,
   "id": "535c7196",
   "metadata": {
    "execution": {
     "iopub.execute_input": "2022-09-25T05:32:51.183716Z",
     "iopub.status.busy": "2022-09-25T05:32:51.183330Z",
     "iopub.status.idle": "2022-09-25T05:32:51.196407Z",
     "shell.execute_reply": "2022-09-25T05:32:51.195315Z"
    },
    "papermill": {
     "duration": 0.021025,
     "end_time": "2022-09-25T05:32:51.198819",
     "exception": false,
     "start_time": "2022-09-25T05:32:51.177794",
     "status": "completed"
    },
    "tags": []
   },
   "outputs": [
    {
     "data": {
      "text/plain": [
       "0    <1H OCEAN\n",
       "dtype: object"
      ]
     },
     "execution_count": 5,
     "metadata": {},
     "output_type": "execute_result"
    }
   ],
   "source": [
    "df.ocean_proximity.mode()"
   ]
  },
  {
   "cell_type": "markdown",
   "id": "d8a4ef82",
   "metadata": {
    "papermill": {
     "duration": 0.003926,
     "end_time": "2022-09-25T05:32:51.207223",
     "exception": false,
     "start_time": "2022-09-25T05:32:51.203297",
     "status": "completed"
    },
    "tags": []
   },
   "source": [
    "## Question 2\n",
    "* Create the correlation matrix for the numerical features of your train dataset. In a correlation matrix, you compute the correlation coefficient between every pair of features in the dataset.\n",
    "* What are the two features that have the biggest correlation in this dataset?"
   ]
  },
  {
   "cell_type": "code",
   "execution_count": 6,
   "id": "a899dab3",
   "metadata": {
    "execution": {
     "iopub.execute_input": "2022-09-25T05:32:51.217362Z",
     "iopub.status.busy": "2022-09-25T05:32:51.216948Z",
     "iopub.status.idle": "2022-09-25T05:32:51.224693Z",
     "shell.execute_reply": "2022-09-25T05:32:51.223648Z"
    },
    "papermill": {
     "duration": 0.015569,
     "end_time": "2022-09-25T05:32:51.226903",
     "exception": false,
     "start_time": "2022-09-25T05:32:51.211334",
     "status": "completed"
    },
    "tags": []
   },
   "outputs": [
    {
     "data": {
      "text/plain": [
       "['latitude',\n",
       " 'longitude',\n",
       " 'housing_median_age',\n",
       " 'total_rooms',\n",
       " 'total_bedrooms',\n",
       " 'population',\n",
       " 'households',\n",
       " 'median_income',\n",
       " 'median_house_value',\n",
       " 'rooms_per_household',\n",
       " 'bedrooms_per_room',\n",
       " 'population_per_household']"
      ]
     },
     "execution_count": 6,
     "metadata": {},
     "output_type": "execute_result"
    }
   ],
   "source": [
    "list((df.dtypes[df.dtypes != 'object'].index))"
   ]
  },
  {
   "cell_type": "code",
   "execution_count": 7,
   "id": "400fd866",
   "metadata": {
    "execution": {
     "iopub.execute_input": "2022-09-25T05:32:51.237443Z",
     "iopub.status.busy": "2022-09-25T05:32:51.237073Z",
     "iopub.status.idle": "2022-09-25T05:32:51.242404Z",
     "shell.execute_reply": "2022-09-25T05:32:51.241325Z"
    },
    "papermill": {
     "duration": 0.01307,
     "end_time": "2022-09-25T05:32:51.244560",
     "exception": false,
     "start_time": "2022-09-25T05:32:51.231490",
     "status": "completed"
    },
    "tags": []
   },
   "outputs": [],
   "source": [
    "numerical = ['latitude',\n",
    " 'longitude',\n",
    " 'housing_median_age',\n",
    " 'total_rooms',\n",
    " 'total_bedrooms',\n",
    " 'population',\n",
    " 'households',\n",
    " 'median_income',\n",
    " 'median_house_value',\n",
    " 'rooms_per_household',\n",
    " 'bedrooms_per_room',\n",
    " 'population_per_household']"
   ]
  },
  {
   "cell_type": "code",
   "execution_count": 8,
   "id": "7097a021",
   "metadata": {
    "execution": {
     "iopub.execute_input": "2022-09-25T05:32:51.254468Z",
     "iopub.status.busy": "2022-09-25T05:32:51.254109Z",
     "iopub.status.idle": "2022-09-25T05:32:51.335429Z",
     "shell.execute_reply": "2022-09-25T05:32:51.334102Z"
    },
    "papermill": {
     "duration": 0.089068,
     "end_time": "2022-09-25T05:32:51.337836",
     "exception": false,
     "start_time": "2022-09-25T05:32:51.248768",
     "status": "completed"
    },
    "tags": []
   },
   "outputs": [
    {
     "data": {
      "text/plain": [
       "{'name': 'households___total_bedrooms', 'corr': 0.9665072400420389}"
      ]
     },
     "execution_count": 8,
     "metadata": {},
     "output_type": "execute_result"
    }
   ],
   "source": [
    "cm = pd.DataFrame()\n",
    "tlist = list()\n",
    "\n",
    "df['latitude'].corr(df['latitude'])\n",
    "\n",
    "for c in numerical:\n",
    "    for o in numerical:\n",
    "        if c == o: continue\n",
    "        tlist.append({'name' : '%s___%s' % (c, o),\n",
    "                      'corr' : df[c].corr(df[o])})\n",
    "\n",
    "sorted(tlist, key = lambda d: d['corr'], reverse=True)[0]"
   ]
  },
  {
   "cell_type": "code",
   "execution_count": null,
   "id": "77efec4f",
   "metadata": {
    "papermill": {
     "duration": 0.004199,
     "end_time": "2022-09-25T05:32:51.346559",
     "exception": false,
     "start_time": "2022-09-25T05:32:51.342360",
     "status": "completed"
    },
    "tags": []
   },
   "outputs": [],
   "source": []
  }
 ],
 "metadata": {
  "kernelspec": {
   "display_name": "Python 3",
   "language": "python",
   "name": "python3"
  },
  "language_info": {
   "codemirror_mode": {
    "name": "ipython",
    "version": 3
   },
   "file_extension": ".py",
   "mimetype": "text/x-python",
   "name": "python",
   "nbconvert_exporter": "python",
   "pygments_lexer": "ipython3",
   "version": "3.7.12"
  },
  "papermill": {
   "default_parameters": {},
   "duration": 11.957291,
   "end_time": "2022-09-25T05:32:52.073211",
   "environment_variables": {},
   "exception": null,
   "input_path": "__notebook__.ipynb",
   "output_path": "__notebook__.ipynb",
   "parameters": {},
   "start_time": "2022-09-25T05:32:40.115920",
   "version": "2.3.4"
  }
 },
 "nbformat": 4,
 "nbformat_minor": 5
}
