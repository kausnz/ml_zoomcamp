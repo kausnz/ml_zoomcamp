{
 "cells": [
  {
   "cell_type": "code",
   "execution_count": 1,
   "id": "9727a87d",
   "metadata": {
    "_cell_guid": "b1076dfc-b9ad-4769-8c92-a6c4dae69d19",
    "_uuid": "8f2839f25d086af736a60e9eeb907d3b93b6e0e5",
    "execution": {
     "iopub.execute_input": "2022-09-25T10:56:09.911376Z",
     "iopub.status.busy": "2022-09-25T10:56:09.910760Z",
     "iopub.status.idle": "2022-09-25T10:56:11.117929Z",
     "shell.execute_reply": "2022-09-25T10:56:11.116757Z"
    },
    "papermill": {
     "duration": 1.218661,
     "end_time": "2022-09-25T10:56:11.120757",
     "exception": false,
     "start_time": "2022-09-25T10:56:09.902096",
     "status": "completed"
    },
    "tags": []
   },
   "outputs": [],
   "source": [
    "import numpy as np # linear algebra\n",
    "import pandas as pd # data processing, CSV file I/O (e.g. pd.read_csv)\n",
    "\n",
    "from sklearn.model_selection import train_test_split\n",
    "from sklearn.metrics import mutual_info_score"
   ]
  },
  {
   "cell_type": "code",
   "execution_count": 2,
   "id": "fb1a7ed4",
   "metadata": {
    "execution": {
     "iopub.execute_input": "2022-09-25T10:56:11.132189Z",
     "iopub.status.busy": "2022-09-25T10:56:11.131749Z",
     "iopub.status.idle": "2022-09-25T10:56:12.616868Z",
     "shell.execute_reply": "2022-09-25T10:56:12.615389Z"
    },
    "papermill": {
     "duration": 1.4939,
     "end_time": "2022-09-25T10:56:12.619716",
     "exception": false,
     "start_time": "2022-09-25T10:56:11.125816",
     "status": "completed"
    },
    "tags": []
   },
   "outputs": [
    {
     "name": "stdout",
     "output_type": "stream",
     "text": [
      "--2022-09-25 10:56:12--  https://raw.githubusercontent.com/alexeygrigorev/datasets/master/housing.csv\r\n",
      "Resolving raw.githubusercontent.com (raw.githubusercontent.com)... 185.199.110.133, 185.199.109.133, 185.199.111.133, ...\r\n",
      "Connecting to raw.githubusercontent.com (raw.githubusercontent.com)|185.199.110.133|:443... connected.\r\n",
      "HTTP request sent, awaiting response... 200 OK\r\n",
      "Length: 1423529 (1.4M) [text/plain]\r\n",
      "Saving to: ‘housing.csv’\r\n",
      "\r\n",
      "housing.csv         100%[===================>]   1.36M  --.-KB/s    in 0.04s   \r\n",
      "\r\n",
      "2022-09-25 10:56:12 (35.9 MB/s) - ‘housing.csv’ saved [1423529/1423529]\r\n",
      "\r\n"
     ]
    }
   ],
   "source": [
    "#os.remove('/kaggle/working/housing.csv.2')\n",
    "data='https://raw.githubusercontent.com/alexeygrigorev/datasets/master/housing.csv'\n",
    "!wget $data\n",
    "\n",
    "df_org = pd.read_csv('housing.csv')"
   ]
  },
  {
   "cell_type": "code",
   "execution_count": 3,
   "id": "b483a531",
   "metadata": {
    "execution": {
     "iopub.execute_input": "2022-09-25T10:56:12.632336Z",
     "iopub.status.busy": "2022-09-25T10:56:12.631883Z",
     "iopub.status.idle": "2022-09-25T10:56:12.644012Z",
     "shell.execute_reply": "2022-09-25T10:56:12.642730Z"
    },
    "papermill": {
     "duration": 0.021174,
     "end_time": "2022-09-25T10:56:12.646351",
     "exception": false,
     "start_time": "2022-09-25T10:56:12.625177",
     "status": "completed"
    },
    "tags": []
   },
   "outputs": [
    {
     "data": {
      "text/plain": [
       "['latitude',\n",
       " 'longitude',\n",
       " 'housing_median_age',\n",
       " 'total_rooms',\n",
       " 'total_bedrooms',\n",
       " 'population',\n",
       " 'households',\n",
       " 'median_income',\n",
       " 'median_house_value',\n",
       " 'ocean_proximity']"
      ]
     },
     "execution_count": 3,
     "metadata": {},
     "output_type": "execute_result"
    }
   ],
   "source": [
    "columns = ['latitude',\n",
    "'longitude',\n",
    "'housing_median_age',\n",
    "'total_rooms',\n",
    "'total_bedrooms',\n",
    "'population',\n",
    "'households',\n",
    "'median_income',\n",
    "'median_house_value',\n",
    "'ocean_proximity']\n",
    "columns"
   ]
  },
  {
   "cell_type": "code",
   "execution_count": 4,
   "id": "16ce306b",
   "metadata": {
    "execution": {
     "iopub.execute_input": "2022-09-25T10:56:12.659443Z",
     "iopub.status.busy": "2022-09-25T10:56:12.658503Z",
     "iopub.status.idle": "2022-09-25T10:56:12.701337Z",
     "shell.execute_reply": "2022-09-25T10:56:12.700145Z"
    },
    "papermill": {
     "duration": 0.052136,
     "end_time": "2022-09-25T10:56:12.703907",
     "exception": false,
     "start_time": "2022-09-25T10:56:12.651771",
     "status": "completed"
    },
    "tags": []
   },
   "outputs": [
    {
     "data": {
      "text/html": [
       "<div>\n",
       "<style scoped>\n",
       "    .dataframe tbody tr th:only-of-type {\n",
       "        vertical-align: middle;\n",
       "    }\n",
       "\n",
       "    .dataframe tbody tr th {\n",
       "        vertical-align: top;\n",
       "    }\n",
       "\n",
       "    .dataframe thead th {\n",
       "        text-align: right;\n",
       "    }\n",
       "</style>\n",
       "<table border=\"1\" class=\"dataframe\">\n",
       "  <thead>\n",
       "    <tr style=\"text-align: right;\">\n",
       "      <th></th>\n",
       "      <th>0</th>\n",
       "      <th>1</th>\n",
       "      <th>2</th>\n",
       "      <th>3</th>\n",
       "      <th>4</th>\n",
       "    </tr>\n",
       "  </thead>\n",
       "  <tbody>\n",
       "    <tr>\n",
       "      <th>latitude</th>\n",
       "      <td>37.88</td>\n",
       "      <td>37.86</td>\n",
       "      <td>37.85</td>\n",
       "      <td>37.85</td>\n",
       "      <td>37.85</td>\n",
       "    </tr>\n",
       "    <tr>\n",
       "      <th>longitude</th>\n",
       "      <td>-122.23</td>\n",
       "      <td>-122.22</td>\n",
       "      <td>-122.24</td>\n",
       "      <td>-122.25</td>\n",
       "      <td>-122.25</td>\n",
       "    </tr>\n",
       "    <tr>\n",
       "      <th>housing_median_age</th>\n",
       "      <td>41.0</td>\n",
       "      <td>21.0</td>\n",
       "      <td>52.0</td>\n",
       "      <td>52.0</td>\n",
       "      <td>52.0</td>\n",
       "    </tr>\n",
       "    <tr>\n",
       "      <th>total_rooms</th>\n",
       "      <td>880.0</td>\n",
       "      <td>7099.0</td>\n",
       "      <td>1467.0</td>\n",
       "      <td>1274.0</td>\n",
       "      <td>1627.0</td>\n",
       "    </tr>\n",
       "    <tr>\n",
       "      <th>total_bedrooms</th>\n",
       "      <td>129.0</td>\n",
       "      <td>1106.0</td>\n",
       "      <td>190.0</td>\n",
       "      <td>235.0</td>\n",
       "      <td>280.0</td>\n",
       "    </tr>\n",
       "    <tr>\n",
       "      <th>population</th>\n",
       "      <td>322.0</td>\n",
       "      <td>2401.0</td>\n",
       "      <td>496.0</td>\n",
       "      <td>558.0</td>\n",
       "      <td>565.0</td>\n",
       "    </tr>\n",
       "    <tr>\n",
       "      <th>households</th>\n",
       "      <td>126.0</td>\n",
       "      <td>1138.0</td>\n",
       "      <td>177.0</td>\n",
       "      <td>219.0</td>\n",
       "      <td>259.0</td>\n",
       "    </tr>\n",
       "    <tr>\n",
       "      <th>median_income</th>\n",
       "      <td>8.3252</td>\n",
       "      <td>8.3014</td>\n",
       "      <td>7.2574</td>\n",
       "      <td>5.6431</td>\n",
       "      <td>3.8462</td>\n",
       "    </tr>\n",
       "    <tr>\n",
       "      <th>median_house_value</th>\n",
       "      <td>452600.0</td>\n",
       "      <td>358500.0</td>\n",
       "      <td>352100.0</td>\n",
       "      <td>341300.0</td>\n",
       "      <td>342200.0</td>\n",
       "    </tr>\n",
       "    <tr>\n",
       "      <th>ocean_proximity</th>\n",
       "      <td>NEAR BAY</td>\n",
       "      <td>NEAR BAY</td>\n",
       "      <td>NEAR BAY</td>\n",
       "      <td>NEAR BAY</td>\n",
       "      <td>NEAR BAY</td>\n",
       "    </tr>\n",
       "    <tr>\n",
       "      <th>rooms_per_household</th>\n",
       "      <td>6.984127</td>\n",
       "      <td>6.238137</td>\n",
       "      <td>8.288136</td>\n",
       "      <td>5.817352</td>\n",
       "      <td>6.281853</td>\n",
       "    </tr>\n",
       "    <tr>\n",
       "      <th>bedrooms_per_room</th>\n",
       "      <td>0.146591</td>\n",
       "      <td>0.155797</td>\n",
       "      <td>0.129516</td>\n",
       "      <td>0.184458</td>\n",
       "      <td>0.172096</td>\n",
       "    </tr>\n",
       "    <tr>\n",
       "      <th>population_per_household</th>\n",
       "      <td>2.555556</td>\n",
       "      <td>2.109842</td>\n",
       "      <td>2.80226</td>\n",
       "      <td>2.547945</td>\n",
       "      <td>2.181467</td>\n",
       "    </tr>\n",
       "  </tbody>\n",
       "</table>\n",
       "</div>"
      ],
      "text/plain": [
       "                                 0         1         2         3         4\n",
       "latitude                     37.88     37.86     37.85     37.85     37.85\n",
       "longitude                  -122.23   -122.22   -122.24   -122.25   -122.25\n",
       "housing_median_age            41.0      21.0      52.0      52.0      52.0\n",
       "total_rooms                  880.0    7099.0    1467.0    1274.0    1627.0\n",
       "total_bedrooms               129.0    1106.0     190.0     235.0     280.0\n",
       "population                   322.0    2401.0     496.0     558.0     565.0\n",
       "households                   126.0    1138.0     177.0     219.0     259.0\n",
       "median_income               8.3252    8.3014    7.2574    5.6431    3.8462\n",
       "median_house_value        452600.0  358500.0  352100.0  341300.0  342200.0\n",
       "ocean_proximity           NEAR BAY  NEAR BAY  NEAR BAY  NEAR BAY  NEAR BAY\n",
       "rooms_per_household       6.984127  6.238137  8.288136  5.817352  6.281853\n",
       "bedrooms_per_room         0.146591  0.155797  0.129516  0.184458  0.172096\n",
       "population_per_household  2.555556  2.109842   2.80226  2.547945  2.181467"
      ]
     },
     "execution_count": 4,
     "metadata": {},
     "output_type": "execute_result"
    }
   ],
   "source": [
    "df = df_org[columns].fillna(0)\n",
    "df['rooms_per_household'] = df.total_rooms / df.households\n",
    "df['bedrooms_per_room'] = df.total_bedrooms / df.total_rooms\n",
    "df['population_per_household'] = df.population / df.households\n",
    "\n",
    "df.head().T\n",
    "# df_org.head().T"
   ]
  },
  {
   "cell_type": "markdown",
   "id": "f7c3e8d9",
   "metadata": {
    "papermill": {
     "duration": 0.005249,
     "end_time": "2022-09-25T10:56:12.714829",
     "exception": false,
     "start_time": "2022-09-25T10:56:12.709580",
     "status": "completed"
    },
    "tags": []
   },
   "source": [
    "## Question 1\n",
    "What is the most frequent observation (mode) for the column ocean_proximity?"
   ]
  },
  {
   "cell_type": "code",
   "execution_count": 5,
   "id": "6359aeb3",
   "metadata": {
    "execution": {
     "iopub.execute_input": "2022-09-25T10:56:12.727633Z",
     "iopub.status.busy": "2022-09-25T10:56:12.727257Z",
     "iopub.status.idle": "2022-09-25T10:56:12.739064Z",
     "shell.execute_reply": "2022-09-25T10:56:12.737897Z"
    },
    "papermill": {
     "duration": 0.02111,
     "end_time": "2022-09-25T10:56:12.741361",
     "exception": false,
     "start_time": "2022-09-25T10:56:12.720251",
     "status": "completed"
    },
    "tags": []
   },
   "outputs": [
    {
     "data": {
      "text/plain": [
       "0    <1H OCEAN\n",
       "dtype: object"
      ]
     },
     "execution_count": 5,
     "metadata": {},
     "output_type": "execute_result"
    }
   ],
   "source": [
    "df.ocean_proximity.mode()"
   ]
  },
  {
   "cell_type": "markdown",
   "id": "c34fabcd",
   "metadata": {
    "papermill": {
     "duration": 0.00514,
     "end_time": "2022-09-25T10:56:12.751959",
     "exception": false,
     "start_time": "2022-09-25T10:56:12.746819",
     "status": "completed"
    },
    "tags": []
   },
   "source": [
    "## Make median_house_value binary\n",
    "* We need to turn the median_house_value variable from numeric into binary.\n",
    "* Let's create a variable above_average which is 1 if the median_house_value is above its mean value and 0 otherwise."
   ]
  },
  {
   "cell_type": "code",
   "execution_count": 6,
   "id": "7e018ba0",
   "metadata": {
    "execution": {
     "iopub.execute_input": "2022-09-25T10:56:12.765105Z",
     "iopub.status.busy": "2022-09-25T10:56:12.764344Z",
     "iopub.status.idle": "2022-09-25T10:56:12.770908Z",
     "shell.execute_reply": "2022-09-25T10:56:12.770005Z"
    },
    "papermill": {
     "duration": 0.015662,
     "end_time": "2022-09-25T10:56:12.772981",
     "exception": false,
     "start_time": "2022-09-25T10:56:12.757319",
     "status": "completed"
    },
    "tags": []
   },
   "outputs": [],
   "source": [
    "# binarizing median_house_value under new name 'above_average'\n",
    "df['above_average'] = (df.median_house_value > df.median_house_value.mean()).astype(int)"
   ]
  },
  {
   "cell_type": "markdown",
   "id": "14463790",
   "metadata": {
    "papermill": {
     "duration": 0.005218,
     "end_time": "2022-09-25T10:56:12.783821",
     "exception": false,
     "start_time": "2022-09-25T10:56:12.778603",
     "status": "completed"
    },
    "tags": []
   },
   "source": [
    "## Split the data\n",
    "* Split your data in train/val/test sets, with 60%/20%/20% distribution.\n",
    "* Use Scikit-Learn for that (the train_test_split function) and set the seed to 42.\n",
    "* Make sure that the target value (median_house_value) is not in your dataframe."
   ]
  },
  {
   "cell_type": "code",
   "execution_count": 7,
   "id": "e5e31172",
   "metadata": {
    "execution": {
     "iopub.execute_input": "2022-09-25T10:56:12.796519Z",
     "iopub.status.busy": "2022-09-25T10:56:12.795915Z",
     "iopub.status.idle": "2022-09-25T10:56:12.820149Z",
     "shell.execute_reply": "2022-09-25T10:56:12.818704Z"
    },
    "papermill": {
     "duration": 0.034136,
     "end_time": "2022-09-25T10:56:12.823209",
     "exception": false,
     "start_time": "2022-09-25T10:56:12.789073",
     "status": "completed"
    },
    "tags": []
   },
   "outputs": [
    {
     "name": "stdout",
     "output_type": "stream",
     "text": [
      "12384 4128 4128\n"
     ]
    }
   ],
   "source": [
    "# Splitting the data set\n",
    "\n",
    "df_full_train, df_test = train_test_split(df, test_size=0.2, random_state=42)\n",
    "df_train, df_val = train_test_split(df_full_train, test_size=0.25, random_state=42)\n",
    "\n",
    "print(len(df_train), len(df_val), len(df_test))\n",
    "\n",
    "df_train.reset_index()\n",
    "df_val.reset_index()\n",
    "df_test.reset_index()\n",
    "\n",
    "y_train = df_train.above_average.values\n",
    "y_val = df_val.above_average.values\n",
    "y_test = df_test.above_average.values\n",
    "\n",
    "for c in ['median_house_value']:\n",
    "    del df_train[c]\n",
    "    del df_val[c]\n",
    "    del df_test[c]"
   ]
  },
  {
   "cell_type": "markdown",
   "id": "c51510b7",
   "metadata": {
    "papermill": {
     "duration": 0.005272,
     "end_time": "2022-09-25T10:56:12.834190",
     "exception": false,
     "start_time": "2022-09-25T10:56:12.828918",
     "status": "completed"
    },
    "tags": []
   },
   "source": [
    "## Question 2\n",
    "* Create the correlation matrix for the numerical features of your **train** dataset. In a correlation matrix, you compute the correlation coefficient between every pair of features in the dataset.\n",
    "* What are the two features that have the biggest correlation in this dataset?"
   ]
  },
  {
   "cell_type": "code",
   "execution_count": 8,
   "id": "e0ddca64",
   "metadata": {
    "execution": {
     "iopub.execute_input": "2022-09-25T10:56:12.847249Z",
     "iopub.status.busy": "2022-09-25T10:56:12.846811Z",
     "iopub.status.idle": "2022-09-25T10:56:12.855530Z",
     "shell.execute_reply": "2022-09-25T10:56:12.854341Z"
    },
    "papermill": {
     "duration": 0.018122,
     "end_time": "2022-09-25T10:56:12.857862",
     "exception": false,
     "start_time": "2022-09-25T10:56:12.839740",
     "status": "completed"
    },
    "tags": []
   },
   "outputs": [
    {
     "data": {
      "text/plain": [
       "latitude                    float64\n",
       "longitude                   float64\n",
       "housing_median_age          float64\n",
       "total_rooms                 float64\n",
       "total_bedrooms              float64\n",
       "population                  float64\n",
       "households                  float64\n",
       "median_income               float64\n",
       "median_house_value          float64\n",
       "ocean_proximity              object\n",
       "rooms_per_household         float64\n",
       "bedrooms_per_room           float64\n",
       "population_per_household    float64\n",
       "above_average                 int64\n",
       "dtype: object"
      ]
     },
     "execution_count": 8,
     "metadata": {},
     "output_type": "execute_result"
    }
   ],
   "source": [
    "df.dtypes"
   ]
  },
  {
   "cell_type": "code",
   "execution_count": 9,
   "id": "c95708df",
   "metadata": {
    "execution": {
     "iopub.execute_input": "2022-09-25T10:56:12.871407Z",
     "iopub.status.busy": "2022-09-25T10:56:12.870997Z",
     "iopub.status.idle": "2022-09-25T10:56:12.880258Z",
     "shell.execute_reply": "2022-09-25T10:56:12.879019Z"
    },
    "papermill": {
     "duration": 0.018866,
     "end_time": "2022-09-25T10:56:12.882532",
     "exception": false,
     "start_time": "2022-09-25T10:56:12.863666",
     "status": "completed"
    },
    "tags": []
   },
   "outputs": [
    {
     "data": {
      "text/plain": [
       "['latitude',\n",
       " 'longitude',\n",
       " 'housing_median_age',\n",
       " 'total_rooms',\n",
       " 'total_bedrooms',\n",
       " 'population',\n",
       " 'households',\n",
       " 'median_income',\n",
       " 'rooms_per_household',\n",
       " 'bedrooms_per_room',\n",
       " 'population_per_household']"
      ]
     },
     "execution_count": 9,
     "metadata": {},
     "output_type": "execute_result"
    }
   ],
   "source": [
    "numerical = list((df.dtypes[df.dtypes != 'object'].index))\n",
    "\n",
    "# remove target variables\n",
    "numerical.remove('median_house_value') \n",
    "numerical.remove('above_average')\n",
    "\n",
    "numerical"
   ]
  },
  {
   "cell_type": "code",
   "execution_count": 10,
   "id": "aa4dd2da",
   "metadata": {
    "execution": {
     "iopub.execute_input": "2022-09-25T10:56:12.896759Z",
     "iopub.status.busy": "2022-09-25T10:56:12.896320Z",
     "iopub.status.idle": "2022-09-25T10:56:12.904940Z",
     "shell.execute_reply": "2022-09-25T10:56:12.903822Z"
    },
    "papermill": {
     "duration": 0.018666,
     "end_time": "2022-09-25T10:56:12.907534",
     "exception": false,
     "start_time": "2022-09-25T10:56:12.888868",
     "status": "completed"
    },
    "tags": []
   },
   "outputs": [
    {
     "data": {
      "text/plain": [
       "['ocean_proximity']"
      ]
     },
     "execution_count": 10,
     "metadata": {},
     "output_type": "execute_result"
    }
   ],
   "source": [
    "categorical = list((df.dtypes[df.dtypes == 'object'].index))\n",
    "categorical"
   ]
  },
  {
   "cell_type": "code",
   "execution_count": 11,
   "id": "1e1be9d6",
   "metadata": {
    "execution": {
     "iopub.execute_input": "2022-09-25T10:56:12.921604Z",
     "iopub.status.busy": "2022-09-25T10:56:12.921175Z",
     "iopub.status.idle": "2022-09-25T10:56:12.980508Z",
     "shell.execute_reply": "2022-09-25T10:56:12.979322Z"
    },
    "papermill": {
     "duration": 0.069293,
     "end_time": "2022-09-25T10:56:12.982954",
     "exception": false,
     "start_time": "2022-09-25T10:56:12.913661",
     "status": "completed"
    },
    "tags": []
   },
   "outputs": [
    {
     "data": {
      "text/plain": [
       "{'name': 'total_bedrooms___households', 'corr': 0.979399352769416}"
      ]
     },
     "execution_count": 11,
     "metadata": {},
     "output_type": "execute_result"
    }
   ],
   "source": [
    "corr_matrix = list()\n",
    "\n",
    "for c in numerical:\n",
    "    for o in numerical:\n",
    "        if c == o: continue\n",
    "        corr_matrix.append({'name' : '%s___%s' % (c, o),\n",
    "                      'corr' : df_train[c].corr(df_train[o])})\n",
    "\n",
    "sorted(corr_matrix, key = lambda d: d['corr'], reverse=True)[0]"
   ]
  },
  {
   "cell_type": "markdown",
   "id": "c8a3fa27",
   "metadata": {
    "papermill": {
     "duration": 0.005705,
     "end_time": "2022-09-25T10:56:12.995961",
     "exception": false,
     "start_time": "2022-09-25T10:56:12.990256",
     "status": "completed"
    },
    "tags": []
   },
   "source": [
    "## Question 3\n",
    "* Calculate the mutual information score with the (binarized) price for the categorical variable that we have. Use the training set only.\n",
    "* What is the value of mutual information?\n",
    "* Round it to 2 decimal digits using round(score, 2)"
   ]
  },
  {
   "cell_type": "code",
   "execution_count": 12,
   "id": "20f6b365",
   "metadata": {
    "execution": {
     "iopub.execute_input": "2022-09-25T10:56:13.009845Z",
     "iopub.status.busy": "2022-09-25T10:56:13.009412Z",
     "iopub.status.idle": "2022-09-25T10:56:13.049678Z",
     "shell.execute_reply": "2022-09-25T10:56:13.048401Z"
    },
    "papermill": {
     "duration": 0.050524,
     "end_time": "2022-09-25T10:56:13.052504",
     "exception": false,
     "start_time": "2022-09-25T10:56:13.001980",
     "status": "completed"
    },
    "tags": []
   },
   "outputs": [
    {
     "data": {
      "text/plain": [
       "0.1"
      ]
     },
     "execution_count": 12,
     "metadata": {},
     "output_type": "execute_result"
    }
   ],
   "source": [
    "mutual_info_score(df.above_average, df.ocean_proximity).round(2)"
   ]
  },
  {
   "cell_type": "code",
   "execution_count": null,
   "id": "fadcb65c",
   "metadata": {
    "papermill": {
     "duration": 0.006,
     "end_time": "2022-09-25T10:56:13.065018",
     "exception": false,
     "start_time": "2022-09-25T10:56:13.059018",
     "status": "completed"
    },
    "tags": []
   },
   "outputs": [],
   "source": []
  }
 ],
 "metadata": {
  "kernelspec": {
   "display_name": "Python 3",
   "language": "python",
   "name": "python3"
  },
  "language_info": {
   "codemirror_mode": {
    "name": "ipython",
    "version": 3
   },
   "file_extension": ".py",
   "mimetype": "text/x-python",
   "name": "python",
   "nbconvert_exporter": "python",
   "pygments_lexer": "ipython3",
   "version": "3.7.12"
  },
  "papermill": {
   "default_parameters": {},
   "duration": 13.359283,
   "end_time": "2022-09-25T10:56:13.893988",
   "environment_variables": {},
   "exception": null,
   "input_path": "__notebook__.ipynb",
   "output_path": "__notebook__.ipynb",
   "parameters": {},
   "start_time": "2022-09-25T10:56:00.534705",
   "version": "2.3.4"
  }
 },
 "nbformat": 4,
 "nbformat_minor": 5
}
