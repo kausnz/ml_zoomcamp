{
 "cells": [
  {
   "cell_type": "code",
   "execution_count": 1,
   "id": "f143a572",
   "metadata": {
    "_cell_guid": "b1076dfc-b9ad-4769-8c92-a6c4dae69d19",
    "_uuid": "8f2839f25d086af736a60e9eeb907d3b93b6e0e5",
    "execution": {
     "iopub.execute_input": "2022-09-25T11:27:39.742798Z",
     "iopub.status.busy": "2022-09-25T11:27:39.742325Z",
     "iopub.status.idle": "2022-09-25T11:27:40.854375Z",
     "shell.execute_reply": "2022-09-25T11:27:40.853321Z"
    },
    "papermill": {
     "duration": 1.123376,
     "end_time": "2022-09-25T11:27:40.857272",
     "exception": false,
     "start_time": "2022-09-25T11:27:39.733896",
     "status": "completed"
    },
    "tags": []
   },
   "outputs": [],
   "source": [
    "import numpy as np # linear algebra\n",
    "import pandas as pd # data processing, CSV file I/O (e.g. pd.read_csv)\n",
    "\n",
    "from sklearn.model_selection import train_test_split\n",
    "from sklearn.metrics import mutual_info_score\n",
    "from sklearn.feature_extraction import DictVectorizer\n",
    "from sklearn.linear_model import LogisticRegression"
   ]
  },
  {
   "cell_type": "code",
   "execution_count": 2,
   "id": "17a55495",
   "metadata": {
    "execution": {
     "iopub.execute_input": "2022-09-25T11:27:40.870171Z",
     "iopub.status.busy": "2022-09-25T11:27:40.869684Z",
     "iopub.status.idle": "2022-09-25T11:27:42.383873Z",
     "shell.execute_reply": "2022-09-25T11:27:42.382755Z"
    },
    "papermill": {
     "duration": 1.523442,
     "end_time": "2022-09-25T11:27:42.386505",
     "exception": false,
     "start_time": "2022-09-25T11:27:40.863063",
     "status": "completed"
    },
    "tags": []
   },
   "outputs": [
    {
     "name": "stdout",
     "output_type": "stream",
     "text": [
      "--2022-09-25 11:27:41--  https://raw.githubusercontent.com/alexeygrigorev/datasets/master/housing.csv\r\n",
      "Resolving raw.githubusercontent.com (raw.githubusercontent.com)... 185.199.108.133, 185.199.110.133, 185.199.111.133, ...\r\n",
      "Connecting to raw.githubusercontent.com (raw.githubusercontent.com)|185.199.108.133|:443... connected.\r\n",
      "HTTP request sent, awaiting response... 200 OK\r\n",
      "Length: 1423529 (1.4M) [text/plain]\r\n",
      "Saving to: ‘housing.csv’\r\n",
      "\r\n",
      "housing.csv         100%[===================>]   1.36M  --.-KB/s    in 0.07s   \r\n",
      "\r\n",
      "2022-09-25 11:27:42 (19.8 MB/s) - ‘housing.csv’ saved [1423529/1423529]\r\n",
      "\r\n"
     ]
    }
   ],
   "source": [
    "#os.remove('/kaggle/working/housing.csv.2')\n",
    "data='https://raw.githubusercontent.com/alexeygrigorev/datasets/master/housing.csv'\n",
    "!wget $data\n",
    "\n",
    "df_org = pd.read_csv('housing.csv')"
   ]
  },
  {
   "cell_type": "code",
   "execution_count": 3,
   "id": "474932a3",
   "metadata": {
    "execution": {
     "iopub.execute_input": "2022-09-25T11:27:42.400299Z",
     "iopub.status.busy": "2022-09-25T11:27:42.399516Z",
     "iopub.status.idle": "2022-09-25T11:27:42.410521Z",
     "shell.execute_reply": "2022-09-25T11:27:42.409339Z"
    },
    "papermill": {
     "duration": 0.020375,
     "end_time": "2022-09-25T11:27:42.412945",
     "exception": false,
     "start_time": "2022-09-25T11:27:42.392570",
     "status": "completed"
    },
    "tags": []
   },
   "outputs": [
    {
     "data": {
      "text/plain": [
       "['latitude',\n",
       " 'longitude',\n",
       " 'housing_median_age',\n",
       " 'total_rooms',\n",
       " 'total_bedrooms',\n",
       " 'population',\n",
       " 'households',\n",
       " 'median_income',\n",
       " 'median_house_value',\n",
       " 'ocean_proximity']"
      ]
     },
     "execution_count": 3,
     "metadata": {},
     "output_type": "execute_result"
    }
   ],
   "source": [
    "columns = ['latitude',\n",
    "'longitude',\n",
    "'housing_median_age',\n",
    "'total_rooms',\n",
    "'total_bedrooms',\n",
    "'population',\n",
    "'households',\n",
    "'median_income',\n",
    "'median_house_value',\n",
    "'ocean_proximity']\n",
    "columns"
   ]
  },
  {
   "cell_type": "code",
   "execution_count": 4,
   "id": "4a605dfd",
   "metadata": {
    "execution": {
     "iopub.execute_input": "2022-09-25T11:27:42.426567Z",
     "iopub.status.busy": "2022-09-25T11:27:42.426147Z",
     "iopub.status.idle": "2022-09-25T11:27:42.464060Z",
     "shell.execute_reply": "2022-09-25T11:27:42.462922Z"
    },
    "papermill": {
     "duration": 0.04772,
     "end_time": "2022-09-25T11:27:42.466614",
     "exception": false,
     "start_time": "2022-09-25T11:27:42.418894",
     "status": "completed"
    },
    "tags": []
   },
   "outputs": [
    {
     "data": {
      "text/html": [
       "<div>\n",
       "<style scoped>\n",
       "    .dataframe tbody tr th:only-of-type {\n",
       "        vertical-align: middle;\n",
       "    }\n",
       "\n",
       "    .dataframe tbody tr th {\n",
       "        vertical-align: top;\n",
       "    }\n",
       "\n",
       "    .dataframe thead th {\n",
       "        text-align: right;\n",
       "    }\n",
       "</style>\n",
       "<table border=\"1\" class=\"dataframe\">\n",
       "  <thead>\n",
       "    <tr style=\"text-align: right;\">\n",
       "      <th></th>\n",
       "      <th>0</th>\n",
       "      <th>1</th>\n",
       "      <th>2</th>\n",
       "      <th>3</th>\n",
       "      <th>4</th>\n",
       "    </tr>\n",
       "  </thead>\n",
       "  <tbody>\n",
       "    <tr>\n",
       "      <th>latitude</th>\n",
       "      <td>37.88</td>\n",
       "      <td>37.86</td>\n",
       "      <td>37.85</td>\n",
       "      <td>37.85</td>\n",
       "      <td>37.85</td>\n",
       "    </tr>\n",
       "    <tr>\n",
       "      <th>longitude</th>\n",
       "      <td>-122.23</td>\n",
       "      <td>-122.22</td>\n",
       "      <td>-122.24</td>\n",
       "      <td>-122.25</td>\n",
       "      <td>-122.25</td>\n",
       "    </tr>\n",
       "    <tr>\n",
       "      <th>housing_median_age</th>\n",
       "      <td>41.0</td>\n",
       "      <td>21.0</td>\n",
       "      <td>52.0</td>\n",
       "      <td>52.0</td>\n",
       "      <td>52.0</td>\n",
       "    </tr>\n",
       "    <tr>\n",
       "      <th>total_rooms</th>\n",
       "      <td>880.0</td>\n",
       "      <td>7099.0</td>\n",
       "      <td>1467.0</td>\n",
       "      <td>1274.0</td>\n",
       "      <td>1627.0</td>\n",
       "    </tr>\n",
       "    <tr>\n",
       "      <th>total_bedrooms</th>\n",
       "      <td>129.0</td>\n",
       "      <td>1106.0</td>\n",
       "      <td>190.0</td>\n",
       "      <td>235.0</td>\n",
       "      <td>280.0</td>\n",
       "    </tr>\n",
       "    <tr>\n",
       "      <th>population</th>\n",
       "      <td>322.0</td>\n",
       "      <td>2401.0</td>\n",
       "      <td>496.0</td>\n",
       "      <td>558.0</td>\n",
       "      <td>565.0</td>\n",
       "    </tr>\n",
       "    <tr>\n",
       "      <th>households</th>\n",
       "      <td>126.0</td>\n",
       "      <td>1138.0</td>\n",
       "      <td>177.0</td>\n",
       "      <td>219.0</td>\n",
       "      <td>259.0</td>\n",
       "    </tr>\n",
       "    <tr>\n",
       "      <th>median_income</th>\n",
       "      <td>8.3252</td>\n",
       "      <td>8.3014</td>\n",
       "      <td>7.2574</td>\n",
       "      <td>5.6431</td>\n",
       "      <td>3.8462</td>\n",
       "    </tr>\n",
       "    <tr>\n",
       "      <th>median_house_value</th>\n",
       "      <td>452600.0</td>\n",
       "      <td>358500.0</td>\n",
       "      <td>352100.0</td>\n",
       "      <td>341300.0</td>\n",
       "      <td>342200.0</td>\n",
       "    </tr>\n",
       "    <tr>\n",
       "      <th>ocean_proximity</th>\n",
       "      <td>NEAR BAY</td>\n",
       "      <td>NEAR BAY</td>\n",
       "      <td>NEAR BAY</td>\n",
       "      <td>NEAR BAY</td>\n",
       "      <td>NEAR BAY</td>\n",
       "    </tr>\n",
       "    <tr>\n",
       "      <th>rooms_per_household</th>\n",
       "      <td>6.984127</td>\n",
       "      <td>6.238137</td>\n",
       "      <td>8.288136</td>\n",
       "      <td>5.817352</td>\n",
       "      <td>6.281853</td>\n",
       "    </tr>\n",
       "    <tr>\n",
       "      <th>bedrooms_per_room</th>\n",
       "      <td>0.146591</td>\n",
       "      <td>0.155797</td>\n",
       "      <td>0.129516</td>\n",
       "      <td>0.184458</td>\n",
       "      <td>0.172096</td>\n",
       "    </tr>\n",
       "    <tr>\n",
       "      <th>population_per_household</th>\n",
       "      <td>2.555556</td>\n",
       "      <td>2.109842</td>\n",
       "      <td>2.80226</td>\n",
       "      <td>2.547945</td>\n",
       "      <td>2.181467</td>\n",
       "    </tr>\n",
       "  </tbody>\n",
       "</table>\n",
       "</div>"
      ],
      "text/plain": [
       "                                 0         1         2         3         4\n",
       "latitude                     37.88     37.86     37.85     37.85     37.85\n",
       "longitude                  -122.23   -122.22   -122.24   -122.25   -122.25\n",
       "housing_median_age            41.0      21.0      52.0      52.0      52.0\n",
       "total_rooms                  880.0    7099.0    1467.0    1274.0    1627.0\n",
       "total_bedrooms               129.0    1106.0     190.0     235.0     280.0\n",
       "population                   322.0    2401.0     496.0     558.0     565.0\n",
       "households                   126.0    1138.0     177.0     219.0     259.0\n",
       "median_income               8.3252    8.3014    7.2574    5.6431    3.8462\n",
       "median_house_value        452600.0  358500.0  352100.0  341300.0  342200.0\n",
       "ocean_proximity           NEAR BAY  NEAR BAY  NEAR BAY  NEAR BAY  NEAR BAY\n",
       "rooms_per_household       6.984127  6.238137  8.288136  5.817352  6.281853\n",
       "bedrooms_per_room         0.146591  0.155797  0.129516  0.184458  0.172096\n",
       "population_per_household  2.555556  2.109842   2.80226  2.547945  2.181467"
      ]
     },
     "execution_count": 4,
     "metadata": {},
     "output_type": "execute_result"
    }
   ],
   "source": [
    "df = df_org[columns].fillna(0)\n",
    "df['rooms_per_household'] = df.total_rooms / df.households\n",
    "df['bedrooms_per_room'] = df.total_bedrooms / df.total_rooms\n",
    "df['population_per_household'] = df.population / df.households\n",
    "\n",
    "df.head().T\n",
    "# df_org.head().T"
   ]
  },
  {
   "cell_type": "markdown",
   "id": "f2c091cf",
   "metadata": {
    "papermill": {
     "duration": 0.005851,
     "end_time": "2022-09-25T11:27:42.478888",
     "exception": false,
     "start_time": "2022-09-25T11:27:42.473037",
     "status": "completed"
    },
    "tags": []
   },
   "source": [
    "## Question 1\n",
    "What is the most frequent observation (mode) for the column ocean_proximity?"
   ]
  },
  {
   "cell_type": "code",
   "execution_count": 5,
   "id": "b08ff483",
   "metadata": {
    "execution": {
     "iopub.execute_input": "2022-09-25T11:27:42.492779Z",
     "iopub.status.busy": "2022-09-25T11:27:42.492381Z",
     "iopub.status.idle": "2022-09-25T11:27:42.503773Z",
     "shell.execute_reply": "2022-09-25T11:27:42.502619Z"
    },
    "papermill": {
     "duration": 0.021115,
     "end_time": "2022-09-25T11:27:42.506023",
     "exception": false,
     "start_time": "2022-09-25T11:27:42.484908",
     "status": "completed"
    },
    "tags": []
   },
   "outputs": [
    {
     "data": {
      "text/plain": [
       "0    <1H OCEAN\n",
       "dtype: object"
      ]
     },
     "execution_count": 5,
     "metadata": {},
     "output_type": "execute_result"
    }
   ],
   "source": [
    "df.ocean_proximity.mode()"
   ]
  },
  {
   "cell_type": "markdown",
   "id": "48a92080",
   "metadata": {
    "papermill": {
     "duration": 0.00594,
     "end_time": "2022-09-25T11:27:42.518176",
     "exception": false,
     "start_time": "2022-09-25T11:27:42.512236",
     "status": "completed"
    },
    "tags": []
   },
   "source": [
    "## Make median_house_value binary\n",
    "* We need to turn the median_house_value variable from numeric into binary.\n",
    "* Let's create a variable above_average which is 1 if the median_house_value is above its mean value and 0 otherwise."
   ]
  },
  {
   "cell_type": "code",
   "execution_count": 6,
   "id": "cdd002df",
   "metadata": {
    "execution": {
     "iopub.execute_input": "2022-09-25T11:27:42.532510Z",
     "iopub.status.busy": "2022-09-25T11:27:42.531403Z",
     "iopub.status.idle": "2022-09-25T11:27:42.538790Z",
     "shell.execute_reply": "2022-09-25T11:27:42.537704Z"
    },
    "papermill": {
     "duration": 0.016788,
     "end_time": "2022-09-25T11:27:42.540924",
     "exception": false,
     "start_time": "2022-09-25T11:27:42.524136",
     "status": "completed"
    },
    "tags": []
   },
   "outputs": [],
   "source": [
    "# binarizing median_house_value under new name 'above_average'\n",
    "df['above_average'] = (df.median_house_value > df.median_house_value.mean()).astype(int)"
   ]
  },
  {
   "cell_type": "markdown",
   "id": "f13a897f",
   "metadata": {
    "papermill": {
     "duration": 0.005805,
     "end_time": "2022-09-25T11:27:42.552826",
     "exception": false,
     "start_time": "2022-09-25T11:27:42.547021",
     "status": "completed"
    },
    "tags": []
   },
   "source": [
    "## Split the data\n",
    "* Split your data in train/val/test sets, with 60%/20%/20% distribution.\n",
    "* Use Scikit-Learn for that (the train_test_split function) and set the seed to 42.\n",
    "* Make sure that the target value (median_house_value) is not in your dataframe."
   ]
  },
  {
   "cell_type": "code",
   "execution_count": 7,
   "id": "ed4872ef",
   "metadata": {
    "execution": {
     "iopub.execute_input": "2022-09-25T11:27:42.567014Z",
     "iopub.status.busy": "2022-09-25T11:27:42.566586Z",
     "iopub.status.idle": "2022-09-25T11:27:42.589585Z",
     "shell.execute_reply": "2022-09-25T11:27:42.588333Z"
    },
    "papermill": {
     "duration": 0.033179,
     "end_time": "2022-09-25T11:27:42.592064",
     "exception": false,
     "start_time": "2022-09-25T11:27:42.558885",
     "status": "completed"
    },
    "tags": []
   },
   "outputs": [
    {
     "name": "stdout",
     "output_type": "stream",
     "text": [
      "12384 4128 4128\n"
     ]
    }
   ],
   "source": [
    "# Splitting the data set\n",
    "\n",
    "df_full_train, df_test = train_test_split(df, test_size=0.2, random_state=42)\n",
    "df_train, df_val = train_test_split(df_full_train, test_size=0.25, random_state=42)\n",
    "\n",
    "print(len(df_train), len(df_val), len(df_test))\n",
    "\n",
    "df_train.reset_index()\n",
    "df_val.reset_index()\n",
    "df_test.reset_index()\n",
    "\n",
    "y_train = df_train.above_average.values\n",
    "y_val = df_val.above_average.values\n",
    "y_test = df_test.above_average.values\n",
    "\n",
    "for c in ['median_house_value']:\n",
    "    del df_train[c]\n",
    "    del df_val[c]\n",
    "    del df_test[c]"
   ]
  },
  {
   "cell_type": "markdown",
   "id": "a9379fad",
   "metadata": {
    "papermill": {
     "duration": 0.005973,
     "end_time": "2022-09-25T11:27:42.604414",
     "exception": false,
     "start_time": "2022-09-25T11:27:42.598441",
     "status": "completed"
    },
    "tags": []
   },
   "source": [
    "## Question 2\n",
    "* Create the correlation matrix for the numerical features of your **train** dataset. In a correlation matrix, you compute the correlation coefficient between every pair of features in the dataset.\n",
    "* What are the two features that have the biggest correlation in this dataset?"
   ]
  },
  {
   "cell_type": "code",
   "execution_count": 8,
   "id": "dea0db2d",
   "metadata": {
    "execution": {
     "iopub.execute_input": "2022-09-25T11:27:42.619886Z",
     "iopub.status.busy": "2022-09-25T11:27:42.619430Z",
     "iopub.status.idle": "2022-09-25T11:27:42.628370Z",
     "shell.execute_reply": "2022-09-25T11:27:42.627267Z"
    },
    "papermill": {
     "duration": 0.020002,
     "end_time": "2022-09-25T11:27:42.630741",
     "exception": false,
     "start_time": "2022-09-25T11:27:42.610739",
     "status": "completed"
    },
    "tags": []
   },
   "outputs": [
    {
     "data": {
      "text/plain": [
       "latitude                    float64\n",
       "longitude                   float64\n",
       "housing_median_age          float64\n",
       "total_rooms                 float64\n",
       "total_bedrooms              float64\n",
       "population                  float64\n",
       "households                  float64\n",
       "median_income               float64\n",
       "median_house_value          float64\n",
       "ocean_proximity              object\n",
       "rooms_per_household         float64\n",
       "bedrooms_per_room           float64\n",
       "population_per_household    float64\n",
       "above_average                 int64\n",
       "dtype: object"
      ]
     },
     "execution_count": 8,
     "metadata": {},
     "output_type": "execute_result"
    }
   ],
   "source": [
    "df.dtypes"
   ]
  },
  {
   "cell_type": "code",
   "execution_count": 9,
   "id": "6c43fae1",
   "metadata": {
    "execution": {
     "iopub.execute_input": "2022-09-25T11:27:42.644975Z",
     "iopub.status.busy": "2022-09-25T11:27:42.644592Z",
     "iopub.status.idle": "2022-09-25T11:27:42.653238Z",
     "shell.execute_reply": "2022-09-25T11:27:42.652189Z"
    },
    "papermill": {
     "duration": 0.018148,
     "end_time": "2022-09-25T11:27:42.655343",
     "exception": false,
     "start_time": "2022-09-25T11:27:42.637195",
     "status": "completed"
    },
    "tags": []
   },
   "outputs": [
    {
     "data": {
      "text/plain": [
       "['latitude',\n",
       " 'longitude',\n",
       " 'housing_median_age',\n",
       " 'total_rooms',\n",
       " 'total_bedrooms',\n",
       " 'population',\n",
       " 'households',\n",
       " 'median_income',\n",
       " 'rooms_per_household',\n",
       " 'bedrooms_per_room',\n",
       " 'population_per_household']"
      ]
     },
     "execution_count": 9,
     "metadata": {},
     "output_type": "execute_result"
    }
   ],
   "source": [
    "numerical = list((df.dtypes[df.dtypes != 'object'].index))\n",
    "\n",
    "# remove target variables\n",
    "numerical.remove('median_house_value') \n",
    "numerical.remove('above_average')\n",
    "\n",
    "numerical"
   ]
  },
  {
   "cell_type": "code",
   "execution_count": 10,
   "id": "a83eb65b",
   "metadata": {
    "execution": {
     "iopub.execute_input": "2022-09-25T11:27:42.669637Z",
     "iopub.status.busy": "2022-09-25T11:27:42.669244Z",
     "iopub.status.idle": "2022-09-25T11:27:42.677091Z",
     "shell.execute_reply": "2022-09-25T11:27:42.676053Z"
    },
    "papermill": {
     "duration": 0.017439,
     "end_time": "2022-09-25T11:27:42.679253",
     "exception": false,
     "start_time": "2022-09-25T11:27:42.661814",
     "status": "completed"
    },
    "tags": []
   },
   "outputs": [
    {
     "data": {
      "text/plain": [
       "['ocean_proximity']"
      ]
     },
     "execution_count": 10,
     "metadata": {},
     "output_type": "execute_result"
    }
   ],
   "source": [
    "categorical = list((df.dtypes[df.dtypes == 'object'].index))\n",
    "categorical"
   ]
  },
  {
   "cell_type": "code",
   "execution_count": 11,
   "id": "a077a256",
   "metadata": {
    "execution": {
     "iopub.execute_input": "2022-09-25T11:27:42.693653Z",
     "iopub.status.busy": "2022-09-25T11:27:42.693262Z",
     "iopub.status.idle": "2022-09-25T11:27:42.744626Z",
     "shell.execute_reply": "2022-09-25T11:27:42.743760Z"
    },
    "papermill": {
     "duration": 0.060885,
     "end_time": "2022-09-25T11:27:42.746700",
     "exception": false,
     "start_time": "2022-09-25T11:27:42.685815",
     "status": "completed"
    },
    "tags": []
   },
   "outputs": [
    {
     "data": {
      "text/plain": [
       "{'name': 'total_bedrooms___households', 'corr': 0.979399352769416}"
      ]
     },
     "execution_count": 11,
     "metadata": {},
     "output_type": "execute_result"
    }
   ],
   "source": [
    "corr_matrix = list()\n",
    "\n",
    "for c in numerical:\n",
    "    for o in numerical:\n",
    "        if c == o: continue\n",
    "        corr_matrix.append({'name' : '%s___%s' % (c, o),\n",
    "                      'corr' : df_train[c].corr(df_train[o])})\n",
    "\n",
    "sorted(corr_matrix, key = lambda d: d['corr'], reverse=True)[0]"
   ]
  },
  {
   "cell_type": "markdown",
   "id": "6170d353",
   "metadata": {
    "papermill": {
     "duration": 0.006357,
     "end_time": "2022-09-25T11:27:42.759724",
     "exception": false,
     "start_time": "2022-09-25T11:27:42.753367",
     "status": "completed"
    },
    "tags": []
   },
   "source": [
    "## Question 3\n",
    "* Calculate the mutual information score with the (binarized) price for the categorical variable that we have. Use the training set only.\n",
    "* What is the value of mutual information?\n",
    "* Round it to 2 decimal digits using round(score, 2)"
   ]
  },
  {
   "cell_type": "code",
   "execution_count": 12,
   "id": "9214da42",
   "metadata": {
    "execution": {
     "iopub.execute_input": "2022-09-25T11:27:42.774346Z",
     "iopub.status.busy": "2022-09-25T11:27:42.773935Z",
     "iopub.status.idle": "2022-09-25T11:27:42.802618Z",
     "shell.execute_reply": "2022-09-25T11:27:42.801532Z"
    },
    "papermill": {
     "duration": 0.038961,
     "end_time": "2022-09-25T11:27:42.805086",
     "exception": false,
     "start_time": "2022-09-25T11:27:42.766125",
     "status": "completed"
    },
    "tags": []
   },
   "outputs": [
    {
     "data": {
      "text/plain": [
       "0.1"
      ]
     },
     "execution_count": 12,
     "metadata": {},
     "output_type": "execute_result"
    }
   ],
   "source": [
    "mutual_info_score(df_train.above_average, df_train.ocean_proximity).round(2)"
   ]
  },
  {
   "cell_type": "markdown",
   "id": "031b0f07",
   "metadata": {
    "papermill": {
     "duration": 0.006493,
     "end_time": "2022-09-25T11:27:42.818457",
     "exception": false,
     "start_time": "2022-09-25T11:27:42.811964",
     "status": "completed"
    },
    "tags": []
   },
   "source": [
    "## Question 4\n",
    "* Now let's train a logistic regression\n",
    "* Remember that we have one categorical variable `ocean_proximity` in the data. Include it using one-hot encoding.\n",
    "* Fit the model on the training dataset.\n",
    "  * To make sure the results are reproducible across different versions of Scikit-Learn, fit the model with these parameters:\n",
    "  * `model = LogisticRegression(solver=\"liblinear\", C=1.0, max_iter=1000, random_state=42)`\n",
    "* Calculate the accuracy on the validation dataset and round it to 2 decimal digits."
   ]
  },
  {
   "cell_type": "code",
   "execution_count": 13,
   "id": "74d23068",
   "metadata": {
    "execution": {
     "iopub.execute_input": "2022-09-25T11:27:42.833700Z",
     "iopub.status.busy": "2022-09-25T11:27:42.833262Z",
     "iopub.status.idle": "2022-09-25T11:27:43.175104Z",
     "shell.execute_reply": "2022-09-25T11:27:43.174121Z"
    },
    "papermill": {
     "duration": 0.352511,
     "end_time": "2022-09-25T11:27:43.177672",
     "exception": false,
     "start_time": "2022-09-25T11:27:42.825161",
     "status": "completed"
    },
    "tags": []
   },
   "outputs": [],
   "source": [
    "dicts_train = df_train[categorical + numerical].to_dict(orient='records')\n",
    "\n",
    "dv = DictVectorizer(sparse=False)\n",
    "X_train = dv.fit_transform(dicts_train)"
   ]
  },
  {
   "cell_type": "code",
   "execution_count": 14,
   "id": "fd5aed69",
   "metadata": {
    "execution": {
     "iopub.execute_input": "2022-09-25T11:27:43.194033Z",
     "iopub.status.busy": "2022-09-25T11:27:43.193011Z",
     "iopub.status.idle": "2022-09-25T11:27:43.985112Z",
     "shell.execute_reply": "2022-09-25T11:27:43.983980Z"
    },
    "papermill": {
     "duration": 0.802811,
     "end_time": "2022-09-25T11:27:43.987682",
     "exception": false,
     "start_time": "2022-09-25T11:27:43.184871",
     "status": "completed"
    },
    "tags": []
   },
   "outputs": [
    {
     "data": {
      "text/plain": [
       "(-0.083829188440655,\n",
       " [0.18093530759982326,\n",
       "  0.003954758787947762,\n",
       "  0.03573955469112594,\n",
       "  0.11598325702417112,\n",
       "  0.08716280496403875,\n",
       "  1.2120866441523424,\n",
       "  0.473101980247531,\n",
       "  -1.7147713304052514,\n",
       "  0.01882696615444871,\n",
       "  0.29153725950298887,\n",
       "  0.8474759360596523,\n",
       "  -0.0016371871780485171,\n",
       "  0.010323040002691304,\n",
       "  -0.014052207665170789,\n",
       "  0.0018753074674865912,\n",
       "  -0.00014597082449926822])"
      ]
     },
     "execution_count": 14,
     "metadata": {},
     "output_type": "execute_result"
    }
   ],
   "source": [
    "model = LogisticRegression(solver=\"liblinear\", C=1.0, max_iter=1000, random_state=42)\n",
    "\n",
    "model.fit(X_train, y_train) #<-- training the model\n",
    "\n",
    "w = list(model.coef_[0])\n",
    "w0 = model.intercept_[0]\n",
    "(w0, w)"
   ]
  },
  {
   "cell_type": "code",
   "execution_count": 15,
   "id": "323eed5b",
   "metadata": {
    "execution": {
     "iopub.execute_input": "2022-09-25T11:27:44.004142Z",
     "iopub.status.busy": "2022-09-25T11:27:44.003288Z",
     "iopub.status.idle": "2022-09-25T11:27:44.127690Z",
     "shell.execute_reply": "2022-09-25T11:27:44.126461Z"
    },
    "papermill": {
     "duration": 0.135487,
     "end_time": "2022-09-25T11:27:44.130335",
     "exception": false,
     "start_time": "2022-09-25T11:27:43.994848",
     "status": "completed"
    },
    "tags": []
   },
   "outputs": [
    {
     "data": {
      "text/plain": [
       "0.84"
      ]
     },
     "execution_count": 15,
     "metadata": {},
     "output_type": "execute_result"
    }
   ],
   "source": [
    "# Calculate the predictions for the validation data set using the model trained with training data\n",
    "\n",
    "dicts_val = df_val[categorical + numerical].to_dict(orient='records')\n",
    "X_valid = dv.transform(dicts_val)\n",
    "model.predict_proba(X_valid)[:,1]\n",
    "val_pred = model.predict_proba(X_valid)[:,1] >= 0.5\n",
    "\n",
    "# Calculate relative frequency\n",
    "(val_pred == y_val).mean().round(2)"
   ]
  },
  {
   "cell_type": "code",
   "execution_count": null,
   "id": "f0a659f2",
   "metadata": {
    "papermill": {
     "duration": 0.010609,
     "end_time": "2022-09-25T11:27:44.152251",
     "exception": false,
     "start_time": "2022-09-25T11:27:44.141642",
     "status": "completed"
    },
    "tags": []
   },
   "outputs": [],
   "source": []
  }
 ],
 "metadata": {
  "kernelspec": {
   "display_name": "Python 3",
   "language": "python",
   "name": "python3"
  },
  "language_info": {
   "codemirror_mode": {
    "name": "ipython",
    "version": 3
   },
   "file_extension": ".py",
   "mimetype": "text/x-python",
   "name": "python",
   "nbconvert_exporter": "python",
   "pygments_lexer": "ipython3",
   "version": "3.7.12"
  },
  "papermill": {
   "default_parameters": {},
   "duration": 14.919432,
   "end_time": "2022-09-25T11:27:44.993444",
   "environment_variables": {},
   "exception": null,
   "input_path": "__notebook__.ipynb",
   "output_path": "__notebook__.ipynb",
   "parameters": {},
   "start_time": "2022-09-25T11:27:30.074012",
   "version": "2.3.4"
  }
 },
 "nbformat": 4,
 "nbformat_minor": 5
}
