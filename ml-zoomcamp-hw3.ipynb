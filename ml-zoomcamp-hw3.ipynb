{
 "cells": [
  {
   "cell_type": "code",
   "execution_count": 1,
   "id": "c4f61d3b",
   "metadata": {
    "_cell_guid": "b1076dfc-b9ad-4769-8c92-a6c4dae69d19",
    "_uuid": "8f2839f25d086af736a60e9eeb907d3b93b6e0e5",
    "execution": {
     "iopub.execute_input": "2022-09-25T10:32:32.713200Z",
     "iopub.status.busy": "2022-09-25T10:32:32.711508Z",
     "iopub.status.idle": "2022-09-25T10:32:34.075249Z",
     "shell.execute_reply": "2022-09-25T10:32:34.073676Z"
    },
    "papermill": {
     "duration": 1.375334,
     "end_time": "2022-09-25T10:32:34.078741",
     "exception": false,
     "start_time": "2022-09-25T10:32:32.703407",
     "status": "completed"
    },
    "tags": []
   },
   "outputs": [],
   "source": [
    "import numpy as np # linear algebra\n",
    "import pandas as pd # data processing, CSV file I/O (e.g. pd.read_csv)\n",
    "from sklearn.model_selection import train_test_split"
   ]
  },
  {
   "cell_type": "code",
   "execution_count": 2,
   "id": "8c04626d",
   "metadata": {
    "execution": {
     "iopub.execute_input": "2022-09-25T10:32:34.090935Z",
     "iopub.status.busy": "2022-09-25T10:32:34.090328Z",
     "iopub.status.idle": "2022-09-25T10:32:35.779946Z",
     "shell.execute_reply": "2022-09-25T10:32:35.778494Z"
    },
    "papermill": {
     "duration": 1.699394,
     "end_time": "2022-09-25T10:32:35.783146",
     "exception": false,
     "start_time": "2022-09-25T10:32:34.083752",
     "status": "completed"
    },
    "tags": []
   },
   "outputs": [
    {
     "name": "stdout",
     "output_type": "stream",
     "text": [
      "--2022-09-25 10:32:35--  https://raw.githubusercontent.com/alexeygrigorev/datasets/master/housing.csv\r\n",
      "Resolving raw.githubusercontent.com (raw.githubusercontent.com)... 185.199.111.133, 185.199.108.133, 185.199.109.133, ...\r\n",
      "Connecting to raw.githubusercontent.com (raw.githubusercontent.com)|185.199.111.133|:443... connected.\r\n",
      "HTTP request sent, awaiting response... 200 OK\r\n",
      "Length: 1423529 (1.4M) [text/plain]\r\n",
      "Saving to: ‘housing.csv’\r\n",
      "\r\n",
      "housing.csv         100%[===================>]   1.36M  --.-KB/s    in 0.04s   \r\n",
      "\r\n",
      "2022-09-25 10:32:35 (35.7 MB/s) - ‘housing.csv’ saved [1423529/1423529]\r\n",
      "\r\n"
     ]
    }
   ],
   "source": [
    "#os.remove('/kaggle/working/housing.csv.2')\n",
    "data='https://raw.githubusercontent.com/alexeygrigorev/datasets/master/housing.csv'\n",
    "!wget $data\n",
    "\n",
    "df_org = pd.read_csv('housing.csv')"
   ]
  },
  {
   "cell_type": "code",
   "execution_count": 3,
   "id": "d64ff646",
   "metadata": {
    "execution": {
     "iopub.execute_input": "2022-09-25T10:32:35.796158Z",
     "iopub.status.busy": "2022-09-25T10:32:35.795730Z",
     "iopub.status.idle": "2022-09-25T10:32:35.807385Z",
     "shell.execute_reply": "2022-09-25T10:32:35.805951Z"
    },
    "papermill": {
     "duration": 0.021222,
     "end_time": "2022-09-25T10:32:35.809874",
     "exception": false,
     "start_time": "2022-09-25T10:32:35.788652",
     "status": "completed"
    },
    "tags": []
   },
   "outputs": [
    {
     "data": {
      "text/plain": [
       "['latitude',\n",
       " 'longitude',\n",
       " 'housing_median_age',\n",
       " 'total_rooms',\n",
       " 'total_bedrooms',\n",
       " 'population',\n",
       " 'households',\n",
       " 'median_income',\n",
       " 'median_house_value',\n",
       " 'ocean_proximity']"
      ]
     },
     "execution_count": 3,
     "metadata": {},
     "output_type": "execute_result"
    }
   ],
   "source": [
    "columns = ['latitude',\n",
    "'longitude',\n",
    "'housing_median_age',\n",
    "'total_rooms',\n",
    "'total_bedrooms',\n",
    "'population',\n",
    "'households',\n",
    "'median_income',\n",
    "'median_house_value',\n",
    "'ocean_proximity']\n",
    "columns"
   ]
  },
  {
   "cell_type": "code",
   "execution_count": 4,
   "id": "201c4489",
   "metadata": {
    "execution": {
     "iopub.execute_input": "2022-09-25T10:32:35.822742Z",
     "iopub.status.busy": "2022-09-25T10:32:35.822210Z",
     "iopub.status.idle": "2022-09-25T10:32:35.870430Z",
     "shell.execute_reply": "2022-09-25T10:32:35.869287Z"
    },
    "papermill": {
     "duration": 0.058519,
     "end_time": "2022-09-25T10:32:35.873363",
     "exception": false,
     "start_time": "2022-09-25T10:32:35.814844",
     "status": "completed"
    },
    "tags": []
   },
   "outputs": [
    {
     "data": {
      "text/html": [
       "<div>\n",
       "<style scoped>\n",
       "    .dataframe tbody tr th:only-of-type {\n",
       "        vertical-align: middle;\n",
       "    }\n",
       "\n",
       "    .dataframe tbody tr th {\n",
       "        vertical-align: top;\n",
       "    }\n",
       "\n",
       "    .dataframe thead th {\n",
       "        text-align: right;\n",
       "    }\n",
       "</style>\n",
       "<table border=\"1\" class=\"dataframe\">\n",
       "  <thead>\n",
       "    <tr style=\"text-align: right;\">\n",
       "      <th></th>\n",
       "      <th>0</th>\n",
       "      <th>1</th>\n",
       "      <th>2</th>\n",
       "      <th>3</th>\n",
       "      <th>4</th>\n",
       "    </tr>\n",
       "  </thead>\n",
       "  <tbody>\n",
       "    <tr>\n",
       "      <th>latitude</th>\n",
       "      <td>37.88</td>\n",
       "      <td>37.86</td>\n",
       "      <td>37.85</td>\n",
       "      <td>37.85</td>\n",
       "      <td>37.85</td>\n",
       "    </tr>\n",
       "    <tr>\n",
       "      <th>longitude</th>\n",
       "      <td>-122.23</td>\n",
       "      <td>-122.22</td>\n",
       "      <td>-122.24</td>\n",
       "      <td>-122.25</td>\n",
       "      <td>-122.25</td>\n",
       "    </tr>\n",
       "    <tr>\n",
       "      <th>housing_median_age</th>\n",
       "      <td>41.0</td>\n",
       "      <td>21.0</td>\n",
       "      <td>52.0</td>\n",
       "      <td>52.0</td>\n",
       "      <td>52.0</td>\n",
       "    </tr>\n",
       "    <tr>\n",
       "      <th>total_rooms</th>\n",
       "      <td>880.0</td>\n",
       "      <td>7099.0</td>\n",
       "      <td>1467.0</td>\n",
       "      <td>1274.0</td>\n",
       "      <td>1627.0</td>\n",
       "    </tr>\n",
       "    <tr>\n",
       "      <th>total_bedrooms</th>\n",
       "      <td>129.0</td>\n",
       "      <td>1106.0</td>\n",
       "      <td>190.0</td>\n",
       "      <td>235.0</td>\n",
       "      <td>280.0</td>\n",
       "    </tr>\n",
       "    <tr>\n",
       "      <th>population</th>\n",
       "      <td>322.0</td>\n",
       "      <td>2401.0</td>\n",
       "      <td>496.0</td>\n",
       "      <td>558.0</td>\n",
       "      <td>565.0</td>\n",
       "    </tr>\n",
       "    <tr>\n",
       "      <th>households</th>\n",
       "      <td>126.0</td>\n",
       "      <td>1138.0</td>\n",
       "      <td>177.0</td>\n",
       "      <td>219.0</td>\n",
       "      <td>259.0</td>\n",
       "    </tr>\n",
       "    <tr>\n",
       "      <th>median_income</th>\n",
       "      <td>8.3252</td>\n",
       "      <td>8.3014</td>\n",
       "      <td>7.2574</td>\n",
       "      <td>5.6431</td>\n",
       "      <td>3.8462</td>\n",
       "    </tr>\n",
       "    <tr>\n",
       "      <th>median_house_value</th>\n",
       "      <td>452600.0</td>\n",
       "      <td>358500.0</td>\n",
       "      <td>352100.0</td>\n",
       "      <td>341300.0</td>\n",
       "      <td>342200.0</td>\n",
       "    </tr>\n",
       "    <tr>\n",
       "      <th>ocean_proximity</th>\n",
       "      <td>NEAR BAY</td>\n",
       "      <td>NEAR BAY</td>\n",
       "      <td>NEAR BAY</td>\n",
       "      <td>NEAR BAY</td>\n",
       "      <td>NEAR BAY</td>\n",
       "    </tr>\n",
       "    <tr>\n",
       "      <th>rooms_per_household</th>\n",
       "      <td>6.984127</td>\n",
       "      <td>6.238137</td>\n",
       "      <td>8.288136</td>\n",
       "      <td>5.817352</td>\n",
       "      <td>6.281853</td>\n",
       "    </tr>\n",
       "    <tr>\n",
       "      <th>bedrooms_per_room</th>\n",
       "      <td>0.146591</td>\n",
       "      <td>0.155797</td>\n",
       "      <td>0.129516</td>\n",
       "      <td>0.184458</td>\n",
       "      <td>0.172096</td>\n",
       "    </tr>\n",
       "    <tr>\n",
       "      <th>population_per_household</th>\n",
       "      <td>2.555556</td>\n",
       "      <td>2.109842</td>\n",
       "      <td>2.80226</td>\n",
       "      <td>2.547945</td>\n",
       "      <td>2.181467</td>\n",
       "    </tr>\n",
       "  </tbody>\n",
       "</table>\n",
       "</div>"
      ],
      "text/plain": [
       "                                 0         1         2         3         4\n",
       "latitude                     37.88     37.86     37.85     37.85     37.85\n",
       "longitude                  -122.23   -122.22   -122.24   -122.25   -122.25\n",
       "housing_median_age            41.0      21.0      52.0      52.0      52.0\n",
       "total_rooms                  880.0    7099.0    1467.0    1274.0    1627.0\n",
       "total_bedrooms               129.0    1106.0     190.0     235.0     280.0\n",
       "population                   322.0    2401.0     496.0     558.0     565.0\n",
       "households                   126.0    1138.0     177.0     219.0     259.0\n",
       "median_income               8.3252    8.3014    7.2574    5.6431    3.8462\n",
       "median_house_value        452600.0  358500.0  352100.0  341300.0  342200.0\n",
       "ocean_proximity           NEAR BAY  NEAR BAY  NEAR BAY  NEAR BAY  NEAR BAY\n",
       "rooms_per_household       6.984127  6.238137  8.288136  5.817352  6.281853\n",
       "bedrooms_per_room         0.146591  0.155797  0.129516  0.184458  0.172096\n",
       "population_per_household  2.555556  2.109842   2.80226  2.547945  2.181467"
      ]
     },
     "execution_count": 4,
     "metadata": {},
     "output_type": "execute_result"
    }
   ],
   "source": [
    "df = df_org[columns].fillna(0)\n",
    "df['rooms_per_household'] = df.total_rooms / df.households\n",
    "df['bedrooms_per_room'] = df.total_bedrooms / df.total_rooms\n",
    "df['population_per_household'] = df.population / df.households\n",
    "\n",
    "df.head().T\n",
    "# df_org.head().T"
   ]
  },
  {
   "cell_type": "markdown",
   "id": "2de76f97",
   "metadata": {
    "papermill": {
     "duration": 0.005099,
     "end_time": "2022-09-25T10:32:35.884126",
     "exception": false,
     "start_time": "2022-09-25T10:32:35.879027",
     "status": "completed"
    },
    "tags": []
   },
   "source": [
    "## Question 1\n",
    "What is the most frequent observation (mode) for the column ocean_proximity?"
   ]
  },
  {
   "cell_type": "code",
   "execution_count": 5,
   "id": "757820c9",
   "metadata": {
    "execution": {
     "iopub.execute_input": "2022-09-25T10:32:35.897115Z",
     "iopub.status.busy": "2022-09-25T10:32:35.896385Z",
     "iopub.status.idle": "2022-09-25T10:32:35.907856Z",
     "shell.execute_reply": "2022-09-25T10:32:35.907029Z"
    },
    "papermill": {
     "duration": 0.020523,
     "end_time": "2022-09-25T10:32:35.910017",
     "exception": false,
     "start_time": "2022-09-25T10:32:35.889494",
     "status": "completed"
    },
    "tags": []
   },
   "outputs": [
    {
     "data": {
      "text/plain": [
       "0    <1H OCEAN\n",
       "dtype: object"
      ]
     },
     "execution_count": 5,
     "metadata": {},
     "output_type": "execute_result"
    }
   ],
   "source": [
    "df.ocean_proximity.mode()"
   ]
  },
  {
   "cell_type": "code",
   "execution_count": 6,
   "id": "3a31a689",
   "metadata": {
    "execution": {
     "iopub.execute_input": "2022-09-25T10:32:35.924084Z",
     "iopub.status.busy": "2022-09-25T10:32:35.923579Z",
     "iopub.status.idle": "2022-09-25T10:32:35.931569Z",
     "shell.execute_reply": "2022-09-25T10:32:35.929972Z"
    },
    "papermill": {
     "duration": 0.018685,
     "end_time": "2022-09-25T10:32:35.934367",
     "exception": false,
     "start_time": "2022-09-25T10:32:35.915682",
     "status": "completed"
    },
    "tags": []
   },
   "outputs": [
    {
     "data": {
      "text/plain": [
       "4"
      ]
     },
     "execution_count": 6,
     "metadata": {},
     "output_type": "execute_result"
    }
   ],
   "source": [
    "b = False\n",
    "\n",
    "r = 3 if b else 4\n",
    "r"
   ]
  },
  {
   "cell_type": "markdown",
   "id": "d274129d",
   "metadata": {
    "papermill": {
     "duration": 0.00513,
     "end_time": "2022-09-25T10:32:35.945366",
     "exception": false,
     "start_time": "2022-09-25T10:32:35.940236",
     "status": "completed"
    },
    "tags": []
   },
   "source": [
    "## Make median_house_value binary\n",
    "* We need to turn the median_house_value variable from numeric into binary.\n",
    "* Let's create a variable above_average which is 1 if the median_house_value is above its mean value and 0 otherwise."
   ]
  },
  {
   "cell_type": "code",
   "execution_count": 7,
   "id": "66fbae7e",
   "metadata": {
    "execution": {
     "iopub.execute_input": "2022-09-25T10:32:35.958416Z",
     "iopub.status.busy": "2022-09-25T10:32:35.957948Z",
     "iopub.status.idle": "2022-09-25T10:32:35.966829Z",
     "shell.execute_reply": "2022-09-25T10:32:35.965060Z"
    },
    "papermill": {
     "duration": 0.019369,
     "end_time": "2022-09-25T10:32:35.970196",
     "exception": false,
     "start_time": "2022-09-25T10:32:35.950827",
     "status": "completed"
    },
    "tags": []
   },
   "outputs": [],
   "source": [
    "# binarizing median_house_value under new name 'above_average'\n",
    "df['above_average'] = (df.median_house_value > df.median_house_value.mean()).astype(int)"
   ]
  },
  {
   "cell_type": "markdown",
   "id": "b27343b1",
   "metadata": {
    "papermill": {
     "duration": 0.005549,
     "end_time": "2022-09-25T10:32:35.981542",
     "exception": false,
     "start_time": "2022-09-25T10:32:35.975993",
     "status": "completed"
    },
    "tags": []
   },
   "source": [
    "## Split the data\n",
    "* Split your data in train/val/test sets, with 60%/20%/20% distribution.\n",
    "* Use Scikit-Learn for that (the train_test_split function) and set the seed to 42.\n",
    "* Make sure that the target value (median_house_value) is not in your dataframe."
   ]
  },
  {
   "cell_type": "code",
   "execution_count": 8,
   "id": "6a2c0182",
   "metadata": {
    "execution": {
     "iopub.execute_input": "2022-09-25T10:32:35.994851Z",
     "iopub.status.busy": "2022-09-25T10:32:35.994393Z",
     "iopub.status.idle": "2022-09-25T10:32:36.021685Z",
     "shell.execute_reply": "2022-09-25T10:32:36.020342Z"
    },
    "papermill": {
     "duration": 0.037405,
     "end_time": "2022-09-25T10:32:36.024773",
     "exception": false,
     "start_time": "2022-09-25T10:32:35.987368",
     "status": "completed"
    },
    "tags": []
   },
   "outputs": [],
   "source": [
    "# Splitting the data set\n",
    "\n",
    "df_full_train, df_test = train_test_split(df, test_size=0.2, random_state=42)\n",
    "df_train, df_val = train_test_split(df_full_train, test_size=0.25, random_state=42)\n",
    "\n",
    "len(df_train), len(df_val), len(df_test)\n",
    "\n",
    "df_train.reset_index()\n",
    "df_val.reset_index()\n",
    "df_test.reset_index()\n",
    "\n",
    "del df_train['median_house_value']\n",
    "del df_val['median_house_value']\n",
    "del df_test['median_house_value']"
   ]
  },
  {
   "cell_type": "markdown",
   "id": "573ac73b",
   "metadata": {
    "papermill": {
     "duration": 0.005881,
     "end_time": "2022-09-25T10:32:36.036471",
     "exception": false,
     "start_time": "2022-09-25T10:32:36.030590",
     "status": "completed"
    },
    "tags": []
   },
   "source": [
    "## Question 2\n",
    "* Create the correlation matrix for the numerical features of your **train** dataset. In a correlation matrix, you compute the correlation coefficient between every pair of features in the dataset.\n",
    "* What are the two features that have the biggest correlation in this dataset?"
   ]
  },
  {
   "cell_type": "code",
   "execution_count": 9,
   "id": "07ae605f",
   "metadata": {
    "execution": {
     "iopub.execute_input": "2022-09-25T10:32:36.050104Z",
     "iopub.status.busy": "2022-09-25T10:32:36.049676Z",
     "iopub.status.idle": "2022-09-25T10:32:36.058784Z",
     "shell.execute_reply": "2022-09-25T10:32:36.057685Z"
    },
    "papermill": {
     "duration": 0.018631,
     "end_time": "2022-09-25T10:32:36.061129",
     "exception": false,
     "start_time": "2022-09-25T10:32:36.042498",
     "status": "completed"
    },
    "tags": []
   },
   "outputs": [
    {
     "data": {
      "text/plain": [
       "['latitude',\n",
       " 'longitude',\n",
       " 'housing_median_age',\n",
       " 'total_rooms',\n",
       " 'total_bedrooms',\n",
       " 'population',\n",
       " 'households',\n",
       " 'median_income',\n",
       " 'median_house_value',\n",
       " 'rooms_per_household',\n",
       " 'bedrooms_per_room',\n",
       " 'population_per_household',\n",
       " 'above_average']"
      ]
     },
     "execution_count": 9,
     "metadata": {},
     "output_type": "execute_result"
    }
   ],
   "source": [
    "list((df.dtypes[df.dtypes != 'object'].index))"
   ]
  },
  {
   "cell_type": "code",
   "execution_count": 10,
   "id": "77b0fac8",
   "metadata": {
    "execution": {
     "iopub.execute_input": "2022-09-25T10:32:36.076454Z",
     "iopub.status.busy": "2022-09-25T10:32:36.075443Z",
     "iopub.status.idle": "2022-09-25T10:32:36.082349Z",
     "shell.execute_reply": "2022-09-25T10:32:36.080910Z"
    },
    "papermill": {
     "duration": 0.017516,
     "end_time": "2022-09-25T10:32:36.084912",
     "exception": false,
     "start_time": "2022-09-25T10:32:36.067396",
     "status": "completed"
    },
    "tags": []
   },
   "outputs": [],
   "source": [
    "numerical = ['latitude',\n",
    " 'longitude',\n",
    " 'housing_median_age',\n",
    " 'total_rooms',\n",
    " 'total_bedrooms',\n",
    " 'population',\n",
    " 'households',\n",
    " 'median_income',\n",
    "#  'median_house_value',\n",
    " 'rooms_per_household',\n",
    " 'bedrooms_per_room',\n",
    " 'population_per_household']"
   ]
  },
  {
   "cell_type": "code",
   "execution_count": 11,
   "id": "957a8530",
   "metadata": {
    "execution": {
     "iopub.execute_input": "2022-09-25T10:32:36.098829Z",
     "iopub.status.busy": "2022-09-25T10:32:36.097773Z",
     "iopub.status.idle": "2022-09-25T10:32:36.161735Z",
     "shell.execute_reply": "2022-09-25T10:32:36.160381Z"
    },
    "papermill": {
     "duration": 0.073862,
     "end_time": "2022-09-25T10:32:36.164310",
     "exception": false,
     "start_time": "2022-09-25T10:32:36.090448",
     "status": "completed"
    },
    "tags": []
   },
   "outputs": [
    {
     "data": {
      "text/plain": [
       "{'name': 'total_bedrooms___households', 'corr': 0.979399352769416}"
      ]
     },
     "execution_count": 11,
     "metadata": {},
     "output_type": "execute_result"
    }
   ],
   "source": [
    "corr_matrix = list()\n",
    "\n",
    "for c in numerical:\n",
    "    for o in numerical:\n",
    "        if c == o: continue\n",
    "        corr_matrix.append({'name' : '%s___%s' % (c, o),\n",
    "                      'corr' : df_train[c].corr(df_train[o])})\n",
    "\n",
    "sorted(corr_matrix, key = lambda d: d['corr'], reverse=True)[0]"
   ]
  },
  {
   "cell_type": "code",
   "execution_count": null,
   "id": "f0d93f2c",
   "metadata": {
    "papermill": {
     "duration": 0.005194,
     "end_time": "2022-09-25T10:32:36.176302",
     "exception": false,
     "start_time": "2022-09-25T10:32:36.171108",
     "status": "completed"
    },
    "tags": []
   },
   "outputs": [],
   "source": []
  }
 ],
 "metadata": {
  "kernelspec": {
   "display_name": "Python 3",
   "language": "python",
   "name": "python3"
  },
  "language_info": {
   "codemirror_mode": {
    "name": "ipython",
    "version": 3
   },
   "file_extension": ".py",
   "mimetype": "text/x-python",
   "name": "python",
   "nbconvert_exporter": "python",
   "pygments_lexer": "ipython3",
   "version": "3.7.12"
  },
  "papermill": {
   "default_parameters": {},
   "duration": 14.96935,
   "end_time": "2022-09-25T10:32:37.407647",
   "environment_variables": {},
   "exception": null,
   "input_path": "__notebook__.ipynb",
   "output_path": "__notebook__.ipynb",
   "parameters": {},
   "start_time": "2022-09-25T10:32:22.438297",
   "version": "2.3.4"
  }
 },
 "nbformat": 4,
 "nbformat_minor": 5
}
