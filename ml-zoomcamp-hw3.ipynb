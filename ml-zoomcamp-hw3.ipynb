{
 "cells": [
  {
   "cell_type": "code",
   "execution_count": 1,
   "id": "20da6ac4",
   "metadata": {
    "_cell_guid": "b1076dfc-b9ad-4769-8c92-a6c4dae69d19",
    "_uuid": "8f2839f25d086af736a60e9eeb907d3b93b6e0e5",
    "execution": {
     "iopub.execute_input": "2022-09-25T12:40:55.190221Z",
     "iopub.status.busy": "2022-09-25T12:40:55.189741Z",
     "iopub.status.idle": "2022-09-25T12:40:56.488136Z",
     "shell.execute_reply": "2022-09-25T12:40:56.487086Z"
    },
    "papermill": {
     "duration": 1.311303,
     "end_time": "2022-09-25T12:40:56.490993",
     "exception": false,
     "start_time": "2022-09-25T12:40:55.179690",
     "status": "completed"
    },
    "tags": []
   },
   "outputs": [],
   "source": [
    "import numpy as np # linear algebra\n",
    "import pandas as pd # data processing, CSV file I/O (e.g. pd.read_csv)\n",
    "\n",
    "from sklearn.model_selection import train_test_split\n",
    "from sklearn.metrics import mutual_info_score\n",
    "from sklearn.feature_extraction import DictVectorizer\n",
    "from sklearn.linear_model import LogisticRegression"
   ]
  },
  {
   "cell_type": "code",
   "execution_count": 2,
   "id": "0c29f137",
   "metadata": {
    "execution": {
     "iopub.execute_input": "2022-09-25T12:40:56.506256Z",
     "iopub.status.busy": "2022-09-25T12:40:56.505827Z",
     "iopub.status.idle": "2022-09-25T12:40:57.909560Z",
     "shell.execute_reply": "2022-09-25T12:40:57.908190Z"
    },
    "papermill": {
     "duration": 1.414749,
     "end_time": "2022-09-25T12:40:57.912643",
     "exception": false,
     "start_time": "2022-09-25T12:40:56.497894",
     "status": "completed"
    },
    "tags": []
   },
   "outputs": [
    {
     "name": "stdout",
     "output_type": "stream",
     "text": [
      "--2022-09-25 12:40:57--  https://raw.githubusercontent.com/alexeygrigorev/datasets/master/housing.csv\r\n",
      "Resolving raw.githubusercontent.com (raw.githubusercontent.com)... 185.199.110.133, 185.199.109.133, 185.199.111.133, ...\r\n",
      "Connecting to raw.githubusercontent.com (raw.githubusercontent.com)|185.199.110.133|:443... connected.\r\n",
      "HTTP request sent, awaiting response... 200 OK\r\n",
      "Length: 1423529 (1.4M) [text/plain]\r\n",
      "Saving to: ‘housing.csv’\r\n",
      "\r\n",
      "housing.csv         100%[===================>]   1.36M  --.-KB/s    in 0.07s   \r\n",
      "\r\n",
      "2022-09-25 12:40:57 (19.8 MB/s) - ‘housing.csv’ saved [1423529/1423529]\r\n",
      "\r\n"
     ]
    }
   ],
   "source": [
    "#os.remove('/kaggle/working/housing.csv.2')\n",
    "data='https://raw.githubusercontent.com/alexeygrigorev/datasets/master/housing.csv'\n",
    "!wget $data\n",
    "\n",
    "df_org = pd.read_csv('housing.csv')"
   ]
  },
  {
   "cell_type": "code",
   "execution_count": 3,
   "id": "e62d35a9",
   "metadata": {
    "execution": {
     "iopub.execute_input": "2022-09-25T12:40:57.928897Z",
     "iopub.status.busy": "2022-09-25T12:40:57.928449Z",
     "iopub.status.idle": "2022-09-25T12:40:57.939983Z",
     "shell.execute_reply": "2022-09-25T12:40:57.939142Z"
    },
    "papermill": {
     "duration": 0.022484,
     "end_time": "2022-09-25T12:40:57.942178",
     "exception": false,
     "start_time": "2022-09-25T12:40:57.919694",
     "status": "completed"
    },
    "tags": []
   },
   "outputs": [
    {
     "data": {
      "text/plain": [
       "['latitude',\n",
       " 'longitude',\n",
       " 'housing_median_age',\n",
       " 'total_rooms',\n",
       " 'total_bedrooms',\n",
       " 'population',\n",
       " 'households',\n",
       " 'median_income',\n",
       " 'median_house_value',\n",
       " 'ocean_proximity']"
      ]
     },
     "execution_count": 3,
     "metadata": {},
     "output_type": "execute_result"
    }
   ],
   "source": [
    "columns = ['latitude',\n",
    "'longitude',\n",
    "'housing_median_age',\n",
    "'total_rooms',\n",
    "'total_bedrooms',\n",
    "'population',\n",
    "'households',\n",
    "'median_income',\n",
    "'median_house_value',\n",
    "'ocean_proximity']\n",
    "columns"
   ]
  },
  {
   "cell_type": "code",
   "execution_count": 4,
   "id": "4d5c6ff4",
   "metadata": {
    "execution": {
     "iopub.execute_input": "2022-09-25T12:40:57.960128Z",
     "iopub.status.busy": "2022-09-25T12:40:57.959073Z",
     "iopub.status.idle": "2022-09-25T12:40:57.999169Z",
     "shell.execute_reply": "2022-09-25T12:40:57.998315Z"
    },
    "papermill": {
     "duration": 0.050873,
     "end_time": "2022-09-25T12:40:58.001298",
     "exception": false,
     "start_time": "2022-09-25T12:40:57.950425",
     "status": "completed"
    },
    "tags": []
   },
   "outputs": [
    {
     "data": {
      "text/html": [
       "<div>\n",
       "<style scoped>\n",
       "    .dataframe tbody tr th:only-of-type {\n",
       "        vertical-align: middle;\n",
       "    }\n",
       "\n",
       "    .dataframe tbody tr th {\n",
       "        vertical-align: top;\n",
       "    }\n",
       "\n",
       "    .dataframe thead th {\n",
       "        text-align: right;\n",
       "    }\n",
       "</style>\n",
       "<table border=\"1\" class=\"dataframe\">\n",
       "  <thead>\n",
       "    <tr style=\"text-align: right;\">\n",
       "      <th></th>\n",
       "      <th>0</th>\n",
       "      <th>1</th>\n",
       "      <th>2</th>\n",
       "      <th>3</th>\n",
       "      <th>4</th>\n",
       "    </tr>\n",
       "  </thead>\n",
       "  <tbody>\n",
       "    <tr>\n",
       "      <th>latitude</th>\n",
       "      <td>37.88</td>\n",
       "      <td>37.86</td>\n",
       "      <td>37.85</td>\n",
       "      <td>37.85</td>\n",
       "      <td>37.85</td>\n",
       "    </tr>\n",
       "    <tr>\n",
       "      <th>longitude</th>\n",
       "      <td>-122.23</td>\n",
       "      <td>-122.22</td>\n",
       "      <td>-122.24</td>\n",
       "      <td>-122.25</td>\n",
       "      <td>-122.25</td>\n",
       "    </tr>\n",
       "    <tr>\n",
       "      <th>housing_median_age</th>\n",
       "      <td>41.0</td>\n",
       "      <td>21.0</td>\n",
       "      <td>52.0</td>\n",
       "      <td>52.0</td>\n",
       "      <td>52.0</td>\n",
       "    </tr>\n",
       "    <tr>\n",
       "      <th>total_rooms</th>\n",
       "      <td>880.0</td>\n",
       "      <td>7099.0</td>\n",
       "      <td>1467.0</td>\n",
       "      <td>1274.0</td>\n",
       "      <td>1627.0</td>\n",
       "    </tr>\n",
       "    <tr>\n",
       "      <th>total_bedrooms</th>\n",
       "      <td>129.0</td>\n",
       "      <td>1106.0</td>\n",
       "      <td>190.0</td>\n",
       "      <td>235.0</td>\n",
       "      <td>280.0</td>\n",
       "    </tr>\n",
       "    <tr>\n",
       "      <th>population</th>\n",
       "      <td>322.0</td>\n",
       "      <td>2401.0</td>\n",
       "      <td>496.0</td>\n",
       "      <td>558.0</td>\n",
       "      <td>565.0</td>\n",
       "    </tr>\n",
       "    <tr>\n",
       "      <th>households</th>\n",
       "      <td>126.0</td>\n",
       "      <td>1138.0</td>\n",
       "      <td>177.0</td>\n",
       "      <td>219.0</td>\n",
       "      <td>259.0</td>\n",
       "    </tr>\n",
       "    <tr>\n",
       "      <th>median_income</th>\n",
       "      <td>8.3252</td>\n",
       "      <td>8.3014</td>\n",
       "      <td>7.2574</td>\n",
       "      <td>5.6431</td>\n",
       "      <td>3.8462</td>\n",
       "    </tr>\n",
       "    <tr>\n",
       "      <th>median_house_value</th>\n",
       "      <td>452600.0</td>\n",
       "      <td>358500.0</td>\n",
       "      <td>352100.0</td>\n",
       "      <td>341300.0</td>\n",
       "      <td>342200.0</td>\n",
       "    </tr>\n",
       "    <tr>\n",
       "      <th>ocean_proximity</th>\n",
       "      <td>NEAR BAY</td>\n",
       "      <td>NEAR BAY</td>\n",
       "      <td>NEAR BAY</td>\n",
       "      <td>NEAR BAY</td>\n",
       "      <td>NEAR BAY</td>\n",
       "    </tr>\n",
       "    <tr>\n",
       "      <th>rooms_per_household</th>\n",
       "      <td>6.984127</td>\n",
       "      <td>6.238137</td>\n",
       "      <td>8.288136</td>\n",
       "      <td>5.817352</td>\n",
       "      <td>6.281853</td>\n",
       "    </tr>\n",
       "    <tr>\n",
       "      <th>bedrooms_per_room</th>\n",
       "      <td>0.146591</td>\n",
       "      <td>0.155797</td>\n",
       "      <td>0.129516</td>\n",
       "      <td>0.184458</td>\n",
       "      <td>0.172096</td>\n",
       "    </tr>\n",
       "    <tr>\n",
       "      <th>population_per_household</th>\n",
       "      <td>2.555556</td>\n",
       "      <td>2.109842</td>\n",
       "      <td>2.80226</td>\n",
       "      <td>2.547945</td>\n",
       "      <td>2.181467</td>\n",
       "    </tr>\n",
       "  </tbody>\n",
       "</table>\n",
       "</div>"
      ],
      "text/plain": [
       "                                 0         1         2         3         4\n",
       "latitude                     37.88     37.86     37.85     37.85     37.85\n",
       "longitude                  -122.23   -122.22   -122.24   -122.25   -122.25\n",
       "housing_median_age            41.0      21.0      52.0      52.0      52.0\n",
       "total_rooms                  880.0    7099.0    1467.0    1274.0    1627.0\n",
       "total_bedrooms               129.0    1106.0     190.0     235.0     280.0\n",
       "population                   322.0    2401.0     496.0     558.0     565.0\n",
       "households                   126.0    1138.0     177.0     219.0     259.0\n",
       "median_income               8.3252    8.3014    7.2574    5.6431    3.8462\n",
       "median_house_value        452600.0  358500.0  352100.0  341300.0  342200.0\n",
       "ocean_proximity           NEAR BAY  NEAR BAY  NEAR BAY  NEAR BAY  NEAR BAY\n",
       "rooms_per_household       6.984127  6.238137  8.288136  5.817352  6.281853\n",
       "bedrooms_per_room         0.146591  0.155797  0.129516  0.184458  0.172096\n",
       "population_per_household  2.555556  2.109842   2.80226  2.547945  2.181467"
      ]
     },
     "execution_count": 4,
     "metadata": {},
     "output_type": "execute_result"
    }
   ],
   "source": [
    "df = df_org[columns].fillna(0)\n",
    "df['rooms_per_household'] = df.total_rooms / df.households\n",
    "df['bedrooms_per_room'] = df.total_bedrooms / df.total_rooms\n",
    "df['population_per_household'] = df.population / df.households\n",
    "\n",
    "df.head().T\n",
    "# df_org.head().T"
   ]
  },
  {
   "cell_type": "markdown",
   "id": "97fd9547",
   "metadata": {
    "papermill": {
     "duration": 0.007016,
     "end_time": "2022-09-25T12:40:58.015774",
     "exception": false,
     "start_time": "2022-09-25T12:40:58.008758",
     "status": "completed"
    },
    "tags": []
   },
   "source": [
    "## Question 1\n",
    "What is the most frequent observation (mode) for the column ocean_proximity?"
   ]
  },
  {
   "cell_type": "code",
   "execution_count": 5,
   "id": "1bb15eaf",
   "metadata": {
    "execution": {
     "iopub.execute_input": "2022-09-25T12:40:58.032361Z",
     "iopub.status.busy": "2022-09-25T12:40:58.031910Z",
     "iopub.status.idle": "2022-09-25T12:40:58.044642Z",
     "shell.execute_reply": "2022-09-25T12:40:58.043539Z"
    },
    "papermill": {
     "duration": 0.024362,
     "end_time": "2022-09-25T12:40:58.047441",
     "exception": false,
     "start_time": "2022-09-25T12:40:58.023079",
     "status": "completed"
    },
    "tags": []
   },
   "outputs": [
    {
     "data": {
      "text/plain": [
       "0    <1H OCEAN\n",
       "dtype: object"
      ]
     },
     "execution_count": 5,
     "metadata": {},
     "output_type": "execute_result"
    }
   ],
   "source": [
    "df.ocean_proximity.mode()"
   ]
  },
  {
   "cell_type": "markdown",
   "id": "7d25ee99",
   "metadata": {
    "papermill": {
     "duration": 0.007178,
     "end_time": "2022-09-25T12:40:58.062059",
     "exception": false,
     "start_time": "2022-09-25T12:40:58.054881",
     "status": "completed"
    },
    "tags": []
   },
   "source": [
    "## Make median_house_value binary\n",
    "* We need to turn the median_house_value variable from numeric into binary.\n",
    "* Let's create a variable above_average which is 1 if the median_house_value is above its mean value and 0 otherwise."
   ]
  },
  {
   "cell_type": "code",
   "execution_count": 6,
   "id": "937f549b",
   "metadata": {
    "execution": {
     "iopub.execute_input": "2022-09-25T12:40:58.078914Z",
     "iopub.status.busy": "2022-09-25T12:40:58.078254Z",
     "iopub.status.idle": "2022-09-25T12:40:58.085148Z",
     "shell.execute_reply": "2022-09-25T12:40:58.084153Z"
    },
    "papermill": {
     "duration": 0.018218,
     "end_time": "2022-09-25T12:40:58.087626",
     "exception": false,
     "start_time": "2022-09-25T12:40:58.069408",
     "status": "completed"
    },
    "tags": []
   },
   "outputs": [],
   "source": [
    "# binarizing median_house_value under new name 'above_average'\n",
    "df['above_average'] = (df.median_house_value > df.median_house_value.mean()).astype(int)"
   ]
  },
  {
   "cell_type": "markdown",
   "id": "5914420d",
   "metadata": {
    "papermill": {
     "duration": 0.007011,
     "end_time": "2022-09-25T12:40:58.102161",
     "exception": false,
     "start_time": "2022-09-25T12:40:58.095150",
     "status": "completed"
    },
    "tags": []
   },
   "source": [
    "## Split the data\n",
    "* Split your data in train/val/test sets, with 60%/20%/20% distribution.\n",
    "* Use Scikit-Learn for that (the train_test_split function) and set the seed to 42.\n",
    "* Make sure that the target value (median_house_value) is not in your dataframe."
   ]
  },
  {
   "cell_type": "code",
   "execution_count": 7,
   "id": "22b46cea",
   "metadata": {
    "execution": {
     "iopub.execute_input": "2022-09-25T12:40:58.120091Z",
     "iopub.status.busy": "2022-09-25T12:40:58.119433Z",
     "iopub.status.idle": "2022-09-25T12:40:58.145606Z",
     "shell.execute_reply": "2022-09-25T12:40:58.143764Z"
    },
    "papermill": {
     "duration": 0.039249,
     "end_time": "2022-09-25T12:40:58.148776",
     "exception": false,
     "start_time": "2022-09-25T12:40:58.109527",
     "status": "completed"
    },
    "tags": []
   },
   "outputs": [
    {
     "name": "stdout",
     "output_type": "stream",
     "text": [
      "12384 4128 4128\n"
     ]
    }
   ],
   "source": [
    "# Splitting the data set\n",
    "\n",
    "df_full_train, df_test = train_test_split(df, test_size=0.2, random_state=42)\n",
    "df_train, df_val = train_test_split(df_full_train, test_size=0.25, random_state=42)\n",
    "\n",
    "print(len(df_train), len(df_val), len(df_test))\n",
    "\n",
    "df_train.reset_index()\n",
    "df_val.reset_index()\n",
    "df_test.reset_index()\n",
    "\n",
    "y_train = df_train.above_average.values\n",
    "y_val = df_val.above_average.values\n",
    "y_test = df_test.above_average.values\n",
    "\n",
    "for c in ['median_house_value']:\n",
    "    del df_train[c]\n",
    "    del df_val[c]\n",
    "    del df_test[c]"
   ]
  },
  {
   "cell_type": "markdown",
   "id": "e8877fad",
   "metadata": {
    "papermill": {
     "duration": 0.007305,
     "end_time": "2022-09-25T12:40:58.165142",
     "exception": false,
     "start_time": "2022-09-25T12:40:58.157837",
     "status": "completed"
    },
    "tags": []
   },
   "source": [
    "## Question 2\n",
    "* Create the correlation matrix for the numerical features of your **train** dataset. In a correlation matrix, you compute the correlation coefficient between every pair of features in the dataset.\n",
    "* What are the two features that have the biggest correlation in this dataset?"
   ]
  },
  {
   "cell_type": "code",
   "execution_count": 8,
   "id": "ea53f3f9",
   "metadata": {
    "execution": {
     "iopub.execute_input": "2022-09-25T12:40:58.182749Z",
     "iopub.status.busy": "2022-09-25T12:40:58.181506Z",
     "iopub.status.idle": "2022-09-25T12:40:58.191459Z",
     "shell.execute_reply": "2022-09-25T12:40:58.190023Z"
    },
    "papermill": {
     "duration": 0.021275,
     "end_time": "2022-09-25T12:40:58.193891",
     "exception": false,
     "start_time": "2022-09-25T12:40:58.172616",
     "status": "completed"
    },
    "tags": []
   },
   "outputs": [
    {
     "data": {
      "text/plain": [
       "latitude                    float64\n",
       "longitude                   float64\n",
       "housing_median_age          float64\n",
       "total_rooms                 float64\n",
       "total_bedrooms              float64\n",
       "population                  float64\n",
       "households                  float64\n",
       "median_income               float64\n",
       "median_house_value          float64\n",
       "ocean_proximity              object\n",
       "rooms_per_household         float64\n",
       "bedrooms_per_room           float64\n",
       "population_per_household    float64\n",
       "above_average                 int64\n",
       "dtype: object"
      ]
     },
     "execution_count": 8,
     "metadata": {},
     "output_type": "execute_result"
    }
   ],
   "source": [
    "df.dtypes"
   ]
  },
  {
   "cell_type": "code",
   "execution_count": 9,
   "id": "846668aa",
   "metadata": {
    "execution": {
     "iopub.execute_input": "2022-09-25T12:40:58.210922Z",
     "iopub.status.busy": "2022-09-25T12:40:58.210464Z",
     "iopub.status.idle": "2022-09-25T12:40:58.219864Z",
     "shell.execute_reply": "2022-09-25T12:40:58.218567Z"
    },
    "papermill": {
     "duration": 0.020848,
     "end_time": "2022-09-25T12:40:58.222465",
     "exception": false,
     "start_time": "2022-09-25T12:40:58.201617",
     "status": "completed"
    },
    "tags": []
   },
   "outputs": [
    {
     "data": {
      "text/plain": [
       "['latitude',\n",
       " 'longitude',\n",
       " 'housing_median_age',\n",
       " 'total_rooms',\n",
       " 'total_bedrooms',\n",
       " 'population',\n",
       " 'households',\n",
       " 'median_income',\n",
       " 'rooms_per_household',\n",
       " 'bedrooms_per_room',\n",
       " 'population_per_household']"
      ]
     },
     "execution_count": 9,
     "metadata": {},
     "output_type": "execute_result"
    }
   ],
   "source": [
    "numerical = list((df.dtypes[df.dtypes != 'object'].index))\n",
    "\n",
    "# remove target variables\n",
    "numerical.remove('median_house_value') \n",
    "numerical.remove('above_average')\n",
    "\n",
    "numerical"
   ]
  },
  {
   "cell_type": "code",
   "execution_count": 10,
   "id": "7cf9c0ff",
   "metadata": {
    "execution": {
     "iopub.execute_input": "2022-09-25T12:40:58.240163Z",
     "iopub.status.busy": "2022-09-25T12:40:58.239705Z",
     "iopub.status.idle": "2022-09-25T12:40:58.248140Z",
     "shell.execute_reply": "2022-09-25T12:40:58.247003Z"
    },
    "papermill": {
     "duration": 0.020031,
     "end_time": "2022-09-25T12:40:58.250431",
     "exception": false,
     "start_time": "2022-09-25T12:40:58.230400",
     "status": "completed"
    },
    "tags": []
   },
   "outputs": [
    {
     "data": {
      "text/plain": [
       "['ocean_proximity']"
      ]
     },
     "execution_count": 10,
     "metadata": {},
     "output_type": "execute_result"
    }
   ],
   "source": [
    "categorical = list((df.dtypes[df.dtypes == 'object'].index))\n",
    "categorical"
   ]
  },
  {
   "cell_type": "code",
   "execution_count": 11,
   "id": "ba34ae5c",
   "metadata": {
    "execution": {
     "iopub.execute_input": "2022-09-25T12:40:58.267676Z",
     "iopub.status.busy": "2022-09-25T12:40:58.267242Z",
     "iopub.status.idle": "2022-09-25T12:40:58.326158Z",
     "shell.execute_reply": "2022-09-25T12:40:58.324829Z"
    },
    "papermill": {
     "duration": 0.070238,
     "end_time": "2022-09-25T12:40:58.328517",
     "exception": false,
     "start_time": "2022-09-25T12:40:58.258279",
     "status": "completed"
    },
    "tags": []
   },
   "outputs": [
    {
     "data": {
      "text/plain": [
       "{'name': 'total_bedrooms___households', 'corr': 0.979399352769416}"
      ]
     },
     "execution_count": 11,
     "metadata": {},
     "output_type": "execute_result"
    }
   ],
   "source": [
    "corr_matrix = list()\n",
    "\n",
    "for c in numerical:\n",
    "    for o in numerical:\n",
    "        if c == o: continue\n",
    "        corr_matrix.append({'name' : '%s___%s' % (c, o),\n",
    "                      'corr' : df_train[c].corr(df_train[o])})\n",
    "\n",
    "sorted(corr_matrix, key = lambda d: d['corr'], reverse=True)[0]"
   ]
  },
  {
   "cell_type": "markdown",
   "id": "63697d34",
   "metadata": {
    "papermill": {
     "duration": 0.007802,
     "end_time": "2022-09-25T12:40:58.344309",
     "exception": false,
     "start_time": "2022-09-25T12:40:58.336507",
     "status": "completed"
    },
    "tags": []
   },
   "source": [
    "## Question 3\n",
    "* Calculate the mutual information score with the (binarized) price for the categorical variable that we have. Use the training set only.\n",
    "* What is the value of mutual information?\n",
    "* Round it to 2 decimal digits using round(score, 2)"
   ]
  },
  {
   "cell_type": "code",
   "execution_count": 12,
   "id": "50a6162a",
   "metadata": {
    "execution": {
     "iopub.execute_input": "2022-09-25T12:40:58.362780Z",
     "iopub.status.busy": "2022-09-25T12:40:58.362056Z",
     "iopub.status.idle": "2022-09-25T12:40:58.391059Z",
     "shell.execute_reply": "2022-09-25T12:40:58.390113Z"
    },
    "papermill": {
     "duration": 0.041317,
     "end_time": "2022-09-25T12:40:58.393553",
     "exception": false,
     "start_time": "2022-09-25T12:40:58.352236",
     "status": "completed"
    },
    "tags": []
   },
   "outputs": [
    {
     "data": {
      "text/plain": [
       "0.1"
      ]
     },
     "execution_count": 12,
     "metadata": {},
     "output_type": "execute_result"
    }
   ],
   "source": [
    "mutual_info_score(df_train.above_average, df_train.ocean_proximity).round(2)"
   ]
  },
  {
   "cell_type": "markdown",
   "id": "f460eea1",
   "metadata": {
    "papermill": {
     "duration": 0.007855,
     "end_time": "2022-09-25T12:40:58.409619",
     "exception": false,
     "start_time": "2022-09-25T12:40:58.401764",
     "status": "completed"
    },
    "tags": []
   },
   "source": [
    "## Question 4\n",
    "* Now let's train a logistic regression\n",
    "* Remember that we have one categorical variable `ocean_proximity` in the data. Include it using one-hot encoding.\n",
    "* Fit the model on the training dataset.\n",
    "  * To make sure the results are reproducible across different versions of Scikit-Learn, fit the model with these parameters:\n",
    "  * `model = LogisticRegression(solver=\"liblinear\", C=1.0, max_iter=1000, random_state=42)`\n",
    "* Calculate the accuracy on the validation dataset and round it to 2 decimal digits."
   ]
  },
  {
   "cell_type": "code",
   "execution_count": 13,
   "id": "e2620e88",
   "metadata": {
    "execution": {
     "iopub.execute_input": "2022-09-25T12:40:58.428118Z",
     "iopub.status.busy": "2022-09-25T12:40:58.427502Z",
     "iopub.status.idle": "2022-09-25T12:40:58.768513Z",
     "shell.execute_reply": "2022-09-25T12:40:58.767609Z"
    },
    "papermill": {
     "duration": 0.3533,
     "end_time": "2022-09-25T12:40:58.771048",
     "exception": false,
     "start_time": "2022-09-25T12:40:58.417748",
     "status": "completed"
    },
    "tags": []
   },
   "outputs": [],
   "source": [
    "dicts_train = df_train[categorical + numerical].to_dict(orient='records')\n",
    "\n",
    "dv = DictVectorizer(sparse=False)\n",
    "X_train = dv.fit_transform(dicts_train)"
   ]
  },
  {
   "cell_type": "code",
   "execution_count": 14,
   "id": "0ef77638",
   "metadata": {
    "execution": {
     "iopub.execute_input": "2022-09-25T12:40:58.789161Z",
     "iopub.status.busy": "2022-09-25T12:40:58.788708Z",
     "iopub.status.idle": "2022-09-25T12:40:59.587060Z",
     "shell.execute_reply": "2022-09-25T12:40:59.585847Z"
    },
    "papermill": {
     "duration": 0.810539,
     "end_time": "2022-09-25T12:40:59.589621",
     "exception": false,
     "start_time": "2022-09-25T12:40:58.779082",
     "status": "completed"
    },
    "tags": []
   },
   "outputs": [
    {
     "data": {
      "text/plain": [
       "(-0.083829188440655,\n",
       " [0.18093530759982326,\n",
       "  0.003954758787947762,\n",
       "  0.03573955469112594,\n",
       "  0.11598325702417112,\n",
       "  0.08716280496403875,\n",
       "  1.2120866441523424,\n",
       "  0.473101980247531,\n",
       "  -1.7147713304052514,\n",
       "  0.01882696615444871,\n",
       "  0.29153725950298887,\n",
       "  0.8474759360596523,\n",
       "  -0.0016371871780485171,\n",
       "  0.010323040002691304,\n",
       "  -0.014052207665170789,\n",
       "  0.0018753074674865912,\n",
       "  -0.00014597082449926822])"
      ]
     },
     "execution_count": 14,
     "metadata": {},
     "output_type": "execute_result"
    }
   ],
   "source": [
    "model = LogisticRegression(solver=\"liblinear\", C=1.0, max_iter=1000, random_state=42)\n",
    "\n",
    "model.fit(X_train, y_train) #<-- training the model\n",
    "\n",
    "w = list(model.coef_[0])\n",
    "w0 = model.intercept_[0]\n",
    "(w0, w)"
   ]
  },
  {
   "cell_type": "code",
   "execution_count": 15,
   "id": "6ecfd011",
   "metadata": {
    "execution": {
     "iopub.execute_input": "2022-09-25T12:40:59.607755Z",
     "iopub.status.busy": "2022-09-25T12:40:59.607309Z",
     "iopub.status.idle": "2022-09-25T12:40:59.730887Z",
     "shell.execute_reply": "2022-09-25T12:40:59.729285Z"
    },
    "papermill": {
     "duration": 0.137315,
     "end_time": "2022-09-25T12:40:59.735108",
     "exception": false,
     "start_time": "2022-09-25T12:40:59.597793",
     "status": "completed"
    },
    "tags": []
   },
   "outputs": [
    {
     "data": {
      "text/plain": [
       "0.84"
      ]
     },
     "execution_count": 15,
     "metadata": {},
     "output_type": "execute_result"
    }
   ],
   "source": [
    "# Calculate the predictions for the validation data set using the model trained with training data\n",
    "\n",
    "dicts_val = df_val[categorical + numerical].to_dict(orient='records')\n",
    "X_val = dv.transform(dicts_val)\n",
    "val_pred = model.predict_proba(X_val)[:,1] >= 0.5\n",
    "\n",
    "# Calculate relative frequency\n",
    "val_pred_accuracy = (val_pred == y_val).mean()\n",
    "val_pred_accuracy.round(2)"
   ]
  },
  {
   "cell_type": "markdown",
   "id": "8a94f18f",
   "metadata": {
    "papermill": {
     "duration": 0.020038,
     "end_time": "2022-09-25T12:40:59.776244",
     "exception": false,
     "start_time": "2022-09-25T12:40:59.756206",
     "status": "completed"
    },
    "tags": []
   },
   "source": [
    "## Question 5\n",
    "\n",
    "* Let's find the least useful feature using the *feature elimination* technique.\n",
    "* Train a model with all these features (using the same parameters as in Q4).\n",
    "* Now exclude each feature from this set and train a model without it. Record the accuracy for each model.\n",
    "* For each feature, calculate the difference between the original accuracy and the accuracy without the feature.\n",
    "* Which of following feature has the smallest difference?\n",
    "  * `total_rooms`\n",
    "  * `total_bedrooms`\n",
    "  * `population`\n",
    "  * `households`\n",
    "**note**: the difference doesn't have to be positive"
   ]
  },
  {
   "cell_type": "code",
   "execution_count": 16,
   "id": "24633995",
   "metadata": {
    "execution": {
     "iopub.execute_input": "2022-09-25T12:40:59.820432Z",
     "iopub.status.busy": "2022-09-25T12:40:59.819687Z",
     "iopub.status.idle": "2022-09-25T12:41:10.851785Z",
     "shell.execute_reply": "2022-09-25T12:41:10.850229Z"
    },
    "papermill": {
     "duration": 11.058881,
     "end_time": "2022-09-25T12:41:10.855995",
     "exception": false,
     "start_time": "2022-09-25T12:40:59.797114",
     "status": "completed"
    },
    "tags": []
   },
   "outputs": [
    {
     "data": {
      "text/plain": [
       "[{'col': 'total_bedrooms', 'accuracy': 0.0004844961240310086},\n",
       " {'col': 'population_per_household', 'accuracy': 0.0004844961240310086},\n",
       " {'col': 'total_rooms', 'accuracy': 0.0007267441860464574},\n",
       " {'col': 'rooms_per_household', 'accuracy': 0.0007267441860465684},\n",
       " {'col': 'bedrooms_per_room', 'accuracy': 0.0014534883720930258},\n",
       " {'col': 'latitude', 'accuracy': 0.002422480620155043},\n",
       " {'col': 'households', 'accuracy': 0.0031492248062016115},\n",
       " {'col': 'housing_median_age', 'accuracy': 0.004844961240310086},\n",
       " {'col': 'longitude', 'accuracy': 0.005087209302325646},\n",
       " {'col': 'population', 'accuracy': 0.009932170542635732},\n",
       " {'col': 'ocean_proximity', 'accuracy': 0.016715116279069853},\n",
       " {'col': 'median_income', 'accuracy': 0.04990310077519389}]"
      ]
     },
     "execution_count": 16,
     "metadata": {},
     "output_type": "execute_result"
    }
   ],
   "source": [
    "columns = categorical + numerical\n",
    "tlist = list()\n",
    "\n",
    "for c in columns:\n",
    "    tolumns = columns.copy()\n",
    "    tolumns.remove(c)\n",
    "    \n",
    "    # hot-one encoding train data\n",
    "    dicts_train_small = df_train[tolumns].to_dict(orient='records')\n",
    "    dv = DictVectorizer(sparse=False)\n",
    "    X_train_small = dv.fit_transform(dicts_train_small)\n",
    "    \n",
    "    # traning the model with train data\n",
    "    model = LogisticRegression(solver=\"liblinear\", C=1.0, max_iter=1000, random_state=42)\n",
    "    model.fit(X_train_small, y_train) # training the model with the subset of features\n",
    "    \n",
    "    # hot-one encoding validation data\n",
    "    dicts_val_small = df_val[tolumns].to_dict(orient='records')\n",
    "    X_val_small = dv.transform(dicts_val_small)\n",
    "    \n",
    "    # calculate prediction using the trained model\n",
    "    val_small_pred = model.predict_proba(X_val_small)[:,1] >= 0.5\n",
    "    val_small_pred\n",
    "    \n",
    "    # Calculate relative frequency\n",
    "    val_small_pred_accuracy = (val_small_pred == y_val).mean()\n",
    "    \n",
    "    # find diff with original accuracy from full validation dataset\n",
    "    diff = val_small_pred_accuracy - val_pred_accuracy\n",
    "    tlist.append({'col' : c,  'accuracy' : abs(diff)}) # abs to remove sign\n",
    "\n",
    "sorted(tlist, key = lambda d: d['accuracy'])\n",
    "\n",
    "# total_rooms is the answer, as population_per_household is not in optional list"
   ]
  },
  {
   "cell_type": "markdown",
   "id": "d66969ff",
   "metadata": {
    "papermill": {
     "duration": 0.020407,
     "end_time": "2022-09-25T12:41:10.897407",
     "exception": false,
     "start_time": "2022-09-25T12:41:10.877000",
     "status": "completed"
    },
    "tags": []
   },
   "source": [
    "## Question 6\n",
    "\n",
    "* For this question, we'll see how to use a linear regression model from Scikit-Learn\n",
    "* We'll need to use the original column `'median_house_value'`. Apply the logarithmic transformation to this column.\n",
    "* Fit the Ridge regression model (`model = Ridge(alpha=a, solver=\"sag\", random_state=42)`) on the training data.\n",
    "* This model has a parameter `alpha`. Let's try the following values: `[0, 0.01, 0.1, 1, 10]`\n",
    "* Which of these alphas leads to the best RMSE on the validation set? Round your RMSE scores to 3 decimal digits.\n",
    "\n",
    "If there are multiple options, select the smallest `alpha`."
   ]
  },
  {
   "cell_type": "code",
   "execution_count": 17,
   "id": "c5889686",
   "metadata": {
    "execution": {
     "iopub.execute_input": "2022-09-25T12:41:10.942253Z",
     "iopub.status.busy": "2022-09-25T12:41:10.941478Z",
     "iopub.status.idle": "2022-09-25T12:41:10.971222Z",
     "shell.execute_reply": "2022-09-25T12:41:10.970018Z"
    },
    "papermill": {
     "duration": 0.055356,
     "end_time": "2022-09-25T12:41:10.973669",
     "exception": false,
     "start_time": "2022-09-25T12:41:10.918313",
     "status": "completed"
    },
    "tags": []
   },
   "outputs": [
    {
     "name": "stdout",
     "output_type": "stream",
     "text": [
      "12384 4128 4128\n"
     ]
    }
   ],
   "source": [
    "# Splitting the data set\n",
    "\n",
    "df_full_train, df_test = train_test_split(df, test_size=0.2, random_state=42)\n",
    "df_train, df_val = train_test_split(df_full_train, test_size=0.25, random_state=42)\n",
    "\n",
    "print(len(df_train), len(df_val), len(df_test))\n",
    "\n",
    "df_train.reset_index()\n",
    "df_val.reset_index()\n",
    "df_test.reset_index()\n",
    "\n",
    "y_train = np.log1p(df_train.median_house_value.values)\n",
    "y_val = np.log1p(df_val.median_house_value.values)\n",
    "y_test = np.log1p(df_test.median_house_value.values)\n",
    "\n",
    "for c in ['median_house_value']:\n",
    "    del df_train[c]\n",
    "    del df_val[c]\n",
    "    del df_test[c]"
   ]
  },
  {
   "cell_type": "code",
   "execution_count": 18,
   "id": "5e33b630",
   "metadata": {
    "execution": {
     "iopub.execute_input": "2022-09-25T12:41:10.992994Z",
     "iopub.status.busy": "2022-09-25T12:41:10.992242Z",
     "iopub.status.idle": "2022-09-25T12:41:10.997395Z",
     "shell.execute_reply": "2022-09-25T12:41:10.996328Z"
    },
    "papermill": {
     "duration": 0.01747,
     "end_time": "2022-09-25T12:41:10.999701",
     "exception": false,
     "start_time": "2022-09-25T12:41:10.982231",
     "status": "completed"
    },
    "tags": []
   },
   "outputs": [],
   "source": [
    "def get_rmse(y_pred, y):\n",
    "    se = np.square( y_pred - y)\n",
    "    mse = se.mean()\n",
    "    return np.sqrt(mse)"
   ]
  },
  {
   "cell_type": "code",
   "execution_count": 19,
   "id": "6114ef6d",
   "metadata": {
    "execution": {
     "iopub.execute_input": "2022-09-25T12:41:11.019112Z",
     "iopub.status.busy": "2022-09-25T12:41:11.017784Z",
     "iopub.status.idle": "2022-09-25T12:41:29.368333Z",
     "shell.execute_reply": "2022-09-25T12:41:29.366639Z"
    },
    "papermill": {
     "duration": 18.363293,
     "end_time": "2022-09-25T12:41:29.371394",
     "exception": false,
     "start_time": "2022-09-25T12:41:11.008101",
     "status": "completed"
    },
    "tags": []
   },
   "outputs": [
    {
     "data": {
      "text/plain": [
       "[{'alpha': 0, 'rmse': 0.524},\n",
       " {'alpha': 0.01, 'rmse': 0.524},\n",
       " {'alpha': 0.1, 'rmse': 0.524},\n",
       " {'alpha': 1, 'rmse': 0.524},\n",
       " {'alpha': 10, 'rmse': 0.524}]"
      ]
     },
     "execution_count": 19,
     "metadata": {},
     "output_type": "execute_result"
    }
   ],
   "source": [
    "from sklearn.linear_model import Ridge\n",
    "\n",
    "dicts_train = df_train[categorical + numerical].to_dict(orient='records')\n",
    "tlist =list()\n",
    "\n",
    "dv = DictVectorizer(sparse=False)\n",
    "X_train = dv.fit_transform(dicts_train)\n",
    "\n",
    "for a in [0, 0.01, 0.1, 1, 10]:\n",
    "    model = Ridge(alpha=a, solver=\"sag\", random_state=42)\n",
    "    # model = LogisticRegression(solver=\"liblinear\", C=1.0, max_iter=1000, random_state=42)\n",
    "    model.fit(X_train, y_train) #<-- training the model\n",
    "    \n",
    "    dicts_val = df_val[categorical + numerical].to_dict(orient='records')\n",
    "    X_val = dv.transform(dicts_val)\n",
    "    y_pred = model.predict(X_val)\n",
    "    rmse = get_rmse(y_pred, y_val)\n",
    "    tlist.append({'alpha' : a,  'rmse' : round(rmse, 3)}) #rmse rounded to 3 decimal places\n",
    "    \n",
    "sorted(tlist, key = lambda d: d['rmse'])\n"
   ]
  }
 ],
 "metadata": {
  "kernelspec": {
   "display_name": "Python 3",
   "language": "python",
   "name": "python3"
  },
  "language_info": {
   "codemirror_mode": {
    "name": "ipython",
    "version": 3
   },
   "file_extension": ".py",
   "mimetype": "text/x-python",
   "name": "python",
   "nbconvert_exporter": "python",
   "pygments_lexer": "ipython3",
   "version": "3.7.12"
  },
  "papermill": {
   "default_parameters": {},
   "duration": 44.720543,
   "end_time": "2022-09-25T12:41:30.225732",
   "environment_variables": {},
   "exception": null,
   "input_path": "__notebook__.ipynb",
   "output_path": "__notebook__.ipynb",
   "parameters": {},
   "start_time": "2022-09-25T12:40:45.505189",
   "version": "2.3.4"
  }
 },
 "nbformat": 4,
 "nbformat_minor": 5
}
