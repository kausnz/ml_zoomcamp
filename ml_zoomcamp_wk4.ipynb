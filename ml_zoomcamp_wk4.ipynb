{
  "metadata": {
    "kernelspec": {
      "language": "python",
      "display_name": "Python 3",
      "name": "python3"
    },
    "language_info": {
      "name": "python",
      "version": "3.7.12",
      "mimetype": "text/x-python",
      "codemirror_mode": {
        "name": "ipython",
        "version": 3
      },
      "pygments_lexer": "ipython3",
      "nbconvert_exporter": "python",
      "file_extension": ".py"
    },
    "colab": {
      "provenance": [],
      "include_colab_link": true
    }
  },
  "nbformat_minor": 0,
  "nbformat": 4,
  "cells": [
    {
      "cell_type": "markdown",
      "metadata": {
        "id": "view-in-github",
        "colab_type": "text"
      },
      "source": [
        "<a href=\"https://colab.research.google.com/github/kausnz/ml_zoomcamp_homework/blob/main/ml_zoomcamp_wk4.ipynb\" target=\"_parent\"><img src=\"https://colab.research.google.com/assets/colab-badge.svg\" alt=\"Open In Colab\"/></a>"
      ]
    },
    {
      "cell_type": "markdown",
      "source": [
        "# Week 4"
      ],
      "metadata": {
        "id": "1emMdqANbmgy"
      }
    },
    {
      "cell_type": "code",
      "source": [
        "%autosave 5"
      ],
      "metadata": {
        "colab": {
          "base_uri": "https://localhost:8080/",
          "height": 34
        },
        "id": "VCMCgXIJcfDi",
        "outputId": "13dc163e-a4ea-4ca6-bcc7-216628549929"
      },
      "execution_count": 11,
      "outputs": [
        {
          "output_type": "display_data",
          "data": {
            "application/javascript": [
              "IPython.notebook.set_autosave_interval(5000)"
            ]
          },
          "metadata": {}
        },
        {
          "output_type": "stream",
          "name": "stdout",
          "text": [
            "Autosaving every 5 seconds\n"
          ]
        }
      ]
    },
    {
      "cell_type": "code",
      "source": [
        "import pandas as pd\n",
        "import numpy as np\n",
        "import matplotlib.pyplot as plt\n",
        "\n",
        "from sklearn.model_selection import train_test_split\n",
        "from sklearn.feature_extraction import DictVectorizer\n",
        "from sklearn.linear_model import LogisticRegression"
      ],
      "metadata": {
        "_uuid": "f94ae14f-852e-4fd0-9355-940dc69399cf",
        "_cell_guid": "ab7d1dc5-fd6e-4a41-8095-a9f57a0f6f45",
        "execution": {
          "iopub.status.busy": "2022-09-30T09:44:47.561016Z",
          "iopub.execute_input": "2022-09-30T09:44:47.561704Z",
          "iopub.status.idle": "2022-09-30T09:44:47.574884Z",
          "shell.execute_reply.started": "2022-09-30T09:44:47.561581Z",
          "shell.execute_reply": "2022-09-30T09:44:47.573565Z"
        },
        "trusted": true,
        "id": "xixiPKWFbmdV"
      },
      "execution_count": 12,
      "outputs": []
    },
    {
      "cell_type": "markdown",
      "source": [
        "We are basing Week4 on what we did during Week 3."
      ],
      "metadata": {
        "id": "5CKVA6KXc-44"
      }
    },
    {
      "cell_type": "code",
      "source": [
        "## Prep"
      ],
      "metadata": {
        "id": "bVWKkHbZeoGM"
      },
      "execution_count": 13,
      "outputs": []
    },
    {
      "cell_type": "code",
      "source": [
        "!wget https://raw.githubusercontent.com/alexeygrigorev/mlbookcamp-code/master/chapter-03-churn-prediction/WA_Fn-UseC_-Telco-Customer-Churn.csv\n",
        "    \n",
        "df = pd.read_csv('WA_Fn-UseC_-Telco-Customer-Churn.csv')\n",
        "df.head().T"
      ],
      "metadata": {
        "id": "hDahIIr6eGq0"
      },
      "execution_count": null,
      "outputs": []
    },
    {
      "cell_type": "code",
      "source": [
        "df.columns = df.columns.str.lower().str.replace(' ', '_')\n",
        "\n",
        "categorical_columns = list(df.dtypes[df.dtypes == 'object'].index)\n",
        "\n",
        "for c in categorical_columns:\n",
        "    df[c] = df[c].str.lower().str.replace(' ', '_')\n",
        "\n",
        "df.totalcharges = pd.to_numeric(df.totalcharges, errors='coerce')\n",
        "df.totalcharges = df.totalcharges.fillna(0)\n",
        "\n",
        "df.churn = (df.churn == 'yes').astype(int)\n",
        "\n",
        "df_full_train, df_test = train_test_split(df, test_size=0.2, random_state=1)\n",
        "df_train, df_val = train_test_split(df_full_train, test_size=0.25, random_state=1)\n",
        "\n",
        "df_train = df_train.reset_index(drop=True)\n",
        "df_val = df_val.reset_index(drop=True)\n",
        "df_test = df_test.reset_index(drop=True)\n",
        "\n",
        "y_train = df_train.churn.values\n",
        "y_val = df_val.churn.values\n",
        "y_test = df_test.churn.values\n",
        "\n",
        "del df_train['churn']\n",
        "del df_val['churn']\n",
        "del df_test['churn']\n",
        "\n",
        "numerical = ['tenure', 'monthlycharges', 'totalcharges']\n",
        "\n",
        "categorical = [\n",
        "    'gender',\n",
        "    'seniorcitizen',\n",
        "    'partner',\n",
        "    'dependents',\n",
        "    'phoneservice',\n",
        "    'multiplelines',\n",
        "    'internetservice',\n",
        "    'onlinesecurity',\n",
        "    'onlinebackup',\n",
        "    'deviceprotection',\n",
        "    'techsupport',\n",
        "    'streamingtv',\n",
        "    'streamingmovies',\n",
        "    'contract',\n",
        "    'paperlessbilling',\n",
        "    'paymentmethod',\n",
        "]\n",
        "\n",
        "dv = DictVectorizer(sparse=False)\n",
        "\n",
        "train_dict = df_train[categorical + numerical].to_dict(orient='records')\n",
        "X_train = dv.fit_transform(train_dict)\n",
        "\n",
        "model = LogisticRegression()\n",
        "model.fit(X_train, y_train)\n",
        "\n",
        "val_dict = df_val[categorical + numerical].to_dict(orient='records')\n",
        "X_val = dv.transform(val_dict)\n",
        "\n",
        "y_pred = model.predict_proba(X_val)[:, 1]\n",
        "churn_decision = (y_pred >= 0.5)\n",
        "(y_val == churn_decision).mean()"
      ],
      "metadata": {
        "colab": {
          "base_uri": "https://localhost:8080/"
        },
        "id": "0Ckh5KI3cMCc",
        "outputId": "19b69d95-0793-4383-db7c-460f134a9dcf"
      },
      "execution_count": 15,
      "outputs": [
        {
          "output_type": "execute_result",
          "data": {
            "text/plain": [
              "0.8034066713981547"
            ]
          },
          "metadata": {},
          "execution_count": 15
        }
      ]
    },
    {
      "cell_type": "markdown",
      "source": [
        "## 4.2 Accuracy and Dummy Model\n",
        "\n",
        "* Evaluate the model on different thresholds\n",
        "* Chceck the accurancy of dummy baselines"
      ],
      "metadata": {
        "id": "1JBxYNySbmgy"
      }
    },
    {
      "cell_type": "code",
      "source": [
        "# Let's caculate the predication for the VALIDATION dataset. Just repeating what we did for the TEST data set two code cells ago.\n",
        "\n",
        "dicts_val = df_val[categorical + numerical].to_dict(orient='records')\n",
        "X_val = dv.transform(dicts_val) # no need to fit here as we did a fit above. Can fit here if you like but won't make a difference.\n",
        "y_val_pred = model.predict_proba(X_val)[:,1]\n",
        "churn_decision_val = (y_val_pred >= 0.5)\n",
        "(churn_decision_val == y_val).mean()"
      ],
      "metadata": {
        "execution": {
          "iopub.status.busy": "2022-09-30T09:45:05.854313Z",
          "iopub.execute_input": "2022-09-30T09:45:05.854710Z",
          "iopub.status.idle": "2022-09-30T09:45:05.943806Z",
          "shell.execute_reply.started": "2022-09-30T09:45:05.854678Z",
          "shell.execute_reply": "2022-09-30T09:45:05.942182Z"
        },
        "trusted": true,
        "colab": {
          "base_uri": "https://localhost:8080/"
        },
        "id": "npozmlAKbmgz",
        "outputId": "3fc05e6b-0c22-47fe-f968-a59a34ec918f"
      },
      "execution_count": 16,
      "outputs": [
        {
          "output_type": "execute_result",
          "data": {
            "text/plain": [
              "0.8034066713981547"
            ]
          },
          "metadata": {},
          "execution_count": 16
        }
      ]
    },
    {
      "cell_type": "code",
      "source": [
        "threasholds = np.linspace(0, 1, 21)\n",
        "scores = []\n",
        "\n",
        "for t in threasholds:\n",
        "    churn_decision_val = (y_val_pred >= t)\n",
        "    mean = (churn_decision_val == y_val).mean()\n",
        "    scores.append(mean)\n",
        "    print(\"%.2f  %.3f\" % (t, mean))\n",
        "    "
      ],
      "metadata": {
        "trusted": true,
        "colab": {
          "base_uri": "https://localhost:8080/"
        },
        "id": "z8ThC3b7bmgz",
        "outputId": "ab58f737-d907-49f6-97f3-def2fd6736d3"
      },
      "execution_count": 17,
      "outputs": [
        {
          "output_type": "stream",
          "name": "stdout",
          "text": [
            "0.00  0.274\n",
            "0.05  0.509\n",
            "0.10  0.591\n",
            "0.15  0.666\n",
            "0.20  0.710\n",
            "0.25  0.739\n",
            "0.30  0.760\n",
            "0.35  0.772\n",
            "0.40  0.785\n",
            "0.45  0.793\n",
            "0.50  0.803\n",
            "0.55  0.801\n",
            "0.60  0.795\n",
            "0.65  0.786\n",
            "0.70  0.766\n",
            "0.75  0.744\n",
            "0.80  0.735\n",
            "0.85  0.726\n",
            "0.90  0.726\n",
            "0.95  0.726\n",
            "1.00  0.726\n"
          ]
        }
      ]
    },
    {
      "cell_type": "code",
      "source": [
        "plt.plot(threasholds, scores)"
      ],
      "metadata": {
        "trusted": true,
        "colab": {
          "base_uri": "https://localhost:8080/",
          "height": 282
        },
        "id": "9PMMzQmEbmg0",
        "outputId": "25748848-791d-4f4b-90d2-13802fc0af42"
      },
      "execution_count": 18,
      "outputs": [
        {
          "output_type": "execute_result",
          "data": {
            "text/plain": [
              "[<matplotlib.lines.Line2D at 0x7fe5c8f7fdd0>]"
            ]
          },
          "metadata": {},
          "execution_count": 18
        },
        {
          "output_type": "display_data",
          "data": {
            "text/plain": [
              "<Figure size 432x288 with 1 Axes>"
            ],
            "image/png": "[encoded data removed]"
          },
          "metadata": {
            "needs_background": "light"
          }
        }
      ]
    },
    {
      "cell_type": "code",
      "source": [
        "# There's actually a function in sklearn called accuracy_score that we can use instead of calculating it using mean()\n",
        "# Let's repeat what we did above using the sklearn's function.\n",
        "\n",
        "from sklearn.metrics import accuracy_score\n",
        "\n",
        "threasholds = np.linspace(0, 1, 21)\n",
        "scores = []\n",
        "\n",
        "for t in threasholds:\n",
        "    churn_decision_val = (y_val_pred >= t)\n",
        "    s = accuracy_score(y_val, churn_decision_val)\n",
        "    scores.append(s)\n",
        "    print(\"%.2f  %.3f\" % (t, s))"
      ],
      "metadata": {
        "trusted": true,
        "colab": {
          "base_uri": "https://localhost:8080/"
        },
        "id": "8iGepeDAbmg0",
        "outputId": "aeb7b56c-19b7-4590-b78d-43de3e66f282"
      },
      "execution_count": 19,
      "outputs": [
        {
          "output_type": "stream",
          "name": "stdout",
          "text": [
            "0.00  0.274\n",
            "0.05  0.509\n",
            "0.10  0.591\n",
            "0.15  0.666\n",
            "0.20  0.710\n",
            "0.25  0.739\n",
            "0.30  0.760\n",
            "0.35  0.772\n",
            "0.40  0.785\n",
            "0.45  0.793\n",
            "0.50  0.803\n",
            "0.55  0.801\n",
            "0.60  0.795\n",
            "0.65  0.786\n",
            "0.70  0.766\n",
            "0.75  0.744\n",
            "0.80  0.735\n",
            "0.85  0.726\n",
            "0.90  0.726\n",
            "0.95  0.726\n",
            "1.00  0.726\n"
          ]
        }
      ]
    },
    {
      "cell_type": "markdown",
      "source": [
        "What's interesting above is the accuracy for threshold 1.0 is 72.6%, compared to the real target values of the validation dataset. That means even if we consider the model prediction has to be 100% (P(X)= 1.0) for a customer to churn, the model accuracy is 72.6%. This is just 9% difference from the best accuracy we got (81.5 - 72,6)."
      ],
      "metadata": {
        "id": "zhaK5C80bmg1"
      }
    },
    {
      "cell_type": "code",
      "source": [
        "# Quick query to remind us how many customers we have in int he val dataset\n",
        "len(y_val)"
      ],
      "metadata": {
        "trusted": true,
        "colab": {
          "base_uri": "https://localhost:8080/"
        },
        "id": "mj-uS278bmg1",
        "outputId": "f4a3f7d8-4107-4eb7-97a6-26467a43d2b0"
      },
      "execution_count": 20,
      "outputs": [
        {
          "output_type": "execute_result",
          "data": {
            "text/plain": [
              "1409"
            ]
          },
          "metadata": {},
          "execution_count": 20
        }
      ]
    },
    {
      "cell_type": "code",
      "source": [
        "# then see how many did the model predicted as 1.0.\n",
        "from collections import Counter\n",
        "Counter(y_val_pred >= 1.0)"
      ],
      "metadata": {
        "trusted": true,
        "colab": {
          "base_uri": "https://localhost:8080/"
        },
        "id": "gc52YRr8bmg2",
        "outputId": "fa212670-9148-4165-f789-d9512cb87453"
      },
      "execution_count": 21,
      "outputs": [
        {
          "output_type": "execute_result",
          "data": {
            "text/plain": [
              "Counter({False: 1409})"
            ]
          },
          "metadata": {},
          "execution_count": 21
        }
      ]
    },
    {
      "cell_type": "markdown",
      "source": [
        "Looks like none of the probability values were 1.0. So with 100% of the prediction probabilities says there are no customers churn, still the model gives a 72.6% accuracy. Hmmm!\n",
        "\n",
        "Btw, the **Dummy Model** is the scenario the calculation is done based on threashold = 1.0."
      ],
      "metadata": {
        "id": "fL7fdVZ8bmg2"
      }
    },
    {
      "cell_type": "code",
      "source": [
        "# Check how many customers churned vs. didn't churn in the validation dataset.\n",
        "\n",
        "Counter(y_val )\n"
      ],
      "metadata": {
        "trusted": true,
        "colab": {
          "base_uri": "https://localhost:8080/"
        },
        "id": "cItl0dWNbmg3",
        "outputId": "c630f5c8-9ca7-4a44-fcd1-5ed615e2e737"
      },
      "execution_count": 22,
      "outputs": [
        {
          "output_type": "execute_result",
          "data": {
            "text/plain": [
              "Counter({0: 1023, 1: 386})"
            ]
          },
          "metadata": {},
          "execution_count": 22
        }
      ]
    },
    {
      "cell_type": "code",
      "source": [
        "1 - y_val.mean()  #gives 0.7260468417317246\n",
        "\n",
        "# This is exactly what we get as the accurancy when threshold is 1.0."
      ],
      "metadata": {
        "trusted": true,
        "colab": {
          "base_uri": "https://localhost:8080/"
        },
        "id": "-v6cVqbtbmg3",
        "outputId": "401d8eac-4fb6-4845-e962-d5df9670d6b4"
      },
      "execution_count": 23,
      "outputs": [
        {
          "output_type": "execute_result",
          "data": {
            "text/plain": [
              "0.7260468417317246"
            ]
          },
          "metadata": {},
          "execution_count": 23
        }
      ]
    },
    {
      "cell_type": "markdown",
      "source": [
        "This means we have \"class imbalance\" in the dataset. This means there are more non-churn customers in the dataset than churned customers. In the validation dataset, the non-churn: churn ratio is 3:1\n",
        "When there is a class imbalance, model 'accurancy' can be misleading. There are other better ways to evaluate models when the dataset has class imbalance."
      ],
      "metadata": {
        "id": "S7ZPQnRebmg4"
      }
    },
    {
      "cell_type": "markdown",
      "source": [
        "## 4.3 Confusion Table\n",
        "* Is a way of looking at different types corrent as well as incorrect decisions our binary classification model is making \n",
        "* Is a summarisation in tabular form"
      ],
      "metadata": {
        "id": "ShSPV1bdbmg4"
      }
    },
    {
      "cell_type": "code",
      "source": [
        "actual_positive = (y_val == 1)\n",
        "actual_negative = (y_val == 0)\n",
        "t=0.5\n",
        "predict_positive = (y_pred >= t)\n",
        "predict_negative = (y_pred < t)\n",
        "\n",
        "tp = (predict_positive & actual_positive).sum()\n",
        "tn = (predict_negative & actual_negative).sum()\n",
        "\n",
        "fp = (predict_positive & actual_negative).sum()\n",
        "fn = (predict_negative & actual_positive).sum()\n",
        "\n",
        "print(tp, tn, fp, fn)"
      ],
      "metadata": {
        "trusted": true,
        "colab": {
          "base_uri": "https://localhost:8080/"
        },
        "id": "hJOiAsC1bmg5",
        "outputId": "9b19b49a-3367-4eea-d3fa-b409bdcae37f"
      },
      "execution_count": 24,
      "outputs": [
        {
          "output_type": "stream",
          "name": "stdout",
          "text": [
            "210 922 101 176\n"
          ]
        }
      ]
    },
    {
      "cell_type": "code",
      "source": [
        "# We can put this in a confision matrix using numpy as below.\n",
        "\n",
        "confusion_matrix = np.array([\n",
        "    [tn, fp],\n",
        "    [fn, tp]\n",
        "])\n",
        "confusion_matrix"
      ],
      "metadata": {
        "trusted": true,
        "colab": {
          "base_uri": "https://localhost:8080/"
        },
        "id": "7Kvz0tiTbmg5",
        "outputId": "2ad0aca8-3d36-42bb-fe29-25ebd812638d"
      },
      "execution_count": 25,
      "outputs": [
        {
          "output_type": "execute_result",
          "data": {
            "text/plain": [
              "array([[922, 101],\n",
              "       [176, 210]])"
            ]
          },
          "metadata": {},
          "execution_count": 25
        }
      ]
    },
    {
      "cell_type": "code",
      "source": [
        "(confusion_matrix/confusion_matrix.sum()).round(2)"
      ],
      "metadata": {
        "trusted": true,
        "colab": {
          "base_uri": "https://localhost:8080/"
        },
        "id": "xipsa_DPbmg7",
        "outputId": "1c330467-8ec1-4333-8f74-13e7d1543efe"
      },
      "execution_count": 26,
      "outputs": [
        {
          "output_type": "execute_result",
          "data": {
            "text/plain": [
              "array([[0.65, 0.07],\n",
              "       [0.12, 0.15]])"
            ]
          },
          "metadata": {},
          "execution_count": 26
        }
      ]
    },
    {
      "cell_type": "markdown",
      "source": [
        "Based on the values in the confusion matrix we can derive many more metrics such as Precision and Recall, and ROC Curves."
      ],
      "metadata": {
        "id": "W2zfpEKWgKrO"
      }
    },
    {
      "cell_type": "markdown",
      "source": [
        "## 4.4 Precision and Recall"
      ],
      "metadata": {
        "id": "gNOp4agMgsfW"
      }
    },
    {
      "cell_type": "code",
      "source": [
        "(tp + tn) / (tp + tn + fp + fn)"
      ],
      "metadata": {
        "colab": {
          "base_uri": "https://localhost:8080/"
        },
        "id": "ZsI_TvdMi58C",
        "outputId": "295ee075-8933-421d-b51d-5543fdf56e1b"
      },
      "execution_count": 33,
      "outputs": [
        {
          "output_type": "execute_result",
          "data": {
            "text/plain": [
              "0.8034066713981547"
            ]
          },
          "metadata": {},
          "execution_count": 33
        }
      ]
    },
    {
      "cell_type": "markdown",
      "source": [
        "### Precision\n",
        "Is the frequency of positive predictions that turned out to be correct, out of all the positive predictions."
      ],
      "metadata": {
        "id": "0r5A0iDthAEI"
      }
    },
    {
      "cell_type": "code",
      "source": [
        "(tp / (tp + fp)).round(2)"
      ],
      "metadata": {
        "colab": {
          "base_uri": "https://localhost:8080/"
        },
        "id": "-N13iJiAbmg8",
        "outputId": "08bc1834-51ce-4c47-a8d6-8bfbdc0e31a6"
      },
      "execution_count": 34,
      "outputs": [
        {
          "output_type": "execute_result",
          "data": {
            "text/plain": [
              "0.68"
            ]
          },
          "metadata": {},
          "execution_count": 34
        }
      ]
    },
    {
      "cell_type": "markdown",
      "source": [
        "Out of all the positive predictions, we only got 68% ✅ of them correct. There are 32% ❌ incorrect predictions. 😞"
      ],
      "metadata": {
        "id": "pqjF4UjIm0lT"
      }
    },
    {
      "cell_type": "markdown",
      "source": [
        "### Recall \n",
        "Is the fraction of correctly predicted positives out of the total of actual positives."
      ],
      "metadata": {
        "id": "7rUxK0b0kVx2"
      }
    },
    {
      "cell_type": "code",
      "source": [
        "(tp/ (tp + fn)).round(2)"
      ],
      "metadata": {
        "colab": {
          "base_uri": "https://localhost:8080/"
        },
        "id": "53H9uZpvhrZq",
        "outputId": "0ca76023-0352-48ea-e974-f3109021451e"
      },
      "execution_count": 35,
      "outputs": [
        {
          "output_type": "execute_result",
          "data": {
            "text/plain": [
              "0.54"
            ]
          },
          "metadata": {},
          "execution_count": 35
        }
      ]
    },
    {
      "cell_type": "markdown",
      "source": [
        "Out of all the total actually positive observations, the model only predicted 54% ✅ of them as correct. That means it got 46% ❌ of the predictions incorrect.\n",
        "\n",
        "Remember, accuracy of our model came our as 80% 🤡.\n",
        "\n",
        "This shows us 'accuracy' is not a good metric at all when there's class imbalance in the data set. Precision and Recall are better metrcs to use in such situations as they can give us a better view of how good/bad the model is."
      ],
      "metadata": {
        "id": "pWUWNzL9n8Da"
      }
    },
    {
      "cell_type": "code",
      "source": [],
      "metadata": {
        "id": "4eL_iilKnyZn"
      },
      "execution_count": null,
      "outputs": []
    },
    {
      "cell_type": "code",
      "source": [
        "from google.colab import drive\n",
        "drive.mount('/content/drive')"
      ],
      "metadata": {
        "id": "hdL19RBtpQyi"
      },
      "execution_count": null,
      "outputs": []
    },
    {
      "cell_type": "code",
      "source": [],
      "metadata": {
        "id": "FfvSu8ZXmA_a"
      },
      "execution_count": null,
      "outputs": []
    }
  ]
}